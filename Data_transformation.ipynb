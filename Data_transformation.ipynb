{
 "cells": [
  {
   "cell_type": "code",
   "execution_count": 0,
   "metadata": {
    "application/vnd.databricks.v1+cell": {
     "cellMetadata": {
      "byteLimit": 2048000,
      "rowLimit": 10000
     },
     "inputWidgets": {},
     "nuid": "c6494477-4b7c-4621-b0c9-41da71de7b50",
     "showTitle": false,
     "title": ""
    }
   },
   "outputs": [
    {
     "output_type": "display_data",
     "data": {
      "text/html": [
       "<style scoped>\n",
       "  .ansiout {\n",
       "    display: block;\n",
       "    unicode-bidi: embed;\n",
       "    white-space: pre-wrap;\n",
       "    word-wrap: break-word;\n",
       "    word-break: break-all;\n",
       "    font-family: \"Menlo\", \"Monaco\", \"Consolas\", \"Ubuntu Mono\", \"Source Code Pro\", monospace;\n",
       "    font-size: 13px;\n",
       "    color: #555;\n",
       "    margin-left: 4px;\n",
       "    line-height: 19px;\n",
       "  }\n",
       "</style>\n",
       "<div class=\"ansiout\"></div>"
      ]
     },
     "metadata": {
      "application/vnd.databricks.v1+output": {
       "addedWidgets": {},
       "arguments": {},
       "data": "<div class=\"ansiout\"></div>",
       "datasetInfos": [],
       "metadata": {},
       "removedWidgets": [],
       "type": "html"
      }
     },
     "output_type": "display_data"
    }
   ],
   "source": [
    "from pyspark.sql.functions import *\n",
    "from pyspark.sql.types import *\n",
    "\n",
    "connectionString = \"Endpoint=sb://iothub-ns-mm-iothubp-55137012-830e282da9.servicebus.windows.net/;SharedAccessKeyName=iothubowner;SharedAccessKey=mLU0su//UNo5LMgvCEFJX+Zx1IFva8NG7AIoTAG79mE=;EntityPath=mm-iothubprod\"\n",
    "eventHubName = \"MM-IotHubProd\"\n",
    "ehConf = {\n",
    "  'eventhubs.connectionString' : sc._jvm.org.apache.spark.eventhubs.EventHubsUtils.encrypt(connectionString),\n",
    "  'eventhubs.eventHubName': eventHubName\n",
    "}\n"
   ]
  },
  {
   "cell_type": "code",
   "execution_count": 0,
   "metadata": {
    "application/vnd.databricks.v1+cell": {
     "cellMetadata": {
      "byteLimit": 2048000,
      "rowLimit": 10000
     },
     "inputWidgets": {},
     "nuid": "34f695be-9066-42f4-b99a-9afd2c9d2fef",
     "showTitle": false,
     "title": ""
    }
   },
   "outputs": [
    {
     "output_type": "display_data",
     "data": {
      "text/html": [
       "<style scoped>\n",
       "  .table-result-container {\n",
       "    max-height: 300px;\n",
       "    overflow: auto;\n",
       "  }\n",
       "  table, th, td {\n",
       "    border: 1px solid black;\n",
       "    border-collapse: collapse;\n",
       "  }\n",
       "  th, td {\n",
       "    padding: 5px;\n",
       "  }\n",
       "  th {\n",
       "    text-align: left;\n",
       "  }\n",
       "</style><div class='table-result-container'><table class='table-result'><thead style='background-color: white'><tr><th>body</th><th>partition</th><th>offset</th><th>sequenceNumber</th><th>enqueuedTime</th><th>publisher</th><th>partitionKey</th><th>properties</th><th>systemProperties</th></tr></thead><tbody><tr><td>eyJkZXZpY2VfaWQiOiA1LCAidG1wIjogMTAyLCAiaG1kdCI6IDcyLCAicHJzcmUiOiA0NTksICJ0cyI6ICIyMDI0LTA0LTE2VDIwOjAzOjI4LjAyNDI3MiIsICJzb3VyY2UiOiAiSW90SHViIn0=</td><td>2</td><td>217368</td><td>456</td><td>2024-04-16T14:33:31.992+0000</td><td>null</td><td>null</td><td>Map()</td><td>Map(x-opt-sequence-number-epoch -> -1, iothub-connection-auth-generation-id -> 638486236982118213, iothub-connection-device-id -> Device1, iothub-enqueuedtime -> \"2024-04-16T14:33:31.614Z\", iothub-connection-auth-method -> {\"scope\":\"device\",\"type\":\"sas\",\"issuer\":\"iothub\",\"acceptingIpFilterRule\":null}, iothub-message-source -> Telemetry)</td></tr><tr><td>eyJkZXZpY2VfaWQiOiA3LCAidG1wIjogMTE2LCAiaG1kdCI6IDc5LCAicHJzcmUiOiA0NzgsICJ0cyI6ICIyMDI0LTA0LTE2VDIwOjAzOjM3LjA0MDE3NSIsICJzb3VyY2UiOiAiSW90SHViIn0=</td><td>2</td><td>217848</td><td>457</td><td>2024-04-16T14:33:40.743+0000</td><td>null</td><td>null</td><td>Map()</td><td>Map(x-opt-sequence-number-epoch -> -1, iothub-connection-auth-generation-id -> 638486236982118213, iothub-connection-device-id -> Device1, iothub-enqueuedtime -> \"2024-04-16T14:33:40.508Z\", iothub-connection-auth-method -> {\"scope\":\"device\",\"type\":\"sas\",\"issuer\":\"iothub\",\"acceptingIpFilterRule\":null}, iothub-message-source -> Telemetry)</td></tr><tr><td>eyJkZXZpY2VfaWQiOiA0LCAidG1wIjogOTQsICJobWR0IjogNzYsICJwcnNyZSI6IDQ3MywgInRzIjogIjIwMjQtMDQtMTZUMjA6MDM6NDUuODI0MjE2IiwgInNvdXJjZSI6ICJJb3RIdWIifQ==</td><td>2</td><td>218328</td><td>458</td><td>2024-04-16T14:33:46.290+0000</td><td>null</td><td>null</td><td>Map()</td><td>Map(x-opt-sequence-number-epoch -> -1, iothub-connection-auth-generation-id -> 638486236982118213, iothub-connection-device-id -> Device1, iothub-enqueuedtime -> \"2024-04-16T14:33:46.002Z\", iothub-connection-auth-method -> {\"scope\":\"device\",\"type\":\"sas\",\"issuer\":\"iothub\",\"acceptingIpFilterRule\":null}, iothub-message-source -> Telemetry)</td></tr><tr><td>eyJkZXZpY2VfaWQiOiAxMSwgInRtcCI6IDEwMiwgImhtZHQiOiA3OCwgInByc3JlIjogNDYzLCAidHMiOiAiMjAyNC0wNC0xNlQyMDowMzo1MS4zNTY0ODciLCAic291cmNlIjogIklvdEh1YiJ9</td><td>2</td><td>218808</td><td>459</td><td>2024-04-16T14:33:52.447+0000</td><td>null</td><td>null</td><td>Map()</td><td>Map(x-opt-sequence-number-epoch -> -1, iothub-connection-auth-generation-id -> 638486236982118213, iothub-connection-device-id -> Device1, iothub-enqueuedtime -> \"2024-04-16T14:33:52.154Z\", iothub-connection-auth-method -> {\"scope\":\"device\",\"type\":\"sas\",\"issuer\":\"iothub\",\"acceptingIpFilterRule\":null}, iothub-message-source -> Telemetry)</td></tr><tr><td>eyJkZXZpY2VfaWQiOiAxNCwgInRtcCI6IDExOCwgImhtZHQiOiA2OCwgInByc3JlIjogNDMxLCAidHMiOiAiMjAyNC0wNC0xNlQyMDowMzo1Ny41MDQyNTgiLCAic291cmNlIjogIklvdEh1YiJ9</td><td>2</td><td>219296</td><td>460</td><td>2024-04-16T14:33:57.932+0000</td><td>null</td><td>null</td><td>Map()</td><td>Map(x-opt-sequence-number-epoch -> -1, iothub-connection-auth-generation-id -> 638486236982118213, iothub-connection-device-id -> Device1, iothub-enqueuedtime -> \"2024-04-16T14:33:57.932Z\", iothub-connection-auth-method -> {\"scope\":\"device\",\"type\":\"sas\",\"issuer\":\"iothub\",\"acceptingIpFilterRule\":null}, iothub-message-source -> Telemetry)</td></tr><tr><td>eyJkZXZpY2VfaWQiOiAzLCAidG1wIjogMTE2LCAiaG1kdCI6IDc5LCAicHJzcmUiOiA0NzEsICJ0cyI6ICIyMDI0LTA0LTE2VDIwOjA0OjAyLjk3ODcxMCIsICJzb3VyY2UiOiAiSW90SHViIn0=</td><td>2</td><td>219784</td><td>461</td><td>2024-04-16T14:34:03.182+0000</td><td>null</td><td>null</td><td>Map()</td><td>Map(x-opt-sequence-number-epoch -> -1, iothub-connection-auth-generation-id -> 638486236982118213, iothub-connection-device-id -> Device1, iothub-enqueuedtime -> \"2024-04-16T14:34:03.172Z\", iothub-connection-auth-method -> {\"scope\":\"device\",\"type\":\"sas\",\"issuer\":\"iothub\",\"acceptingIpFilterRule\":null}, iothub-message-source -> Telemetry)</td></tr><tr><td>eyJkZXZpY2VfaWQiOiA0LCAidG1wIjogMTA1LCAiaG1kdCI6IDY1LCAicHJzcmUiOiA0NDksICJ0cyI6ICIyMDI0LTA0LTE2VDIwOjA0OjA4LjIzNjcwOCIsICJzb3VyY2UiOiAiSW90SHViIn0=</td><td>2</td><td>220264</td><td>462</td><td>2024-04-16T14:34:08.776+0000</td><td>null</td><td>null</td><td>Map()</td><td>Map(x-opt-sequence-number-epoch -> -1, iothub-connection-auth-generation-id -> 638486236982118213, iothub-connection-device-id -> Device1, iothub-enqueuedtime -> \"2024-04-16T14:34:08.423Z\", iothub-connection-auth-method -> {\"scope\":\"device\",\"type\":\"sas\",\"issuer\":\"iothub\",\"acceptingIpFilterRule\":null}, iothub-message-source -> Telemetry)</td></tr><tr><td>eyJkZXZpY2VfaWQiOiA3LCAidG1wIjogOTMsICJobWR0IjogNjUsICJwcnNyZSI6IDQ1MywgInRzIjogIjIwMjQtMDQtMTZUMjA6MDQ6MTMuOTkyOTQwIiwgInNvdXJjZSI6ICJJb3RIdWIifQ==</td><td>2</td><td>220744</td><td>463</td><td>2024-04-16T14:34:18.011+0000</td><td>null</td><td>null</td><td>Map()</td><td>Map(x-opt-sequence-number-epoch -> -1, iothub-connection-auth-generation-id -> 638486236982118213, iothub-connection-device-id -> Device1, iothub-enqueuedtime -> \"2024-04-16T14:34:17.690Z\", iothub-connection-auth-method -> {\"scope\":\"device\",\"type\":\"sas\",\"issuer\":\"iothub\",\"acceptingIpFilterRule\":null}, iothub-message-source -> Telemetry)</td></tr><tr><td>eyJkZXZpY2VfaWQiOiA3LCAidG1wIjogOTQsICJobWR0IjogNjQsICJwcnNyZSI6IDQ3MywgInRzIjogIjIwMjQtMDQtMTZUMjA6MDQ6MjMuMTA0MjU1IiwgInNvdXJjZSI6ICJJb3RIdWIifQ==</td><td>2</td><td>221224</td><td>464</td><td>2024-04-16T14:34:23.824+0000</td><td>null</td><td>null</td><td>Map()</td><td>Map(x-opt-sequence-number-epoch -> -1, iothub-connection-auth-generation-id -> 638486236982118213, iothub-connection-device-id -> Device1, iothub-enqueuedtime -> \"2024-04-16T14:34:23.270Z\", iothub-connection-auth-method -> {\"scope\":\"device\",\"type\":\"sas\",\"issuer\":\"iothub\",\"acceptingIpFilterRule\":null}, iothub-message-source -> Telemetry)</td></tr><tr><td>eyJkZXZpY2VfaWQiOiAxMiwgInRtcCI6IDExNCwgImhtZHQiOiA3NiwgInByc3JlIjogNDgwLCAidHMiOiAiMjAyNC0wNC0xNlQyMDowNDoyOC45NDAyNDAiLCAic291cmNlIjogIklvdEh1YiJ9</td><td>2</td><td>221704</td><td>465</td><td>2024-04-16T14:34:29.168+0000</td><td>null</td><td>null</td><td>Map()</td><td>Map(x-opt-sequence-number-epoch -> -1, iothub-connection-auth-generation-id -> 638486236982118213, iothub-connection-device-id -> Device1, iothub-enqueuedtime -> \"2024-04-16T14:34:29.169Z\", iothub-connection-auth-method -> {\"scope\":\"device\",\"type\":\"sas\",\"issuer\":\"iothub\",\"acceptingIpFilterRule\":null}, iothub-message-source -> Telemetry)</td></tr><tr><td>eyJkZXZpY2VfaWQiOiAxLCAidG1wIjogOTgsICJobWR0IjogNjgsICJwcnNyZSI6IDQzOSwgInRzIjogIjIwMjQtMDQtMTZUMjA6MDQ6MzQuMjI3NzgxIiwgInNvdXJjZSI6ICJJb3RIdWIifQ==</td><td>2</td><td>222192</td><td>466</td><td>2024-04-16T14:34:34.716+0000</td><td>null</td><td>null</td><td>Map()</td><td>Map(x-opt-sequence-number-epoch -> -1, iothub-connection-auth-generation-id -> 638486236982118213, iothub-connection-device-id -> Device1, iothub-enqueuedtime -> \"2024-04-16T14:34:34.412Z\", iothub-connection-auth-method -> {\"scope\":\"device\",\"type\":\"sas\",\"issuer\":\"iothub\",\"acceptingIpFilterRule\":null}, iothub-message-source -> Telemetry)</td></tr><tr><td>eyJkZXZpY2VfaWQiOiAxMCwgInRtcCI6IDExMiwgImhtZHQiOiA3MSwgInByc3JlIjogNDg3LCAidHMiOiAiMjAyNC0wNC0xNlQyMDowNDo0MC4xMDU2NzAiLCAic291cmNlIjogIklvdEh1YiJ9</td><td>2</td><td>222672</td><td>467</td><td>2024-04-16T14:34:40.310+0000</td><td>null</td><td>null</td><td>Map()</td><td>Map(x-opt-sequence-number-epoch -> -1, iothub-connection-auth-generation-id -> 638486236982118213, iothub-connection-device-id -> Device1, iothub-enqueuedtime -> \"2024-04-16T14:34:40.313Z\", iothub-connection-auth-method -> {\"scope\":\"device\",\"type\":\"sas\",\"issuer\":\"iothub\",\"acceptingIpFilterRule\":null}, iothub-message-source -> Telemetry)</td></tr><tr><td>eyJkZXZpY2VfaWQiOiA1LCAidG1wIjogOTIsICJobWR0IjogNjIsICJwcnNyZSI6IDQ5NiwgInRzIjogIjIwMjQtMDQtMTZUMjA6MDQ6NDUuMzcwOTk0IiwgInNvdXJjZSI6ICJJb3RIdWIifQ==</td><td>2</td><td>223160</td><td>468</td><td>2024-04-16T14:34:45.513+0000</td><td>null</td><td>null</td><td>Map()</td><td>Map(x-opt-sequence-number-epoch -> -1, iothub-connection-auth-generation-id -> 638486236982118213, iothub-connection-device-id -> Device1, iothub-enqueuedtime -> \"2024-04-16T14:34:45.517Z\", iothub-connection-auth-method -> {\"scope\":\"device\",\"type\":\"sas\",\"issuer\":\"iothub\",\"acceptingIpFilterRule\":null}, iothub-message-source -> Telemetry)</td></tr><tr><td>eyJkZXZpY2VfaWQiOiAyLCAidG1wIjogMTA1LCAiaG1kdCI6IDcwLCAicHJzcmUiOiA0MDQsICJ0cyI6ICIyMDI0LTA0LTE2VDIwOjA0OjUwLjU3MjA2MCIsICJzb3VyY2UiOiAiSW90SHViIn0=</td><td>2</td><td>223640</td><td>469</td><td>2024-04-16T14:34:50.779+0000</td><td>null</td><td>null</td><td>Map()</td><td>Map(x-opt-sequence-number-epoch -> -1, iothub-connection-auth-generation-id -> 638486236982118213, iothub-connection-device-id -> Device1, iothub-enqueuedtime -> \"2024-04-16T14:34:50.775Z\", iothub-connection-auth-method -> {\"scope\":\"device\",\"type\":\"sas\",\"issuer\":\"iothub\",\"acceptingIpFilterRule\":null}, iothub-message-source -> Telemetry)</td></tr><tr><td>eyJkZXZpY2VfaWQiOiA4LCAidG1wIjogMTA2LCAiaG1kdCI6IDc0LCAicHJzcmUiOiA0NTQsICJ0cyI6ICIyMDI0LTA0LTE2VDIwOjA0OjU1LjgyNzg4MCIsICJzb3VyY2UiOiAiSW90SHViIn0=</td><td>2</td><td>224120</td><td>470</td><td>2024-04-16T14:34:55.983+0000</td><td>null</td><td>null</td><td>Map()</td><td>Map(x-opt-sequence-number-epoch -> -1, iothub-connection-auth-generation-id -> 638486236982118213, iothub-connection-device-id -> Device1, iothub-enqueuedtime -> \"2024-04-16T14:34:55.982Z\", iothub-connection-auth-method -> {\"scope\":\"device\",\"type\":\"sas\",\"issuer\":\"iothub\",\"acceptingIpFilterRule\":null}, iothub-message-source -> Telemetry)</td></tr><tr><td>eyJkZXZpY2VfaWQiOiAxMCwgInRtcCI6IDEwNSwgImhtZHQiOiA3NywgInByc3JlIjogNDE1LCAidHMiOiAiMjAyNC0wNC0xNlQyMDowNTowMS4wMzcwNDQiLCAic291cmNlIjogIklvdEh1YiJ9</td><td>2</td><td>224600</td><td>471</td><td>2024-04-16T14:35:01.218+0000</td><td>null</td><td>null</td><td>Map()</td><td>Map(x-opt-sequence-number-epoch -> -1, iothub-connection-auth-generation-id -> 638486236982118213, iothub-connection-device-id -> Device1, iothub-enqueuedtime -> \"2024-04-16T14:35:01.213Z\", iothub-connection-auth-method -> {\"scope\":\"device\",\"type\":\"sas\",\"issuer\":\"iothub\",\"acceptingIpFilterRule\":null}, iothub-message-source -> Telemetry)</td></tr><tr><td>eyJkZXZpY2VfaWQiOiAxMCwgInRtcCI6IDExNCwgImhtZHQiOiA3OCwgInByc3JlIjogNDg0LCAidHMiOiAiMjAyNC0wNC0xNlQyMDowNTowNi4yNzYzNTAiLCAic291cmNlIjogIklvdEh1YiJ9</td><td>2</td><td>225088</td><td>472</td><td>2024-04-16T14:35:06.421+0000</td><td>null</td><td>null</td><td>Map()</td><td>Map(x-opt-sequence-number-epoch -> -1, iothub-connection-auth-generation-id -> 638486236982118213, iothub-connection-device-id -> Device1, iothub-enqueuedtime -> \"2024-04-16T14:35:06.420Z\", iothub-connection-auth-method -> {\"scope\":\"device\",\"type\":\"sas\",\"issuer\":\"iothub\",\"acceptingIpFilterRule\":null}, iothub-message-source -> Telemetry)</td></tr><tr><td>eyJkZXZpY2VfaWQiOiAxMywgInRtcCI6IDEwNiwgImhtZHQiOiA3MywgInByc3JlIjogNDg2LCAidHMiOiAiMjAyNC0wNC0xNlQyMDowNToxMS40NzQ4MTkiLCAic291cmNlIjogIklvdEh1YiJ9</td><td>2</td><td>225576</td><td>473</td><td>2024-04-16T14:35:11.687+0000</td><td>null</td><td>null</td><td>Map()</td><td>Map(x-opt-sequence-number-epoch -> -1, iothub-connection-auth-generation-id -> 638486236982118213, iothub-connection-device-id -> Device1, iothub-enqueuedtime -> \"2024-04-16T14:35:11.692Z\", iothub-connection-auth-method -> {\"scope\":\"device\",\"type\":\"sas\",\"issuer\":\"iothub\",\"acceptingIpFilterRule\":null}, iothub-message-source -> Telemetry)</td></tr><tr><td>eyJkZXZpY2VfaWQiOiAzLCAidG1wIjogMTA3LCAiaG1kdCI6IDc2LCAicHJzcmUiOiA0NjYsICJ0cyI6ICIyMDI0LTA0LTE2VDIwOjA1OjE2Ljc0NDMyMCIsICJzb3VyY2UiOiAiSW90SHViIn0=</td><td>2</td><td>226064</td><td>474</td><td>2024-04-16T14:35:16.953+0000</td><td>null</td><td>null</td><td>Map()</td><td>Map(x-opt-sequence-number-epoch -> -1, iothub-connection-auth-generation-id -> 638486236982118213, iothub-connection-device-id -> Device1, iothub-enqueuedtime -> \"2024-04-16T14:35:16.951Z\", iothub-connection-auth-method -> {\"scope\":\"device\",\"type\":\"sas\",\"issuer\":\"iothub\",\"acceptingIpFilterRule\":null}, iothub-message-source -> Telemetry)</td></tr><tr><td>eyJkZXZpY2VfaWQiOiAxMCwgInRtcCI6IDExNCwgImhtZHQiOiA2NywgInByc3JlIjogNDQwLCAidHMiOiAiMjAyNC0wNC0xNlQyMDowNToyMi4wMDI5MjQiLCAic291cmNlIjogIklvdEh1YiJ9</td><td>2</td><td>226544</td><td>475</td><td>2024-04-16T14:35:22.187+0000</td><td>null</td><td>null</td><td>Map()</td><td>Map(x-opt-sequence-number-epoch -> -1, iothub-connection-auth-generation-id -> 638486236982118213, iothub-connection-device-id -> Device1, iothub-enqueuedtime -> \"2024-04-16T14:35:22.196Z\", iothub-connection-auth-method -> {\"scope\":\"device\",\"type\":\"sas\",\"issuer\":\"iothub\",\"acceptingIpFilterRule\":null}, iothub-message-source -> Telemetry)</td></tr><tr><td>eyJkZXZpY2VfaWQiOiAxMywgInRtcCI6IDEwMCwgImhtZHQiOiA2OCwgInByc3JlIjogNDU5LCAidHMiOiAiMjAyNC0wNC0xNlQyMDowNToyNy4yNDk0MDMiLCAic291cmNlIjogIklvdEh1YiJ9</td><td>2</td><td>227032</td><td>476</td><td>2024-04-16T14:35:27.391+0000</td><td>null</td><td>null</td><td>Map()</td><td>Map(x-opt-sequence-number-epoch -> -1, iothub-connection-auth-generation-id -> 638486236982118213, iothub-connection-device-id -> Device1, iothub-enqueuedtime -> \"2024-04-16T14:35:27.391Z\", iothub-connection-auth-method -> {\"scope\":\"device\",\"type\":\"sas\",\"issuer\":\"iothub\",\"acceptingIpFilterRule\":null}, iothub-message-source -> Telemetry)</td></tr><tr><td>eyJkZXZpY2VfaWQiOiAxMCwgInRtcCI6IDEwNywgImhtZHQiOiA2MSwgInByc3JlIjogNDg5LCAidHMiOiAiMjAyNC0wNC0xNlQyMDowNTozMi40NTIyMjEiLCAic291cmNlIjogIklvdEh1YiJ9</td><td>2</td><td>227520</td><td>477</td><td>2024-04-16T14:35:32.782+0000</td><td>null</td><td>null</td><td>Map()</td><td>Map(x-opt-sequence-number-epoch -> -1, iothub-connection-auth-generation-id -> 638486236982118213, iothub-connection-device-id -> Device1, iothub-enqueuedtime -> \"2024-04-16T14:35:32.776Z\", iothub-connection-auth-method -> {\"scope\":\"device\",\"type\":\"sas\",\"issuer\":\"iothub\",\"acceptingIpFilterRule\":null}, iothub-message-source -> Telemetry)</td></tr><tr><td>eyJkZXZpY2VfaWQiOiAyLCAidG1wIjogMTAwLCAiaG1kdCI6IDY5LCAicHJzcmUiOiA0MDksICJ0cyI6ICIyMDI0LTA0LTE2VDIwOjA1OjM3LjgzNjY2MiIsICJzb3VyY2UiOiAiSW90SHViIn0=</td><td>2</td><td>228008</td><td>478</td><td>2024-04-16T14:35:37.985+0000</td><td>null</td><td>null</td><td>Map()</td><td>Map(x-opt-sequence-number-epoch -> -1, iothub-connection-auth-generation-id -> 638486236982118213, iothub-connection-device-id -> Device1, iothub-enqueuedtime -> \"2024-04-16T14:35:37.987Z\", iothub-connection-auth-method -> {\"scope\":\"device\",\"type\":\"sas\",\"issuer\":\"iothub\",\"acceptingIpFilterRule\":null}, iothub-message-source -> Telemetry)</td></tr><tr><td>eyJkZXZpY2VfaWQiOiA4LCAidG1wIjogMTE1LCAiaG1kdCI6IDYwLCAicHJzcmUiOiA0MDYsICJ0cyI6ICIyMDI0LTA0LTE2VDIwOjA1OjQzLjA0MDg0OSIsICJzb3VyY2UiOiAiSW90SHViIn0=</td><td>2</td><td>228488</td><td>479</td><td>2024-04-16T14:35:43.220+0000</td><td>null</td><td>null</td><td>Map()</td><td>Map(x-opt-sequence-number-epoch -> -1, iothub-connection-auth-generation-id -> 638486236982118213, iothub-connection-device-id -> Device1, iothub-enqueuedtime -> \"2024-04-16T14:35:43.204Z\", iothub-connection-auth-method -> {\"scope\":\"device\",\"type\":\"sas\",\"issuer\":\"iothub\",\"acceptingIpFilterRule\":null}, iothub-message-source -> Telemetry)</td></tr><tr><td>eyJkZXZpY2VfaWQiOiAzLCAidG1wIjogMTEzLCAiaG1kdCI6IDY1LCAicHJzcmUiOiA0ODEsICJ0cyI6ICIyMDI0LTA0LTE2VDIwOjA1OjQ4LjI2NDI0OSIsICJzb3VyY2UiOiAiSW90SHViIn0=</td><td>2</td><td>228968</td><td>480</td><td>2024-04-16T14:35:49.017+0000</td><td>null</td><td>null</td><td>Map()</td><td>Map(x-opt-sequence-number-epoch -> -1, iothub-connection-auth-generation-id -> 638486236982118213, iothub-connection-device-id -> Device1, iothub-enqueuedtime -> \"2024-04-16T14:35:48.696Z\", iothub-connection-auth-method -> {\"scope\":\"device\",\"type\":\"sas\",\"issuer\":\"iothub\",\"acceptingIpFilterRule\":null}, iothub-message-source -> Telemetry)</td></tr><tr><td>eyJkZXZpY2VfaWQiOiAxNCwgInRtcCI6IDkxLCAiaG1kdCI6IDY4LCAicHJzcmUiOiA0NjAsICJ0cyI6ICIyMDI0LTA0LTE2VDIwOjA1OjU0LjA2ODIyMyIsICJzb3VyY2UiOiAiSW90SHViIn0=</td><td>2</td><td>229448</td><td>481</td><td>2024-04-16T14:35:54.814+0000</td><td>null</td><td>null</td><td>Map()</td><td>Map(x-opt-sequence-number-epoch -> -1, iothub-connection-auth-generation-id -> 638486236982118213, iothub-connection-device-id -> Device1, iothub-enqueuedtime -> \"2024-04-16T14:35:54.291Z\", iothub-connection-auth-method -> {\"scope\":\"device\",\"type\":\"sas\",\"issuer\":\"iothub\",\"acceptingIpFilterRule\":null}, iothub-message-source -> Telemetry)</td></tr><tr><td>eyJkZXZpY2VfaWQiOiAxMSwgInRtcCI6IDk0LCAiaG1kdCI6IDY0LCAicHJzcmUiOiA0NTMsICJ0cyI6ICIyMDI0LTA0LTE2VDIwOjA1OjU5Ljg3NjE3NCIsICJzb3VyY2UiOiAiSW90SHViIn0=</td><td>2</td><td>229928</td><td>482</td><td>2024-04-16T14:36:00.002+0000</td><td>null</td><td>null</td><td>Map()</td><td>Map(x-opt-sequence-number-epoch -> -1, iothub-connection-auth-generation-id -> 638486236982118213, iothub-connection-device-id -> Device1, iothub-enqueuedtime -> \"2024-04-16T14:36:00.003Z\", iothub-connection-auth-method -> {\"scope\":\"device\",\"type\":\"sas\",\"issuer\":\"iothub\",\"acceptingIpFilterRule\":null}, iothub-message-source -> Telemetry)</td></tr><tr><td>eyJkZXZpY2VfaWQiOiAxMCwgInRtcCI6IDkzLCAiaG1kdCI6IDczLCAicHJzcmUiOiA0OTksICJ0cyI6ICIyMDI0LTA0LTE2VDIwOjA2OjA1LjA1NzMzOCIsICJzb3VyY2UiOiAiSW90SHViIn0=</td><td>2</td><td>230408</td><td>483</td><td>2024-04-16T14:36:05.236+0000</td><td>null</td><td>null</td><td>Map()</td><td>Map(x-opt-sequence-number-epoch -> -1, iothub-connection-auth-generation-id -> 638486236982118213, iothub-connection-device-id -> Device1, iothub-enqueuedtime -> \"2024-04-16T14:36:05.230Z\", iothub-connection-auth-method -> {\"scope\":\"device\",\"type\":\"sas\",\"issuer\":\"iothub\",\"acceptingIpFilterRule\":null}, iothub-message-source -> Telemetry)</td></tr><tr><td>eyJkZXZpY2VfaWQiOiA0LCAidG1wIjogOTEsICJobWR0IjogNzMsICJwcnNyZSI6IDQzNywgInRzIjogIjIwMjQtMDQtMTZUMjA6MDY6MTAuMjg4MjcxIiwgInNvdXJjZSI6ICJJb3RIdWIifQ==</td><td>2</td><td>230888</td><td>484</td><td>2024-04-16T14:36:10.439+0000</td><td>null</td><td>null</td><td>Map()</td><td>Map(x-opt-sequence-number-epoch -> -1, iothub-connection-auth-generation-id -> 638486236982118213, iothub-connection-device-id -> Device1, iothub-enqueuedtime -> \"2024-04-16T14:36:10.428Z\", iothub-connection-auth-method -> {\"scope\":\"device\",\"type\":\"sas\",\"issuer\":\"iothub\",\"acceptingIpFilterRule\":null}, iothub-message-source -> Telemetry)</td></tr><tr><td>eyJkZXZpY2VfaWQiOiAxMywgInRtcCI6IDkxLCAiaG1kdCI6IDY4LCAicHJzcmUiOiA0MDgsICJ0cyI6ICIyMDI0LTA0LTE2VDIwOjA2OjE1LjQ5MDI0NCIsICJzb3VyY2UiOiAiSW90SHViIn0=</td><td>2</td><td>231368</td><td>485</td><td>2024-04-16T14:36:15.689+0000</td><td>null</td><td>null</td><td>Map()</td><td>Map(x-opt-sequence-number-epoch -> -1, iothub-connection-auth-generation-id -> 638486236982118213, iothub-connection-device-id -> Device1, iothub-enqueuedtime -> \"2024-04-16T14:36:15.682Z\", iothub-connection-auth-method -> {\"scope\":\"device\",\"type\":\"sas\",\"issuer\":\"iothub\",\"acceptingIpFilterRule\":null}, iothub-message-source -> Telemetry)</td></tr><tr><td>eyJkZXZpY2VfaWQiOiAxMSwgInRtcCI6IDEwNiwgImhtZHQiOiA2MiwgInByc3JlIjogNDc0LCAidHMiOiAiMjAyNC0wNC0xNlQyMDowNjoyMC43NDgxNjQiLCAic291cmNlIjogIklvdEh1YiJ9</td><td>2</td><td>231848</td><td>486</td><td>2024-04-16T14:36:20.924+0000</td><td>null</td><td>null</td><td>Map()</td><td>Map(x-opt-sequence-number-epoch -> -1, iothub-connection-auth-generation-id -> 638486236982118213, iothub-connection-device-id -> Device1, iothub-enqueuedtime -> \"2024-04-16T14:36:20.923Z\", iothub-connection-auth-method -> {\"scope\":\"device\",\"type\":\"sas\",\"issuer\":\"iothub\",\"acceptingIpFilterRule\":null}, iothub-message-source -> Telemetry)</td></tr><tr><td>eyJkZXZpY2VfaWQiOiA2LCAidG1wIjogOTMsICJobWR0IjogNjcsICJwcnNyZSI6IDQ0MSwgInRzIjogIjIwMjQtMDQtMTZUMjA6MDY6MjUuOTc1NTM1IiwgInNvdXJjZSI6ICJJb3RIdWIifQ==</td><td>2</td><td>232336</td><td>487</td><td>2024-04-16T14:36:26.159+0000</td><td>null</td><td>null</td><td>Map()</td><td>Map(x-opt-sequence-number-epoch -> -1, iothub-connection-auth-generation-id -> 638486236982118213, iothub-connection-device-id -> Device1, iothub-enqueuedtime -> \"2024-04-16T14:36:26.164Z\", iothub-connection-auth-method -> {\"scope\":\"device\",\"type\":\"sas\",\"issuer\":\"iothub\",\"acceptingIpFilterRule\":null}, iothub-message-source -> Telemetry)</td></tr><tr><td>eyJkZXZpY2VfaWQiOiA3LCAidG1wIjogOTUsICJobWR0IjogNjIsICJwcnNyZSI6IDQ0MiwgInRzIjogIjIwMjQtMDQtMTZUMjA6MDY6MzEuMjE2MTczIiwgInNvdXJjZSI6ICJJb3RIdWIifQ==</td><td>2</td><td>232816</td><td>488</td><td>2024-04-16T14:36:31.346+0000</td><td>null</td><td>null</td><td>Map()</td><td>Map(x-opt-sequence-number-epoch -> -1, iothub-connection-auth-generation-id -> 638486236982118213, iothub-connection-device-id -> Device1, iothub-enqueuedtime -> \"2024-04-16T14:36:31.346Z\", iothub-connection-auth-method -> {\"scope\":\"device\",\"type\":\"sas\",\"issuer\":\"iothub\",\"acceptingIpFilterRule\":null}, iothub-message-source -> Telemetry)</td></tr><tr><td>eyJkZXZpY2VfaWQiOiA1LCAidG1wIjogOTYsICJobWR0IjogNjAsICJwcnNyZSI6IDQ3MSwgInRzIjogIjIwMjQtMDQtMTZUMjA6MDY6MzYuNDAxODQ0IiwgInNvdXJjZSI6ICJJb3RIdWIifQ==</td><td>2</td><td>233296</td><td>489</td><td>2024-04-16T14:36:36.690+0000</td><td>null</td><td>null</td><td>Map()</td><td>Map(x-opt-sequence-number-epoch -> -1, iothub-connection-auth-generation-id -> 638486236982118213, iothub-connection-device-id -> Device1, iothub-enqueuedtime -> \"2024-04-16T14:36:36.691Z\", iothub-connection-auth-method -> {\"scope\":\"device\",\"type\":\"sas\",\"issuer\":\"iothub\",\"acceptingIpFilterRule\":null}, iothub-message-source -> Telemetry)</td></tr><tr><td>eyJkZXZpY2VfaWQiOiAxNCwgInRtcCI6IDEwNSwgImhtZHQiOiA2NSwgInByc3JlIjogNDY4LCAidHMiOiAiMjAyNC0wNC0xNlQyMDowNjo0MS43MzYyMzYiLCAic291cmNlIjogIklvdEh1YiJ9</td><td>2</td><td>233776</td><td>490</td><td>2024-04-16T14:36:45.815+0000</td><td>null</td><td>null</td><td>Map()</td><td>Map(x-opt-sequence-number-epoch -> -1, iothub-connection-auth-generation-id -> 638486236982118213, iothub-connection-device-id -> Device1, iothub-enqueuedtime -> \"2024-04-16T14:36:45.645Z\", iothub-connection-auth-method -> {\"scope\":\"device\",\"type\":\"sas\",\"issuer\":\"iothub\",\"acceptingIpFilterRule\":null}, iothub-message-source -> Telemetry)</td></tr><tr><td>eyJkZXZpY2VfaWQiOiAxMiwgInRtcCI6IDExOCwgImhtZHQiOiA3NywgInByc3JlIjogNDQ3LCAidHMiOiAiMjAyNC0wNC0xNlQyMDowNjo1MC45NzIzMjMiLCAic291cmNlIjogIklvdEh1YiJ9</td><td>2</td><td>234264</td><td>491</td><td>2024-04-16T14:36:51.409+0000</td><td>null</td><td>null</td><td>Map()</td><td>Map(x-opt-sequence-number-epoch -> -1, iothub-connection-auth-generation-id -> 638486236982118213, iothub-connection-device-id -> Device1, iothub-enqueuedtime -> \"2024-04-16T14:36:51.414Z\", iothub-connection-auth-method -> {\"scope\":\"device\",\"type\":\"sas\",\"issuer\":\"iothub\",\"acceptingIpFilterRule\":null}, iothub-message-source -> Telemetry)</td></tr><tr><td>eyJkZXZpY2VfaWQiOiA2LCAidG1wIjogMTEwLCAiaG1kdCI6IDcxLCAicHJzcmUiOiA0NTQsICJ0cyI6ICIyMDI0LTA0LTE2VDIwOjA2OjU2LjQ2NzkyMiIsICJzb3VyY2UiOiAiSW90SHViIn0=</td><td>2</td><td>234752</td><td>492</td><td>2024-04-16T14:36:56.659+0000</td><td>null</td><td>null</td><td>Map()</td><td>Map(x-opt-sequence-number-epoch -> -1, iothub-connection-auth-generation-id -> 638486236982118213, iothub-connection-device-id -> Device1, iothub-enqueuedtime -> \"2024-04-16T14:36:56.662Z\", iothub-connection-auth-method -> {\"scope\":\"device\",\"type\":\"sas\",\"issuer\":\"iothub\",\"acceptingIpFilterRule\":null}, iothub-message-source -> Telemetry)</td></tr><tr><td>eyJkZXZpY2VfaWQiOiA2LCAidG1wIjogMTExLCAiaG1kdCI6IDc2LCAicHJzcmUiOiA0NDUsICJ0cyI6ICIyMDI0LTA0LTE2VDIwOjA3OjAxLjcxNjkxMSIsICJzb3VyY2UiOiAiSW90SHViIn0=</td><td>2</td><td>235232</td><td>493</td><td>2024-04-16T14:37:01.847+0000</td><td>null</td><td>null</td><td>Map()</td><td>Map(x-opt-sequence-number-epoch -> -1, iothub-connection-auth-generation-id -> 638486236982118213, iothub-connection-device-id -> Device1, iothub-enqueuedtime -> \"2024-04-16T14:37:01.838Z\", iothub-connection-auth-method -> {\"scope\":\"device\",\"type\":\"sas\",\"issuer\":\"iothub\",\"acceptingIpFilterRule\":null}, iothub-message-source -> Telemetry)</td></tr><tr><td>eyJkZXZpY2VfaWQiOiAxMywgInRtcCI6IDExNiwgImhtZHQiOiA3NiwgInByc3JlIjogNDYyLCAidHMiOiAiMjAyNC0wNC0xNlQyMDowNzowNi44OTkyNzMiLCAic291cmNlIjogIklvdEh1YiJ9</td><td>2</td><td>235712</td><td>494</td><td>2024-04-16T14:37:07.300+0000</td><td>null</td><td>null</td><td>Map()</td><td>Map(x-opt-sequence-number-epoch -> -1, iothub-connection-auth-generation-id -> 638486236982118213, iothub-connection-device-id -> Device1, iothub-enqueuedtime -> \"2024-04-16T14:37:07.297Z\", iothub-connection-auth-method -> {\"scope\":\"device\",\"type\":\"sas\",\"issuer\":\"iothub\",\"acceptingIpFilterRule\":null}, iothub-message-source -> Telemetry)</td></tr><tr><td>eyJkZXZpY2VfaWQiOiA4LCAidG1wIjogMTE0LCAiaG1kdCI6IDcyLCAicHJzcmUiOiA0MTgsICJ0cyI6ICIyMDI0LTA0LTE2VDIwOjA3OjEyLjM2MDQ3MyIsICJzb3VyY2UiOiAiSW90SHViIn0=</td><td>2</td><td>236200</td><td>495</td><td>2024-04-16T14:37:12.503+0000</td><td>null</td><td>null</td><td>Map()</td><td>Map(x-opt-sequence-number-epoch -> -1, iothub-connection-auth-generation-id -> 638486236982118213, iothub-connection-device-id -> Device1, iothub-enqueuedtime -> \"2024-04-16T14:37:12.501Z\", iothub-connection-auth-method -> {\"scope\":\"device\",\"type\":\"sas\",\"issuer\":\"iothub\",\"acceptingIpFilterRule\":null}, iothub-message-source -> Telemetry)</td></tr><tr><td>eyJkZXZpY2VfaWQiOiA0LCAidG1wIjogMTE3LCAiaG1kdCI6IDc3LCAicHJzcmUiOiA0NTAsICJ0cyI6ICIyMDI0LTA0LTE2VDIwOjA3OjE3LjU1ODIzNSIsICJzb3VyY2UiOiAiSW90SHViIn0=</td><td>2</td><td>236680</td><td>496</td><td>2024-04-16T14:37:17.785+0000</td><td>null</td><td>null</td><td>Map()</td><td>Map(x-opt-sequence-number-epoch -> -1, iothub-connection-auth-generation-id -> 638486236982118213, iothub-connection-device-id -> Device1, iothub-enqueuedtime -> \"2024-04-16T14:37:17.782Z\", iothub-connection-auth-method -> {\"scope\":\"device\",\"type\":\"sas\",\"issuer\":\"iothub\",\"acceptingIpFilterRule\":null}, iothub-message-source -> Telemetry)</td></tr><tr><td>eyJkZXZpY2VfaWQiOiAxLCAidG1wIjogMTEzLCAiaG1kdCI6IDY0LCAicHJzcmUiOiA0NDAsICJ0cyI6ICIyMDI0LTA0LTE2VDIwOjA3OjIyLjgzNjMyOSIsICJzb3VyY2UiOiAiSW90SHViIn0=</td><td>2</td><td>237160</td><td>497</td><td>2024-04-16T14:37:23.379+0000</td><td>null</td><td>null</td><td>Map()</td><td>Map(x-opt-sequence-number-epoch -> -1, iothub-connection-auth-generation-id -> 638486236982118213, iothub-connection-device-id -> Device1, iothub-enqueuedtime -> \"2024-04-16T14:37:23.369Z\", iothub-connection-auth-method -> {\"scope\":\"device\",\"type\":\"sas\",\"issuer\":\"iothub\",\"acceptingIpFilterRule\":null}, iothub-message-source -> Telemetry)</td></tr><tr><td>eyJkZXZpY2VfaWQiOiA1LCAidG1wIjogMTE0LCAiaG1kdCI6IDc0LCAicHJzcmUiOiA0MDMsICJ0cyI6ICIyMDI0LTA0LTE2VDIwOjA3OjI4LjQzMjI5MiIsICJzb3VyY2UiOiAiSW90SHViIn0=</td><td>2</td><td>237640</td><td>498</td><td>2024-04-16T14:37:28.614+0000</td><td>null</td><td>null</td><td>Map()</td><td>Map(x-opt-sequence-number-epoch -> -1, iothub-connection-auth-generation-id -> 638486236982118213, iothub-connection-device-id -> Device1, iothub-enqueuedtime -> \"2024-04-16T14:37:28.615Z\", iothub-connection-auth-method -> {\"scope\":\"device\",\"type\":\"sas\",\"issuer\":\"iothub\",\"acceptingIpFilterRule\":null}, iothub-message-source -> Telemetry)</td></tr><tr><td>eyJkZXZpY2VfaWQiOiAxLCAidG1wIjogMTE3LCAiaG1kdCI6IDYwLCAicHJzcmUiOiA0ODEsICJ0cyI6ICIyMDI0LTA0LTE2VDIwOjA3OjMzLjY3Mzg2NiIsICJzb3VyY2UiOiAiSW90SHViIn0=</td><td>2</td><td>238120</td><td>499</td><td>2024-04-16T14:37:33.912+0000</td><td>null</td><td>null</td><td>Map()</td><td>Map(x-opt-sequence-number-epoch -> -1, iothub-connection-auth-generation-id -> 638486236982118213, iothub-connection-device-id -> Device1, iothub-enqueuedtime -> \"2024-04-16T14:37:33.904Z\", iothub-connection-auth-method -> {\"scope\":\"device\",\"type\":\"sas\",\"issuer\":\"iothub\",\"acceptingIpFilterRule\":null}, iothub-message-source -> Telemetry)</td></tr><tr><td>eyJkZXZpY2VfaWQiOiAxLCAidG1wIjogOTcsICJobWR0IjogNzYsICJwcnNyZSI6IDQwMywgInRzIjogIjIwMjQtMDQtMTZUMjA6MDc6MzguOTYwMTM3IiwgInNvdXJjZSI6ICJJb3RIdWIifQ==</td><td>2</td><td>238600</td><td>500</td><td>2024-04-16T14:37:39.334+0000</td><td>null</td><td>null</td><td>Map()</td><td>Map(x-opt-sequence-number-epoch -> -1, iothub-connection-auth-generation-id -> 638486236982118213, iothub-connection-device-id -> Device1, iothub-enqueuedtime -> \"2024-04-16T14:37:39.336Z\", iothub-connection-auth-method -> {\"scope\":\"device\",\"type\":\"sas\",\"issuer\":\"iothub\",\"acceptingIpFilterRule\":null}, iothub-message-source -> Telemetry)</td></tr><tr><td>eyJkZXZpY2VfaWQiOiA1LCAidG1wIjogMTExLCAiaG1kdCI6IDc0LCAicHJzcmUiOiA0MjAsICJ0cyI6ICIyMDI0LTA0LTE2VDIwOjA3OjQ0LjM4NDI2MSIsICJzb3VyY2UiOiAiSW90SHViIn0=</td><td>2</td><td>239080</td><td>501</td><td>2024-04-16T14:37:44.521+0000</td><td>null</td><td>null</td><td>Map()</td><td>Map(x-opt-sequence-number-epoch -> -1, iothub-connection-auth-generation-id -> 638486236982118213, iothub-connection-device-id -> Device1, iothub-enqueuedtime -> \"2024-04-16T14:37:44.525Z\", iothub-connection-auth-method -> {\"scope\":\"device\",\"type\":\"sas\",\"issuer\":\"iothub\",\"acceptingIpFilterRule\":null}, iothub-message-source -> Telemetry)</td></tr><tr><td>eyJkZXZpY2VfaWQiOiAxMywgInRtcCI6IDExMSwgImhtZHQiOiA2NiwgInByc3JlIjogNDc0LCAidHMiOiAiMjAyNC0wNC0xNlQyMDowNzo0OS41NzIyMTMiLCAic291cmNlIjogIklvdEh1YiJ9</td><td>2</td><td>239560</td><td>502</td><td>2024-04-16T14:37:49.771+0000</td><td>null</td><td>null</td><td>Map()</td><td>Map(x-opt-sequence-number-epoch -> -1, iothub-connection-auth-generation-id -> 638486236982118213, iothub-connection-device-id -> Device1, iothub-enqueuedtime -> \"2024-04-16T14:37:49.765Z\", iothub-connection-auth-method -> {\"scope\":\"device\",\"type\":\"sas\",\"issuer\":\"iothub\",\"acceptingIpFilterRule\":null}, iothub-message-source -> Telemetry)</td></tr><tr><td>eyJkZXZpY2VfaWQiOiAxMSwgInRtcCI6IDExOSwgImhtZHQiOiA2NiwgInByc3JlIjogNDg3LCAidHMiOiAiMjAyNC0wNC0xNlQyMDowNzo1NC44MjAyMDIiLCAic291cmNlIjogIklvdEh1YiJ9</td><td>2</td><td>240048</td><td>503</td><td>2024-04-16T14:37:54.959+0000</td><td>null</td><td>null</td><td>Map()</td><td>Map(x-opt-sequence-number-epoch -> -1, iothub-connection-auth-generation-id -> 638486236982118213, iothub-connection-device-id -> Device1, iothub-enqueuedtime -> \"2024-04-16T14:37:54.957Z\", iothub-connection-auth-method -> {\"scope\":\"device\",\"type\":\"sas\",\"issuer\":\"iothub\",\"acceptingIpFilterRule\":null}, iothub-message-source -> Telemetry)</td></tr><tr><td>eyJkZXZpY2VfaWQiOiA2LCAidG1wIjogMTAxLCAiaG1kdCI6IDczLCAicHJzcmUiOiA0NTYsICJ0cyI6ICIyMDI0LTA0LTE2VDIwOjA4OjAwLjAxMjE2MSIsICJzb3VyY2UiOiAiSW90SHViIn0=</td><td>2</td><td>240536</td><td>504</td><td>2024-04-16T14:38:00.178+0000</td><td>null</td><td>null</td><td>Map()</td><td>Map(x-opt-sequence-number-epoch -> -1, iothub-connection-auth-generation-id -> 638486236982118213, iothub-connection-device-id -> Device1, iothub-enqueuedtime -> \"2024-04-16T14:38:00.186Z\", iothub-connection-auth-method -> {\"scope\":\"device\",\"type\":\"sas\",\"issuer\":\"iothub\",\"acceptingIpFilterRule\":null}, iothub-message-source -> Telemetry)</td></tr><tr><td>eyJkZXZpY2VfaWQiOiA3LCAidG1wIjogOTksICJobWR0IjogNzAsICJwcnNyZSI6IDQ2NywgInRzIjogIjIwMjQtMDQtMTZUMjA6MDg6MDUuMjQwMzQ3IiwgInNvdXJjZSI6ICJJb3RIdWIifQ==</td><td>2</td><td>241016</td><td>505</td><td>2024-04-16T14:38:05.383+0000</td><td>null</td><td>null</td><td>Map()</td><td>Map(x-opt-sequence-number-epoch -> -1, iothub-connection-auth-generation-id -> 638486236982118213, iothub-connection-device-id -> Device1, iothub-enqueuedtime -> \"2024-04-16T14:38:05.383Z\", iothub-connection-auth-method -> {\"scope\":\"device\",\"type\":\"sas\",\"issuer\":\"iothub\",\"acceptingIpFilterRule\":null}, iothub-message-source -> Telemetry)</td></tr><tr><td>eyJkZXZpY2VfaWQiOiA1LCAidG1wIjogMTAzLCAiaG1kdCI6IDY5LCAicHJzcmUiOiA0NjEsICJ0cyI6ICIyMDI0LTA0LTE2VDIwOjA4OjEwLjQzNDA0NCIsICJzb3VyY2UiOiAiSW90SHViIn0=</td><td>2</td><td>241496</td><td>506</td><td>2024-04-16T14:38:10.618+0000</td><td>null</td><td>null</td><td>Map()</td><td>Map(x-opt-sequence-number-epoch -> -1, iothub-connection-auth-generation-id -> 638486236982118213, iothub-connection-device-id -> Device1, iothub-enqueuedtime -> \"2024-04-16T14:38:10.613Z\", iothub-connection-auth-method -> {\"scope\":\"device\",\"type\":\"sas\",\"issuer\":\"iothub\",\"acceptingIpFilterRule\":null}, iothub-message-source -> Telemetry)</td></tr><tr><td>eyJkZXZpY2VfaWQiOiAxMiwgInRtcCI6IDExNiwgImhtZHQiOiA2MiwgInByc3JlIjogNDQwLCAidHMiOiAiMjAyNC0wNC0xNlQyMDowODoxNS42NjgyNTUiLCAic291cmNlIjogIklvdEh1YiJ9</td><td>2</td><td>241976</td><td>507</td><td>2024-04-16T14:38:15.805+0000</td><td>null</td><td>null</td><td>Map()</td><td>Map(x-opt-sequence-number-epoch -> -1, iothub-connection-auth-generation-id -> 638486236982118213, iothub-connection-device-id -> Device1, iothub-enqueuedtime -> \"2024-04-16T14:38:15.818Z\", iothub-connection-auth-method -> {\"scope\":\"device\",\"type\":\"sas\",\"issuer\":\"iothub\",\"acceptingIpFilterRule\":null}, iothub-message-source -> Telemetry)</td></tr><tr><td>eyJkZXZpY2VfaWQiOiA2LCAidG1wIjogMTE5LCAiaG1kdCI6IDY1LCAicHJzcmUiOiA0MDcsICJ0cyI6ICIyMDI0LTA0LTE2VDIwOjA4OjIwLjg3MzA1MyIsICJzb3VyY2UiOiAiSW90SHViIn0=</td><td>2</td><td>242464</td><td>508</td><td>2024-04-16T14:38:21.041+0000</td><td>null</td><td>null</td><td>Map()</td><td>Map(x-opt-sequence-number-epoch -> -1, iothub-connection-auth-generation-id -> 638486236982118213, iothub-connection-device-id -> Device1, iothub-enqueuedtime -> \"2024-04-16T14:38:21.045Z\", iothub-connection-auth-method -> {\"scope\":\"device\",\"type\":\"sas\",\"issuer\":\"iothub\",\"acceptingIpFilterRule\":null}, iothub-message-source -> Telemetry)</td></tr><tr><td>eyJkZXZpY2VfaWQiOiA0LCAidG1wIjogMTA2LCAiaG1kdCI6IDY2LCAicHJzcmUiOiA0MDAsICJ0cyI6ICIyMDI0LTA0LTE2VDIwOjA4OjI2LjA5ODI5NyIsICJzb3VyY2UiOiAiSW90SHViIn0=</td><td>2</td><td>242944</td><td>509</td><td>2024-04-16T14:38:26.308+0000</td><td>null</td><td>null</td><td>Map()</td><td>Map(x-opt-sequence-number-epoch -> -1, iothub-connection-auth-generation-id -> 638486236982118213, iothub-connection-device-id -> Device1, iothub-enqueuedtime -> \"2024-04-16T14:38:26.312Z\", iothub-connection-auth-method -> {\"scope\":\"device\",\"type\":\"sas\",\"issuer\":\"iothub\",\"acceptingIpFilterRule\":null}, iothub-message-source -> Telemetry)</td></tr><tr><td>eyJkZXZpY2VfaWQiOiAxLCAidG1wIjogMTE1LCAiaG1kdCI6IDY4LCAicHJzcmUiOiA0MDQsICJ0cyI6ICIyMDI0LTA0LTE2VDIwOjA4OjMxLjM2NDE2OSIsICJzb3VyY2UiOiAiSW90SHViIn0=</td><td>2</td><td>243424</td><td>510</td><td>2024-04-16T14:38:31.526+0000</td><td>null</td><td>null</td><td>Map()</td><td>Map(x-opt-sequence-number-epoch -> -1, iothub-connection-auth-generation-id -> 638486236982118213, iothub-connection-device-id -> Device1, iothub-enqueuedtime -> \"2024-04-16T14:38:31.529Z\", iothub-connection-auth-method -> {\"scope\":\"device\",\"type\":\"sas\",\"issuer\":\"iothub\",\"acceptingIpFilterRule\":null}, iothub-message-source -> Telemetry)</td></tr><tr><td>eyJkZXZpY2VfaWQiOiA0LCAidG1wIjogOTAsICJobWR0IjogNzgsICJwcnNyZSI6IDQzMiwgInRzIjogIjIwMjQtMDQtMTZUMjA6MDg6MzYuNTgzNzQwIiwgInNvdXJjZSI6ICJJb3RIdWIifQ==</td><td>2</td><td>243904</td><td>511</td><td>2024-04-16T14:38:36.714+0000</td><td>null</td><td>null</td><td>Map()</td><td>Map(x-opt-sequence-number-epoch -> -1, iothub-connection-auth-generation-id -> 638486236982118213, iothub-connection-device-id -> Device1, iothub-enqueuedtime -> \"2024-04-16T14:38:36.708Z\", iothub-connection-auth-method -> {\"scope\":\"device\",\"type\":\"sas\",\"issuer\":\"iothub\",\"acceptingIpFilterRule\":null}, iothub-message-source -> Telemetry)</td></tr><tr><td>eyJkZXZpY2VfaWQiOiAxMywgInRtcCI6IDk3LCAiaG1kdCI6IDY5LCAicHJzcmUiOiA0NjUsICJ0cyI6ICIyMDI0LTA0LTE2VDIwOjA4OjQxLjc2MzUwNiIsICJzb3VyY2UiOiAiSW90SHViIn0=</td><td>2</td><td>244384</td><td>512</td><td>2024-04-16T14:38:41.949+0000</td><td>null</td><td>null</td><td>Map()</td><td>Map(x-opt-sequence-number-epoch -> -1, iothub-connection-auth-generation-id -> 638486236982118213, iothub-connection-device-id -> Device1, iothub-enqueuedtime -> \"2024-04-16T14:38:41.942Z\", iothub-connection-auth-method -> {\"scope\":\"device\",\"type\":\"sas\",\"issuer\":\"iothub\",\"acceptingIpFilterRule\":null}, iothub-message-source -> Telemetry)</td></tr><tr><td>eyJkZXZpY2VfaWQiOiAxMywgInRtcCI6IDExNCwgImhtZHQiOiA3MiwgInByc3JlIjogNDc0LCAidHMiOiAiMjAyNC0wNC0xNlQyMDowODo0Ny4wMDAxODgiLCAic291cmNlIjogIklvdEh1YiJ9</td><td>2</td><td>244864</td><td>513</td><td>2024-04-16T14:38:51.263+0000</td><td>null</td><td>null</td><td>Map()</td><td>Map(x-opt-sequence-number-epoch -> -1, iothub-connection-auth-generation-id -> 638486236982118213, iothub-connection-device-id -> Device1, iothub-enqueuedtime -> \"2024-04-16T14:38:50.595Z\", iothub-connection-auth-method -> {\"scope\":\"device\",\"type\":\"sas\",\"issuer\":\"iothub\",\"acceptingIpFilterRule\":null}, iothub-message-source -> Telemetry)</td></tr><tr><td>eyJkZXZpY2VfaWQiOiA2LCAidG1wIjogOTQsICJobWR0IjogNjYsICJwcnNyZSI6IDQxMiwgInRzIjogIjIwMjQtMDQtMTZUMjA6MDg6NTYuNDE5MTUzIiwgInNvdXJjZSI6ICJJb3RIdWIifQ==</td><td>2</td><td>245352</td><td>514</td><td>2024-04-16T14:38:57.247+0000</td><td>null</td><td>null</td><td>Map()</td><td>Map(x-opt-sequence-number-epoch -> -1, iothub-connection-auth-generation-id -> 638486236982118213, iothub-connection-device-id -> Device1, iothub-enqueuedtime -> \"2024-04-16T14:38:57.237Z\", iothub-connection-auth-method -> {\"scope\":\"device\",\"type\":\"sas\",\"issuer\":\"iothub\",\"acceptingIpFilterRule\":null}, iothub-message-source -> Telemetry)</td></tr><tr><td>eyJkZXZpY2VfaWQiOiAxNCwgInRtcCI6IDk2LCAiaG1kdCI6IDcyLCAicHJzcmUiOiA0NjYsICJ0cyI6ICIyMDI0LTA0LTE2VDIwOjA5OjAyLjI5NjIwNiIsICJzb3VyY2UiOiAiSW90SHViIn0=</td><td>2</td><td>245832</td><td>515</td><td>2024-04-16T14:39:02.420+0000</td><td>null</td><td>null</td><td>Map()</td><td>Map(x-opt-sequence-number-epoch -> -1, iothub-connection-auth-generation-id -> 638486236982118213, iothub-connection-device-id -> Device1, iothub-enqueuedtime -> \"2024-04-16T14:39:02.423Z\", iothub-connection-auth-method -> {\"scope\":\"device\",\"type\":\"sas\",\"issuer\":\"iothub\",\"acceptingIpFilterRule\":null}, iothub-message-source -> Telemetry)</td></tr><tr><td>eyJkZXZpY2VfaWQiOiA0LCAidG1wIjogMTAzLCAiaG1kdCI6IDc5LCAicHJzcmUiOiA0ODQsICJ0cyI6ICIyMDI0LTA0LTE2VDIwOjA5OjA3LjQ3OTYzNCIsICJzb3VyY2UiOiAiSW90SHViIn0=</td><td>2</td><td>246312</td><td>516</td><td>2024-04-16T14:39:08.108+0000</td><td>null</td><td>null</td><td>Map()</td><td>Map(x-opt-sequence-number-epoch -> -1, iothub-connection-auth-generation-id -> 638486236982118213, iothub-connection-device-id -> Device1, iothub-enqueuedtime -> \"2024-04-16T14:39:08.110Z\", iothub-connection-auth-method -> {\"scope\":\"device\",\"type\":\"sas\",\"issuer\":\"iothub\",\"acceptingIpFilterRule\":null}, iothub-message-source -> Telemetry)</td></tr><tr><td>eyJkZXZpY2VfaWQiOiA0LCAidG1wIjogOTUsICJobWR0IjogNzMsICJwcnNyZSI6IDQ2MiwgInRzIjogIjIwMjQtMDQtMTZUMjA6MDk6MTMuMTY4MjYwIiwgInNvdXJjZSI6ICJJb3RIdWIifQ==</td><td>2</td><td>246792</td><td>517</td><td>2024-04-16T14:39:13.296+0000</td><td>null</td><td>null</td><td>Map()</td><td>Map(x-opt-sequence-number-epoch -> -1, iothub-connection-auth-generation-id -> 638486236982118213, iothub-connection-device-id -> Device1, iothub-enqueuedtime -> \"2024-04-16T14:39:13.302Z\", iothub-connection-auth-method -> {\"scope\":\"device\",\"type\":\"sas\",\"issuer\":\"iothub\",\"acceptingIpFilterRule\":null}, iothub-message-source -> Telemetry)</td></tr><tr><td>eyJkZXZpY2VfaWQiOiA0LCAidG1wIjogOTQsICJobWR0IjogNjgsICJwcnNyZSI6IDQ0NywgInRzIjogIjIwMjQtMDQtMTZUMjA6MDk6MTguMzQ4MzQzIiwgInNvdXJjZSI6ICJJb3RIdWIifQ==</td><td>2</td><td>247272</td><td>518</td><td>2024-04-16T14:39:19.485+0000</td><td>null</td><td>null</td><td>Map()</td><td>Map(x-opt-sequence-number-epoch -> -1, iothub-connection-auth-generation-id -> 638486236982118213, iothub-connection-device-id -> Device1, iothub-enqueuedtime -> \"2024-04-16T14:39:18.911Z\", iothub-connection-auth-method -> {\"scope\":\"device\",\"type\":\"sas\",\"issuer\":\"iothub\",\"acceptingIpFilterRule\":null}, iothub-message-source -> Telemetry)</td></tr><tr><td>eyJkZXZpY2VfaWQiOiAxMCwgInRtcCI6IDk3LCAiaG1kdCI6IDY5LCAicHJzcmUiOiA0ODMsICJ0cyI6ICIyMDI0LTA0LTE2VDIwOjA5OjI0LjU3OTkyMiIsICJzb3VyY2UiOiAiSW90SHViIn0=</td><td>2</td><td>247752</td><td>519</td><td>2024-04-16T14:39:24.704+0000</td><td>null</td><td>null</td><td>Map()</td><td>Map(x-opt-sequence-number-epoch -> -1, iothub-connection-auth-generation-id -> 638486236982118213, iothub-connection-device-id -> Device1, iothub-enqueuedtime -> \"2024-04-16T14:39:24.708Z\", iothub-connection-auth-method -> {\"scope\":\"device\",\"type\":\"sas\",\"issuer\":\"iothub\",\"acceptingIpFilterRule\":null}, iothub-message-source -> Telemetry)</td></tr><tr><td>eyJkZXZpY2VfaWQiOiAxMCwgInRtcCI6IDExNiwgImhtZHQiOiA2MiwgInByc3JlIjogNDAwLCAidHMiOiAiMjAyNC0wNC0xNlQyMDowOTozMC4wMjAyNjEiLCAic291cmNlIjogIklvdEh1YiJ9</td><td>2</td><td>248232</td><td>520</td><td>2024-04-16T14:39:30.439+0000</td><td>null</td><td>null</td><td>Map()</td><td>Map(x-opt-sequence-number-epoch -> -1, iothub-connection-auth-generation-id -> 638486236982118213, iothub-connection-device-id -> Device1, iothub-enqueuedtime -> \"2024-04-16T14:39:30.442Z\", iothub-connection-auth-method -> {\"scope\":\"device\",\"type\":\"sas\",\"issuer\":\"iothub\",\"acceptingIpFilterRule\":null}, iothub-message-source -> Telemetry)</td></tr><tr><td>eyJkZXZpY2VfaWQiOiAxMiwgInRtcCI6IDExNywgImhtZHQiOiA3NSwgInByc3JlIjogNDc1LCAidHMiOiAiMjAyNC0wNC0xNlQyMDowOTozNS40OTUzNTIiLCAic291cmNlIjogIklvdEh1YiJ9</td><td>2</td><td>248720</td><td>521</td><td>2024-04-16T14:39:35.642+0000</td><td>null</td><td>null</td><td>Map()</td><td>Map(x-opt-sequence-number-epoch -> -1, iothub-connection-auth-generation-id -> 638486236982118213, iothub-connection-device-id -> Device1, iothub-enqueuedtime -> \"2024-04-16T14:39:35.630Z\", iothub-connection-auth-method -> {\"scope\":\"device\",\"type\":\"sas\",\"issuer\":\"iothub\",\"acceptingIpFilterRule\":null}, iothub-message-source -> Telemetry)</td></tr><tr><td>eyJkZXZpY2VfaWQiOiAxLCAidG1wIjogMTE2LCAiaG1kdCI6IDY2LCAicHJzcmUiOiA0NjksICJ0cyI6ICIyMDI0LTA0LTE2VDIwOjA5OjQwLjY4ODUwMyIsICJzb3VyY2UiOiAiSW90SHViIn0=</td><td>2</td><td>249208</td><td>522</td><td>2024-04-16T14:39:40.861+0000</td><td>null</td><td>null</td><td>Map()</td><td>Map(x-opt-sequence-number-epoch -> -1, iothub-connection-auth-generation-id -> 638486236982118213, iothub-connection-device-id -> Device1, iothub-enqueuedtime -> \"2024-04-16T14:39:40.854Z\", iothub-connection-auth-method -> {\"scope\":\"device\",\"type\":\"sas\",\"issuer\":\"iothub\",\"acceptingIpFilterRule\":null}, iothub-message-source -> Telemetry)</td></tr><tr><td>eyJkZXZpY2VfaWQiOiAxLCAidG1wIjogOTEsICJobWR0IjogNjcsICJwcnNyZSI6IDQ3NSwgInRzIjogIjIwMjQtMDQtMTZUMjA6MDk6NDUuOTE3MDY4IiwgInNvdXJjZSI6ICJJb3RIdWIifQ==</td><td>2</td><td>249688</td><td>523</td><td>2024-04-16T14:39:46.049+0000</td><td>null</td><td>null</td><td>Map()</td><td>Map(x-opt-sequence-number-epoch -> -1, iothub-connection-auth-generation-id -> 638486236982118213, iothub-connection-device-id -> Device1, iothub-enqueuedtime -> \"2024-04-16T14:39:46.051Z\", iothub-connection-auth-method -> {\"scope\":\"device\",\"type\":\"sas\",\"issuer\":\"iothub\",\"acceptingIpFilterRule\":null}, iothub-message-source -> Telemetry)</td></tr><tr><td>eyJkZXZpY2VfaWQiOiAxMSwgInRtcCI6IDkwLCAiaG1kdCI6IDY5LCAicHJzcmUiOiA0NjcsICJ0cyI6ICIyMDI0LTA0LTE2VDIwOjA5OjUxLjEwODE3OCIsICJzb3VyY2UiOiAiSW90SHViIn0=</td><td>2</td><td>250168</td><td>524</td><td>2024-04-16T14:39:51.283+0000</td><td>null</td><td>null</td><td>Map()</td><td>Map(x-opt-sequence-number-epoch -> -1, iothub-connection-auth-generation-id -> 638486236982118213, iothub-connection-device-id -> Device1, iothub-enqueuedtime -> \"2024-04-16T14:39:51.287Z\", iothub-connection-auth-method -> {\"scope\":\"device\",\"type\":\"sas\",\"issuer\":\"iothub\",\"acceptingIpFilterRule\":null}, iothub-message-source -> Telemetry)</td></tr><tr><td>eyJkZXZpY2VfaWQiOiA1LCAidG1wIjogMTAwLCAiaG1kdCI6IDY2LCAicHJzcmUiOiA0MzYsICJ0cyI6ICIyMDI0LTA0LTE2VDIwOjA5OjU2LjMzNjE4NiIsICJzb3VyY2UiOiAiSW90SHViIn0=</td><td>2</td><td>250648</td><td>525</td><td>2024-04-16T14:39:56.471+0000</td><td>null</td><td>null</td><td>Map()</td><td>Map(x-opt-sequence-number-epoch -> -1, iothub-connection-auth-generation-id -> 638486236982118213, iothub-connection-device-id -> Device1, iothub-enqueuedtime -> \"2024-04-16T14:39:56.474Z\", iothub-connection-auth-method -> {\"scope\":\"device\",\"type\":\"sas\",\"issuer\":\"iothub\",\"acceptingIpFilterRule\":null}, iothub-message-source -> Telemetry)</td></tr><tr><td>eyJkZXZpY2VfaWQiOiAxLCAidG1wIjogOTMsICJobWR0IjogNzEsICJwcnNyZSI6IDQ3OSwgInRzIjogIjIwMjQtMDQtMTZUMjA6MTA6MDEuNTIwMjU1IiwgInNvdXJjZSI6ICJJb3RIdWIifQ==</td><td>2</td><td>251128</td><td>526</td><td>2024-04-16T14:40:01.674+0000</td><td>null</td><td>null</td><td>Map()</td><td>Map(x-opt-sequence-number-epoch -> -1, iothub-connection-auth-generation-id -> 638486236982118213, iothub-connection-device-id -> Device1, iothub-enqueuedtime -> \"2024-04-16T14:40:01.672Z\", iothub-connection-auth-method -> {\"scope\":\"device\",\"type\":\"sas\",\"issuer\":\"iothub\",\"acceptingIpFilterRule\":null}, iothub-message-source -> Telemetry)</td></tr><tr><td>eyJkZXZpY2VfaWQiOiA3LCAidG1wIjogOTQsICJobWR0IjogNjUsICJwcnNyZSI6IDQ5NSwgInRzIjogIjIwMjQtMDQtMTZUMjA6MTA6MDYuNzMxNzk4IiwgInNvdXJjZSI6ICJJb3RIdWIifQ==</td><td>2</td><td>251608</td><td>527</td><td>2024-04-16T14:40:06.862+0000</td><td>null</td><td>null</td><td>Map()</td><td>Map(x-opt-sequence-number-epoch -> -1, iothub-connection-auth-generation-id -> 638486236982118213, iothub-connection-device-id -> Device1, iothub-enqueuedtime -> \"2024-04-16T14:40:06.856Z\", iothub-connection-auth-method -> {\"scope\":\"device\",\"type\":\"sas\",\"issuer\":\"iothub\",\"acceptingIpFilterRule\":null}, iothub-message-source -> Telemetry)</td></tr><tr><td>eyJkZXZpY2VfaWQiOiA2LCAidG1wIjogMTEzLCAiaG1kdCI6IDczLCAicHJzcmUiOiA0MDcsICJ0cyI6ICIyMDI0LTA0LTE2VDIwOjEwOjExLjkyODA3NCIsICJzb3VyY2UiOiAiSW90SHViIn0=</td><td>2</td><td>252088</td><td>528</td><td>2024-04-16T14:40:12.159+0000</td><td>null</td><td>null</td><td>Map()</td><td>Map(x-opt-sequence-number-epoch -> -1, iothub-connection-auth-generation-id -> 638486236982118213, iothub-connection-device-id -> Device1, iothub-enqueuedtime -> \"2024-04-16T14:40:12.152Z\", iothub-connection-auth-method -> {\"scope\":\"device\",\"type\":\"sas\",\"issuer\":\"iothub\",\"acceptingIpFilterRule\":null}, iothub-message-source -> Telemetry)</td></tr><tr><td>eyJkZXZpY2VfaWQiOiAxMSwgInRtcCI6IDEwNSwgImhtZHQiOiA3MiwgInByc3JlIjogNDAzLCAidHMiOiAiMjAyNC0wNC0xNlQyMDoxMDoxNy4yMDgyNzAiLCAic291cmNlIjogIklvdEh1YiJ9</td><td>2</td><td>252568</td><td>529</td><td>2024-04-16T14:40:17.347+0000</td><td>null</td><td>null</td><td>Map()</td><td>Map(x-opt-sequence-number-epoch -> -1, iothub-connection-auth-generation-id -> 638486236982118213, iothub-connection-device-id -> Device1, iothub-enqueuedtime -> \"2024-04-16T14:40:17.336Z\", iothub-connection-auth-method -> {\"scope\":\"device\",\"type\":\"sas\",\"issuer\":\"iothub\",\"acceptingIpFilterRule\":null}, iothub-message-source -> Telemetry)</td></tr><tr><td>eyJkZXZpY2VfaWQiOiAxMiwgInRtcCI6IDExNywgImhtZHQiOiA2MywgInByc3JlIjogNDkzLCAidHMiOiAiMjAyNC0wNC0xNlQyMDoxMDoyMi40MDAyMTciLCAic291cmNlIjogIklvdEh1YiJ9</td><td>2</td><td>253056</td><td>530</td><td>2024-04-16T14:40:22.676+0000</td><td>null</td><td>null</td><td>Map()</td><td>Map(x-opt-sequence-number-epoch -> -1, iothub-connection-auth-generation-id -> 638486236982118213, iothub-connection-device-id -> Device1, iothub-enqueuedtime -> \"2024-04-16T14:40:22.664Z\", iothub-connection-auth-method -> {\"scope\":\"device\",\"type\":\"sas\",\"issuer\":\"iothub\",\"acceptingIpFilterRule\":null}, iothub-message-source -> Telemetry)</td></tr><tr><td>eyJkZXZpY2VfaWQiOiA0LCAidG1wIjogMTEwLCAiaG1kdCI6IDY5LCAicHJzcmUiOiA0MjMsICJ0cyI6ICIyMDI0LTA0LTE2VDIwOjEwOjI3LjcyODI2MyIsICJzb3VyY2UiOiAiSW90SHViIn0=</td><td>2</td><td>253544</td><td>531</td><td>2024-04-16T14:40:27.863+0000</td><td>null</td><td>null</td><td>Map()</td><td>Map(x-opt-sequence-number-epoch -> -1, iothub-connection-auth-generation-id -> 638486236982118213, iothub-connection-device-id -> Device1, iothub-enqueuedtime -> \"2024-04-16T14:40:27.860Z\", iothub-connection-auth-method -> {\"scope\":\"device\",\"type\":\"sas\",\"issuer\":\"iothub\",\"acceptingIpFilterRule\":null}, iothub-message-source -> Telemetry)</td></tr><tr><td>eyJkZXZpY2VfaWQiOiAxMCwgInRtcCI6IDkwLCAiaG1kdCI6IDc5LCAicHJzcmUiOiA0NzYsICJ0cyI6ICIyMDI0LTA0LTE2VDIwOjEwOjMyLjkyODI0MSIsICJzb3VyY2UiOiAiSW90SHViIn0=</td><td>2</td><td>254024</td><td>532</td><td>2024-04-16T14:40:33.410+0000</td><td>null</td><td>null</td><td>Map()</td><td>Map(x-opt-sequence-number-epoch -> -1, iothub-connection-auth-generation-id -> 638486236982118213, iothub-connection-device-id -> Device1, iothub-enqueuedtime -> \"2024-04-16T14:40:33.419Z\", iothub-connection-auth-method -> {\"scope\":\"device\",\"type\":\"sas\",\"issuer\":\"iothub\",\"acceptingIpFilterRule\":null}, iothub-message-source -> Telemetry)</td></tr><tr><td>eyJkZXZpY2VfaWQiOiA5LCAidG1wIjogOTMsICJobWR0IjogNjMsICJwcnNyZSI6IDQ1NywgInRzIjogIjIwMjQtMDQtMTZUMjA6MTA6MzguNDcyMjI3IiwgInNvdXJjZSI6ICJJb3RIdWIifQ==</td><td>2</td><td>254504</td><td>533</td><td>2024-04-16T14:40:38.660+0000</td><td>null</td><td>null</td><td>Map()</td><td>Map(x-opt-sequence-number-epoch -> -1, iothub-connection-auth-generation-id -> 638486236982118213, iothub-connection-device-id -> Device1, iothub-enqueuedtime -> \"2024-04-16T14:40:38.650Z\", iothub-connection-auth-method -> {\"scope\":\"device\",\"type\":\"sas\",\"issuer\":\"iothub\",\"acceptingIpFilterRule\":null}, iothub-message-source -> Telemetry)</td></tr><tr><td>eyJkZXZpY2VfaWQiOiAxMiwgInRtcCI6IDEwOSwgImhtZHQiOiA3OSwgInByc3JlIjogNDYzLCAidHMiOiAiMjAyNC0wNC0xNlQyMDoxMDo0My43MTIyMDIiLCAic291cmNlIjogIklvdEh1YiJ9</td><td>2</td><td>254984</td><td>534</td><td>2024-04-16T14:40:44.067+0000</td><td>null</td><td>null</td><td>Map()</td><td>Map(x-opt-sequence-number-epoch -> -1, iothub-connection-auth-generation-id -> 638486236982118213, iothub-connection-device-id -> Device1, iothub-enqueuedtime -> \"2024-04-16T14:40:44.071Z\", iothub-connection-auth-method -> {\"scope\":\"device\",\"type\":\"sas\",\"issuer\":\"iothub\",\"acceptingIpFilterRule\":null}, iothub-message-source -> Telemetry)</td></tr><tr><td>eyJkZXZpY2VfaWQiOiAzLCAidG1wIjogMTA0LCAiaG1kdCI6IDY0LCAicHJzcmUiOiA0MjcsICJ0cyI6ICIyMDI0LTA0LTE2VDIwOjEwOjQ5LjEyODE3NiIsICJzb3VyY2UiOiAiSW90SHViIn0=</td><td>2</td><td>255472</td><td>535</td><td>2024-04-16T14:40:49.537+0000</td><td>null</td><td>null</td><td>Map()</td><td>Map(x-opt-sequence-number-epoch -> -1, iothub-connection-auth-generation-id -> 638486236982118213, iothub-connection-device-id -> Device1, iothub-enqueuedtime -> \"2024-04-16T14:40:49.529Z\", iothub-connection-auth-method -> {\"scope\":\"device\",\"type\":\"sas\",\"issuer\":\"iothub\",\"acceptingIpFilterRule\":null}, iothub-message-source -> Telemetry)</td></tr><tr><td>eyJkZXZpY2VfaWQiOiA3LCAidG1wIjogMTE2LCAiaG1kdCI6IDY3LCAicHJzcmUiOiA0NjEsICJ0cyI6ICIyMDI0LTA0LTE2VDIwOjEwOjU0LjYwMDI4NSIsICJzb3VyY2UiOiAiSW90SHViIn0=</td><td>2</td><td>255952</td><td>536</td><td>2024-04-16T14:40:55.240+0000</td><td>null</td><td>null</td><td>Map()</td><td>Map(x-opt-sequence-number-epoch -> -1, iothub-connection-auth-generation-id -> 638486236982118213, iothub-connection-device-id -> Device1, iothub-enqueuedtime -> \"2024-04-16T14:40:55.242Z\", iothub-connection-auth-method -> {\"scope\":\"device\",\"type\":\"sas\",\"issuer\":\"iothub\",\"acceptingIpFilterRule\":null}, iothub-message-source -> Telemetry)</td></tr><tr><td>eyJkZXZpY2VfaWQiOiA4LCAidG1wIjogMTE3LCAiaG1kdCI6IDY0LCAicHJzcmUiOiA0NzQsICJ0cyI6ICIyMDI0LTA0LTE2VDIwOjExOjAwLjI5NjI0NCIsICJzb3VyY2UiOiAiSW90SHViIn0=</td><td>2</td><td>256432</td><td>537</td><td>2024-04-16T14:41:00.428+0000</td><td>null</td><td>null</td><td>Map()</td><td>Map(x-opt-sequence-number-epoch -> -1, iothub-connection-auth-generation-id -> 638486236982118213, iothub-connection-device-id -> Device1, iothub-enqueuedtime -> \"2024-04-16T14:41:00.433Z\", iothub-connection-auth-method -> {\"scope\":\"device\",\"type\":\"sas\",\"issuer\":\"iothub\",\"acceptingIpFilterRule\":null}, iothub-message-source -> Telemetry)</td></tr><tr><td>eyJkZXZpY2VfaWQiOiAyLCAidG1wIjogOTMsICJobWR0IjogNjMsICJwcnNyZSI6IDQyNiwgInRzIjogIjIwMjQtMDQtMTZUMjA6MTE6MDUuNDgwMjUxIiwgInNvdXJjZSI6ICJJb3RIdWIifQ==</td><td>2</td><td>256912</td><td>538</td><td>2024-04-16T14:41:05.881+0000</td><td>null</td><td>null</td><td>Map()</td><td>Map(x-opt-sequence-number-epoch -> -1, iothub-connection-auth-generation-id -> 638486236982118213, iothub-connection-device-id -> Device1, iothub-enqueuedtime -> \"2024-04-16T14:41:05.878Z\", iothub-connection-auth-method -> {\"scope\":\"device\",\"type\":\"sas\",\"issuer\":\"iothub\",\"acceptingIpFilterRule\":null}, iothub-message-source -> Telemetry)</td></tr><tr><td>eyJkZXZpY2VfaWQiOiAxNCwgInRtcCI6IDExOSwgImhtZHQiOiA3MCwgInByc3JlIjogNDg0LCAidHMiOiAiMjAyNC0wNC0xNlQyMDoxMToxMC45Mzc3NzUiLCAic291cmNlIjogIklvdEh1YiJ9</td><td>2</td><td>257392</td><td>539</td><td>2024-04-16T14:41:11.084+0000</td><td>null</td><td>null</td><td>Map()</td><td>Map(x-opt-sequence-number-epoch -> -1, iothub-connection-auth-generation-id -> 638486236982118213, iothub-connection-device-id -> Device1, iothub-enqueuedtime -> \"2024-04-16T14:41:11.076Z\", iothub-connection-auth-method -> {\"scope\":\"device\",\"type\":\"sas\",\"issuer\":\"iothub\",\"acceptingIpFilterRule\":null}, iothub-message-source -> Telemetry)</td></tr><tr><td>eyJkZXZpY2VfaWQiOiAxMiwgInRtcCI6IDExOSwgImhtZHQiOiA2NywgInByc3JlIjogNDg2LCAidHMiOiAiMjAyNC0wNC0xNlQyMDoxMToxNi4xMzQ3MTAiLCAic291cmNlIjogIklvdEh1YiJ9</td><td>2</td><td>257880</td><td>540</td><td>2024-04-16T14:41:16.382+0000</td><td>null</td><td>null</td><td>Map()</td><td>Map(x-opt-sequence-number-epoch -> -1, iothub-connection-auth-generation-id -> 638486236982118213, iothub-connection-device-id -> Device1, iothub-enqueuedtime -> \"2024-04-16T14:41:16.371Z\", iothub-connection-auth-method -> {\"scope\":\"device\",\"type\":\"sas\",\"issuer\":\"iothub\",\"acceptingIpFilterRule\":null}, iothub-message-source -> Telemetry)</td></tr><tr><td>eyJkZXZpY2VfaWQiOiA2LCAidG1wIjogMTA2LCAiaG1kdCI6IDcyLCAicHJzcmUiOiA0ODUsICJ0cyI6ICIyMDI0LTA0LTE2VDIwOjExOjIxLjQzNjIwMCIsICJzb3VyY2UiOiAiSW90SHViIn0=</td><td>2</td><td>258368</td><td>541</td><td>2024-04-16T14:41:21.570+0000</td><td>null</td><td>null</td><td>Map()</td><td>Map(x-opt-sequence-number-epoch -> -1, iothub-connection-auth-generation-id -> 638486236982118213, iothub-connection-device-id -> Device1, iothub-enqueuedtime -> \"2024-04-16T14:41:21.569Z\", iothub-connection-auth-method -> {\"scope\":\"device\",\"type\":\"sas\",\"issuer\":\"iothub\",\"acceptingIpFilterRule\":null}, iothub-message-source -> Telemetry)</td></tr><tr><td>eyJkZXZpY2VfaWQiOiA3LCAidG1wIjogMTE3LCAiaG1kdCI6IDY1LCAicHJzcmUiOiA0MjEsICJ0cyI6ICIyMDI0LTA0LTE2VDIwOjExOjI2LjYzNDIyMSIsICJzb3VyY2UiOiAiSW90SHViIn0=</td><td>2</td><td>258848</td><td>542</td><td>2024-04-16T14:41:27.070+0000</td><td>null</td><td>null</td><td>Map()</td><td>Map(x-opt-sequence-number-epoch -> -1, iothub-connection-auth-generation-id -> 638486236982118213, iothub-connection-device-id -> Device1, iothub-enqueuedtime -> \"2024-04-16T14:41:27.073Z\", iothub-connection-auth-method -> {\"scope\":\"device\",\"type\":\"sas\",\"issuer\":\"iothub\",\"acceptingIpFilterRule\":null}, iothub-message-source -> Telemetry)</td></tr><tr><td>eyJkZXZpY2VfaWQiOiA3LCAidG1wIjogMTE2LCAiaG1kdCI6IDYzLCAicHJzcmUiOiA0MzAsICJ0cyI6ICIyMDI0LTA0LTE2VDIwOjExOjMyLjEzNDI2MCIsICJzb3VyY2UiOiAiSW90SHViIn0=</td><td>2</td><td>259328</td><td>543</td><td>2024-04-16T14:41:32.258+0000</td><td>null</td><td>null</td><td>Map()</td><td>Map(x-opt-sequence-number-epoch -> -1, iothub-connection-auth-generation-id -> 638486236982118213, iothub-connection-device-id -> Device1, iothub-enqueuedtime -> \"2024-04-16T14:41:32.268Z\", iothub-connection-auth-method -> {\"scope\":\"device\",\"type\":\"sas\",\"issuer\":\"iothub\",\"acceptingIpFilterRule\":null}, iothub-message-source -> Telemetry)</td></tr><tr><td>eyJkZXZpY2VfaWQiOiAyLCAidG1wIjogMTExLCAiaG1kdCI6IDc1LCAicHJzcmUiOiA0MjQsICJ0cyI6ICIyMDI0LTA0LTE2VDIwOjExOjM3LjMyMDIyNCIsICJzb3VyY2UiOiAiSW90SHViIn0=</td><td>2</td><td>259808</td><td>544</td><td>2024-04-16T14:41:37.648+0000</td><td>null</td><td>null</td><td>Map()</td><td>Map(x-opt-sequence-number-epoch -> -1, iothub-connection-auth-generation-id -> 638486236982118213, iothub-connection-device-id -> Device1, iothub-enqueuedtime -> \"2024-04-16T14:41:37.657Z\", iothub-connection-auth-method -> {\"scope\":\"device\",\"type\":\"sas\",\"issuer\":\"iothub\",\"acceptingIpFilterRule\":null}, iothub-message-source -> Telemetry)</td></tr><tr><td>eyJkZXZpY2VfaWQiOiAxNCwgInRtcCI6IDEwNiwgImhtZHQiOiA3NCwgInByc3JlIjogNDA0LCAidHMiOiAiMjAyNC0wNC0xNlQyMDoxMTo0Mi43MDc1MTEiLCAic291cmNlIjogIklvdEh1YiJ9</td><td>2</td><td>260288</td><td>545</td><td>2024-04-16T14:41:42.867+0000</td><td>null</td><td>null</td><td>Map()</td><td>Map(x-opt-sequence-number-epoch -> -1, iothub-connection-auth-generation-id -> 638486236982118213, iothub-connection-device-id -> Device1, iothub-enqueuedtime -> \"2024-04-16T14:41:42.863Z\", iothub-connection-auth-method -> {\"scope\":\"device\",\"type\":\"sas\",\"issuer\":\"iothub\",\"acceptingIpFilterRule\":null}, iothub-message-source -> Telemetry)</td></tr><tr><td>eyJkZXZpY2VfaWQiOiA3LCAidG1wIjogOTYsICJobWR0IjogNzEsICJwcnNyZSI6IDQxNCwgInRzIjogIjIwMjQtMDQtMTZUMjA6MTE6NDcuOTI4MzAzIiwgInNvdXJjZSI6ICJJb3RIdWIifQ==</td><td>2</td><td>260776</td><td>546</td><td>2024-04-16T14:41:48.180+0000</td><td>null</td><td>null</td><td>Map()</td><td>Map(x-opt-sequence-number-epoch -> -1, iothub-connection-auth-generation-id -> 638486236982118213, iothub-connection-device-id -> Device1, iothub-enqueuedtime -> \"2024-04-16T14:41:48.183Z\", iothub-connection-auth-method -> {\"scope\":\"device\",\"type\":\"sas\",\"issuer\":\"iothub\",\"acceptingIpFilterRule\":null}, iothub-message-source -> Telemetry)</td></tr><tr><td>eyJkZXZpY2VfaWQiOiA1LCAidG1wIjogMTAzLCAiaG1kdCI6IDc4LCAicHJzcmUiOiA0MDEsICJ0cyI6ICIyMDI0LTA0LTE2VDIwOjExOjUzLjIzNzc1NiIsICJzb3VyY2UiOiAiSW90SHViIn0=</td><td>2</td><td>261256</td><td>547</td><td>2024-04-16T14:41:53.383+0000</td><td>null</td><td>null</td><td>Map()</td><td>Map(x-opt-sequence-number-epoch -> -1, iothub-connection-auth-generation-id -> 638486236982118213, iothub-connection-device-id -> Device1, iothub-enqueuedtime -> \"2024-04-16T14:41:53.390Z\", iothub-connection-auth-method -> {\"scope\":\"device\",\"type\":\"sas\",\"issuer\":\"iothub\",\"acceptingIpFilterRule\":null}, iothub-message-source -> Telemetry)</td></tr><tr><td>eyJkZXZpY2VfaWQiOiA0LCAidG1wIjogMTA1LCAiaG1kdCI6IDYwLCAicHJzcmUiOiA0NjEsICJ0cyI6ICIyMDI0LTA0LTE2VDIwOjExOjU4LjQzNjI0NyIsICJzb3VyY2UiOiAiSW90SHViIn0=</td><td>2</td><td>261736</td><td>548</td><td>2024-04-16T14:41:59.227+0000</td><td>null</td><td>null</td><td>Map()</td><td>Map(x-opt-sequence-number-epoch -> -1, iothub-connection-auth-generation-id -> 638486236982118213, iothub-connection-device-id -> Device1, iothub-enqueuedtime -> \"2024-04-16T14:41:59.233Z\", iothub-connection-auth-method -> {\"scope\":\"device\",\"type\":\"sas\",\"issuer\":\"iothub\",\"acceptingIpFilterRule\":null}, iothub-message-source -> Telemetry)</td></tr><tr><td>eyJkZXZpY2VfaWQiOiAxNCwgInRtcCI6IDk2LCAiaG1kdCI6IDcyLCAicHJzcmUiOiA0NzgsICJ0cyI6ICIyMDI0LTA0LTE2VDIwOjEyOjA0LjI4ODMzMSIsICJzb3VyY2UiOiAiSW90SHViIn0=</td><td>2</td><td>262216</td><td>549</td><td>2024-04-16T14:42:04.431+0000</td><td>null</td><td>null</td><td>Map()</td><td>Map(x-opt-sequence-number-epoch -> -1, iothub-connection-auth-generation-id -> 638486236982118213, iothub-connection-device-id -> Device1, iothub-enqueuedtime -> \"2024-04-16T14:42:04.414Z\", iothub-connection-auth-method -> {\"scope\":\"device\",\"type\":\"sas\",\"issuer\":\"iothub\",\"acceptingIpFilterRule\":null}, iothub-message-source -> Telemetry)</td></tr><tr><td>eyJkZXZpY2VfaWQiOiA0LCAidG1wIjogMTA4LCAiaG1kdCI6IDcyLCAicHJzcmUiOiA0ODksICJ0cyI6ICIyMDI0LTA0LTE2VDIwOjEyOjA5LjQ3ODE2MCIsICJzb3VyY2UiOiAiSW90SHViIn0=</td><td>2</td><td>262696</td><td>550</td><td>2024-04-16T14:42:09.649+0000</td><td>null</td><td>null</td><td>Map()</td><td>Map(x-opt-sequence-number-epoch -> -1, iothub-connection-auth-generation-id -> 638486236982118213, iothub-connection-device-id -> Device1, iothub-enqueuedtime -> \"2024-04-16T14:42:09.655Z\", iothub-connection-auth-method -> {\"scope\":\"device\",\"type\":\"sas\",\"issuer\":\"iothub\",\"acceptingIpFilterRule\":null}, iothub-message-source -> Telemetry)</td></tr><tr><td>eyJkZXZpY2VfaWQiOiA1LCAidG1wIjogMTAxLCAiaG1kdCI6IDc2LCAicHJzcmUiOiA0OTksICJ0cyI6ICIyMDI0LTA0LTE2VDIwOjEyOjE0LjcwNDMzMCIsICJzb3VyY2UiOiAiSW90SHViIn0=</td><td>2</td><td>263176</td><td>551</td><td>2024-04-16T14:42:14.853+0000</td><td>null</td><td>null</td><td>Map()</td><td>Map(x-opt-sequence-number-epoch -> -1, iothub-connection-auth-generation-id -> 638486236982118213, iothub-connection-device-id -> Device1, iothub-enqueuedtime -> \"2024-04-16T14:42:14.842Z\", iothub-connection-auth-method -> {\"scope\":\"device\",\"type\":\"sas\",\"issuer\":\"iothub\",\"acceptingIpFilterRule\":null}, iothub-message-source -> Telemetry)</td></tr><tr><td>eyJkZXZpY2VfaWQiOiA5LCAidG1wIjogMTA0LCAiaG1kdCI6IDY3LCAicHJzcmUiOiA0NDYsICJ0cyI6ICIyMDI0LTA0LTE2VDIwOjUxOjA0LjY2MTU5NCIsICJzb3VyY2UiOiAiSW90SHViIn0=</td><td>2</td><td>263656</td><td>552</td><td>2024-04-16T15:21:05.357+0000</td><td>null</td><td>null</td><td>Map()</td><td>Map(x-opt-sequence-number-epoch -> -1, iothub-connection-auth-generation-id -> 638486236982118213, iothub-connection-device-id -> Device1, iothub-enqueuedtime -> \"2024-04-16T15:21:04.922Z\", iothub-connection-auth-method -> {\"scope\":\"device\",\"type\":\"sas\",\"issuer\":\"iothub\",\"acceptingIpFilterRule\":null}, iothub-message-source -> Telemetry)</td></tr><tr><td>eyJkZXZpY2VfaWQiOiA2LCAidG1wIjogMTE1LCAiaG1kdCI6IDY3LCAicHJzcmUiOiA0NzgsICJ0cyI6ICIyMDI0LTA0LTE2VDIwOjUxOjEwLjQ3NjE5OCIsICJzb3VyY2UiOiAiSW90SHViIn0=</td><td>2</td><td>264136</td><td>553</td><td>2024-04-16T15:21:10.904+0000</td><td>null</td><td>null</td><td>Map()</td><td>Map(x-opt-sequence-number-epoch -> -1, iothub-connection-auth-generation-id -> 638486236982118213, iothub-connection-device-id -> Device1, iothub-enqueuedtime -> \"2024-04-16T15:21:10.651Z\", iothub-connection-auth-method -> {\"scope\":\"device\",\"type\":\"sas\",\"issuer\":\"iothub\",\"acceptingIpFilterRule\":null}, iothub-message-source -> Telemetry)</td></tr><tr><td>eyJkZXZpY2VfaWQiOiAyLCAidG1wIjogMTEzLCAiaG1kdCI6IDY0LCAicHJzcmUiOiA0MTcsICJ0cyI6ICIyMDI0LTA0LTE2VDIwOjUxOjE1LjkwODIwNyIsICJzb3VyY2UiOiAiSW90SHViIn0=</td><td>2</td><td>264616</td><td>554</td><td>2024-04-16T15:21:16.530+0000</td><td>null</td><td>null</td><td>Map()</td><td>Map(x-opt-sequence-number-epoch -> -1, iothub-connection-auth-generation-id -> 638486236982118213, iothub-connection-device-id -> Device1, iothub-enqueuedtime -> \"2024-04-16T15:21:16.154Z\", iothub-connection-auth-method -> {\"scope\":\"device\",\"type\":\"sas\",\"issuer\":\"iothub\",\"acceptingIpFilterRule\":null}, iothub-message-source -> Telemetry)</td></tr><tr><td>eyJkZXZpY2VfaWQiOiA1LCAidG1wIjogMTA0LCAiaG1kdCI6IDcwLCAicHJzcmUiOiA0MDgsICJ0cyI6ICIyMDI0LTA0LTE2VDIwOjUxOjIxLjU0MDIwNSIsICJzb3VyY2UiOiAiSW90SHViIn0=</td><td>2</td><td>265096</td><td>555</td><td>2024-04-16T15:21:22.140+0000</td><td>null</td><td>null</td><td>Map()</td><td>Map(x-opt-sequence-number-epoch -> -1, iothub-connection-auth-generation-id -> 638486236982118213, iothub-connection-device-id -> Device1, iothub-enqueuedtime -> \"2024-04-16T15:21:21.717Z\", iothub-connection-auth-method -> {\"scope\":\"device\",\"type\":\"sas\",\"issuer\":\"iothub\",\"acceptingIpFilterRule\":null}, iothub-message-source -> Telemetry)</td></tr><tr><td>eyJkZXZpY2VfaWQiOiA0LCAidG1wIjogMTE4LCAiaG1kdCI6IDYzLCAicHJzcmUiOiA0MjEsICJ0cyI6ICIyMDI0LTA0LTE2VDIwOjUxOjI3LjE2NDE2MyIsICJzb3VyY2UiOiAiSW90SHViIn0=</td><td>2</td><td>265576</td><td>556</td><td>2024-04-16T15:21:27.406+0000</td><td>null</td><td>null</td><td>Map()</td><td>Map(x-opt-sequence-number-epoch -> -1, iothub-connection-auth-generation-id -> 638486236982118213, iothub-connection-device-id -> Device1, iothub-enqueuedtime -> \"2024-04-16T15:21:27.407Z\", iothub-connection-auth-method -> {\"scope\":\"device\",\"type\":\"sas\",\"issuer\":\"iothub\",\"acceptingIpFilterRule\":null}, iothub-message-source -> Telemetry)</td></tr><tr><td>eyJkZXZpY2VfaWQiOiAzLCAidG1wIjogMTAzLCAiaG1kdCI6IDY0LCAicHJzcmUiOiA0NDMsICJ0cyI6ICIyMDI0LTA0LTE2VDIwOjUxOjMyLjQyNDI5MSIsICJzb3VyY2UiOiAiSW90SHViIn0=</td><td>2</td><td>266056</td><td>557</td><td>2024-04-16T15:21:33.031+0000</td><td>null</td><td>null</td><td>Map()</td><td>Map(x-opt-sequence-number-epoch -> -1, iothub-connection-auth-generation-id -> 638486236982118213, iothub-connection-device-id -> Device1, iothub-enqueuedtime -> \"2024-04-16T15:21:32.610Z\", iothub-connection-auth-method -> {\"scope\":\"device\",\"type\":\"sas\",\"issuer\":\"iothub\",\"acceptingIpFilterRule\":null}, iothub-message-source -> Telemetry)</td></tr><tr><td>eyJkZXZpY2VfaWQiOiAxMywgInRtcCI6IDEwMSwgImhtZHQiOiA2NywgInByc3JlIjogNDUyLCAidHMiOiAiMjAyNC0wNC0xNlQyMDo1MTozOC4zMjQzMDgiLCAic291cmNlIjogIklvdEh1YiJ9</td><td>2</td><td>266536</td><td>558</td><td>2024-04-16T15:21:38.891+0000</td><td>null</td><td>null</td><td>Map()</td><td>Map(x-opt-sequence-number-epoch -> -1, iothub-connection-auth-generation-id -> 638486236982118213, iothub-connection-device-id -> Device1, iothub-enqueuedtime -> \"2024-04-16T15:21:38.635Z\", iothub-connection-auth-method -> {\"scope\":\"device\",\"type\":\"sas\",\"issuer\":\"iothub\",\"acceptingIpFilterRule\":null}, iothub-message-source -> Telemetry)</td></tr><tr><td>eyJkZXZpY2VfaWQiOiA5LCAidG1wIjogMTE1LCAiaG1kdCI6IDY4LCAicHJzcmUiOiA0MjksICJ0cyI6ICIyMDI0LTA0LTE2VDIwOjUxOjQzLjk1MjIxNiIsICJzb3VyY2UiOiAiSW90SHViIn0=</td><td>2</td><td>267024</td><td>559</td><td>2024-04-16T15:21:44.126+0000</td><td>null</td><td>null</td><td>Map()</td><td>Map(x-opt-sequence-number-epoch -> -1, iothub-connection-auth-generation-id -> 638486236982118213, iothub-connection-device-id -> Device1, iothub-enqueuedtime -> \"2024-04-16T15:21:44.120Z\", iothub-connection-auth-method -> {\"scope\":\"device\",\"type\":\"sas\",\"issuer\":\"iothub\",\"acceptingIpFilterRule\":null}, iothub-message-source -> Telemetry)</td></tr><tr><td>eyJkZXZpY2VfaWQiOiA2LCAidG1wIjogMTE0LCAiaG1kdCI6IDcyLCAicHJzcmUiOiA0NzQsICJ0cyI6ICIyMDI0LTA0LTE2VDIwOjUxOjQ5LjEzNjE2MyIsICJzb3VyY2UiOiAiSW90SHViIn0=</td><td>2</td><td>267504</td><td>560</td><td>2024-04-16T15:21:49.892+0000</td><td>null</td><td>null</td><td>Map()</td><td>Map(x-opt-sequence-number-epoch -> -1, iothub-connection-auth-generation-id -> 638486236982118213, iothub-connection-device-id -> Device1, iothub-enqueuedtime -> \"2024-04-16T15:21:49.452Z\", iothub-connection-auth-method -> {\"scope\":\"device\",\"type\":\"sas\",\"issuer\":\"iothub\",\"acceptingIpFilterRule\":null}, iothub-message-source -> Telemetry)</td></tr><tr><td>eyJkZXZpY2VfaWQiOiA2LCAidG1wIjogMTE4LCAiaG1kdCI6IDcyLCAicHJzcmUiOiA0MjYsICJ0cyI6ICIyMDI0LTA0LTE2VDIwOjUxOjU0LjkwNDU1MiIsICJzb3VyY2UiOiAiSW90SHViIn0=</td><td>2</td><td>267984</td><td>561</td><td>2024-04-16T15:21:55.095+0000</td><td>null</td><td>null</td><td>Map()</td><td>Map(x-opt-sequence-number-epoch -> -1, iothub-connection-auth-generation-id -> 638486236982118213, iothub-connection-device-id -> Device1, iothub-enqueuedtime -> \"2024-04-16T15:21:55.089Z\", iothub-connection-auth-method -> {\"scope\":\"device\",\"type\":\"sas\",\"issuer\":\"iothub\",\"acceptingIpFilterRule\":null}, iothub-message-source -> Telemetry)</td></tr><tr><td>eyJkZXZpY2VfaWQiOiAxMywgInRtcCI6IDExOSwgImhtZHQiOiA3MSwgInByc3JlIjogNDI2LCAidHMiOiAiMjAyNC0wNC0xNlQyMDo1MjowMC4xMDAzMjIiLCAic291cmNlIjogIklvdEh1YiJ9</td><td>2</td><td>268464</td><td>562</td><td>2024-04-16T15:22:00.736+0000</td><td>null</td><td>null</td><td>Map()</td><td>Map(x-opt-sequence-number-epoch -> -1, iothub-connection-auth-generation-id -> 638486236982118213, iothub-connection-device-id -> Device1, iothub-enqueuedtime -> \"2024-04-16T15:22:00.732Z\", iothub-connection-auth-method -> {\"scope\":\"device\",\"type\":\"sas\",\"issuer\":\"iothub\",\"acceptingIpFilterRule\":null}, iothub-message-source -> Telemetry)</td></tr><tr><td>eyJkZXZpY2VfaWQiOiAyLCAidG1wIjogMTAyLCAiaG1kdCI6IDc0LCAicHJzcmUiOiA0MzcsICJ0cyI6ICIyMDI0LTA0LTE2VDIwOjUyOjA1Ljc1MjMwOCIsICJzb3VyY2UiOiAiSW90SHViIn0=</td><td>2</td><td>268952</td><td>563</td><td>2024-04-16T15:22:06.158+0000</td><td>null</td><td>null</td><td>Map()</td><td>Map(x-opt-sequence-number-epoch -> -1, iothub-connection-auth-generation-id -> 638486236982118213, iothub-connection-device-id -> Device1, iothub-enqueuedtime -> \"2024-04-16T15:22:06.171Z\", iothub-connection-auth-method -> {\"scope\":\"device\",\"type\":\"sas\",\"issuer\":\"iothub\",\"acceptingIpFilterRule\":null}, iothub-message-source -> Telemetry)</td></tr><tr><td>eyJkZXZpY2VfaWQiOiA0LCAidG1wIjogMTE4LCAiaG1kdCI6IDY3LCAicHJzcmUiOiA0MTMsICJ0cyI6ICIyMDI0LTA0LTE2VDIwOjUyOjExLjE2ODEzNyIsICJzb3VyY2UiOiAiSW90SHViIn0=</td><td>2</td><td>269432</td><td>564</td><td>2024-04-16T15:22:12.096+0000</td><td>null</td><td>null</td><td>Map()</td><td>Map(x-opt-sequence-number-epoch -> -1, iothub-connection-auth-generation-id -> 638486236982118213, iothub-connection-device-id -> Device1, iothub-enqueuedtime -> \"2024-04-16T15:22:11.700Z\", iothub-connection-auth-method -> {\"scope\":\"device\",\"type\":\"sas\",\"issuer\":\"iothub\",\"acceptingIpFilterRule\":null}, iothub-message-source -> Telemetry)</td></tr><tr><td>eyJkZXZpY2VfaWQiOiAxMywgInRtcCI6IDExMywgImhtZHQiOiA3NywgInByc3JlIjogNDUyLCAidHMiOiAiMjAyNC0wNC0xNlQyMDo1MjoxNy4xMzYzMjciLCAic291cmNlIjogIklvdEh1YiJ9</td><td>2</td><td>269912</td><td>565</td><td>2024-04-16T15:22:17.315+0000</td><td>null</td><td>null</td><td>Map()</td><td>Map(x-opt-sequence-number-epoch -> -1, iothub-connection-auth-generation-id -> 638486236982118213, iothub-connection-device-id -> Device1, iothub-enqueuedtime -> \"2024-04-16T15:22:17.309Z\", iothub-connection-auth-method -> {\"scope\":\"device\",\"type\":\"sas\",\"issuer\":\"iothub\",\"acceptingIpFilterRule\":null}, iothub-message-source -> Telemetry)</td></tr><tr><td>eyJkZXZpY2VfaWQiOiAxMSwgInRtcCI6IDExNywgImhtZHQiOiA2MywgInByc3JlIjogNDA1LCAidHMiOiAiMjAyNC0wNC0xNlQyMDo1MjoyMi4zMjMwOTMiLCAic291cmNlIjogIklvdEh1YiJ9</td><td>2</td><td>270400</td><td>566</td><td>2024-04-16T15:22:23.221+0000</td><td>null</td><td>null</td><td>Map()</td><td>Map(x-opt-sequence-number-epoch -> -1, iothub-connection-auth-generation-id -> 638486236982118213, iothub-connection-device-id -> Device1, iothub-enqueuedtime -> \"2024-04-16T15:22:22.576Z\", iothub-connection-auth-method -> {\"scope\":\"device\",\"type\":\"sas\",\"issuer\":\"iothub\",\"acceptingIpFilterRule\":null}, iothub-message-source -> Telemetry)</td></tr><tr><td>eyJkZXZpY2VfaWQiOiA2LCAidG1wIjogMTA3LCAiaG1kdCI6IDYxLCAicHJzcmUiOiA0NTksICJ0cyI6ICIyMDI0LTA0LTE2VDIwOjUyOjI4LjMwMTI5NiIsICJzb3VyY2UiOiAiSW90SHViIn0=</td><td>2</td><td>270888</td><td>567</td><td>2024-04-16T15:22:28.487+0000</td><td>null</td><td>null</td><td>Map()</td><td>Map(x-opt-sequence-number-epoch -> -1, iothub-connection-auth-generation-id -> 638486236982118213, iothub-connection-device-id -> Device1, iothub-enqueuedtime -> \"2024-04-16T15:22:28.489Z\", iothub-connection-auth-method -> {\"scope\":\"device\",\"type\":\"sas\",\"issuer\":\"iothub\",\"acceptingIpFilterRule\":null}, iothub-message-source -> Telemetry)</td></tr><tr><td>eyJkZXZpY2VfaWQiOiA5LCAidG1wIjogOTUsICJobWR0IjogNjIsICJwcnNyZSI6IDQ0NiwgInRzIjogIjIwMjQtMDQtMTZUMjA6NTI6MzMuNDkyNDI3IiwgInNvdXJjZSI6ICJJb3RIdWIifQ==</td><td>2</td><td>271368</td><td>568</td><td>2024-04-16T15:22:34.019+0000</td><td>null</td><td>null</td><td>Map()</td><td>Map(x-opt-sequence-number-epoch -> -1, iothub-connection-auth-generation-id -> 638486236982118213, iothub-connection-device-id -> Device1, iothub-enqueuedtime -> \"2024-04-16T15:22:34.014Z\", iothub-connection-auth-method -> {\"scope\":\"device\",\"type\":\"sas\",\"issuer\":\"iothub\",\"acceptingIpFilterRule\":null}, iothub-message-source -> Telemetry)</td></tr><tr><td>eyJkZXZpY2VfaWQiOiAxLCAidG1wIjogOTMsICJobWR0IjogNzEsICJwcnNyZSI6IDQ0NiwgInRzIjogIjIwMjQtMDQtMTZUMjA6NTI6MzkuMDIwMjgzIiwgInNvdXJjZSI6ICJJb3RIdWIifQ==</td><td>2</td><td>271848</td><td>569</td><td>2024-04-16T15:22:39.645+0000</td><td>null</td><td>null</td><td>Map()</td><td>Map(x-opt-sequence-number-epoch -> -1, iothub-connection-auth-generation-id -> 638486236982118213, iothub-connection-device-id -> Device1, iothub-enqueuedtime -> \"2024-04-16T15:22:39.224Z\", iothub-connection-auth-method -> {\"scope\":\"device\",\"type\":\"sas\",\"issuer\":\"iothub\",\"acceptingIpFilterRule\":null}, iothub-message-source -> Telemetry)</td></tr><tr><td>eyJkZXZpY2VfaWQiOiA4LCAidG1wIjogOTAsICJobWR0IjogNzIsICJwcnNyZSI6IDQzOCwgInRzIjogIjIwMjQtMDQtMTZUMjA6NTI6NDQuNjUyMTk3IiwgInNvdXJjZSI6ICJJb3RIdWIifQ==</td><td>2</td><td>272328</td><td>570</td><td>2024-04-16T15:22:45.176+0000</td><td>null</td><td>null</td><td>Map()</td><td>Map(x-opt-sequence-number-epoch -> -1, iothub-connection-auth-generation-id -> 638486236982118213, iothub-connection-device-id -> Device1, iothub-enqueuedtime -> \"2024-04-16T15:22:45.175Z\", iothub-connection-auth-method -> {\"scope\":\"device\",\"type\":\"sas\",\"issuer\":\"iothub\",\"acceptingIpFilterRule\":null}, iothub-message-source -> Telemetry)</td></tr><tr><td>eyJkZXZpY2VfaWQiOiAxNCwgInRtcCI6IDEwNywgImhtZHQiOiA3MSwgInByc3JlIjogNDMyLCAidHMiOiAiMjAyNC0wNC0xNlQyMDo1Mjo1MC4xOTEyNzgiLCAic291cmNlIjogIklvdEh1YiJ9</td><td>2</td><td>272808</td><td>571</td><td>2024-04-16T15:22:50.676+0000</td><td>null</td><td>null</td><td>Map()</td><td>Map(x-opt-sequence-number-epoch -> -1, iothub-connection-auth-generation-id -> 638486236982118213, iothub-connection-device-id -> Device1, iothub-enqueuedtime -> \"2024-04-16T15:22:50.671Z\", iothub-connection-auth-method -> {\"scope\":\"device\",\"type\":\"sas\",\"issuer\":\"iothub\",\"acceptingIpFilterRule\":null}, iothub-message-source -> Telemetry)</td></tr><tr><td>eyJkZXZpY2VfaWQiOiA5LCAidG1wIjogMTA1LCAiaG1kdCI6IDY5LCAicHJzcmUiOiA0NjQsICJ0cyI6ICIyMDI0LTA0LTE2VDIwOjUyOjU1LjY4MzY3MiIsICJzb3VyY2UiOiAiSW90SHViIn0=</td><td>2</td><td>273296</td><td>572</td><td>2024-04-16T15:22:56.130+0000</td><td>null</td><td>null</td><td>Map()</td><td>Map(x-opt-sequence-number-epoch -> -1, iothub-connection-auth-generation-id -> 638486236982118213, iothub-connection-device-id -> Device1, iothub-enqueuedtime -> \"2024-04-16T15:22:56.130Z\", iothub-connection-auth-method -> {\"scope\":\"device\",\"type\":\"sas\",\"issuer\":\"iothub\",\"acceptingIpFilterRule\":null}, iothub-message-source -> Telemetry)</td></tr><tr><td>eyJkZXZpY2VfaWQiOiA4LCAidG1wIjogMTAxLCAiaG1kdCI6IDY5LCAicHJzcmUiOiA0MTYsICJ0cyI6ICIyMDI0LTA0LTE2VDIwOjUzOjAxLjEzMjAyMiIsICJzb3VyY2UiOiAiSW90SHViIn0=</td><td>2</td><td>273776</td><td>573</td><td>2024-04-16T15:23:01.333+0000</td><td>null</td><td>null</td><td>Map()</td><td>Map(x-opt-sequence-number-epoch -> -1, iothub-connection-auth-generation-id -> 638486236982118213, iothub-connection-device-id -> Device1, iothub-enqueuedtime -> \"2024-04-16T15:23:01.334Z\", iothub-connection-auth-method -> {\"scope\":\"device\",\"type\":\"sas\",\"issuer\":\"iothub\",\"acceptingIpFilterRule\":null}, iothub-message-source -> Telemetry)</td></tr><tr><td>eyJkZXZpY2VfaWQiOiA1LCAidG1wIjogMTA5LCAiaG1kdCI6IDc5LCAicHJzcmUiOiA0MTcsICJ0cyI6ICIyMDI0LTA0LTE2VDIwOjUzOjA2LjM0NzEzNiIsICJzb3VyY2UiOiAiSW90SHViIn0=</td><td>2</td><td>274256</td><td>574</td><td>2024-04-16T15:23:06.631+0000</td><td>null</td><td>null</td><td>Map()</td><td>Map(x-opt-sequence-number-epoch -> -1, iothub-connection-auth-generation-id -> 638486236982118213, iothub-connection-device-id -> Device1, iothub-enqueuedtime -> \"2024-04-16T15:23:06.627Z\", iothub-connection-auth-method -> {\"scope\":\"device\",\"type\":\"sas\",\"issuer\":\"iothub\",\"acceptingIpFilterRule\":null}, iothub-message-source -> Telemetry)</td></tr><tr><td>eyJkZXZpY2VfaWQiOiAxMSwgInRtcCI6IDk2LCAiaG1kdCI6IDcyLCAicHJzcmUiOiA0MDMsICJ0cyI6ICIyMDI0LTA0LTE2VDIwOjUzOjExLjYyODYzMSIsICJzb3VyY2UiOiAiSW90SHViIn0=</td><td>2</td><td>274736</td><td>575</td><td>2024-04-16T15:23:12.334+0000</td><td>null</td><td>null</td><td>Map()</td><td>Map(x-opt-sequence-number-epoch -> -1, iothub-connection-auth-generation-id -> 638486236982118213, iothub-connection-device-id -> Device1, iothub-enqueuedtime -> \"2024-04-16T15:23:11.822Z\", iothub-connection-auth-method -> {\"scope\":\"device\",\"type\":\"sas\",\"issuer\":\"iothub\",\"acceptingIpFilterRule\":null}, iothub-message-source -> Telemetry)</td></tr><tr><td>eyJkZXZpY2VfaWQiOiA3LCAidG1wIjogOTksICJobWR0IjogNjQsICJwcnNyZSI6IDQ4NiwgInRzIjogIjIwMjQtMDQtMTZUMjA6NTM6MTcuNDQ2OTE4IiwgInNvdXJjZSI6ICJJb3RIdWIifQ==</td><td>2</td><td>275216</td><td>576</td><td>2024-04-16T15:23:17.694+0000</td><td>null</td><td>null</td><td>Map()</td><td>Map(x-opt-sequence-number-epoch -> -1, iothub-connection-auth-generation-id -> 638486236982118213, iothub-connection-device-id -> Device1, iothub-enqueuedtime -> \"2024-04-16T15:23:17.680Z\", iothub-connection-auth-method -> {\"scope\":\"device\",\"type\":\"sas\",\"issuer\":\"iothub\",\"acceptingIpFilterRule\":null}, iothub-message-source -> Telemetry)</td></tr><tr><td>eyJkZXZpY2VfaWQiOiA0LCAidG1wIjogOTUsICJobWR0IjogNjEsICJwcnNyZSI6IDQ1MCwgInRzIjogIjIwMjQtMDQtMTZUMjA6NTM6MjIuNjkzNjg2IiwgInNvdXJjZSI6ICJJb3RIdWIifQ==</td><td>2</td><td>275696</td><td>577</td><td>2024-04-16T15:23:22.898+0000</td><td>null</td><td>null</td><td>Map()</td><td>Map(x-opt-sequence-number-epoch -> -1, iothub-connection-auth-generation-id -> 638486236982118213, iothub-connection-device-id -> Device1, iothub-enqueuedtime -> \"2024-04-16T15:23:22.890Z\", iothub-connection-auth-method -> {\"scope\":\"device\",\"type\":\"sas\",\"issuer\":\"iothub\",\"acceptingIpFilterRule\":null}, iothub-message-source -> Telemetry)</td></tr><tr><td>eyJkZXZpY2VfaWQiOiA4LCAidG1wIjogMTA0LCAiaG1kdCI6IDcyLCAicHJzcmUiOiA0MzIsICJ0cyI6ICIyMDI0LTA0LTE2VDIwOjUzOjI3LjkwMDMyMSIsICJzb3VyY2UiOiAiSW90SHViIn0=</td><td>2</td><td>276176</td><td>578</td><td>2024-04-16T15:23:28.227+0000</td><td>null</td><td>null</td><td>Map()</td><td>Map(x-opt-sequence-number-epoch -> -1, iothub-connection-auth-generation-id -> 638486236982118213, iothub-connection-device-id -> Device1, iothub-enqueuedtime -> \"2024-04-16T15:23:28.217Z\", iothub-connection-auth-method -> {\"scope\":\"device\",\"type\":\"sas\",\"issuer\":\"iothub\",\"acceptingIpFilterRule\":null}, iothub-message-source -> Telemetry)</td></tr><tr><td>eyJkZXZpY2VfaWQiOiA0LCAidG1wIjogOTQsICJobWR0IjogNzAsICJwcnNyZSI6IDQwNiwgInRzIjogIjIwMjQtMDQtMTZUMjA6NTM6MzMuMjI1NjM5IiwgInNvdXJjZSI6ICJJb3RIdWIifQ==</td><td>2</td><td>276656</td><td>579</td><td>2024-04-16T15:23:33.445+0000</td><td>null</td><td>null</td><td>Map()</td><td>Map(x-opt-sequence-number-epoch -> -1, iothub-connection-auth-generation-id -> 638486236982118213, iothub-connection-device-id -> Device1, iothub-enqueuedtime -> \"2024-04-16T15:23:33.441Z\", iothub-connection-auth-method -> {\"scope\":\"device\",\"type\":\"sas\",\"issuer\":\"iothub\",\"acceptingIpFilterRule\":null}, iothub-message-source -> Telemetry)</td></tr><tr><td>eyJkZXZpY2VfaWQiOiAxMiwgInRtcCI6IDkyLCAiaG1kdCI6IDc4LCAicHJzcmUiOiA0OTksICJ0cyI6ICIyMDI0LTA0LTE2VDIwOjUzOjM4LjQ0NDI0MSIsICJzb3VyY2UiOiAiSW90SHViIn0=</td><td>2</td><td>277136</td><td>580</td><td>2024-04-16T15:23:38.789+0000</td><td>null</td><td>null</td><td>Map()</td><td>Map(x-opt-sequence-number-epoch -> -1, iothub-connection-auth-generation-id -> 638486236982118213, iothub-connection-device-id -> Device1, iothub-enqueuedtime -> \"2024-04-16T15:23:38.785Z\", iothub-connection-auth-method -> {\"scope\":\"device\",\"type\":\"sas\",\"issuer\":\"iothub\",\"acceptingIpFilterRule\":null}, iothub-message-source -> Telemetry)</td></tr><tr><td>eyJkZXZpY2VfaWQiOiAxLCAidG1wIjogOTIsICJobWR0IjogNjQsICJwcnNyZSI6IDQ0MCwgInRzIjogIjIwMjQtMDQtMTZUMjA6NTM6NDMuNzk0NDMzIiwgInNvdXJjZSI6ICJJb3RIdWIifQ==</td><td>2</td><td>277616</td><td>581</td><td>2024-04-16T15:23:44.617+0000</td><td>null</td><td>null</td><td>Map()</td><td>Map(x-opt-sequence-number-epoch -> -1, iothub-connection-auth-generation-id -> 638486236982118213, iothub-connection-device-id -> Device1, iothub-enqueuedtime -> \"2024-04-16T15:23:44.613Z\", iothub-connection-auth-method -> {\"scope\":\"device\",\"type\":\"sas\",\"issuer\":\"iothub\",\"acceptingIpFilterRule\":null}, iothub-message-source -> Telemetry)</td></tr><tr><td>eyJkZXZpY2VfaWQiOiA4LCAidG1wIjogMTA3LCAiaG1kdCI6IDYxLCAicHJzcmUiOiA0NDIsICJ0cyI6ICIyMDI0LTA0LTE2VDIwOjUzOjQ5LjYyMzU4MSIsICJzb3VyY2UiOiAiSW90SHViIn0=</td><td>2</td><td>278096</td><td>582</td><td>2024-04-16T15:23:56.072+0000</td><td>null</td><td>null</td><td>Map()</td><td>Map(x-opt-sequence-number-epoch -> -1, iothub-connection-auth-generation-id -> 638486236982118213, iothub-connection-device-id -> Device1, iothub-enqueuedtime -> \"2024-04-16T15:23:55.630Z\", iothub-connection-auth-method -> {\"scope\":\"device\",\"type\":\"sas\",\"issuer\":\"iothub\",\"acceptingIpFilterRule\":null}, iothub-message-source -> Telemetry)</td></tr><tr><td>eyJkZXZpY2VfaWQiOiAxMCwgInRtcCI6IDExMSwgImhtZHQiOiA3MywgInByc3JlIjogNDU5LCAidHMiOiAiMjAyNC0wNC0xNlQyMDo1NDowMS4xNjgyMDEiLCAic291cmNlIjogIklvdEh1YiJ9</td><td>2</td><td>278576</td><td>583</td><td>2024-04-16T15:24:01.369+0000</td><td>null</td><td>null</td><td>Map()</td><td>Map(x-opt-sequence-number-epoch -> -1, iothub-connection-auth-generation-id -> 638486236982118213, iothub-connection-device-id -> Device1, iothub-enqueuedtime -> \"2024-04-16T15:24:01.364Z\", iothub-connection-auth-method -> {\"scope\":\"device\",\"type\":\"sas\",\"issuer\":\"iothub\",\"acceptingIpFilterRule\":null}, iothub-message-source -> Telemetry)</td></tr><tr><td>eyJkZXZpY2VfaWQiOiAxMSwgInRtcCI6IDEwMywgImhtZHQiOiA3OCwgInByc3JlIjogNDk4LCAidHMiOiAiMjAyNC0wNC0xNlQyMDo1NDowNi4zNzQyNzQiLCAic291cmNlIjogIklvdEh1YiJ9</td><td>2</td><td>279064</td><td>584</td><td>2024-04-16T15:24:06.792+0000</td><td>null</td><td>null</td><td>Map()</td><td>Map(x-opt-sequence-number-epoch -> -1, iothub-connection-auth-generation-id -> 638486236982118213, iothub-connection-device-id -> Device1, iothub-enqueuedtime -> \"2024-04-16T15:24:06.785Z\", iothub-connection-auth-method -> {\"scope\":\"device\",\"type\":\"sas\",\"issuer\":\"iothub\",\"acceptingIpFilterRule\":null}, iothub-message-source -> Telemetry)</td></tr><tr><td>eyJkZXZpY2VfaWQiOiAxLCAidG1wIjogMTAxLCAiaG1kdCI6IDc5LCAicHJzcmUiOiA0MTUsICJ0cyI6ICIyMDI0LTA0LTE2VDIwOjU0OjExLjc4NTUzMCIsICJzb3VyY2UiOiAiSW90SHViIn0=</td><td>2</td><td>279552</td><td>585</td><td>2024-04-16T15:24:11.979+0000</td><td>null</td><td>null</td><td>Map()</td><td>Map(x-opt-sequence-number-epoch -> -1, iothub-connection-auth-generation-id -> 638486236982118213, iothub-connection-device-id -> Device1, iothub-enqueuedtime -> \"2024-04-16T15:24:11.983Z\", iothub-connection-auth-method -> {\"scope\":\"device\",\"type\":\"sas\",\"issuer\":\"iothub\",\"acceptingIpFilterRule\":null}, iothub-message-source -> Telemetry)</td></tr><tr><td>eyJkZXZpY2VfaWQiOiAyLCAidG1wIjogMTA5LCAiaG1kdCI6IDc1LCAicHJzcmUiOiA0MTAsICJ0cyI6ICIyMDI0LTA0LTE2VDIwOjU0OjE2Ljk4ODk4NCIsICJzb3VyY2UiOiAiSW90SHViIn0=</td><td>2</td><td>280032</td><td>586</td><td>2024-04-16T15:24:17.245+0000</td><td>null</td><td>null</td><td>Map()</td><td>Map(x-opt-sequence-number-epoch -> -1, iothub-connection-auth-generation-id -> 638486236982118213, iothub-connection-device-id -> Device1, iothub-enqueuedtime -> \"2024-04-16T15:24:17.233Z\", iothub-connection-auth-method -> {\"scope\":\"device\",\"type\":\"sas\",\"issuer\":\"iothub\",\"acceptingIpFilterRule\":null}, iothub-message-source -> Telemetry)</td></tr><tr><td>eyJkZXZpY2VfaWQiOiAxMywgInRtcCI6IDExMiwgImhtZHQiOiA3MCwgInByc3JlIjogNDg5LCAidHMiOiAiMjAyNC0wNC0xNlQyMDo1NDoyMi4yMzc3NjUiLCAic291cmNlIjogIklvdEh1YiJ9</td><td>2</td><td>280512</td><td>587</td><td>2024-04-16T15:24:22.432+0000</td><td>null</td><td>null</td><td>Map()</td><td>Map(x-opt-sequence-number-epoch -> -1, iothub-connection-auth-generation-id -> 638486236982118213, iothub-connection-device-id -> Device1, iothub-enqueuedtime -> \"2024-04-16T15:24:22.435Z\", iothub-connection-auth-method -> {\"scope\":\"device\",\"type\":\"sas\",\"issuer\":\"iothub\",\"acceptingIpFilterRule\":null}, iothub-message-source -> Telemetry)</td></tr><tr><td>eyJkZXZpY2VfaWQiOiAxNCwgInRtcCI6IDExOSwgImhtZHQiOiA2NCwgInByc3JlIjogNDEzLCAidHMiOiAiMjAyNC0wNC0xNlQyMDo1NDoyNy40NDEwNTgiLCAic291cmNlIjogIklvdEh1YiJ9</td><td>2</td><td>281000</td><td>588</td><td>2024-04-16T15:24:27.714+0000</td><td>null</td><td>null</td><td>Map()</td><td>Map(x-opt-sequence-number-epoch -> -1, iothub-connection-auth-generation-id -> 638486236982118213, iothub-connection-device-id -> Device1, iothub-enqueuedtime -> \"2024-04-16T15:24:27.708Z\", iothub-connection-auth-method -> {\"scope\":\"device\",\"type\":\"sas\",\"issuer\":\"iothub\",\"acceptingIpFilterRule\":null}, iothub-message-source -> Telemetry)</td></tr><tr><td>eyJkZXZpY2VfaWQiOiA2LCAidG1wIjogMTE3LCAiaG1kdCI6IDczLCAicHJzcmUiOiA0NTQsICJ0cyI6ICIyMDI0LTA0LTE2VDIwOjU0OjMyLjcxMjMxOCIsICJzb3VyY2UiOiAiSW90SHViIn0=</td><td>2</td><td>281488</td><td>589</td><td>2024-04-16T15:24:32.917+0000</td><td>null</td><td>null</td><td>Map()</td><td>Map(x-opt-sequence-number-epoch -> -1, iothub-connection-auth-generation-id -> 638486236982118213, iothub-connection-device-id -> Device1, iothub-enqueuedtime -> \"2024-04-16T15:24:32.926Z\", iothub-connection-auth-method -> {\"scope\":\"device\",\"type\":\"sas\",\"issuer\":\"iothub\",\"acceptingIpFilterRule\":null}, iothub-message-source -> Telemetry)</td></tr><tr><td>eyJkZXZpY2VfaWQiOiA4LCAidG1wIjogMTE4LCAiaG1kdCI6IDc0LCAicHJzcmUiOiA0MzcsICJ0cyI6ICIyMDI0LTA0LTE2VDIwOjU0OjM3LjkyNDMxOCIsICJzb3VyY2UiOiAiSW90SHViIn0=</td><td>2</td><td>281968</td><td>590</td><td>2024-04-16T15:24:38.433+0000</td><td>null</td><td>null</td><td>Map()</td><td>Map(x-opt-sequence-number-epoch -> -1, iothub-connection-auth-generation-id -> 638486236982118213, iothub-connection-device-id -> Device1, iothub-enqueuedtime -> \"2024-04-16T15:24:38.432Z\", iothub-connection-auth-method -> {\"scope\":\"device\",\"type\":\"sas\",\"issuer\":\"iothub\",\"acceptingIpFilterRule\":null}, iothub-message-source -> Telemetry)</td></tr><tr><td>eyJkZXZpY2VfaWQiOiAxLCAidG1wIjogMTE3LCAiaG1kdCI6IDc1LCAicHJzcmUiOiA0ODYsICJ0cyI6ICIyMDI0LTA0LTE2VDIwOjU0OjQzLjY3MjI1MiIsICJzb3VyY2UiOiAiSW90SHViIn0=</td><td>2</td><td>282448</td><td>591</td><td>2024-04-16T15:24:43.886+0000</td><td>null</td><td>null</td><td>Map()</td><td>Map(x-opt-sequence-number-epoch -> -1, iothub-connection-auth-generation-id -> 638486236982118213, iothub-connection-device-id -> Device1, iothub-enqueuedtime -> \"2024-04-16T15:24:43.880Z\", iothub-connection-auth-method -> {\"scope\":\"device\",\"type\":\"sas\",\"issuer\":\"iothub\",\"acceptingIpFilterRule\":null}, iothub-message-source -> Telemetry)</td></tr><tr><td>eyJkZXZpY2VfaWQiOiAyLCAidG1wIjogOTEsICJobWR0IjogNjEsICJwcnNyZSI6IDQ5NCwgInRzIjogIjIwMjQtMDQtMTZUMjA6NTQ6NDguODg4Mjk1IiwgInNvdXJjZSI6ICJJb3RIdWIifQ==</td><td>2</td><td>282928</td><td>592</td><td>2024-04-16T15:24:49.136+0000</td><td>null</td><td>null</td><td>Map()</td><td>Map(x-opt-sequence-number-epoch -> -1, iothub-connection-auth-generation-id -> 638486236982118213, iothub-connection-device-id -> Device1, iothub-enqueuedtime -> \"2024-04-16T15:24:49.138Z\", iothub-connection-auth-method -> {\"scope\":\"device\",\"type\":\"sas\",\"issuer\":\"iothub\",\"acceptingIpFilterRule\":null}, iothub-message-source -> Telemetry)</td></tr><tr><td>eyJkZXZpY2VfaWQiOiA4LCAidG1wIjogMTE1LCAiaG1kdCI6IDc2LCAicHJzcmUiOiA0MjEsICJ0cyI6ICIyMDI0LTA0LTE2VDIwOjU0OjU0LjEzMjE5MSIsICJzb3VyY2UiOiAiSW90SHViIn0=</td><td>2</td><td>283408</td><td>593</td><td>2024-04-16T15:24:54.511+0000</td><td>null</td><td>null</td><td>Map()</td><td>Map(x-opt-sequence-number-epoch -> -1, iothub-connection-auth-generation-id -> 638486236982118213, iothub-connection-device-id -> Device1, iothub-enqueuedtime -> \"2024-04-16T15:24:54.518Z\", iothub-connection-auth-method -> {\"scope\":\"device\",\"type\":\"sas\",\"issuer\":\"iothub\",\"acceptingIpFilterRule\":null}, iothub-message-source -> Telemetry)</td></tr><tr><td>eyJkZXZpY2VfaWQiOiAxMywgInRtcCI6IDkxLCAiaG1kdCI6IDYyLCAicHJzcmUiOiA0OTgsICJ0cyI6ICIyMDI0LTA0LTE2VDIwOjU0OjU5LjUyNDI3NiIsICJzb3VyY2UiOiAiSW90SHViIn0=</td><td>2</td><td>283888</td><td>594</td><td>2024-04-16T15:24:59.730+0000</td><td>null</td><td>null</td><td>Map()</td><td>Map(x-opt-sequence-number-epoch -> -1, iothub-connection-auth-generation-id -> 638486236982118213, iothub-connection-device-id -> Device1, iothub-enqueuedtime -> \"2024-04-16T15:24:59.728Z\", iothub-connection-auth-method -> {\"scope\":\"device\",\"type\":\"sas\",\"issuer\":\"iothub\",\"acceptingIpFilterRule\":null}, iothub-message-source -> Telemetry)</td></tr><tr><td>eyJkZXZpY2VfaWQiOiAxMywgInRtcCI6IDEwOCwgImhtZHQiOiA2MSwgInByc3JlIjogNDQwLCAidHMiOiAiMjAyNC0wNC0xNlQyMDo1NTowNC43Mjc3MDEiLCAic291cmNlIjogIklvdEh1YiJ9</td><td>2</td><td>284368</td><td>595</td><td>2024-04-16T15:25:05.980+0000</td><td>null</td><td>null</td><td>Map()</td><td>Map(x-opt-sequence-number-epoch -> -1, iothub-connection-auth-generation-id -> 638486236982118213, iothub-connection-device-id -> Device1, iothub-enqueuedtime -> \"2024-04-16T15:25:05.468Z\", iothub-connection-auth-method -> {\"scope\":\"device\",\"type\":\"sas\",\"issuer\":\"iothub\",\"acceptingIpFilterRule\":null}, iothub-message-source -> Telemetry)</td></tr><tr><td>eyJkZXZpY2VfaWQiOiAxMywgInRtcCI6IDExNSwgImhtZHQiOiA3OCwgInByc3JlIjogNDMyLCAidHMiOiAiMjAyNC0wNC0xNlQyMDo1NToxMC45NzU3NDYiLCAic291cmNlIjogIklvdEh1YiJ9</td><td>2</td><td>284856</td><td>596</td><td>2024-04-16T15:25:11.402+0000</td><td>null</td><td>null</td><td>Map()</td><td>Map(x-opt-sequence-number-epoch -> -1, iothub-connection-auth-generation-id -> 638486236982118213, iothub-connection-device-id -> Device1, iothub-enqueuedtime -> \"2024-04-16T15:25:11.410Z\", iothub-connection-auth-method -> {\"scope\":\"device\",\"type\":\"sas\",\"issuer\":\"iothub\",\"acceptingIpFilterRule\":null}, iothub-message-source -> Telemetry)</td></tr><tr><td>eyJkZXZpY2VfaWQiOiA4LCAidG1wIjogMTA4LCAiaG1kdCI6IDY1LCAicHJzcmUiOiA0NTQsICJ0cyI6ICIyMDI0LTA0LTE2VDIwOjU1OjE2LjM5NTI4NCIsICJzb3VyY2UiOiAiSW90SHViIn0=</td><td>2</td><td>285344</td><td>597</td><td>2024-04-16T15:25:16.825+0000</td><td>null</td><td>null</td><td>Map()</td><td>Map(x-opt-sequence-number-epoch -> -1, iothub-connection-auth-generation-id -> 638486236982118213, iothub-connection-device-id -> Device1, iothub-enqueuedtime -> \"2024-04-16T15:25:16.831Z\", iothub-connection-auth-method -> {\"scope\":\"device\",\"type\":\"sas\",\"issuer\":\"iothub\",\"acceptingIpFilterRule\":null}, iothub-message-source -> Telemetry)</td></tr><tr><td>eyJkZXZpY2VfaWQiOiAxMywgInRtcCI6IDExNywgImhtZHQiOiA3MiwgInByc3JlIjogNDA5LCAidHMiOiAiMjAyNC0wNC0xNlQyMDo1NToyMS44MjQzMTkiLCAic291cmNlIjogIklvdEh1YiJ9</td><td>2</td><td>285824</td><td>598</td><td>2024-04-16T15:25:22.481+0000</td><td>null</td><td>null</td><td>Map()</td><td>Map(x-opt-sequence-number-epoch -> -1, iothub-connection-auth-generation-id -> 638486236982118213, iothub-connection-device-id -> Device1, iothub-enqueuedtime -> \"2024-04-16T15:25:22.024Z\", iothub-connection-auth-method -> {\"scope\":\"device\",\"type\":\"sas\",\"issuer\":\"iothub\",\"acceptingIpFilterRule\":null}, iothub-message-source -> Telemetry)</td></tr><tr><td>eyJkZXZpY2VfaWQiOiAxMywgInRtcCI6IDExMiwgImhtZHQiOiA2NCwgInByc3JlIjogNDk2LCAidHMiOiAiMjAyNC0wNC0xNlQyMDo1NToyNy41ODgzMjciLCAic291cmNlIjogIklvdEh1YiJ9</td><td>2</td><td>286312</td><td>599</td><td>2024-04-16T15:25:27.841+0000</td><td>null</td><td>null</td><td>Map()</td><td>Map(x-opt-sequence-number-epoch -> -1, iothub-connection-auth-generation-id -> 638486236982118213, iothub-connection-device-id -> Device1, iothub-enqueuedtime -> \"2024-04-16T15:25:27.834Z\", iothub-connection-auth-method -> {\"scope\":\"device\",\"type\":\"sas\",\"issuer\":\"iothub\",\"acceptingIpFilterRule\":null}, iothub-message-source -> Telemetry)</td></tr><tr><td>eyJkZXZpY2VfaWQiOiAxMCwgInRtcCI6IDExNSwgImhtZHQiOiA3MCwgInByc3JlIjogNDQ5LCAidHMiOiAiMjAyNC0wNC0xNlQyMDo1NTozMi44MzA3ODAiLCAic291cmNlIjogIklvdEh1YiJ9</td><td>2</td><td>286800</td><td>600</td><td>2024-04-16T15:25:33.622+0000</td><td>null</td><td>null</td><td>Map()</td><td>Map(x-opt-sequence-number-epoch -> -1, iothub-connection-auth-generation-id -> 638486236982118213, iothub-connection-device-id -> Device1, iothub-enqueuedtime -> \"2024-04-16T15:25:33.043Z\", iothub-connection-auth-method -> {\"scope\":\"device\",\"type\":\"sas\",\"issuer\":\"iothub\",\"acceptingIpFilterRule\":null}, iothub-message-source -> Telemetry)</td></tr><tr><td>eyJkZXZpY2VfaWQiOiA0LCAidG1wIjogMTE2LCAiaG1kdCI6IDY3LCAicHJzcmUiOiA0ODYsICJ0cyI6ICIyMDI0LTA0LTE2VDIwOjU1OjM4LjYyNTc5NSIsICJzb3VyY2UiOiAiSW90SHViIn0=</td><td>2</td><td>287288</td><td>601</td><td>2024-04-16T15:25:39.059+0000</td><td>null</td><td>null</td><td>Map()</td><td>Map(x-opt-sequence-number-epoch -> -1, iothub-connection-auth-generation-id -> 638486236982118213, iothub-connection-device-id -> Device1, iothub-enqueuedtime -> \"2024-04-16T15:25:39.048Z\", iothub-connection-auth-method -> {\"scope\":\"device\",\"type\":\"sas\",\"issuer\":\"iothub\",\"acceptingIpFilterRule\":null}, iothub-message-source -> Telemetry)</td></tr><tr><td>eyJkZXZpY2VfaWQiOiA3LCAidG1wIjogOTMsICJobWR0IjogNzIsICJwcnNyZSI6IDQ0NSwgInRzIjogIjIwMjQtMDQtMTZUMjA6NTU6NDQuMDUxNzQ2IiwgInNvdXJjZSI6ICJJb3RIdWIifQ==</td><td>2</td><td>287768</td><td>602</td><td>2024-04-16T15:25:44.247+0000</td><td>null</td><td>null</td><td>Map()</td><td>Map(x-opt-sequence-number-epoch -> -1, iothub-connection-auth-generation-id -> 638486236982118213, iothub-connection-device-id -> Device1, iothub-enqueuedtime -> \"2024-04-16T15:25:44.249Z\", iothub-connection-auth-method -> {\"scope\":\"device\",\"type\":\"sas\",\"issuer\":\"iothub\",\"acceptingIpFilterRule\":null}, iothub-message-source -> Telemetry)</td></tr><tr><td>eyJkZXZpY2VfaWQiOiA4LCAidG1wIjogOTksICJobWR0IjogNzYsICJwcnNyZSI6IDQ3MCwgInRzIjogIjIwMjQtMDQtMTZUMjA6NTU6NDkuMjQ5MTM2IiwgInNvdXJjZSI6ICJJb3RIdWIifQ==</td><td>2</td><td>288248</td><td>603</td><td>2024-04-16T15:25:49.592+0000</td><td>null</td><td>null</td><td>Map()</td><td>Map(x-opt-sequence-number-epoch -> -1, iothub-connection-auth-generation-id -> 638486236982118213, iothub-connection-device-id -> Device1, iothub-enqueuedtime -> \"2024-04-16T15:25:49.592Z\", iothub-connection-auth-method -> {\"scope\":\"device\",\"type\":\"sas\",\"issuer\":\"iothub\",\"acceptingIpFilterRule\":null}, iothub-message-source -> Telemetry)</td></tr><tr><td>eyJkZXZpY2VfaWQiOiAxMSwgInRtcCI6IDExMiwgImhtZHQiOiA2MSwgInByc3JlIjogNDEwLCAidHMiOiAiMjAyNC0wNC0xNlQyMDo1NTo1NC41ODgzMzkiLCAic291cmNlIjogIklvdEh1YiJ9</td><td>2</td><td>288728</td><td>604</td><td>2024-04-16T15:25:55.045+0000</td><td>null</td><td>null</td><td>Map()</td><td>Map(x-opt-sequence-number-epoch -> -1, iothub-connection-auth-generation-id -> 638486236982118213, iothub-connection-device-id -> Device1, iothub-enqueuedtime -> \"2024-04-16T15:25:55.044Z\", iothub-connection-auth-method -> {\"scope\":\"device\",\"type\":\"sas\",\"issuer\":\"iothub\",\"acceptingIpFilterRule\":null}, iothub-message-source -> Telemetry)</td></tr><tr><td>eyJkZXZpY2VfaWQiOiA1LCAidG1wIjogMTE0LCAiaG1kdCI6IDY3LCAicHJzcmUiOiA0OTgsICJ0cyI6ICIyMDI0LTA0LTE2VDIwOjU2OjAwLjA0MDM2MiIsICJzb3VyY2UiOiAiSW90SHViIn0=</td><td>2</td><td>289216</td><td>605</td><td>2024-04-16T15:26:00.295+0000</td><td>null</td><td>null</td><td>Map()</td><td>Map(x-opt-sequence-number-epoch -> -1, iothub-connection-auth-generation-id -> 638486236982118213, iothub-connection-device-id -> Device1, iothub-enqueuedtime -> \"2024-04-16T15:26:00.300Z\", iothub-connection-auth-method -> {\"scope\":\"device\",\"type\":\"sas\",\"issuer\":\"iothub\",\"acceptingIpFilterRule\":null}, iothub-message-source -> Telemetry)</td></tr><tr><td>eyJkZXZpY2VfaWQiOiAyLCAidG1wIjogMTAzLCAiaG1kdCI6IDYxLCAicHJzcmUiOiA0MzksICJ0cyI6ICIyMDI0LTA0LTE2VDIwOjU2OjA1LjI4OTg0OSIsICJzb3VyY2UiOiAiSW90SHViIn0=</td><td>2</td><td>289696</td><td>606</td><td>2024-04-16T15:26:05.499+0000</td><td>null</td><td>null</td><td>Map()</td><td>Map(x-opt-sequence-number-epoch -> -1, iothub-connection-auth-generation-id -> 638486236982118213, iothub-connection-device-id -> Device1, iothub-enqueuedtime -> \"2024-04-16T15:26:05.500Z\", iothub-connection-auth-method -> {\"scope\":\"device\",\"type\":\"sas\",\"issuer\":\"iothub\",\"acceptingIpFilterRule\":null}, iothub-message-source -> Telemetry)</td></tr><tr><td>eyJkZXZpY2VfaWQiOiA1LCAidG1wIjogMTE4LCAiaG1kdCI6IDc1LCAicHJzcmUiOiA0ODQsICJ0cyI6ICIyMDI0LTA0LTE2VDIwOjU2OjEwLjQ5NjMxNyIsICJzb3VyY2UiOiAiSW90SHViIn0=</td><td>2</td><td>290176</td><td>607</td><td>2024-04-16T15:26:11.062+0000</td><td>null</td><td>null</td><td>Map()</td><td>Map(x-opt-sequence-number-epoch -> -1, iothub-connection-auth-generation-id -> 638486236982118213, iothub-connection-device-id -> Device1, iothub-enqueuedtime -> \"2024-04-16T15:26:11.057Z\", iothub-connection-auth-method -> {\"scope\":\"device\",\"type\":\"sas\",\"issuer\":\"iothub\",\"acceptingIpFilterRule\":null}, iothub-message-source -> Telemetry)</td></tr><tr><td>eyJkZXZpY2VfaWQiOiA1LCAidG1wIjogOTIsICJobWR0IjogNjIsICJwcnNyZSI6IDQ1OCwgInRzIjogIjIwMjQtMDQtMTZUMjA6NTY6MTYuMDUyMzIwIiwgInNvdXJjZSI6ICJJb3RIdWIifQ==</td><td>2</td><td>290656</td><td>608</td><td>2024-04-16T15:26:16.624+0000</td><td>null</td><td>null</td><td>Map()</td><td>Map(x-opt-sequence-number-epoch -> -1, iothub-connection-auth-generation-id -> 638486236982118213, iothub-connection-device-id -> Device1, iothub-enqueuedtime -> \"2024-04-16T15:26:16.625Z\", iothub-connection-auth-method -> {\"scope\":\"device\",\"type\":\"sas\",\"issuer\":\"iothub\",\"acceptingIpFilterRule\":null}, iothub-message-source -> Telemetry)</td></tr><tr><td>eyJkZXZpY2VfaWQiOiAxMiwgInRtcCI6IDExOCwgImhtZHQiOiA3MiwgInByc3JlIjogNDQ0LCAidHMiOiAiMjAyNC0wNC0xNlQyMDo1NjoyMS42MjAyOTIiLCAic291cmNlIjogIklvdEh1YiJ9</td><td>2</td><td>291136</td><td>609</td><td>2024-04-16T15:26:22.171+0000</td><td>null</td><td>null</td><td>Map()</td><td>Map(x-opt-sequence-number-epoch -> -1, iothub-connection-auth-generation-id -> 638486236982118213, iothub-connection-device-id -> Device1, iothub-enqueuedtime -> \"2024-04-16T15:26:22.162Z\", iothub-connection-auth-method -> {\"scope\":\"device\",\"type\":\"sas\",\"issuer\":\"iothub\",\"acceptingIpFilterRule\":null}, iothub-message-source -> Telemetry)</td></tr><tr><td>eyJkZXZpY2VfaWQiOiAxMiwgInRtcCI6IDk5LCAiaG1kdCI6IDc0LCAicHJzcmUiOiA0ODksICJ0cyI6ICIyMDI0LTA0LTE2VDIwOjU2OjI3LjE2MDMxNiIsICJzb3VyY2UiOiAiSW90SHViIn0=</td><td>2</td><td>291624</td><td>610</td><td>2024-04-16T15:26:27.359+0000</td><td>null</td><td>null</td><td>Map()</td><td>Map(x-opt-sequence-number-epoch -> -1, iothub-connection-auth-generation-id -> 638486236982118213, iothub-connection-device-id -> Device1, iothub-enqueuedtime -> \"2024-04-16T15:26:27.369Z\", iothub-connection-auth-method -> {\"scope\":\"device\",\"type\":\"sas\",\"issuer\":\"iothub\",\"acceptingIpFilterRule\":null}, iothub-message-source -> Telemetry)</td></tr><tr><td>eyJkZXZpY2VfaWQiOiAxMywgInRtcCI6IDEwNCwgImhtZHQiOiA3MSwgInByc3JlIjogNDE4LCAidHMiOiAiMjAyNC0wNC0xNlQyMDo1NjozMi4zNjAzMTciLCAic291cmNlIjogIklvdEh1YiJ9</td><td>2</td><td>292104</td><td>611</td><td>2024-04-16T15:26:33.124+0000</td><td>null</td><td>null</td><td>Map()</td><td>Map(x-opt-sequence-number-epoch -> -1, iothub-connection-auth-generation-id -> 638486236982118213, iothub-connection-device-id -> Device1, iothub-enqueuedtime -> \"2024-04-16T15:26:33.119Z\", iothub-connection-auth-method -> {\"scope\":\"device\",\"type\":\"sas\",\"issuer\":\"iothub\",\"acceptingIpFilterRule\":null}, iothub-message-source -> Telemetry)</td></tr><tr><td>eyJkZXZpY2VfaWQiOiA5LCAidG1wIjogMTEwLCAiaG1kdCI6IDYzLCAicHJzcmUiOiA0MjAsICJ0cyI6ICIyMDI0LTA0LTE2VDIwOjU2OjM4LjEyMDE2OCIsICJzb3VyY2UiOiAiSW90SHViIn0=</td><td>2</td><td>292592</td><td>612</td><td>2024-04-16T15:26:38.312+0000</td><td>null</td><td>null</td><td>Map()</td><td>Map(x-opt-sequence-number-epoch -> -1, iothub-connection-auth-generation-id -> 638486236982118213, iothub-connection-device-id -> Device1, iothub-enqueuedtime -> \"2024-04-16T15:26:38.306Z\", iothub-connection-auth-method -> {\"scope\":\"device\",\"type\":\"sas\",\"issuer\":\"iothub\",\"acceptingIpFilterRule\":null}, iothub-message-source -> Telemetry)</td></tr><tr><td>eyJkZXZpY2VfaWQiOiAxMiwgInRtcCI6IDEwOSwgImhtZHQiOiA2MywgInByc3JlIjogNDI1LCAidHMiOiAiMjAyNC0wNC0xNlQyMDo1Njo0My4yOTk5MTYiLCAic291cmNlIjogIklvdEh1YiJ9</td><td>2</td><td>293072</td><td>613</td><td>2024-04-16T15:26:43.578+0000</td><td>null</td><td>null</td><td>Map()</td><td>Map(x-opt-sequence-number-epoch -> -1, iothub-connection-auth-generation-id -> 638486236982118213, iothub-connection-device-id -> Device1, iothub-enqueuedtime -> \"2024-04-16T15:26:43.576Z\", iothub-connection-auth-method -> {\"scope\":\"device\",\"type\":\"sas\",\"issuer\":\"iothub\",\"acceptingIpFilterRule\":null}, iothub-message-source -> Telemetry)</td></tr><tr><td>eyJkZXZpY2VfaWQiOiA4LCAidG1wIjogOTQsICJobWR0IjogNjgsICJwcnNyZSI6IDQ5NiwgInRzIjogIjIwMjQtMDQtMTZUMjA6NTY6NDguNTY3Nzg3IiwgInNvdXJjZSI6ICJJb3RIdWIifQ==</td><td>2</td><td>293560</td><td>614</td><td>2024-04-16T15:26:48.797+0000</td><td>null</td><td>null</td><td>Map()</td><td>Map(x-opt-sequence-number-epoch -> -1, iothub-connection-auth-generation-id -> 638486236982118213, iothub-connection-device-id -> Device1, iothub-enqueuedtime -> \"2024-04-16T15:26:48.789Z\", iothub-connection-auth-method -> {\"scope\":\"device\",\"type\":\"sas\",\"issuer\":\"iothub\",\"acceptingIpFilterRule\":null}, iothub-message-source -> Telemetry)</td></tr><tr><td>eyJkZXZpY2VfaWQiOiAxMywgInRtcCI6IDExMCwgImhtZHQiOiA3NywgInByc3JlIjogNDM3LCAidHMiOiAiMjAyNC0wNC0xNlQyMDo1Njo1My43ODYzMzIiLCAic291cmNlIjogIklvdEh1YiJ9</td><td>2</td><td>294040</td><td>615</td><td>2024-04-16T15:26:54.063+0000</td><td>null</td><td>null</td><td>Map()</td><td>Map(x-opt-sequence-number-epoch -> -1, iothub-connection-auth-generation-id -> 638486236982118213, iothub-connection-device-id -> Device1, iothub-enqueuedtime -> \"2024-04-16T15:26:54.060Z\", iothub-connection-auth-method -> {\"scope\":\"device\",\"type\":\"sas\",\"issuer\":\"iothub\",\"acceptingIpFilterRule\":null}, iothub-message-source -> Telemetry)</td></tr><tr><td>eyJkZXZpY2VfaWQiOiAxLCAidG1wIjogMTExLCAiaG1kdCI6IDczLCAicHJzcmUiOiA0MjIsICJ0cyI6ICIyMDI0LTA0LTE2VDIwOjU2OjU5LjA0NjE1MyIsICJzb3VyY2UiOiAiSW90SHViIn0=</td><td>2</td><td>294528</td><td>616</td><td>2024-04-16T15:26:59.251+0000</td><td>null</td><td>null</td><td>Map()</td><td>Map(x-opt-sequence-number-epoch -> -1, iothub-connection-auth-generation-id -> 638486236982118213, iothub-connection-device-id -> Device1, iothub-enqueuedtime -> \"2024-04-16T15:26:59.244Z\", iothub-connection-auth-method -> {\"scope\":\"device\",\"type\":\"sas\",\"issuer\":\"iothub\",\"acceptingIpFilterRule\":null}, iothub-message-source -> Telemetry)</td></tr><tr><td>eyJkZXZpY2VfaWQiOiAxMSwgInRtcCI6IDEwNiwgImhtZHQiOiA3MywgInByc3JlIjogNDEzLCAidHMiOiAiMjAyNC0wNC0xNlQyMDo1NzowNC4yMzY1MDkiLCAic291cmNlIjogIklvdEh1YiJ9</td><td>2</td><td>295008</td><td>617</td><td>2024-04-16T15:27:04.876+0000</td><td>null</td><td>null</td><td>Map()</td><td>Map(x-opt-sequence-number-epoch -> -1, iothub-connection-auth-generation-id -> 638486236982118213, iothub-connection-device-id -> Device1, iothub-enqueuedtime -> \"2024-04-16T15:27:04.873Z\", iothub-connection-auth-method -> {\"scope\":\"device\",\"type\":\"sas\",\"issuer\":\"iothub\",\"acceptingIpFilterRule\":null}, iothub-message-source -> Telemetry)</td></tr><tr><td>eyJkZXZpY2VfaWQiOiA1LCAidG1wIjogMTExLCAiaG1kdCI6IDYyLCAicHJzcmUiOiA0MDAsICJ0cyI6ICIyMDI0LTA0LTE2VDIwOjU3OjA5Ljg2MzE2MCIsICJzb3VyY2UiOiAiSW90SHViIn0=</td><td>2</td><td>295496</td><td>618</td><td>2024-04-16T15:27:10.111+0000</td><td>null</td><td>null</td><td>Map()</td><td>Map(x-opt-sequence-number-epoch -> -1, iothub-connection-auth-generation-id -> 638486236982118213, iothub-connection-device-id -> Device1, iothub-enqueuedtime -> \"2024-04-16T15:27:10.109Z\", iothub-connection-auth-method -> {\"scope\":\"device\",\"type\":\"sas\",\"issuer\":\"iothub\",\"acceptingIpFilterRule\":null}, iothub-message-source -> Telemetry)</td></tr><tr><td>eyJkZXZpY2VfaWQiOiAxMiwgInRtcCI6IDExNywgImhtZHQiOiA3OSwgInByc3JlIjogNDc4LCAidHMiOiAiMjAyNC0wNC0xNlQyMDo1NzoxNS4xMDAyMzkiLCAic291cmNlIjogIklvdEh1YiJ9</td><td>2</td><td>295976</td><td>619</td><td>2024-04-16T15:27:15.720+0000</td><td>null</td><td>null</td><td>Map()</td><td>Map(x-opt-sequence-number-epoch -> -1, iothub-connection-auth-generation-id -> 638486236982118213, iothub-connection-device-id -> Device1, iothub-enqueuedtime -> \"2024-04-16T15:27:15.725Z\", iothub-connection-auth-method -> {\"scope\":\"device\",\"type\":\"sas\",\"issuer\":\"iothub\",\"acceptingIpFilterRule\":null}, iothub-message-source -> Telemetry)</td></tr><tr><td>eyJkZXZpY2VfaWQiOiA0LCAidG1wIjogMTA0LCAiaG1kdCI6IDYzLCAicHJzcmUiOiA0OTMsICJ0cyI6ICIyMDI0LTA0LTE2VDIwOjU3OjIwLjcxNDQ2MSIsICJzb3VyY2UiOiAiSW90SHViIn0=</td><td>2</td><td>296464</td><td>620</td><td>2024-04-16T15:27:21.251+0000</td><td>null</td><td>null</td><td>Map()</td><td>Map(x-opt-sequence-number-epoch -> -1, iothub-connection-auth-generation-id -> 638486236982118213, iothub-connection-device-id -> Device1, iothub-enqueuedtime -> \"2024-04-16T15:27:21.239Z\", iothub-connection-auth-method -> {\"scope\":\"device\",\"type\":\"sas\",\"issuer\":\"iothub\",\"acceptingIpFilterRule\":null}, iothub-message-source -> Telemetry)</td></tr><tr><td>eyJkZXZpY2VfaWQiOiAxMCwgInRtcCI6IDExMSwgImhtZHQiOiA3MSwgInByc3JlIjogNDA0LCAidHMiOiAiMjAyNC0wNC0xNlQyMDo1NzoyNi4yNDU2MTQiLCAic291cmNlIjogIklvdEh1YiJ9</td><td>2</td><td>296944</td><td>621</td><td>2024-04-16T15:27:26.970+0000</td><td>null</td><td>null</td><td>Map()</td><td>Map(x-opt-sequence-number-epoch -> -1, iothub-connection-auth-generation-id -> 638486236982118213, iothub-connection-device-id -> Device1, iothub-enqueuedtime -> \"2024-04-16T15:27:26.977Z\", iothub-connection-auth-method -> {\"scope\":\"device\",\"type\":\"sas\",\"issuer\":\"iothub\",\"acceptingIpFilterRule\":null}, iothub-message-source -> Telemetry)</td></tr><tr><td>eyJkZXZpY2VfaWQiOiA5LCAidG1wIjogOTEsICJobWR0IjogNzUsICJwcnNyZSI6IDQyNSwgInRzIjogIjIwMjQtMDQtMTZUMjA6NTc6MzEuOTY4Mjc0IiwgInNvdXJjZSI6ICJJb3RIdWIifQ==</td><td>2</td><td>297432</td><td>622</td><td>2024-04-16T15:27:32.173+0000</td><td>null</td><td>null</td><td>Map()</td><td>Map(x-opt-sequence-number-epoch -> -1, iothub-connection-auth-generation-id -> 638486236982118213, iothub-connection-device-id -> Device1, iothub-enqueuedtime -> \"2024-04-16T15:27:32.167Z\", iothub-connection-auth-method -> {\"scope\":\"device\",\"type\":\"sas\",\"issuer\":\"iothub\",\"acceptingIpFilterRule\":null}, iothub-message-source -> Telemetry)</td></tr><tr><td>eyJkZXZpY2VfaWQiOiAxMiwgInRtcCI6IDkxLCAiaG1kdCI6IDcyLCAicHJzcmUiOiA0OTksICJ0cyI6ICIyMDI0LTA0LTE2VDIwOjU3OjM3LjE2MjQ2MiIsICJzb3VyY2UiOiAiSW90SHViIn0=</td><td>2</td><td>297912</td><td>623</td><td>2024-04-16T15:27:37.955+0000</td><td>null</td><td>null</td><td>Map()</td><td>Map(x-opt-sequence-number-epoch -> -1, iothub-connection-auth-generation-id -> 638486236982118213, iothub-connection-device-id -> Device1, iothub-enqueuedtime -> \"2024-04-16T15:27:37.948Z\", iothub-connection-auth-method -> {\"scope\":\"device\",\"type\":\"sas\",\"issuer\":\"iothub\",\"acceptingIpFilterRule\":null}, iothub-message-source -> Telemetry)</td></tr><tr><td>eyJkZXZpY2VfaWQiOiAxNCwgInRtcCI6IDEwMSwgImhtZHQiOiA3NiwgInByc3JlIjogNDk2LCAidHMiOiAiMjAyNC0wNC0xNlQyMDo1Nzo0Mi45Mzk1MjUiLCAic291cmNlIjogIklvdEh1YiJ9</td><td>2</td><td>298392</td><td>624</td><td>2024-04-16T15:27:43.159+0000</td><td>null</td><td>null</td><td>Map()</td><td>Map(x-opt-sequence-number-epoch -> -1, iothub-connection-auth-generation-id -> 638486236982118213, iothub-connection-device-id -> Device1, iothub-enqueuedtime -> \"2024-04-16T15:27:43.170Z\", iothub-connection-auth-method -> {\"scope\":\"device\",\"type\":\"sas\",\"issuer\":\"iothub\",\"acceptingIpFilterRule\":null}, iothub-message-source -> Telemetry)</td></tr><tr><td>eyJkZXZpY2VfaWQiOiAxMiwgInRtcCI6IDkyLCAiaG1kdCI6IDYxLCAicHJzcmUiOiA0ODksICJ0cyI6ICIyMDI0LTA0LTE2VDIwOjU3OjQ4LjE1MjMyNiIsICJzb3VyY2UiOiAiSW90SHViIn0=</td><td>2</td><td>298880</td><td>625</td><td>2024-04-16T15:27:48.425+0000</td><td>null</td><td>null</td><td>Map()</td><td>Map(x-opt-sequence-number-epoch -> -1, iothub-connection-auth-generation-id -> 638486236982118213, iothub-connection-device-id -> Device1, iothub-enqueuedtime -> \"2024-04-16T15:27:48.423Z\", iothub-connection-auth-method -> {\"scope\":\"device\",\"type\":\"sas\",\"issuer\":\"iothub\",\"acceptingIpFilterRule\":null}, iothub-message-source -> Telemetry)</td></tr><tr><td>eyJkZXZpY2VfaWQiOiA5LCAidG1wIjogMTE5LCAiaG1kdCI6IDc4LCAicHJzcmUiOiA0MDMsICJ0cyI6ICIyMDI0LTA0LTE2VDIwOjU3OjUzLjQyMjczMiIsICJzb3VyY2UiOiAiSW90SHViIn0=</td><td>2</td><td>299360</td><td>626</td><td>2024-04-16T15:27:53.629+0000</td><td>null</td><td>null</td><td>Map()</td><td>Map(x-opt-sequence-number-epoch -> -1, iothub-connection-auth-generation-id -> 638486236982118213, iothub-connection-device-id -> Device1, iothub-enqueuedtime -> \"2024-04-16T15:27:53.633Z\", iothub-connection-auth-method -> {\"scope\":\"device\",\"type\":\"sas\",\"issuer\":\"iothub\",\"acceptingIpFilterRule\":null}, iothub-message-source -> Telemetry)</td></tr><tr><td>eyJkZXZpY2VfaWQiOiA5LCAidG1wIjogMTA3LCAiaG1kdCI6IDcxLCAicHJzcmUiOiA0NTcsICJ0cyI6ICIyMDI0LTA0LTE2VDIwOjU3OjU4LjYyNTU0MyIsICJzb3VyY2UiOiAiSW90SHViIn0=</td><td>2</td><td>299840</td><td>627</td><td>2024-04-16T15:27:58.926+0000</td><td>null</td><td>null</td><td>Map()</td><td>Map(x-opt-sequence-number-epoch -> -1, iothub-connection-auth-generation-id -> 638486236982118213, iothub-connection-device-id -> Device1, iothub-enqueuedtime -> \"2024-04-16T15:27:58.922Z\", iothub-connection-auth-method -> {\"scope\":\"device\",\"type\":\"sas\",\"issuer\":\"iothub\",\"acceptingIpFilterRule\":null}, iothub-message-source -> Telemetry)</td></tr><tr><td>eyJkZXZpY2VfaWQiOiA3LCAidG1wIjogMTE4LCAiaG1kdCI6IDcwLCAicHJzcmUiOiA0MzQsICJ0cyI6ICIyMDI0LTA0LTE2VDIwOjU4OjAzLjkxNDYxOSIsICJzb3VyY2UiOiAiSW90SHViIn0=</td><td>2</td><td>300320</td><td>628</td><td>2024-04-16T15:28:04.145+0000</td><td>null</td><td>null</td><td>Map()</td><td>Map(x-opt-sequence-number-epoch -> -1, iothub-connection-auth-generation-id -> 638486236982118213, iothub-connection-device-id -> Device1, iothub-enqueuedtime -> \"2024-04-16T15:28:04.145Z\", iothub-connection-auth-method -> {\"scope\":\"device\",\"type\":\"sas\",\"issuer\":\"iothub\",\"acceptingIpFilterRule\":null}, iothub-message-source -> Telemetry)</td></tr><tr><td>eyJkZXZpY2VfaWQiOiA3LCAidG1wIjogMTA5LCAiaG1kdCI6IDcxLCAicHJzcmUiOiA0MjQsICJ0cyI6ICIyMDI0LTA0LTE2VDIwOjU4OjA5LjEyNjA3MCIsICJzb3VyY2UiOiAiSW90SHViIn0=</td><td>2</td><td>300800</td><td>629</td><td>2024-04-16T15:28:09.410+0000</td><td>null</td><td>null</td><td>Map()</td><td>Map(x-opt-sequence-number-epoch -> -1, iothub-connection-auth-generation-id -> 638486236982118213, iothub-connection-device-id -> Device1, iothub-enqueuedtime -> \"2024-04-16T15:28:09.402Z\", iothub-connection-auth-method -> {\"scope\":\"device\",\"type\":\"sas\",\"issuer\":\"iothub\",\"acceptingIpFilterRule\":null}, iothub-message-source -> Telemetry)</td></tr><tr><td>eyJkZXZpY2VfaWQiOiAzLCAidG1wIjogOTQsICJobWR0IjogNjcsICJwcnNyZSI6IDQ2MSwgInRzIjogIjIwMjQtMDQtMTZUMjA6NTg6MTQuMzg4NDQ2IiwgInNvdXJjZSI6ICJJb3RIdWIifQ==</td><td>2</td><td>301280</td><td>630</td><td>2024-04-16T15:28:14.598+0000</td><td>null</td><td>null</td><td>Map()</td><td>Map(x-opt-sequence-number-epoch -> -1, iothub-connection-auth-generation-id -> 638486236982118213, iothub-connection-device-id -> Device1, iothub-enqueuedtime -> \"2024-04-16T15:28:14.594Z\", iothub-connection-auth-method -> {\"scope\":\"device\",\"type\":\"sas\",\"issuer\":\"iothub\",\"acceptingIpFilterRule\":null}, iothub-message-source -> Telemetry)</td></tr><tr><td>eyJkZXZpY2VfaWQiOiAxMCwgInRtcCI6IDkwLCAiaG1kdCI6IDYwLCAicHJzcmUiOiA0MTEsICJ0cyI6ICIyMDI0LTA0LTE2VDIwOjU4OjE5LjU4NzU3NCIsICJzb3VyY2UiOiAiSW90SHViIn0=</td><td>2</td><td>301760</td><td>631</td><td>2024-04-16T15:28:20.629+0000</td><td>null</td><td>null</td><td>Map()</td><td>Map(x-opt-sequence-number-epoch -> -1, iothub-connection-auth-generation-id -> 638486236982118213, iothub-connection-device-id -> Device1, iothub-enqueuedtime -> \"2024-04-16T15:28:20.637Z\", iothub-connection-auth-method -> {\"scope\":\"device\",\"type\":\"sas\",\"issuer\":\"iothub\",\"acceptingIpFilterRule\":null}, iothub-message-source -> Telemetry)</td></tr><tr><td>eyJkZXZpY2VfaWQiOiAxNCwgInRtcCI6IDExOCwgImhtZHQiOiA3OCwgInByc3JlIjogNDMwLCAidHMiOiAiMjAyNC0wNC0xNlQyMDo1ODoyNS42MTgxMDkiLCAic291cmNlIjogIklvdEh1YiJ9</td><td>2</td><td>302240</td><td>632</td><td>2024-04-16T15:28:26.067+0000</td><td>null</td><td>null</td><td>Map()</td><td>Map(x-opt-sequence-number-epoch -> -1, iothub-connection-auth-generation-id -> 638486236982118213, iothub-connection-device-id -> Device1, iothub-enqueuedtime -> \"2024-04-16T15:28:26.061Z\", iothub-connection-auth-method -> {\"scope\":\"device\",\"type\":\"sas\",\"issuer\":\"iothub\",\"acceptingIpFilterRule\":null}, iothub-message-source -> Telemetry)</td></tr><tr><td>eyJkZXZpY2VfaWQiOiAxLCAidG1wIjogMTA3LCAiaG1kdCI6IDYwLCAicHJzcmUiOiA0MjMsICJ0cyI6ICIyMDI0LTA0LTE2VDIwOjU4OjMxLjA1NzcwNSIsICJzb3VyY2UiOiAiSW90SHViIn0=</td><td>2</td><td>302728</td><td>633</td><td>2024-04-16T15:28:31.614+0000</td><td>null</td><td>null</td><td>Map()</td><td>Map(x-opt-sequence-number-epoch -> -1, iothub-connection-auth-generation-id -> 638486236982118213, iothub-connection-device-id -> Device1, iothub-enqueuedtime -> \"2024-04-16T15:28:31.618Z\", iothub-connection-auth-method -> {\"scope\":\"device\",\"type\":\"sas\",\"issuer\":\"iothub\",\"acceptingIpFilterRule\":null}, iothub-message-source -> Telemetry)</td></tr><tr><td>eyJkZXZpY2VfaWQiOiAxMiwgInRtcCI6IDExMSwgImhtZHQiOiA3MywgInByc3JlIjogNDU4LCAidHMiOiAiMjAyNC0wNC0xNlQyMDo1ODozNi42MDg3MjgiLCAic291cmNlIjogIklvdEh1YiJ9</td><td>2</td><td>303208</td><td>634</td><td>2024-04-16T15:28:36.817+0000</td><td>null</td><td>null</td><td>Map()</td><td>Map(x-opt-sequence-number-epoch -> -1, iothub-connection-auth-generation-id -> 638486236982118213, iothub-connection-device-id -> Device1, iothub-enqueuedtime -> \"2024-04-16T15:28:36.821Z\", iothub-connection-auth-method -> {\"scope\":\"device\",\"type\":\"sas\",\"issuer\":\"iothub\",\"acceptingIpFilterRule\":null}, iothub-message-source -> Telemetry)</td></tr><tr><td>eyJkZXZpY2VfaWQiOiAxMSwgInRtcCI6IDExMCwgImhtZHQiOiA3MCwgInByc3JlIjogNDY4LCAidHMiOiAiMjAyNC0wNC0xNlQyMDo1ODo0MS44MDQyNzMiLCAic291cmNlIjogIklvdEh1YiJ9</td><td>2</td><td>303696</td><td>635</td><td>2024-04-16T15:28:42.067+0000</td><td>null</td><td>null</td><td>Map()</td><td>Map(x-opt-sequence-number-epoch -> -1, iothub-connection-auth-generation-id -> 638486236982118213, iothub-connection-device-id -> Device1, iothub-enqueuedtime -> \"2024-04-16T15:28:42.078Z\", iothub-connection-auth-method -> {\"scope\":\"device\",\"type\":\"sas\",\"issuer\":\"iothub\",\"acceptingIpFilterRule\":null}, iothub-message-source -> Telemetry)</td></tr><tr><td>eyJkZXZpY2VfaWQiOiAxMCwgInRtcCI6IDEwNSwgImhtZHQiOiA2MywgInByc3JlIjogNDE2LCAidHMiOiAiMjAyNC0wNC0xNlQyMDo1ODo0Ny4wNjc3MjAiLCAic291cmNlIjogIklvdEh1YiJ9</td><td>2</td><td>304184</td><td>636</td><td>2024-04-16T15:28:47.286+0000</td><td>null</td><td>null</td><td>Map()</td><td>Map(x-opt-sequence-number-epoch -> -1, iothub-connection-auth-generation-id -> 638486236982118213, iothub-connection-device-id -> Device1, iothub-enqueuedtime -> \"2024-04-16T15:28:47.284Z\", iothub-connection-auth-method -> {\"scope\":\"device\",\"type\":\"sas\",\"issuer\":\"iothub\",\"acceptingIpFilterRule\":null}, iothub-message-source -> Telemetry)</td></tr><tr><td>eyJkZXZpY2VfaWQiOiA5LCAidG1wIjogMTE0LCAiaG1kdCI6IDY0LCAicHJzcmUiOiA0NzIsICJ0cyI6ICIyMDI0LTA0LTE2VDIwOjU4OjUyLjI3MTY2MSIsICJzb3VyY2UiOiAiSW90SHViIn0=</td><td>2</td><td>304672</td><td>637</td><td>2024-04-16T15:28:52.520+0000</td><td>null</td><td>null</td><td>Map()</td><td>Map(x-opt-sequence-number-epoch -> -1, iothub-connection-auth-generation-id -> 638486236982118213, iothub-connection-device-id -> Device1, iothub-enqueuedtime -> \"2024-04-16T15:28:52.524Z\", iothub-connection-auth-method -> {\"scope\":\"device\",\"type\":\"sas\",\"issuer\":\"iothub\",\"acceptingIpFilterRule\":null}, iothub-message-source -> Telemetry)</td></tr><tr><td>eyJkZXZpY2VfaWQiOiA4LCAidG1wIjogOTMsICJobWR0IjogNzUsICJwcnNyZSI6IDQwMCwgInRzIjogIjIwMjQtMDQtMTZUMjA6NTg6NTcuNTAzNTY3IiwgInNvdXJjZSI6ICJJb3RIdWIifQ==</td><td>2</td><td>305152</td><td>638</td><td>2024-04-16T15:29:00.756+0000</td><td>null</td><td>null</td><td>Map()</td><td>Map(x-opt-sequence-number-epoch -> -1, iothub-connection-auth-generation-id -> 638486236982118213, iothub-connection-device-id -> Device1, iothub-enqueuedtime -> \"2024-04-16T15:29:00.754Z\", iothub-connection-auth-method -> {\"scope\":\"device\",\"type\":\"sas\",\"issuer\":\"iothub\",\"acceptingIpFilterRule\":null}, iothub-message-source -> Telemetry)</td></tr><tr><td>eyJkZXZpY2VfaWQiOiA3LCAidG1wIjogOTMsICJobWR0IjogNjIsICJwcnNyZSI6IDQzNiwgInRzIjogIjIwMjQtMDQtMTZUMjA6NTk6MDUuNzQ2MDQ4IiwgInNvdXJjZSI6ICJJb3RIdWIifQ==</td><td>2</td><td>305632</td><td>639</td><td>2024-04-16T15:29:06.022+0000</td><td>null</td><td>null</td><td>Map()</td><td>Map(x-opt-sequence-number-epoch -> -1, iothub-connection-auth-generation-id -> 638486236982118213, iothub-connection-device-id -> Device1, iothub-enqueuedtime -> \"2024-04-16T15:29:06.015Z\", iothub-connection-auth-method -> {\"scope\":\"device\",\"type\":\"sas\",\"issuer\":\"iothub\",\"acceptingIpFilterRule\":null}, iothub-message-source -> Telemetry)</td></tr><tr><td>eyJkZXZpY2VfaWQiOiA3LCAidG1wIjogOTYsICJobWR0IjogNzksICJwcnNyZSI6IDQ5MSwgInRzIjogIjIwMjQtMDQtMTZUMjA6NTk6MTEuMDEyMjg3IiwgInNvdXJjZSI6ICJJb3RIdWIifQ==</td><td>2</td><td>306112</td><td>640</td><td>2024-04-16T15:29:11.226+0000</td><td>null</td><td>null</td><td>Map()</td><td>Map(x-opt-sequence-number-epoch -> -1, iothub-connection-auth-generation-id -> 638486236982118213, iothub-connection-device-id -> Device1, iothub-enqueuedtime -> \"2024-04-16T15:29:11.214Z\", iothub-connection-auth-method -> {\"scope\":\"device\",\"type\":\"sas\",\"issuer\":\"iothub\",\"acceptingIpFilterRule\":null}, iothub-message-source -> Telemetry)</td></tr><tr><td>eyJkZXZpY2VfaWQiOiA4LCAidG1wIjogMTE2LCAiaG1kdCI6IDY4LCAicHJzcmUiOiA0MzUsICJ0cyI6ICIyMDI0LTA0LTE2VDIwOjU5OjE2LjIwNzU1MCIsICJzb3VyY2UiOiAiSW90SHViIn0=</td><td>2</td><td>306592</td><td>641</td><td>2024-04-16T15:29:16.960+0000</td><td>null</td><td>null</td><td>Map()</td><td>Map(x-opt-sequence-number-epoch -> -1, iothub-connection-auth-generation-id -> 638486236982118213, iothub-connection-device-id -> Device1, iothub-enqueuedtime -> \"2024-04-16T15:29:16.969Z\", iothub-connection-auth-method -> {\"scope\":\"device\",\"type\":\"sas\",\"issuer\":\"iothub\",\"acceptingIpFilterRule\":null}, iothub-message-source -> Telemetry)</td></tr><tr><td>eyJkZXZpY2VfaWQiOiAzLCAidG1wIjogMTE0LCAiaG1kdCI6IDYyLCAicHJzcmUiOiA0NzUsICJ0cyI6ICIyMDI0LTA0LTE2VDIwOjU5OjIxLjk1MjI2OCIsICJzb3VyY2UiOiAiSW90SHViIn0=</td><td>2</td><td>307072</td><td>642</td><td>2024-04-16T15:29:22.179+0000</td><td>null</td><td>null</td><td>Map()</td><td>Map(x-opt-sequence-number-epoch -> -1, iothub-connection-auth-generation-id -> 638486236982118213, iothub-connection-device-id -> Device1, iothub-enqueuedtime -> \"2024-04-16T15:29:22.175Z\", iothub-connection-auth-method -> {\"scope\":\"device\",\"type\":\"sas\",\"issuer\":\"iothub\",\"acceptingIpFilterRule\":null}, iothub-message-source -> Telemetry)</td></tr><tr><td>eyJkZXZpY2VfaWQiOiA2LCAidG1wIjogMTEzLCAiaG1kdCI6IDc3LCAicHJzcmUiOiA0MjksICJ0cyI6ICIyMDI0LTA0LTE2VDIwOjU5OjI3LjE1Nzg0OCIsICJzb3VyY2UiOiAiSW90SHViIn0=</td><td>2</td><td>307552</td><td>643</td><td>2024-04-16T15:29:28.241+0000</td><td>null</td><td>null</td><td>Map()</td><td>Map(x-opt-sequence-number-epoch -> -1, iothub-connection-auth-generation-id -> 638486236982118213, iothub-connection-device-id -> Device1, iothub-enqueuedtime -> \"2024-04-16T15:29:28.236Z\", iothub-connection-auth-method -> {\"scope\":\"device\",\"type\":\"sas\",\"issuer\":\"iothub\",\"acceptingIpFilterRule\":null}, iothub-message-source -> Telemetry)</td></tr><tr><td>eyJkZXZpY2VfaWQiOiAxMCwgInRtcCI6IDExMiwgImhtZHQiOiA2MSwgInByc3JlIjogNDIzLCAidHMiOiAiMjAyNC0wNC0xNlQyMDo1OTozMy4yMjExNTEiLCAic291cmNlIjogIklvdEh1YiJ9</td><td>2</td><td>308032</td><td>644</td><td>2024-04-16T15:29:33.445+0000</td><td>null</td><td>null</td><td>Map()</td><td>Map(x-opt-sequence-number-epoch -> -1, iothub-connection-auth-generation-id -> 638486236982118213, iothub-connection-device-id -> Device1, iothub-enqueuedtime -> \"2024-04-16T15:29:33.440Z\", iothub-connection-auth-method -> {\"scope\":\"device\",\"type\":\"sas\",\"issuer\":\"iothub\",\"acceptingIpFilterRule\":null}, iothub-message-source -> Telemetry)</td></tr><tr><td>eyJkZXZpY2VfaWQiOiA0LCAidG1wIjogMTE5LCAiaG1kdCI6IDcyLCAicHJzcmUiOiA0OTUsICJ0cyI6ICIyMDI0LTA0LTE2VDIwOjU5OjM4LjQyNDMxNiIsICJzb3VyY2UiOiAiSW90SHViIn0=</td><td>2</td><td>308520</td><td>645</td><td>2024-04-16T15:29:38.695+0000</td><td>null</td><td>null</td><td>Map()</td><td>Map(x-opt-sequence-number-epoch -> -1, iothub-connection-auth-generation-id -> 638486236982118213, iothub-connection-device-id -> Device1, iothub-enqueuedtime -> \"2024-04-16T15:29:38.690Z\", iothub-connection-auth-method -> {\"scope\":\"device\",\"type\":\"sas\",\"issuer\":\"iothub\",\"acceptingIpFilterRule\":null}, iothub-message-source -> Telemetry)</td></tr><tr><td>eyJkZXZpY2VfaWQiOiAxLCAidG1wIjogMTAwLCAiaG1kdCI6IDY3LCAicHJzcmUiOiA0NTUsICJ0cyI6ICIyMDI0LTA0LTE2VDIwOjU5OjQzLjY4Mjk5NCIsICJzb3VyY2UiOiAiSW90SHViIn0=</td><td>2</td><td>309000</td><td>646</td><td>2024-04-16T15:29:43.914+0000</td><td>null</td><td>null</td><td>Map()</td><td>Map(x-opt-sequence-number-epoch -> -1, iothub-connection-auth-generation-id -> 638486236982118213, iothub-connection-device-id -> Device1, iothub-enqueuedtime -> \"2024-04-16T15:29:43.909Z\", iothub-connection-auth-method -> {\"scope\":\"device\",\"type\":\"sas\",\"issuer\":\"iothub\",\"acceptingIpFilterRule\":null}, iothub-message-source -> Telemetry)</td></tr><tr><td>eyJkZXZpY2VfaWQiOiAxLCAidG1wIjogMTAyLCAiaG1kdCI6IDc5LCAicHJzcmUiOiA0NDEsICJ0cyI6ICIyMDI0LTA0LTE2VDIwOjU5OjQ4Ljg5ODM3MSIsICJzb3VyY2UiOiAiSW90SHViIn0=</td><td>2</td><td>309480</td><td>647</td><td>2024-04-16T15:29:49.164+0000</td><td>null</td><td>null</td><td>Map()</td><td>Map(x-opt-sequence-number-epoch -> -1, iothub-connection-auth-generation-id -> 638486236982118213, iothub-connection-device-id -> Device1, iothub-enqueuedtime -> \"2024-04-16T15:29:49.170Z\", iothub-connection-auth-method -> {\"scope\":\"device\",\"type\":\"sas\",\"issuer\":\"iothub\",\"acceptingIpFilterRule\":null}, iothub-message-source -> Telemetry)</td></tr><tr><td>eyJkZXZpY2VfaWQiOiAxMywgInRtcCI6IDEwMywgImhtZHQiOiA3MSwgInByc3JlIjogNDYzLCAidHMiOiAiMjAyNC0wNC0xNlQyMDo1OTo1NC4xNTUwNDAiLCAic291cmNlIjogIklvdEh1YiJ9</td><td>2</td><td>309960</td><td>648</td><td>2024-04-16T15:29:54.367+0000</td><td>null</td><td>null</td><td>Map()</td><td>Map(x-opt-sequence-number-epoch -> -1, iothub-connection-auth-generation-id -> 638486236982118213, iothub-connection-device-id -> Device1, iothub-enqueuedtime -> \"2024-04-16T15:29:54.359Z\", iothub-connection-auth-method -> {\"scope\":\"device\",\"type\":\"sas\",\"issuer\":\"iothub\",\"acceptingIpFilterRule\":null}, iothub-message-source -> Telemetry)</td></tr><tr><td>eyJkZXZpY2VfaWQiOiAyLCAidG1wIjogMTE3LCAiaG1kdCI6IDYwLCAicHJzcmUiOiA0NDEsICJ0cyI6ICIyMDI0LTA0LTE2VDIwOjU5OjU5LjM1MjE0MiIsICJzb3VyY2UiOiAiSW90SHViIn0=</td><td>2</td><td>310448</td><td>649</td><td>2024-04-16T15:29:59.617+0000</td><td>null</td><td>null</td><td>Map()</td><td>Map(x-opt-sequence-number-epoch -> -1, iothub-connection-auth-generation-id -> 638486236982118213, iothub-connection-device-id -> Device1, iothub-enqueuedtime -> \"2024-04-16T15:29:59.612Z\", iothub-connection-auth-method -> {\"scope\":\"device\",\"type\":\"sas\",\"issuer\":\"iothub\",\"acceptingIpFilterRule\":null}, iothub-message-source -> Telemetry)</td></tr><tr><td>eyJkZXZpY2VfaWQiOiAxNCwgInRtcCI6IDkzLCAiaG1kdCI6IDc3LCAicHJzcmUiOiA0NTQsICJ0cyI6ICIyMDI0LTA0LTE2VDIxOjAwOjA0LjYwMjI3MyIsICJzb3VyY2UiOiAiSW90SHViIn0=</td><td>2</td><td>310928</td><td>650</td><td>2024-04-16T15:30:05.008+0000</td><td>null</td><td>null</td><td>Map()</td><td>Map(x-opt-sequence-number-epoch -> -1, iothub-connection-auth-generation-id -> 638486236982118213, iothub-connection-device-id -> Device1, iothub-enqueuedtime -> \"2024-04-16T15:30:05.003Z\", iothub-connection-auth-method -> {\"scope\":\"device\",\"type\":\"sas\",\"issuer\":\"iothub\",\"acceptingIpFilterRule\":null}, iothub-message-source -> Telemetry)</td></tr><tr><td>eyJkZXZpY2VfaWQiOiA0LCAidG1wIjogOTYsICJobWR0IjogNzAsICJwcnNyZSI6IDQyNCwgInRzIjogIjIwMjQtMDQtMTZUMjI6NDE6MjYuNzQ2MTI4IiwgInNvdXJjZSI6ICJJb3RIdWIifQ==</td><td>2</td><td>311408</td><td>651</td><td>2024-04-16T17:11:29.768+0000</td><td>null</td><td>null</td><td>Map()</td><td>Map(x-opt-sequence-number-epoch -> -1, iothub-connection-auth-generation-id -> 638486236982118213, iothub-connection-device-id -> Device1, iothub-enqueuedtime -> \"2024-04-16T17:11:29.391Z\", iothub-connection-auth-method -> {\"scope\":\"device\",\"type\":\"sas\",\"issuer\":\"iothub\",\"acceptingIpFilterRule\":null}, iothub-message-source -> Telemetry)</td></tr><tr><td>eyJkZXZpY2VfaWQiOiAxLCAidG1wIjogMTEwLCAiaG1kdCI6IDY4LCAicHJzcmUiOiA0MDAsICJ0cyI6ICIyMDI0LTA0LTE2VDIyOjQxOjM0LjgwMDEzMyIsICJzb3VyY2UiOiAiSW90SHViIn0=</td><td>2</td><td>311888</td><td>652</td><td>2024-04-16T17:11:38.190+0000</td><td>null</td><td>null</td><td>Map()</td><td>Map(x-opt-sequence-number-epoch -> -1, iothub-connection-auth-generation-id -> 638486236982118213, iothub-connection-device-id -> Device1, iothub-enqueuedtime -> \"2024-04-16T17:11:37.588Z\", iothub-connection-auth-method -> {\"scope\":\"device\",\"type\":\"sas\",\"issuer\":\"iothub\",\"acceptingIpFilterRule\":null}, iothub-message-source -> Telemetry)</td></tr><tr><td>eyJkZXZpY2VfaWQiOiAzLCAidG1wIjogOTEsICJobWR0IjogNzQsICJwcnNyZSI6IDQxNSwgInRzIjogIjIwMjQtMDQtMTZUMjI6NDE6NDMuMjA0MTUzIiwgInNvdXJjZSI6ICJJb3RIdWIifQ==</td><td>2</td><td>312368</td><td>653</td><td>2024-04-16T17:11:45.909+0000</td><td>null</td><td>null</td><td>Map()</td><td>Map(x-opt-sequence-number-epoch -> -1, iothub-connection-auth-generation-id -> 638486236982118213, iothub-connection-device-id -> Device1, iothub-enqueuedtime -> \"2024-04-16T17:11:45.562Z\", iothub-connection-auth-method -> {\"scope\":\"device\",\"type\":\"sas\",\"issuer\":\"iothub\",\"acceptingIpFilterRule\":null}, iothub-message-source -> Telemetry)</td></tr><tr><td>eyJkZXZpY2VfaWQiOiA1LCAidG1wIjogOTIsICJobWR0IjogNzksICJwcnNyZSI6IDQxOCwgInRzIjogIjIwMjQtMDQtMTZUMjI6NDE6NTAuOTQ0MTc3IiwgInNvdXJjZSI6ICJJb3RIdWIifQ==</td><td>2</td><td>312848</td><td>654</td><td>2024-04-16T17:11:51.113+0000</td><td>null</td><td>null</td><td>Map()</td><td>Map(x-opt-sequence-number-epoch -> -1, iothub-connection-auth-generation-id -> 638486236982118213, iothub-connection-device-id -> Device1, iothub-enqueuedtime -> \"2024-04-16T17:11:51.108Z\", iothub-connection-auth-method -> {\"scope\":\"device\",\"type\":\"sas\",\"issuer\":\"iothub\",\"acceptingIpFilterRule\":null}, iothub-message-source -> Telemetry)</td></tr><tr><td>eyJkZXZpY2VfaWQiOiA0LCAidG1wIjogOTgsICJobWR0IjogNzgsICJwcnNyZSI6IDQ5NywgInRzIjogIjIwMjQtMDQtMTZUMjI6NDE6NTYuMTE3ODY1IiwgInNvdXJjZSI6ICJJb3RIdWIifQ==</td><td>2</td><td>313328</td><td>655</td><td>2024-04-16T17:11:58.817+0000</td><td>null</td><td>null</td><td>Map()</td><td>Map(x-opt-sequence-number-epoch -> -1, iothub-connection-auth-generation-id -> 638486236982118213, iothub-connection-device-id -> Device1, iothub-enqueuedtime -> \"2024-04-16T17:11:58.368Z\", iothub-connection-auth-method -> {\"scope\":\"device\",\"type\":\"sas\",\"issuer\":\"iothub\",\"acceptingIpFilterRule\":null}, iothub-message-source -> Telemetry)</td></tr><tr><td>eyJkZXZpY2VfaWQiOiA5LCAidG1wIjogMTA0LCAiaG1kdCI6IDcyLCAicHJzcmUiOiA0NjEsICJ0cyI6ICIyMDI0LTA0LTE2VDIyOjQyOjAzLjg1MjIyNSIsICJzb3VyY2UiOiAiSW90SHViIn0=</td><td>2</td><td>313808</td><td>656</td><td>2024-04-16T17:12:06.754+0000</td><td>null</td><td>null</td><td>Map()</td><td>Map(x-opt-sequence-number-epoch -> -1, iothub-connection-auth-generation-id -> 638486236982118213, iothub-connection-device-id -> Device1, iothub-enqueuedtime -> \"2024-04-16T17:12:06.282Z\", iothub-connection-auth-method -> {\"scope\":\"device\",\"type\":\"sas\",\"issuer\":\"iothub\",\"acceptingIpFilterRule\":null}, iothub-message-source -> Telemetry)</td></tr><tr><td>eyJkZXZpY2VfaWQiOiAzLCAidG1wIjogOTQsICJobWR0IjogNjQsICJwcnNyZSI6IDQ2NSwgInRzIjogIjIwMjQtMDQtMTZUMjI6NDI6MTEuODMyMjM4IiwgInNvdXJjZSI6ICJJb3RIdWIifQ==</td><td>2</td><td>314288</td><td>657</td><td>2024-04-16T17:12:14.504+0000</td><td>null</td><td>null</td><td>Map()</td><td>Map(x-opt-sequence-number-epoch -> -1, iothub-connection-auth-generation-id -> 638486236982118213, iothub-connection-device-id -> Device1, iothub-enqueuedtime -> \"2024-04-16T17:12:14.245Z\", iothub-connection-auth-method -> {\"scope\":\"device\",\"type\":\"sas\",\"issuer\":\"iothub\",\"acceptingIpFilterRule\":null}, iothub-message-source -> Telemetry)</td></tr><tr><td>eyJkZXZpY2VfaWQiOiAyLCAidG1wIjogMTAwLCAiaG1kdCI6IDcyLCAicHJzcmUiOiA0MzMsICJ0cyI6ICIyMDI0LTA0LTE2VDIyOjQyOjE5LjYyMDEyNiIsICJzb3VyY2UiOiAiSW90SHViIn0=</td><td>2</td><td>314768</td><td>658</td><td>2024-04-16T17:12:22.210+0000</td><td>null</td><td>null</td><td>Map()</td><td>Map(x-opt-sequence-number-epoch -> -1, iothub-connection-auth-generation-id -> 638486236982118213, iothub-connection-device-id -> Device1, iothub-enqueuedtime -> \"2024-04-16T17:12:21.917Z\", iothub-connection-auth-method -> {\"scope\":\"device\",\"type\":\"sas\",\"issuer\":\"iothub\",\"acceptingIpFilterRule\":null}, iothub-message-source -> Telemetry)</td></tr><tr><td>eyJkZXZpY2VfaWQiOiAxNCwgInRtcCI6IDEwNiwgImhtZHQiOiA3NCwgInByc3JlIjogNDU3LCAidHMiOiAiMjAyNC0wNC0xNlQyMjo0MjoyNy4yOTczMTEiLCAic291cmNlIjogIklvdEh1YiJ9</td><td>2</td><td>315248</td><td>659</td><td>2024-04-16T17:12:27.569+0000</td><td>null</td><td>null</td><td>Map()</td><td>Map(x-opt-sequence-number-epoch -> -1, iothub-connection-auth-generation-id -> 638486236982118213, iothub-connection-device-id -> Device1, iothub-enqueuedtime -> \"2024-04-16T17:12:27.560Z\", iothub-connection-auth-method -> {\"scope\":\"device\",\"type\":\"sas\",\"issuer\":\"iothub\",\"acceptingIpFilterRule\":null}, iothub-message-source -> Telemetry)</td></tr><tr><td>eyJkZXZpY2VfaWQiOiAxNCwgInRtcCI6IDkxLCAiaG1kdCI6IDY4LCAicHJzcmUiOiA0OTAsICJ0cyI6ICIyMDI0LTA0LTE2VDIyOjQyOjMyLjU4NDU5OSIsICJzb3VyY2UiOiAiSW90SHViIn0=</td><td>2</td><td>315736</td><td>660</td><td>2024-04-16T17:12:33.007+0000</td><td>null</td><td>null</td><td>Map()</td><td>Map(x-opt-sequence-number-epoch -> -1, iothub-connection-auth-generation-id -> 638486236982118213, iothub-connection-device-id -> Device1, iothub-enqueuedtime -> \"2024-04-16T17:12:33.014Z\", iothub-connection-auth-method -> {\"scope\":\"device\",\"type\":\"sas\",\"issuer\":\"iothub\",\"acceptingIpFilterRule\":null}, iothub-message-source -> Telemetry)</td></tr><tr><td>eyJkZXZpY2VfaWQiOiA2LCAidG1wIjogOTIsICJobWR0IjogNjYsICJwcnNyZSI6IDQxNSwgInRzIjogIjIwMjQtMDQtMTZUMjI6NDI6MzguNjYwMTcwIiwgInNvdXJjZSI6ICJJb3RIdWIifQ==</td><td>2</td><td>316216</td><td>661</td><td>2024-04-16T17:12:38.835+0000</td><td>null</td><td>null</td><td>Map()</td><td>Map(x-opt-sequence-number-epoch -> -1, iothub-connection-auth-generation-id -> 638486236982118213, iothub-connection-device-id -> Device1, iothub-enqueuedtime -> \"2024-04-16T17:12:38.839Z\", iothub-connection-auth-method -> {\"scope\":\"device\",\"type\":\"sas\",\"issuer\":\"iothub\",\"acceptingIpFilterRule\":null}, iothub-message-source -> Telemetry)</td></tr><tr><td>eyJkZXZpY2VfaWQiOiAxNCwgInRtcCI6IDExNywgImhtZHQiOiA2NSwgInByc3JlIjogNDU2LCAidHMiOiAiMjAyNC0wNC0xNlQyMjo0Mjo0My44NDgzMTYiLCAic291cmNlIjogIklvdEh1YiJ9</td><td>2</td><td>316696</td><td>662</td><td>2024-04-16T17:12:49.851+0000</td><td>null</td><td>null</td><td>Map()</td><td>Map(x-opt-sequence-number-epoch -> -1, iothub-connection-auth-generation-id -> 638486236982118213, iothub-connection-device-id -> Device1, iothub-enqueuedtime -> \"2024-04-16T17:12:46.091Z\", iothub-connection-auth-method -> {\"scope\":\"device\",\"type\":\"sas\",\"issuer\":\"iothub\",\"acceptingIpFilterRule\":null}, iothub-message-source -> Telemetry)</td></tr><tr><td>eyJkZXZpY2VfaWQiOiAxMiwgInRtcCI6IDk5LCAiaG1kdCI6IDY5LCAicHJzcmUiOiA0OTUsICJ0cyI6ICIyMDI0LTA0LTE2VDIyOjQyOjU0Ljg2ODI0MCIsICJzb3VyY2UiOiAiSW90SHViIn0=</td><td>2</td><td>317184</td><td>663</td><td>2024-04-16T17:12:55.148+0000</td><td>null</td><td>null</td><td>Map()</td><td>Map(x-opt-sequence-number-epoch -> -1, iothub-connection-auth-generation-id -> 638486236982118213, iothub-connection-device-id -> Device1, iothub-enqueuedtime -> \"2024-04-16T17:12:55.142Z\", iothub-connection-auth-method -> {\"scope\":\"device\",\"type\":\"sas\",\"issuer\":\"iothub\",\"acceptingIpFilterRule\":null}, iothub-message-source -> Telemetry)</td></tr><tr><td>eyJkZXZpY2VfaWQiOiA0LCAidG1wIjogMTAyLCAiaG1kdCI6IDc4LCAicHJzcmUiOiA0NTYsICJ0cyI6ICIyMDI0LTA0LTE2VDIyOjQzOjAwLjE1OTAwNCIsICJzb3VyY2UiOiAiSW90SHViIn0=</td><td>2</td><td>317664</td><td>664</td><td>2024-04-16T17:13:00.367+0000</td><td>null</td><td>null</td><td>Map()</td><td>Map(x-opt-sequence-number-epoch -> -1, iothub-connection-auth-generation-id -> 638486236982118213, iothub-connection-device-id -> Device1, iothub-enqueuedtime -> \"2024-04-16T17:13:00.368Z\", iothub-connection-auth-method -> {\"scope\":\"device\",\"type\":\"sas\",\"issuer\":\"iothub\",\"acceptingIpFilterRule\":null}, iothub-message-source -> Telemetry)</td></tr><tr><td>eyJkZXZpY2VfaWQiOiA2LCAidG1wIjogOTAsICJobWR0IjogNzgsICJwcnNyZSI6IDQzMSwgInRzIjogIjIwMjQtMDQtMTZUMjI6NDM6MDUuMzgwMTY4IiwgInNvdXJjZSI6ICJJb3RIdWIifQ==</td><td>2</td><td>318144</td><td>665</td><td>2024-04-16T17:13:07.914+0000</td><td>null</td><td>null</td><td>Map()</td><td>Map(x-opt-sequence-number-epoch -> -1, iothub-connection-auth-generation-id -> 638486236982118213, iothub-connection-device-id -> Device1, iothub-enqueuedtime -> \"2024-04-16T17:13:07.496Z\", iothub-connection-auth-method -> {\"scope\":\"device\",\"type\":\"sas\",\"issuer\":\"iothub\",\"acceptingIpFilterRule\":null}, iothub-message-source -> Telemetry)</td></tr><tr><td>eyJkZXZpY2VfaWQiOiAxMCwgInRtcCI6IDExMSwgImhtZHQiOiA3OSwgInByc3JlIjogNDg5LCAidHMiOiAiMjAyNC0wNC0xNlQyMjo0MzoxMi45NjgzNTkiLCAic291cmNlIjogIklvdEh1YiJ9</td><td>2</td><td>318624</td><td>666</td><td>2024-04-16T17:13:13.179+0000</td><td>null</td><td>null</td><td>Map()</td><td>Map(x-opt-sequence-number-epoch -> -1, iothub-connection-auth-generation-id -> 638486236982118213, iothub-connection-device-id -> Device1, iothub-enqueuedtime -> \"2024-04-16T17:13:13.178Z\", iothub-connection-auth-method -> {\"scope\":\"device\",\"type\":\"sas\",\"issuer\":\"iothub\",\"acceptingIpFilterRule\":null}, iothub-message-source -> Telemetry)</td></tr><tr><td>eyJkZXZpY2VfaWQiOiAxMSwgInRtcCI6IDk4LCAiaG1kdCI6IDYxLCAicHJzcmUiOiA0NDgsICJ0cyI6ICIyMDI0LTA0LTE2VDIyOjQzOjE4LjE5NjMzMCIsICJzb3VyY2UiOiAiSW90SHViIn0=</td><td>2</td><td>319112</td><td>667</td><td>2024-04-16T17:13:18.461+0000</td><td>null</td><td>null</td><td>Map()</td><td>Map(x-opt-sequence-number-epoch -> -1, iothub-connection-auth-generation-id -> 638486236982118213, iothub-connection-device-id -> Device1, iothub-enqueuedtime -> \"2024-04-16T17:13:18.456Z\", iothub-connection-auth-method -> {\"scope\":\"device\",\"type\":\"sas\",\"issuer\":\"iothub\",\"acceptingIpFilterRule\":null}, iothub-message-source -> Telemetry)</td></tr><tr><td>eyJkZXZpY2VfaWQiOiAxMiwgInRtcCI6IDExNiwgImhtZHQiOiA2MywgInByc3JlIjogNDQ3LCAidHMiOiAiMjAyNC0wNC0xNlQyMjo0MzoyMy40NjgxODkiLCAic291cmNlIjogIklvdEh1YiJ9</td><td>2</td><td>319592</td><td>668</td><td>2024-04-16T17:13:23.649+0000</td><td>null</td><td>null</td><td>Map()</td><td>Map(x-opt-sequence-number-epoch -> -1, iothub-connection-auth-generation-id -> 638486236982118213, iothub-connection-device-id -> Device1, iothub-enqueuedtime -> \"2024-04-16T17:13:23.647Z\", iothub-connection-auth-method -> {\"scope\":\"device\",\"type\":\"sas\",\"issuer\":\"iothub\",\"acceptingIpFilterRule\":null}, iothub-message-source -> Telemetry)</td></tr><tr><td>eyJkZXZpY2VfaWQiOiAxMywgInRtcCI6IDExNiwgImhtZHQiOiA2NywgInByc3JlIjogNDQ4LCAidHMiOiAiMjAyNC0wNC0xNlQyMjo0MzoyOC42NjE4NzYiLCAic291cmNlIjogIklvdEh1YiJ9</td><td>2</td><td>320080</td><td>669</td><td>2024-04-16T17:13:28.930+0000</td><td>null</td><td>null</td><td>Map()</td><td>Map(x-opt-sequence-number-epoch -> -1, iothub-connection-auth-generation-id -> 638486236982118213, iothub-connection-device-id -> Device1, iothub-enqueuedtime -> \"2024-04-16T17:13:28.933Z\", iothub-connection-auth-method -> {\"scope\":\"device\",\"type\":\"sas\",\"issuer\":\"iothub\",\"acceptingIpFilterRule\":null}, iothub-message-source -> Telemetry)</td></tr><tr><td>eyJkZXZpY2VfaWQiOiAxLCAidG1wIjogOTEsICJobWR0IjogNjAsICJwcnNyZSI6IDQyMSwgInRzIjogIjIwMjQtMDQtMTZUMjI6NDM6MzMuOTQ0MTg1IiwgInNvdXJjZSI6ICJJb3RIdWIifQ==</td><td>2</td><td>320568</td><td>670</td><td>2024-04-16T17:13:34.462+0000</td><td>null</td><td>null</td><td>Map()</td><td>Map(x-opt-sequence-number-epoch -> -1, iothub-connection-auth-generation-id -> 638486236982118213, iothub-connection-device-id -> Device1, iothub-enqueuedtime -> \"2024-04-16T17:13:34.457Z\", iothub-connection-auth-method -> {\"scope\":\"device\",\"type\":\"sas\",\"issuer\":\"iothub\",\"acceptingIpFilterRule\":null}, iothub-message-source -> Telemetry)</td></tr><tr><td>eyJkZXZpY2VfaWQiOiAxMSwgInRtcCI6IDkyLCAiaG1kdCI6IDc0LCAicHJzcmUiOiA0NzAsICJ0cyI6ICIyMDI0LTA0LTE2VDIyOjQzOjM5LjQ3NjIwOCIsICJzb3VyY2UiOiAiSW90SHViIn0=</td><td>2</td><td>321048</td><td>671</td><td>2024-04-16T17:13:40.087+0000</td><td>null</td><td>null</td><td>Map()</td><td>Map(x-opt-sequence-number-epoch -> -1, iothub-connection-auth-generation-id -> 638486236982118213, iothub-connection-device-id -> Device1, iothub-enqueuedtime -> \"2024-04-16T17:13:40.084Z\", iothub-connection-auth-method -> {\"scope\":\"device\",\"type\":\"sas\",\"issuer\":\"iothub\",\"acceptingIpFilterRule\":null}, iothub-message-source -> Telemetry)</td></tr><tr><td>eyJkZXZpY2VfaWQiOiAxMCwgInRtcCI6IDkwLCAiaG1kdCI6IDc4LCAicHJzcmUiOiA0NTEsICJ0cyI6ICIyMDI0LTA0LTE2VDIyOjQzOjQ1LjEwODI0NCIsICJzb3VyY2UiOiAiSW90SHViIn0=</td><td>2</td><td>321528</td><td>672</td><td>2024-04-16T17:13:47.947+0000</td><td>null</td><td>null</td><td>Map()</td><td>Map(x-opt-sequence-number-epoch -> -1, iothub-connection-auth-generation-id -> 638486236982118213, iothub-connection-device-id -> Device1, iothub-enqueuedtime -> \"2024-04-16T17:13:47.625Z\", iothub-connection-auth-method -> {\"scope\":\"device\",\"type\":\"sas\",\"issuer\":\"iothub\",\"acceptingIpFilterRule\":null}, iothub-message-source -> Telemetry)</td></tr><tr><td>eyJkZXZpY2VfaWQiOiAyLCAidG1wIjogMTA3LCAiaG1kdCI6IDc4LCAicHJzcmUiOiA0ODMsICJ0cyI6ICIyMDI0LTA0LTE2VDIyOjQzOjUzLjAwODIyMyIsICJzb3VyY2UiOiAiSW90SHViIn0=</td><td>2</td><td>322008</td><td>673</td><td>2024-04-16T17:13:53.229+0000</td><td>null</td><td>null</td><td>Map()</td><td>Map(x-opt-sequence-number-epoch -> -1, iothub-connection-auth-generation-id -> 638486236982118213, iothub-connection-device-id -> Device1, iothub-enqueuedtime -> \"2024-04-16T17:13:53.238Z\", iothub-connection-auth-method -> {\"scope\":\"device\",\"type\":\"sas\",\"issuer\":\"iothub\",\"acceptingIpFilterRule\":null}, iothub-message-source -> Telemetry)</td></tr><tr><td>eyJkZXZpY2VfaWQiOiA5LCAidG1wIjogOTgsICJobWR0IjogNjksICJwcnNyZSI6IDQxMywgInRzIjogIjIwMjQtMDQtMTZUMjI6NDM6NTguMjQ0MTQyIiwgInNvdXJjZSI6ICJJb3RIdWIifQ==</td><td>2</td><td>322488</td><td>674</td><td>2024-04-16T17:13:58.416+0000</td><td>null</td><td>null</td><td>Map()</td><td>Map(x-opt-sequence-number-epoch -> -1, iothub-connection-auth-generation-id -> 638486236982118213, iothub-connection-device-id -> Device1, iothub-enqueuedtime -> \"2024-04-16T17:13:58.424Z\", iothub-connection-auth-method -> {\"scope\":\"device\",\"type\":\"sas\",\"issuer\":\"iothub\",\"acceptingIpFilterRule\":null}, iothub-message-source -> Telemetry)</td></tr><tr><td>eyJkZXZpY2VfaWQiOiA1LCAidG1wIjogOTgsICJobWR0IjogNzIsICJwcnNyZSI6IDQyNiwgInRzIjogIjIwMjQtMDQtMTZUMjI6NDQ6MDMuNDM2Mjc0IiwgInNvdXJjZSI6ICJJb3RIdWIifQ==</td><td>2</td><td>322968</td><td>675</td><td>2024-04-16T17:14:04.042+0000</td><td>null</td><td>null</td><td>Map()</td><td>Map(x-opt-sequence-number-epoch -> -1, iothub-connection-auth-generation-id -> 638486236982118213, iothub-connection-device-id -> Device1, iothub-enqueuedtime -> \"2024-04-16T17:14:04.040Z\", iothub-connection-auth-method -> {\"scope\":\"device\",\"type\":\"sas\",\"issuer\":\"iothub\",\"acceptingIpFilterRule\":null}, iothub-message-source -> Telemetry)</td></tr><tr><td>eyJkZXZpY2VfaWQiOiAxMywgInRtcCI6IDEwNiwgImhtZHQiOiA2OSwgInByc3JlIjogNDIzLCAidHMiOiAiMjAyNC0wNC0xNlQyMjo0NDowOS4wNDQxNzkiLCAic291cmNlIjogIklvdEh1YiJ9</td><td>2</td><td>323448</td><td>676</td><td>2024-04-16T17:14:11.965+0000</td><td>null</td><td>null</td><td>Map()</td><td>Map(x-opt-sequence-number-epoch -> -1, iothub-connection-auth-generation-id -> 638486236982118213, iothub-connection-device-id -> Device1, iothub-enqueuedtime -> \"2024-04-16T17:14:11.796Z\", iothub-connection-auth-method -> {\"scope\":\"device\",\"type\":\"sas\",\"issuer\":\"iothub\",\"acceptingIpFilterRule\":null}, iothub-message-source -> Telemetry)</td></tr><tr><td>eyJkZXZpY2VfaWQiOiAxMiwgInRtcCI6IDkwLCAiaG1kdCI6IDY1LCAicHJzcmUiOiA0MDgsICJ0cyI6ICIyMDI0LTA0LTE2VDIyOjQ0OjE2Ljk4ODI4MSIsICJzb3VyY2UiOiAiSW90SHViIn0=</td><td>2</td><td>323936</td><td>677</td><td>2024-04-16T17:14:17.621+0000</td><td>null</td><td>null</td><td>Map()</td><td>Map(x-opt-sequence-number-epoch -> -1, iothub-connection-auth-generation-id -> 638486236982118213, iothub-connection-device-id -> Device1, iothub-enqueuedtime -> \"2024-04-16T17:14:17.605Z\", iothub-connection-auth-method -> {\"scope\":\"device\",\"type\":\"sas\",\"issuer\":\"iothub\",\"acceptingIpFilterRule\":null}, iothub-message-source -> Telemetry)</td></tr><tr><td>eyJkZXZpY2VfaWQiOiA2LCAidG1wIjogMTEyLCAiaG1kdCI6IDY0LCAicHJzcmUiOiA0MDgsICJ0cyI6ICIyMDI0LTA0LTE2VDIyOjQ0OjIyLjYyMjc4OSIsICJzb3VyY2UiOiAiSW90SHViIn0=</td><td>2</td><td>324416</td><td>678</td><td>2024-04-16T17:14:22.808+0000</td><td>null</td><td>null</td><td>Map()</td><td>Map(x-opt-sequence-number-epoch -> -1, iothub-connection-auth-generation-id -> 638486236982118213, iothub-connection-device-id -> Device1, iothub-enqueuedtime -> \"2024-04-16T17:14:22.803Z\", iothub-connection-auth-method -> {\"scope\":\"device\",\"type\":\"sas\",\"issuer\":\"iothub\",\"acceptingIpFilterRule\":null}, iothub-message-source -> Telemetry)</td></tr><tr><td>eyJkZXZpY2VfaWQiOiAxMywgInRtcCI6IDk1LCAiaG1kdCI6IDY3LCAicHJzcmUiOiA0NTUsICJ0cyI6ICIyMDI0LTA0LTE2VDIyOjQ0OjI3LjgxNjI2MSIsICJzb3VyY2UiOiAiSW90SHViIn0=</td><td>2</td><td>324896</td><td>679</td><td>2024-04-16T17:14:28.434+0000</td><td>null</td><td>null</td><td>Map()</td><td>Map(x-opt-sequence-number-epoch -> -1, iothub-connection-auth-generation-id -> 638486236982118213, iothub-connection-device-id -> Device1, iothub-enqueuedtime -> \"2024-04-16T17:14:28.442Z\", iothub-connection-auth-method -> {\"scope\":\"device\",\"type\":\"sas\",\"issuer\":\"iothub\",\"acceptingIpFilterRule\":null}, iothub-message-source -> Telemetry)</td></tr><tr><td>eyJkZXZpY2VfaWQiOiAyLCAidG1wIjogMTE3LCAiaG1kdCI6IDczLCAicHJzcmUiOiA0MzgsICJ0cyI6ICIyMDI0LTA0LTE2VDIyOjQ0OjMzLjQ0MzAyNSIsICJzb3VyY2UiOiAiSW90SHViIn0=</td><td>2</td><td>325376</td><td>680</td><td>2024-04-16T17:14:33.637+0000</td><td>null</td><td>null</td><td>Map()</td><td>Map(x-opt-sequence-number-epoch -> -1, iothub-connection-auth-generation-id -> 638486236982118213, iothub-connection-device-id -> Device1, iothub-enqueuedtime -> \"2024-04-16T17:14:33.639Z\", iothub-connection-auth-method -> {\"scope\":\"device\",\"type\":\"sas\",\"issuer\":\"iothub\",\"acceptingIpFilterRule\":null}, iothub-message-source -> Telemetry)</td></tr><tr><td>eyJkZXZpY2VfaWQiOiA1LCAidG1wIjogOTYsICJobWR0IjogNjUsICJwcnNyZSI6IDQyNCwgInRzIjogIjIwMjQtMDQtMTZUMjI6NDQ6MzguNjQ4MjY0IiwgInNvdXJjZSI6ICJJb3RIdWIifQ==</td><td>2</td><td>325856</td><td>681</td><td>2024-04-16T17:14:41.418+0000</td><td>null</td><td>null</td><td>Map()</td><td>Map(x-opt-sequence-number-epoch -> -1, iothub-connection-auth-generation-id -> 638486236982118213, iothub-connection-device-id -> Device1, iothub-enqueuedtime -> \"2024-04-16T17:14:41.183Z\", iothub-connection-auth-method -> {\"scope\":\"device\",\"type\":\"sas\",\"issuer\":\"iothub\",\"acceptingIpFilterRule\":null}, iothub-message-source -> Telemetry)</td></tr><tr><td>eyJkZXZpY2VfaWQiOiAxNCwgInRtcCI6IDEwNCwgImhtZHQiOiA3NSwgInByc3JlIjogNDgxLCAidHMiOiAiMjAyNC0wNC0xNlQyMjo0NDo0Ni40NTYxNjkiLCAic291cmNlIjogIklvdEh1YiJ9</td><td>2</td><td>326336</td><td>682</td><td>2024-04-16T17:14:49.434+0000</td><td>null</td><td>null</td><td>Map()</td><td>Map(x-opt-sequence-number-epoch -> -1, iothub-connection-auth-generation-id -> 638486236982118213, iothub-connection-device-id -> Device1, iothub-enqueuedtime -> \"2024-04-16T17:14:49.274Z\", iothub-connection-auth-method -> {\"scope\":\"device\",\"type\":\"sas\",\"issuer\":\"iothub\",\"acceptingIpFilterRule\":null}, iothub-message-source -> Telemetry)</td></tr><tr><td>eyJkZXZpY2VfaWQiOiA1LCAidG1wIjogOTgsICJobWR0IjogNjAsICJwcnNyZSI6IDQ1NiwgInRzIjogIjIwMjQtMDQtMTZUMjI6NDQ6NTQuNDMyMjU1IiwgInNvdXJjZSI6ICJJb3RIdWIifQ==</td><td>2</td><td>326824</td><td>683</td><td>2024-04-16T17:14:54.700+0000</td><td>null</td><td>null</td><td>Map()</td><td>Map(x-opt-sequence-number-epoch -> -1, iothub-connection-auth-generation-id -> 638486236982118213, iothub-connection-device-id -> Device1, iothub-enqueuedtime -> \"2024-04-16T17:14:54.707Z\", iothub-connection-auth-method -> {\"scope\":\"device\",\"type\":\"sas\",\"issuer\":\"iothub\",\"acceptingIpFilterRule\":null}, iothub-message-source -> Telemetry)</td></tr><tr><td>eyJkZXZpY2VfaWQiOiAzLCAidG1wIjogMTAzLCAiaG1kdCI6IDc3LCAicHJzcmUiOiA0MjksICJ0cyI6ICIyMDI0LTA0LTE2VDIyOjQ0OjU5LjcxMjI0MSIsICJzb3VyY2UiOiAiSW90SHViIn0=</td><td>2</td><td>327304</td><td>684</td><td>2024-04-16T17:14:59.981+0000</td><td>null</td><td>null</td><td>Map()</td><td>Map(x-opt-sequence-number-epoch -> -1, iothub-connection-auth-generation-id -> 638486236982118213, iothub-connection-device-id -> Device1, iothub-enqueuedtime -> \"2024-04-16T17:14:59.988Z\", iothub-connection-auth-method -> {\"scope\":\"device\",\"type\":\"sas\",\"issuer\":\"iothub\",\"acceptingIpFilterRule\":null}, iothub-message-source -> Telemetry)</td></tr><tr><td>eyJkZXZpY2VfaWQiOiAxNCwgInRtcCI6IDExNSwgImhtZHQiOiA3OCwgInByc3JlIjogNDU4LCAidHMiOiAiMjAyNC0wNC0xNlQyMjo0NTowNS4yNTYyNDkiLCAic291cmNlIjogIklvdEh1YiJ9</td><td>2</td><td>327784</td><td>685</td><td>2024-04-16T17:15:05.606+0000</td><td>null</td><td>null</td><td>Map()</td><td>Map(x-opt-sequence-number-epoch -> -1, iothub-connection-auth-generation-id -> 638486236982118213, iothub-connection-device-id -> Device1, iothub-enqueuedtime -> \"2024-04-16T17:15:05.609Z\", iothub-connection-auth-method -> {\"scope\":\"device\",\"type\":\"sas\",\"issuer\":\"iothub\",\"acceptingIpFilterRule\":null}, iothub-message-source -> Telemetry)</td></tr><tr><td>eyJkZXZpY2VfaWQiOiAxMywgInRtcCI6IDExNCwgImhtZHQiOiA2OSwgInByc3JlIjogNDI3LCAidHMiOiAiMjAyNC0wNC0xNlQyMjo0NToxMC44ODQxNzMiLCAic291cmNlIjogIklvdEh1YiJ9</td><td>2</td><td>328272</td><td>686</td><td>2024-04-16T17:15:11.091+0000</td><td>null</td><td>null</td><td>Map()</td><td>Map(x-opt-sequence-number-epoch -> -1, iothub-connection-auth-generation-id -> 638486236982118213, iothub-connection-device-id -> Device1, iothub-enqueuedtime -> \"2024-04-16T17:15:11.087Z\", iothub-connection-auth-method -> {\"scope\":\"device\",\"type\":\"sas\",\"issuer\":\"iothub\",\"acceptingIpFilterRule\":null}, iothub-message-source -> Telemetry)</td></tr><tr><td>eyJkZXZpY2VfaWQiOiAzLCAidG1wIjogMTE2LCAiaG1kdCI6IDYyLCAicHJzcmUiOiA0MjAsICJ0cyI6ICIyMDI0LTA0LTE2VDIyOjQ1OjE2LjA4NDI2OCIsICJzb3VyY2UiOiAiSW90SHViIn0=</td><td>2</td><td>328760</td><td>687</td><td>2024-04-16T17:15:16.325+0000</td><td>null</td><td>null</td><td>Map()</td><td>Map(x-opt-sequence-number-epoch -> -1, iothub-connection-auth-generation-id -> 638486236982118213, iothub-connection-device-id -> Device1, iothub-enqueuedtime -> \"2024-04-16T17:15:16.326Z\", iothub-connection-auth-method -> {\"scope\":\"device\",\"type\":\"sas\",\"issuer\":\"iothub\",\"acceptingIpFilterRule\":null}, iothub-message-source -> Telemetry)</td></tr><tr><td>eyJkZXZpY2VfaWQiOiA3LCAidG1wIjogMTExLCAiaG1kdCI6IDYxLCAicHJzcmUiOiA0NDksICJ0cyI6ICIyMDI0LTA0LTE2VDIyOjQ1OjIxLjMzMjI4OCIsICJzb3VyY2UiOiAiSW90SHViIn0=</td><td>2</td><td>329240</td><td>688</td><td>2024-04-16T17:15:21.732+0000</td><td>null</td><td>null</td><td>Map()</td><td>Map(x-opt-sequence-number-epoch -> -1, iothub-connection-auth-generation-id -> 638486236982118213, iothub-connection-device-id -> Device1, iothub-enqueuedtime -> \"2024-04-16T17:15:21.732Z\", iothub-connection-auth-method -> {\"scope\":\"device\",\"type\":\"sas\",\"issuer\":\"iothub\",\"acceptingIpFilterRule\":null}, iothub-message-source -> Telemetry)</td></tr><tr><td>eyJkZXZpY2VfaWQiOiAxMywgInRtcCI6IDEwNCwgImhtZHQiOiA3NCwgInByc3JlIjogNDI2LCAidHMiOiAiMjAyNC0wNC0xNlQyMjo0NTozNi45ODQyODUiLCAic291cmNlIjogIklvdEh1YiJ9</td><td>2</td><td>329720</td><td>689</td><td>2024-04-16T17:15:37.544+0000</td><td>null</td><td>null</td><td>Map()</td><td>Map(x-opt-sequence-number-epoch -> -1, iothub-connection-auth-generation-id -> 638486236982118213, iothub-connection-device-id -> Device1, iothub-enqueuedtime -> \"2024-04-16T17:15:37.539Z\", iothub-connection-auth-method -> {\"scope\":\"device\",\"type\":\"sas\",\"issuer\":\"iothub\",\"acceptingIpFilterRule\":null}, iothub-message-source -> Telemetry)</td></tr><tr><td>eyJkZXZpY2VfaWQiOiAxMywgInRtcCI6IDExOCwgImhtZHQiOiA3MCwgInByc3JlIjogNDcxLCAidHMiOiAiMjAyNC0wNC0xNlQyMjo0NTo0Mi41NTIyNTEiLCAic291cmNlIjogIklvdEh1YiJ9</td><td>2</td><td>330208</td><td>690</td><td>2024-04-16T17:15:42.748+0000</td><td>null</td><td>null</td><td>Map()</td><td>Map(x-opt-sequence-number-epoch -> -1, iothub-connection-auth-generation-id -> 638486236982118213, iothub-connection-device-id -> Device1, iothub-enqueuedtime -> \"2024-04-16T17:15:42.745Z\", iothub-connection-auth-method -> {\"scope\":\"device\",\"type\":\"sas\",\"issuer\":\"iothub\",\"acceptingIpFilterRule\":null}, iothub-message-source -> Telemetry)</td></tr><tr><td>eyJkZXZpY2VfaWQiOiAxMiwgInRtcCI6IDEwMywgImhtZHQiOiA2MSwgInByc3JlIjogNDAyLCAidHMiOiAiMjAyNC0wNC0xNlQyMjo0NTo0Ny43NjgyNDkiLCAic291cmNlIjogIklvdEh1YiJ9</td><td>2</td><td>330696</td><td>691</td><td>2024-04-16T17:15:48.312+0000</td><td>null</td><td>null</td><td>Map()</td><td>Map(x-opt-sequence-number-epoch -> -1, iothub-connection-auth-generation-id -> 638486236982118213, iothub-connection-device-id -> Device1, iothub-enqueuedtime -> \"2024-04-16T17:15:48.317Z\", iothub-connection-auth-method -> {\"scope\":\"device\",\"type\":\"sas\",\"issuer\":\"iothub\",\"acceptingIpFilterRule\":null}, iothub-message-source -> Telemetry)</td></tr><tr><td>eyJkZXZpY2VfaWQiOiA5LCAidG1wIjogMTE5LCAiaG1kdCI6IDY2LCAicHJzcmUiOiA0MDksICJ0cyI6ICIyMDI0LTA0LTE2VDIyOjQ1OjUzLjMxNTk3NiIsICJzb3VyY2UiOiAiSW90SHViIn0=</td><td>2</td><td>331184</td><td>692</td><td>2024-04-16T17:15:53.500+0000</td><td>null</td><td>null</td><td>Map()</td><td>Map(x-opt-sequence-number-epoch -> -1, iothub-connection-auth-generation-id -> 638486236982118213, iothub-connection-device-id -> Device1, iothub-enqueuedtime -> \"2024-04-16T17:15:53.494Z\", iothub-connection-auth-method -> {\"scope\":\"device\",\"type\":\"sas\",\"issuer\":\"iothub\",\"acceptingIpFilterRule\":null}, iothub-message-source -> Telemetry)</td></tr><tr><td>eyJkZXZpY2VfaWQiOiA1LCAidG1wIjogMTExLCAiaG1kdCI6IDY2LCAicHJzcmUiOiA0MDQsICJ0cyI6ICIyMDI0LTA0LTE2VDIyOjQ1OjU4LjUwODMwNyIsICJzb3VyY2UiOiAiSW90SHViIn0=</td><td>2</td><td>331664</td><td>693</td><td>2024-04-16T17:15:59.031+0000</td><td>null</td><td>null</td><td>Map()</td><td>Map(x-opt-sequence-number-epoch -> -1, iothub-connection-auth-generation-id -> 638486236982118213, iothub-connection-device-id -> Device1, iothub-enqueuedtime -> \"2024-04-16T17:15:59.037Z\", iothub-connection-auth-method -> {\"scope\":\"device\",\"type\":\"sas\",\"issuer\":\"iothub\",\"acceptingIpFilterRule\":null}, iothub-message-source -> Telemetry)</td></tr><tr><td>eyJkZXZpY2VfaWQiOiA5LCAidG1wIjogMTA3LCAiaG1kdCI6IDc2LCAicHJzcmUiOiA0ODAsICJ0cyI6ICIyMDI0LTA0LTE2VDIyOjQ2OjA0LjA0NDQ4NiIsICJzb3VyY2UiOiAiSW90SHViIn0=</td><td>2</td><td>332144</td><td>694</td><td>2024-04-16T17:16:04.218+0000</td><td>null</td><td>null</td><td>Map()</td><td>Map(x-opt-sequence-number-epoch -> -1, iothub-connection-auth-generation-id -> 638486236982118213, iothub-connection-device-id -> Device1, iothub-enqueuedtime -> \"2024-04-16T17:16:04.227Z\", iothub-connection-auth-method -> {\"scope\":\"device\",\"type\":\"sas\",\"issuer\":\"iothub\",\"acceptingIpFilterRule\":null}, iothub-message-source -> Telemetry)</td></tr><tr><td>eyJkZXZpY2VfaWQiOiA4LCAidG1wIjogMTA2LCAiaG1kdCI6IDY4LCAicHJzcmUiOiA0MzcsICJ0cyI6ICIyMDI0LTA0LTE2VDIyOjQ2OjA5LjIyODE4NiIsICJzb3VyY2UiOiAiSW90SHViIn0=</td><td>2</td><td>332624</td><td>695</td><td>2024-04-16T17:16:09.485+0000</td><td>null</td><td>null</td><td>Map()</td><td>Map(x-opt-sequence-number-epoch -> -1, iothub-connection-auth-generation-id -> 638486236982118213, iothub-connection-device-id -> Device1, iothub-enqueuedtime -> \"2024-04-16T17:16:09.485Z\", iothub-connection-auth-method -> {\"scope\":\"device\",\"type\":\"sas\",\"issuer\":\"iothub\",\"acceptingIpFilterRule\":null}, iothub-message-source -> Telemetry)</td></tr><tr><td>eyJkZXZpY2VfaWQiOiA0LCAidG1wIjogOTIsICJobWR0IjogNzcsICJwcnNyZSI6IDQ1NiwgInRzIjogIjIwMjQtMDQtMTZUMjI6NDY6MTQuNTAwMjE0IiwgInNvdXJjZSI6ICJJb3RIdWIifQ==</td><td>2</td><td>333104</td><td>696</td><td>2024-04-16T17:16:14.704+0000</td><td>null</td><td>null</td><td>Map()</td><td>Map(x-opt-sequence-number-epoch -> -1, iothub-connection-auth-generation-id -> 638486236982118213, iothub-connection-device-id -> Device1, iothub-enqueuedtime -> \"2024-04-16T17:16:14.704Z\", iothub-connection-auth-method -> {\"scope\":\"device\",\"type\":\"sas\",\"issuer\":\"iothub\",\"acceptingIpFilterRule\":null}, iothub-message-source -> Telemetry)</td></tr><tr><td>eyJkZXZpY2VfaWQiOiAzLCAidG1wIjogMTE1LCAiaG1kdCI6IDc5LCAicHJzcmUiOiA0NjYsICJ0cyI6ICIyMDI0LTA0LTE2VDIyOjQ2OjE5LjczNjI2MCIsICJzb3VyY2UiOiAiSW90SHViIn0=</td><td>2</td><td>333584</td><td>697</td><td>2024-04-16T17:16:20.533+0000</td><td>null</td><td>null</td><td>Map()</td><td>Map(x-opt-sequence-number-epoch -> -1, iothub-connection-auth-generation-id -> 638486236982118213, iothub-connection-device-id -> Device1, iothub-enqueuedtime -> \"2024-04-16T17:16:20.525Z\", iothub-connection-auth-method -> {\"scope\":\"device\",\"type\":\"sas\",\"issuer\":\"iothub\",\"acceptingIpFilterRule\":null}, iothub-message-source -> Telemetry)</td></tr><tr><td>eyJkZXZpY2VfaWQiOiA5LCAidG1wIjogOTIsICJobWR0IjogNjYsICJwcnNyZSI6IDQ4NiwgInRzIjogIjIwMjQtMDQtMTZUMjI6NDY6MjUuNTM3NDQ5IiwgInNvdXJjZSI6ICJJb3RIdWIifQ==</td><td>2</td><td>334064</td><td>698</td><td>2024-04-16T17:16:25.736+0000</td><td>null</td><td>null</td><td>Map()</td><td>Map(x-opt-sequence-number-epoch -> -1, iothub-connection-auth-generation-id -> 638486236982118213, iothub-connection-device-id -> Device1, iothub-enqueuedtime -> \"2024-04-16T17:16:25.731Z\", iothub-connection-auth-method -> {\"scope\":\"device\",\"type\":\"sas\",\"issuer\":\"iothub\",\"acceptingIpFilterRule\":null}, iothub-message-source -> Telemetry)</td></tr><tr><td>eyJkZXZpY2VfaWQiOiA1LCAidG1wIjogMTEzLCAiaG1kdCI6IDYxLCAicHJzcmUiOiA0NzQsICJ0cyI6ICIyMDI0LTA0LTE2VDIyOjQ2OjMwLjc0ODE4MiIsICJzb3VyY2UiOiAiSW90SHViIn0=</td><td>2</td><td>334544</td><td>699</td><td>2024-04-16T17:16:30.986+0000</td><td>null</td><td>null</td><td>Map()</td><td>Map(x-opt-sequence-number-epoch -> -1, iothub-connection-auth-generation-id -> 638486236982118213, iothub-connection-device-id -> Device1, iothub-enqueuedtime -> \"2024-04-16T17:16:30.981Z\", iothub-connection-auth-method -> {\"scope\":\"device\",\"type\":\"sas\",\"issuer\":\"iothub\",\"acceptingIpFilterRule\":null}, iothub-message-source -> Telemetry)</td></tr><tr><td>eyJkZXZpY2VfaWQiOiAxNCwgInRtcCI6IDExMCwgImhtZHQiOiA2NiwgInByc3JlIjogNDA2LCAidHMiOiAiMjAyNC0wNC0xNlQyMjo0NjozNS45ODQyMDciLCAic291cmNlIjogIklvdEh1YiJ9</td><td>2</td><td>335024</td><td>700</td><td>2024-04-16T17:16:36.158+0000</td><td>null</td><td>null</td><td>Map()</td><td>Map(x-opt-sequence-number-epoch -> -1, iothub-connection-auth-generation-id -> 638486236982118213, iothub-connection-device-id -> Device1, iothub-enqueuedtime -> \"2024-04-16T17:16:36.167Z\", iothub-connection-auth-method -> {\"scope\":\"device\",\"type\":\"sas\",\"issuer\":\"iothub\",\"acceptingIpFilterRule\":null}, iothub-message-source -> Telemetry)</td></tr><tr><td>eyJkZXZpY2VfaWQiOiA0LCAidG1wIjogMTA0LCAiaG1kdCI6IDcwLCAicHJzcmUiOiA0MjEsICJ0cyI6ICIyMDI0LTA0LTE2VDIyOjQ2OjQxLjE2NDEzNCIsICJzb3VyY2UiOiAiSW90SHViIn0=</td><td>2</td><td>335512</td><td>701</td><td>2024-04-16T17:16:41.674+0000</td><td>null</td><td>null</td><td>Map()</td><td>Map(x-opt-sequence-number-epoch -> -1, iothub-connection-auth-generation-id -> 638486236982118213, iothub-connection-device-id -> Device1, iothub-enqueuedtime -> \"2024-04-16T17:16:41.686Z\", iothub-connection-auth-method -> {\"scope\":\"device\",\"type\":\"sas\",\"issuer\":\"iothub\",\"acceptingIpFilterRule\":null}, iothub-message-source -> Telemetry)</td></tr><tr><td>eyJkZXZpY2VfaWQiOiA2LCAidG1wIjogMTA4LCAiaG1kdCI6IDc2LCAicHJzcmUiOiA0NDUsICJ0cyI6ICIyMDI0LTA0LTE2VDIyOjQ2OjQ2LjY4NDE4NCIsICJzb3VyY2UiOiAiSW90SHViIn0=</td><td>2</td><td>335992</td><td>702</td><td>2024-04-16T17:16:46.861+0000</td><td>null</td><td>null</td><td>Map()</td><td>Map(x-opt-sequence-number-epoch -> -1, iothub-connection-auth-generation-id -> 638486236982118213, iothub-connection-device-id -> Device1, iothub-enqueuedtime -> \"2024-04-16T17:16:46.874Z\", iothub-connection-auth-method -> {\"scope\":\"device\",\"type\":\"sas\",\"issuer\":\"iothub\",\"acceptingIpFilterRule\":null}, iothub-message-source -> Telemetry)</td></tr><tr><td>eyJkZXZpY2VfaWQiOiA2LCAidG1wIjogOTksICJobWR0IjogNjIsICJwcnNyZSI6IDQ2NiwgInRzIjogIjIwMjQtMDQtMTZUMjI6NDY6NTEuODY4MjAyIiwgInNvdXJjZSI6ICJJb3RIdWIifQ==</td><td>2</td><td>336472</td><td>703</td><td>2024-04-16T17:16:55.004+0000</td><td>null</td><td>null</td><td>Map()</td><td>Map(x-opt-sequence-number-epoch -> -1, iothub-connection-auth-generation-id -> 638486236982118213, iothub-connection-device-id -> Device1, iothub-enqueuedtime -> \"2024-04-16T17:16:54.685Z\", iothub-connection-auth-method -> {\"scope\":\"device\",\"type\":\"sas\",\"issuer\":\"iothub\",\"acceptingIpFilterRule\":null}, iothub-message-source -> Telemetry)</td></tr><tr><td>eyJkZXZpY2VfaWQiOiA3LCAidG1wIjogOTYsICJobWR0IjogNzcsICJwcnNyZSI6IDQyMCwgInRzIjogIjIwMjQtMDQtMTZUMjI6NDc6MDAuMDEyMTgzIiwgInNvdXJjZSI6ICJJb3RIdWIifQ==</td><td>2</td><td>336952</td><td>704</td><td>2024-04-16T17:17:00.191+0000</td><td>null</td><td>null</td><td>Map()</td><td>Map(x-opt-sequence-number-epoch -> -1, iothub-connection-auth-generation-id -> 638486236982118213, iothub-connection-device-id -> Device1, iothub-enqueuedtime -> \"2024-04-16T17:17:00.190Z\", iothub-connection-auth-method -> {\"scope\":\"device\",\"type\":\"sas\",\"issuer\":\"iothub\",\"acceptingIpFilterRule\":null}, iothub-message-source -> Telemetry)</td></tr><tr><td>eyJkZXZpY2VfaWQiOiA5LCAidG1wIjogMTA0LCAiaG1kdCI6IDcyLCAicHJzcmUiOiA0MDcsICJ0cyI6ICIyMDI0LTA0LTE2VDIyOjQ3OjA1LjE5NjE2NiIsICJzb3VyY2UiOiAiSW90SHViIn0=</td><td>2</td><td>337432</td><td>705</td><td>2024-04-16T17:17:05.691+0000</td><td>null</td><td>null</td><td>Map()</td><td>Map(x-opt-sequence-number-epoch -> -1, iothub-connection-auth-generation-id -> 638486236982118213, iothub-connection-device-id -> Device1, iothub-enqueuedtime -> \"2024-04-16T17:17:05.686Z\", iothub-connection-auth-method -> {\"scope\":\"device\",\"type\":\"sas\",\"issuer\":\"iothub\",\"acceptingIpFilterRule\":null}, iothub-message-source -> Telemetry)</td></tr><tr><td>eyJkZXZpY2VfaWQiOiAxLCAidG1wIjogOTQsICJobWR0IjogNzEsICJwcnNyZSI6IDQ5MywgInRzIjogIjIwMjQtMDQtMTZUMjI6NDc6MTAuNjg4MjAxIiwgInNvdXJjZSI6ICJJb3RIdWIifQ==</td><td>2</td><td>337912</td><td>706</td><td>2024-04-16T17:17:10.896+0000</td><td>null</td><td>null</td><td>Map()</td><td>Map(x-opt-sequence-number-epoch -> -1, iothub-connection-auth-generation-id -> 638486236982118213, iothub-connection-device-id -> Device1, iothub-enqueuedtime -> \"2024-04-16T17:17:10.904Z\", iothub-connection-auth-method -> {\"scope\":\"device\",\"type\":\"sas\",\"issuer\":\"iothub\",\"acceptingIpFilterRule\":null}, iothub-message-source -> Telemetry)</td></tr><tr><td>eyJkZXZpY2VfaWQiOiA2LCAidG1wIjogOTIsICJobWR0IjogNjUsICJwcnNyZSI6IDQ3OCwgInRzIjogIjIwMjQtMDQtMTZUMjI6NDc6MTUuOTA0MTgyIiwgInNvdXJjZSI6ICJJb3RIdWIifQ==</td><td>2</td><td>338392</td><td>707</td><td>2024-04-16T17:17:16.146+0000</td><td>null</td><td>null</td><td>Map()</td><td>Map(x-opt-sequence-number-epoch -> -1, iothub-connection-auth-generation-id -> 638486236982118213, iothub-connection-device-id -> Device1, iothub-enqueuedtime -> \"2024-04-16T17:17:16.136Z\", iothub-connection-auth-method -> {\"scope\":\"device\",\"type\":\"sas\",\"issuer\":\"iothub\",\"acceptingIpFilterRule\":null}, iothub-message-source -> Telemetry)</td></tr><tr><td>eyJkZXZpY2VfaWQiOiAxMywgInRtcCI6IDExMCwgImhtZHQiOiA3NCwgInByc3JlIjogNDYyLCAidHMiOiAiMjAyNC0wNC0xNlQyMjo0NzoyMS4xNDAxODEiLCAic291cmNlIjogIklvdEh1YiJ9</td><td>2</td><td>338872</td><td>708</td><td>2024-04-16T17:17:21.552+0000</td><td>null</td><td>null</td><td>Map()</td><td>Map(x-opt-sequence-number-epoch -> -1, iothub-connection-auth-generation-id -> 638486236982118213, iothub-connection-device-id -> Device1, iothub-enqueuedtime -> \"2024-04-16T17:17:21.553Z\", iothub-connection-auth-method -> {\"scope\":\"device\",\"type\":\"sas\",\"issuer\":\"iothub\",\"acceptingIpFilterRule\":null}, iothub-message-source -> Telemetry)</td></tr><tr><td>eyJkZXZpY2VfaWQiOiA2LCAidG1wIjogMTEzLCAiaG1kdCI6IDc1LCAicHJzcmUiOiA0NTgsICJ0cyI6ICIyMDI0LTA0LTE2VDIyOjQ3OjI2LjU1NDExOCIsICJzb3VyY2UiOiAiSW90SHViIn0=</td><td>2</td><td>339360</td><td>709</td><td>2024-04-16T17:17:26.943+0000</td><td>null</td><td>null</td><td>Map()</td><td>Map(x-opt-sequence-number-epoch -> -1, iothub-connection-auth-generation-id -> 638486236982118213, iothub-connection-device-id -> Device1, iothub-enqueuedtime -> \"2024-04-16T17:17:26.935Z\", iothub-connection-auth-method -> {\"scope\":\"device\",\"type\":\"sas\",\"issuer\":\"iothub\",\"acceptingIpFilterRule\":null}, iothub-message-source -> Telemetry)</td></tr><tr><td>eyJkZXZpY2VfaWQiOiA5LCAidG1wIjogMTAwLCAiaG1kdCI6IDc1LCAicHJzcmUiOiA0OTcsICJ0cyI6ICIyMDI0LTA0LTE2VDIyOjQ3OjMxLjk0MDI2OCIsICJzb3VyY2UiOiAiSW90SHViIn0=</td><td>2</td><td>339840</td><td>710</td><td>2024-04-16T17:17:32.177+0000</td><td>null</td><td>null</td><td>Map()</td><td>Map(x-opt-sequence-number-epoch -> -1, iothub-connection-auth-generation-id -> 638486236982118213, iothub-connection-device-id -> Device1, iothub-enqueuedtime -> \"2024-04-16T17:17:32.179Z\", iothub-connection-auth-method -> {\"scope\":\"device\",\"type\":\"sas\",\"issuer\":\"iothub\",\"acceptingIpFilterRule\":null}, iothub-message-source -> Telemetry)</td></tr><tr><td>eyJkZXZpY2VfaWQiOiA5LCAidG1wIjogMTE5LCAiaG1kdCI6IDc2LCAicHJzcmUiOiA0MTEsICJ0cyI6ICIyMDI0LTA0LTE2VDIyOjQ3OjM3LjE4MDIxOSIsICJzb3VyY2UiOiAiSW90SHViIn0=</td><td>2</td><td>340320</td><td>711</td><td>2024-04-16T17:17:37.380+0000</td><td>null</td><td>null</td><td>Map()</td><td>Map(x-opt-sequence-number-epoch -> -1, iothub-connection-auth-generation-id -> 638486236982118213, iothub-connection-device-id -> Device1, iothub-enqueuedtime -> \"2024-04-16T17:17:37.376Z\", iothub-connection-auth-method -> {\"scope\":\"device\",\"type\":\"sas\",\"issuer\":\"iothub\",\"acceptingIpFilterRule\":null}, iothub-message-source -> Telemetry)</td></tr><tr><td>eyJkZXZpY2VfaWQiOiAxLCAidG1wIjogMTA3LCAiaG1kdCI6IDY1LCAicHJzcmUiOiA0MTMsICJ0cyI6ICIyMDI0LTA0LTE2VDIyOjQ3OjQyLjM4MTU3OSIsICJzb3VyY2UiOiAiSW90SHViIn0=</td><td>2</td><td>340800</td><td>712</td><td>2024-04-16T17:17:42.662+0000</td><td>null</td><td>null</td><td>Map()</td><td>Map(x-opt-sequence-number-epoch -> -1, iothub-connection-auth-generation-id -> 638486236982118213, iothub-connection-device-id -> Device1, iothub-enqueuedtime -> \"2024-04-16T17:17:42.658Z\", iothub-connection-auth-method -> {\"scope\":\"device\",\"type\":\"sas\",\"issuer\":\"iothub\",\"acceptingIpFilterRule\":null}, iothub-message-source -> Telemetry)</td></tr><tr><td>eyJkZXZpY2VfaWQiOiA5LCAidG1wIjogMTE5LCAiaG1kdCI6IDcxLCAicHJzcmUiOiA0MjYsICJ0cyI6ICIyMDI0LTA0LTE2VDIyOjQ3OjQ3LjY2ODIwMCIsICJzb3VyY2UiOiAiSW90SHViIn0=</td><td>2</td><td>341280</td><td>713</td><td>2024-04-16T17:17:47.849+0000</td><td>null</td><td>null</td><td>Map()</td><td>Map(x-opt-sequence-number-epoch -> -1, iothub-connection-auth-generation-id -> 638486236982118213, iothub-connection-device-id -> Device1, iothub-enqueuedtime -> \"2024-04-16T17:17:47.845Z\", iothub-connection-auth-method -> {\"scope\":\"device\",\"type\":\"sas\",\"issuer\":\"iothub\",\"acceptingIpFilterRule\":null}, iothub-message-source -> Telemetry)</td></tr><tr><td>eyJkZXZpY2VfaWQiOiAzLCAidG1wIjogOTcsICJobWR0IjogNzEsICJwcnNyZSI6IDQ4NiwgInRzIjogIjIwMjQtMDQtMTZUMjI6NDc6NTIuODQ5OTQ5IiwgInNvdXJjZSI6ICJJb3RIdWIifQ==</td><td>2</td><td>341760</td><td>714</td><td>2024-04-16T17:17:53.615+0000</td><td>null</td><td>null</td><td>Map()</td><td>Map(x-opt-sequence-number-epoch -> -1, iothub-connection-auth-generation-id -> 638486236982118213, iothub-connection-device-id -> Device1, iothub-enqueuedtime -> \"2024-04-16T17:17:53.617Z\", iothub-connection-auth-method -> {\"scope\":\"device\",\"type\":\"sas\",\"issuer\":\"iothub\",\"acceptingIpFilterRule\":null}, iothub-message-source -> Telemetry)</td></tr><tr><td>eyJkZXZpY2VfaWQiOiAxNCwgInRtcCI6IDExNywgImhtZHQiOiA3MywgInByc3JlIjogNDk5LCAidHMiOiAiMjAyNC0wNC0xNlQyMjo0Nzo1OC42MjgyNjMiLCAic291cmNlIjogIklvdEh1YiJ9</td><td>2</td><td>342240</td><td>715</td><td>2024-04-16T17:17:58.818+0000</td><td>null</td><td>null</td><td>Map()</td><td>Map(x-opt-sequence-number-epoch -> -1, iothub-connection-auth-generation-id -> 638486236982118213, iothub-connection-device-id -> Device1, iothub-enqueuedtime -> \"2024-04-16T17:17:58.824Z\", iothub-connection-auth-method -> {\"scope\":\"device\",\"type\":\"sas\",\"issuer\":\"iothub\",\"acceptingIpFilterRule\":null}, iothub-message-source -> Telemetry)</td></tr><tr><td>eyJkZXZpY2VfaWQiOiA4LCAidG1wIjogMTA1LCAiaG1kdCI6IDY1LCAicHJzcmUiOiA0NTMsICJ0cyI6ICIyMDI0LTA0LTE2VDIyOjQ4OjAzLjgyNjc3OCIsICJzb3VyY2UiOiAiSW90SHViIn0=</td><td>2</td><td>342728</td><td>716</td><td>2024-04-16T17:18:04.193+0000</td><td>null</td><td>null</td><td>Map()</td><td>Map(x-opt-sequence-number-epoch -> -1, iothub-connection-auth-generation-id -> 638486236982118213, iothub-connection-device-id -> Device1, iothub-enqueuedtime -> \"2024-04-16T17:18:04.188Z\", iothub-connection-auth-method -> {\"scope\":\"device\",\"type\":\"sas\",\"issuer\":\"iothub\",\"acceptingIpFilterRule\":null}, iothub-message-source -> Telemetry)</td></tr><tr><td>eyJkZXZpY2VfaWQiOiA0LCAidG1wIjogMTE1LCAiaG1kdCI6IDY5LCAicHJzcmUiOiA0NTQsICJ0cyI6ICIyMDI0LTA0LTE2VDIyOjQ4OjA5LjIwMTAxMSIsICJzb3VyY2UiOiAiSW90SHViIn0=</td><td>2</td><td>343208</td><td>717</td><td>2024-04-16T17:18:09.396+0000</td><td>null</td><td>null</td><td>Map()</td><td>Map(x-opt-sequence-number-epoch -> -1, iothub-connection-auth-generation-id -> 638486236982118213, iothub-connection-device-id -> Device1, iothub-enqueuedtime -> \"2024-04-16T17:18:09.380Z\", iothub-connection-auth-method -> {\"scope\":\"device\",\"type\":\"sas\",\"issuer\":\"iothub\",\"acceptingIpFilterRule\":null}, iothub-message-source -> Telemetry)</td></tr><tr><td>eyJkZXZpY2VfaWQiOiAxMiwgInRtcCI6IDExNCwgImhtZHQiOiA2NiwgInByc3JlIjogNDEyLCAidHMiOiAiMjAyNC0wNC0xNlQyMjo0ODoxNC4zOTY3MjMiLCAic291cmNlIjogIklvdEh1YiJ9</td><td>2</td><td>343688</td><td>718</td><td>2024-04-16T17:18:14.725+0000</td><td>null</td><td>null</td><td>Map()</td><td>Map(x-opt-sequence-number-epoch -> -1, iothub-connection-auth-generation-id -> 638486236982118213, iothub-connection-device-id -> Device1, iothub-enqueuedtime -> \"2024-04-16T17:18:14.721Z\", iothub-connection-auth-method -> {\"scope\":\"device\",\"type\":\"sas\",\"issuer\":\"iothub\",\"acceptingIpFilterRule\":null}, iothub-message-source -> Telemetry)</td></tr><tr><td>eyJkZXZpY2VfaWQiOiA4LCAidG1wIjogMTE1LCAiaG1kdCI6IDczLCAicHJzcmUiOiA0NjksICJ0cyI6ICIyMDI0LTA0LTE2VDIyOjQ4OjE5Ljc0MDIzNSIsICJzb3VyY2UiOiAiSW90SHViIn0=</td><td>2</td><td>344176</td><td>719</td><td>2024-04-16T17:18:19.944+0000</td><td>null</td><td>null</td><td>Map()</td><td>Map(x-opt-sequence-number-epoch -> -1, iothub-connection-auth-generation-id -> 638486236982118213, iothub-connection-device-id -> Device1, iothub-enqueuedtime -> \"2024-04-16T17:18:19.952Z\", iothub-connection-auth-method -> {\"scope\":\"device\",\"type\":\"sas\",\"issuer\":\"iothub\",\"acceptingIpFilterRule\":null}, iothub-message-source -> Telemetry)</td></tr><tr><td>eyJkZXZpY2VfaWQiOiAxLCAidG1wIjogMTE2LCAiaG1kdCI6IDc1LCAicHJzcmUiOiA0MzcsICJ0cyI6ICIyMDI0LTA0LTE2VDIyOjQ4OjI0Ljk1MjMyNyIsICJzb3VyY2UiOiAiSW90SHViIn0=</td><td>2</td><td>344656</td><td>720</td><td>2024-04-16T17:18:25.475+0000</td><td>null</td><td>null</td><td>Map()</td><td>Map(x-opt-sequence-number-epoch -> -1, iothub-connection-auth-generation-id -> 638486236982118213, iothub-connection-device-id -> Device1, iothub-enqueuedtime -> \"2024-04-16T17:18:25.477Z\", iothub-connection-auth-method -> {\"scope\":\"device\",\"type\":\"sas\",\"issuer\":\"iothub\",\"acceptingIpFilterRule\":null}, iothub-message-source -> Telemetry)</td></tr><tr><td>eyJkZXZpY2VfaWQiOiA5LCAidG1wIjogOTgsICJobWR0IjogNzYsICJwcnNyZSI6IDQ4NCwgInRzIjogIjIwMjQtMDQtMTZUMjI6NDg6MzAuNDgyODcwIiwgInNvdXJjZSI6ICJJb3RIdWIifQ==</td><td>2</td><td>345136</td><td>721</td><td>2024-04-16T17:18:30.679+0000</td><td>null</td><td>null</td><td>Map()</td><td>Map(x-opt-sequence-number-epoch -> -1, iothub-connection-auth-generation-id -> 638486236982118213, iothub-connection-device-id -> Device1, iothub-enqueuedtime -> \"2024-04-16T17:18:30.663Z\", iothub-connection-auth-method -> {\"scope\":\"device\",\"type\":\"sas\",\"issuer\":\"iothub\",\"acceptingIpFilterRule\":null}, iothub-message-source -> Telemetry)</td></tr><tr><td>eyJkZXZpY2VfaWQiOiAxMiwgInRtcCI6IDExOCwgImhtZHQiOiA2MCwgInByc3JlIjogNDk0LCAidHMiOiAiMjAyNC0wNC0xNlQyMjo0ODozNS42NzYxODIiLCAic291cmNlIjogIklvdEh1YiJ9</td><td>2</td><td>345616</td><td>722</td><td>2024-04-16T17:18:35.929+0000</td><td>null</td><td>null</td><td>Map()</td><td>Map(x-opt-sequence-number-epoch -> -1, iothub-connection-auth-generation-id -> 638486236982118213, iothub-connection-device-id -> Device1, iothub-enqueuedtime -> \"2024-04-16T17:18:35.927Z\", iothub-connection-auth-method -> {\"scope\":\"device\",\"type\":\"sas\",\"issuer\":\"iothub\",\"acceptingIpFilterRule\":null}, iothub-message-source -> Telemetry)</td></tr><tr><td>eyJkZXZpY2VfaWQiOiAxLCAidG1wIjogOTQsICJobWR0IjogNzMsICJwcnNyZSI6IDQ1NSwgInRzIjogIjIwMjQtMDQtMTZUMjI6NDg6NDAuOTM2MjgwIiwgInNvdXJjZSI6ICJJb3RIdWIifQ==</td><td>2</td><td>346104</td><td>723</td><td>2024-04-16T17:18:41.384+0000</td><td>null</td><td>null</td><td>Map()</td><td>Map(x-opt-sequence-number-epoch -> -1, iothub-connection-auth-generation-id -> 638486236982118213, iothub-connection-device-id -> Device1, iothub-enqueuedtime -> \"2024-04-16T17:18:41.375Z\", iothub-connection-auth-method -> {\"scope\":\"device\",\"type\":\"sas\",\"issuer\":\"iothub\",\"acceptingIpFilterRule\":null}, iothub-message-source -> Telemetry)</td></tr><tr><td>eyJkZXZpY2VfaWQiOiA0LCAidG1wIjogMTE0LCAiaG1kdCI6IDczLCAicHJzcmUiOiA0MzAsICJ0cyI6ICIyMDI0LTA0LTE2VDIyOjQ4OjQ2LjM4MDI0NSIsICJzb3VyY2UiOiAiSW90SHViIn0=</td><td>2</td><td>346584</td><td>724</td><td>2024-04-16T17:18:46.634+0000</td><td>null</td><td>null</td><td>Map()</td><td>Map(x-opt-sequence-number-epoch -> -1, iothub-connection-auth-generation-id -> 638486236982118213, iothub-connection-device-id -> Device1, iothub-enqueuedtime -> \"2024-04-16T17:18:46.633Z\", iothub-connection-auth-method -> {\"scope\":\"device\",\"type\":\"sas\",\"issuer\":\"iothub\",\"acceptingIpFilterRule\":null}, iothub-message-source -> Telemetry)</td></tr><tr><td>eyJkZXZpY2VfaWQiOiAzLCAidG1wIjogOTksICJobWR0IjogNzMsICJwcnNyZSI6IDQxNSwgInRzIjogIjIwMjQtMDQtMTZUMjI6NDg6NTEuNjQ1MjYzIiwgInNvdXJjZSI6ICJJb3RIdWIifQ==</td><td>2</td><td>347064</td><td>725</td><td>2024-04-16T17:18:51.854+0000</td><td>null</td><td>null</td><td>Map()</td><td>Map(x-opt-sequence-number-epoch -> -1, iothub-connection-auth-generation-id -> 638486236982118213, iothub-connection-device-id -> Device1, iothub-enqueuedtime -> \"2024-04-16T17:18:51.852Z\", iothub-connection-auth-method -> {\"scope\":\"device\",\"type\":\"sas\",\"issuer\":\"iothub\",\"acceptingIpFilterRule\":null}, iothub-message-source -> Telemetry)</td></tr><tr><td>eyJkZXZpY2VfaWQiOiAxNCwgInRtcCI6IDk3LCAiaG1kdCI6IDY2LCAicHJzcmUiOiA0OTcsICJ0cyI6ICIyMDI0LTA0LTE2VDIyOjQ4OjU2Ljg1NzgyNyIsICJzb3VyY2UiOiAiSW90SHViIn0=</td><td>2</td><td>347544</td><td>726</td><td>2024-04-16T17:18:57.307+0000</td><td>null</td><td>null</td><td>Map()</td><td>Map(x-opt-sequence-number-epoch -> -1, iothub-connection-auth-generation-id -> 638486236982118213, iothub-connection-device-id -> Device1, iothub-enqueuedtime -> \"2024-04-16T17:18:57.312Z\", iothub-connection-auth-method -> {\"scope\":\"device\",\"type\":\"sas\",\"issuer\":\"iothub\",\"acceptingIpFilterRule\":null}, iothub-message-source -> Telemetry)</td></tr><tr><td>eyJkZXZpY2VfaWQiOiAxMywgInRtcCI6IDExMywgImhtZHQiOiA2NSwgInByc3JlIjogNDc4LCAidHMiOiAiMjAyNC0wNC0xNlQyMjo0OTowMi4zMTA0NDkiLCAic291cmNlIjogIklvdEh1YiJ9</td><td>2</td><td>348024</td><td>727</td><td>2024-04-16T17:19:02.729+0000</td><td>null</td><td>null</td><td>Map()</td><td>Map(x-opt-sequence-number-epoch -> -1, iothub-connection-auth-generation-id -> 638486236982118213, iothub-connection-device-id -> Device1, iothub-enqueuedtime -> \"2024-04-16T17:19:02.741Z\", iothub-connection-auth-method -> {\"scope\":\"device\",\"type\":\"sas\",\"issuer\":\"iothub\",\"acceptingIpFilterRule\":null}, iothub-message-source -> Telemetry)</td></tr><tr><td>eyJkZXZpY2VfaWQiOiA3LCAidG1wIjogOTIsICJobWR0IjogNjQsICJwcnNyZSI6IDQ0NCwgInRzIjogIjIwMjQtMDQtMTZUMjI6NDk6MDcuNzMyMTg0IiwgInNvdXJjZSI6ICJJb3RIdWIifQ==</td><td>2</td><td>348512</td><td>728</td><td>2024-04-16T17:19:08.606+0000</td><td>null</td><td>null</td><td>Map()</td><td>Map(x-opt-sequence-number-epoch -> -1, iothub-connection-auth-generation-id -> 638486236982118213, iothub-connection-device-id -> Device1, iothub-enqueuedtime -> \"2024-04-16T17:19:08.600Z\", iothub-connection-auth-method -> {\"scope\":\"device\",\"type\":\"sas\",\"issuer\":\"iothub\",\"acceptingIpFilterRule\":null}, iothub-message-source -> Telemetry)</td></tr><tr><td>eyJkZXZpY2VfaWQiOiA5LCAidG1wIjogMTA4LCAiaG1kdCI6IDYwLCAicHJzcmUiOiA0MTMsICJ0cyI6ICIyMDI0LTA0LTE2VDIyOjQ5OjEzLjYxMjI1OCIsICJzb3VyY2UiOiAiSW90SHViIn0=</td><td>2</td><td>348992</td><td>729</td><td>2024-04-16T17:19:13.809+0000</td><td>null</td><td>null</td><td>Map()</td><td>Map(x-opt-sequence-number-epoch -> -1, iothub-connection-auth-generation-id -> 638486236982118213, iothub-connection-device-id -> Device1, iothub-enqueuedtime -> \"2024-04-16T17:19:13.815Z\", iothub-connection-auth-method -> {\"scope\":\"device\",\"type\":\"sas\",\"issuer\":\"iothub\",\"acceptingIpFilterRule\":null}, iothub-message-source -> Telemetry)</td></tr><tr><td>eyJkZXZpY2VfaWQiOiAxNCwgInRtcCI6IDExMiwgImhtZHQiOiA3NSwgInByc3JlIjogNDQ0LCAidHMiOiAiMjAyNC0wNC0xNlQyMjo0OToxOC44MjAyNzgiLCAic291cmNlIjogIklvdEh1YiJ9</td><td>2</td><td>349472</td><td>730</td><td>2024-04-16T17:19:20.278+0000</td><td>null</td><td>null</td><td>Map()</td><td>Map(x-opt-sequence-number-epoch -> -1, iothub-connection-auth-generation-id -> 638486236982118213, iothub-connection-device-id -> Device1, iothub-enqueuedtime -> \"2024-04-16T17:19:20.282Z\", iothub-connection-auth-method -> {\"scope\":\"device\",\"type\":\"sas\",\"issuer\":\"iothub\",\"acceptingIpFilterRule\":null}, iothub-message-source -> Telemetry)</td></tr><tr><td>eyJkZXZpY2VfaWQiOiA5LCAidG1wIjogMTAxLCAiaG1kdCI6IDY1LCAicHJzcmUiOiA0ODgsICJ0cyI6ICIyMDI0LTA0LTE2VDIyOjQ5OjI1LjI5NjIyMSIsICJzb3VyY2UiOiAiSW90SHViIn0=</td><td>2</td><td>349960</td><td>731</td><td>2024-04-16T17:19:25.481+0000</td><td>null</td><td>null</td><td>Map()</td><td>Map(x-opt-sequence-number-epoch -> -1, iothub-connection-auth-generation-id -> 638486236982118213, iothub-connection-device-id -> Device1, iothub-enqueuedtime -> \"2024-04-16T17:19:25.478Z\", iothub-connection-auth-method -> {\"scope\":\"device\",\"type\":\"sas\",\"issuer\":\"iothub\",\"acceptingIpFilterRule\":null}, iothub-message-source -> Telemetry)</td></tr><tr><td>eyJkZXZpY2VfaWQiOiA1LCAidG1wIjogMTE2LCAiaG1kdCI6IDY3LCAicHJzcmUiOiA0MTgsICJ0cyI6ICIyMDI0LTA0LTE2VDIyOjQ5OjMwLjQ4ODM4MCIsICJzb3VyY2UiOiAiSW90SHViIn0=</td><td>2</td><td>350440</td><td>732</td><td>2024-04-16T17:19:31.262+0000</td><td>null</td><td>null</td><td>Map()</td><td>Map(x-opt-sequence-number-epoch -> -1, iothub-connection-auth-generation-id -> 638486236982118213, iothub-connection-device-id -> Device1, iothub-enqueuedtime -> \"2024-04-16T17:19:31.257Z\", iothub-connection-auth-method -> {\"scope\":\"device\",\"type\":\"sas\",\"issuer\":\"iothub\",\"acceptingIpFilterRule\":null}, iothub-message-source -> Telemetry)</td></tr><tr><td>eyJkZXZpY2VfaWQiOiA3LCAidG1wIjogMTAzLCAiaG1kdCI6IDY2LCAicHJzcmUiOiA0NDgsICJ0cyI6ICIyMDI0LTA0LTE2VDIyOjQ5OjM2LjI2MDI1MyIsICJzb3VyY2UiOiAiSW90SHViIn0=</td><td>2</td><td>350920</td><td>733</td><td>2024-04-16T17:19:36.465+0000</td><td>null</td><td>null</td><td>Map()</td><td>Map(x-opt-sequence-number-epoch -> -1, iothub-connection-auth-generation-id -> 638486236982118213, iothub-connection-device-id -> Device1, iothub-enqueuedtime -> \"2024-04-16T17:19:36.472Z\", iothub-connection-auth-method -> {\"scope\":\"device\",\"type\":\"sas\",\"issuer\":\"iothub\",\"acceptingIpFilterRule\":null}, iothub-message-source -> Telemetry)</td></tr><tr><td>eyJkZXZpY2VfaWQiOiAxNCwgInRtcCI6IDEwMSwgImhtZHQiOiA3MywgInByc3JlIjogNDA1LCAidHMiOiAiMjAyNC0wNC0xNlQyMjo0OTo0MS40NzIxOTQiLCAic291cmNlIjogIklvdEh1YiJ9</td><td>2</td><td>351400</td><td>734</td><td>2024-04-16T17:19:41.747+0000</td><td>null</td><td>null</td><td>Map()</td><td>Map(x-opt-sequence-number-epoch -> -1, iothub-connection-auth-generation-id -> 638486236982118213, iothub-connection-device-id -> Device1, iothub-enqueuedtime -> \"2024-04-16T17:19:41.739Z\", iothub-connection-auth-method -> {\"scope\":\"device\",\"type\":\"sas\",\"issuer\":\"iothub\",\"acceptingIpFilterRule\":null}, iothub-message-source -> Telemetry)</td></tr><tr><td>eyJkZXZpY2VfaWQiOiA1LCAidG1wIjogOTgsICJobWR0IjogNzksICJwcnNyZSI6IDQ2NywgInRzIjogIjIwMjQtMDQtMTZUMjI6NDk6NDYuNzQwMjY0IiwgInNvdXJjZSI6ICJJb3RIdWIifQ==</td><td>2</td><td>351888</td><td>735</td><td>2024-04-16T17:19:47.263+0000</td><td>null</td><td>null</td><td>Map()</td><td>Map(x-opt-sequence-number-epoch -> -1, iothub-connection-auth-generation-id -> 638486236982118213, iothub-connection-device-id -> Device1, iothub-enqueuedtime -> \"2024-04-16T17:19:47.259Z\", iothub-connection-auth-method -> {\"scope\":\"device\",\"type\":\"sas\",\"issuer\":\"iothub\",\"acceptingIpFilterRule\":null}, iothub-message-source -> Telemetry)</td></tr><tr><td>eyJkZXZpY2VfaWQiOiAxMywgInRtcCI6IDEwNiwgImhtZHQiOiA2NywgInByc3JlIjogNDk3LCAidHMiOiAiMjAyNC0wNC0xNlQyMjo0OTo1Mi4yODUxMjIiLCAic291cmNlIjogIklvdEh1YiJ9</td><td>2</td><td>352368</td><td>736</td><td>2024-04-16T17:19:52.919+0000</td><td>null</td><td>null</td><td>Map()</td><td>Map(x-opt-sequence-number-epoch -> -1, iothub-connection-auth-generation-id -> 638486236982118213, iothub-connection-device-id -> Device1, iothub-enqueuedtime -> \"2024-04-16T17:19:52.917Z\", iothub-connection-auth-method -> {\"scope\":\"device\",\"type\":\"sas\",\"issuer\":\"iothub\",\"acceptingIpFilterRule\":null}, iothub-message-source -> Telemetry)</td></tr><tr><td>eyJkZXZpY2VfaWQiOiAxLCAidG1wIjogMTEyLCAiaG1kdCI6IDc2LCAicHJzcmUiOiA0ODUsICJ0cyI6ICIyMDI0LTA0LTE2VDIyOjQ5OjU3LjkxOTQ5OSIsICJzb3VyY2UiOiAiSW90SHViIn0=</td><td>2</td><td>352856</td><td>737</td><td>2024-04-16T17:19:58.138+0000</td><td>null</td><td>null</td><td>Map()</td><td>Map(x-opt-sequence-number-epoch -> -1, iothub-connection-auth-generation-id -> 638486236982118213, iothub-connection-device-id -> Device1, iothub-enqueuedtime -> \"2024-04-16T17:19:58.130Z\", iothub-connection-auth-method -> {\"scope\":\"device\",\"type\":\"sas\",\"issuer\":\"iothub\",\"acceptingIpFilterRule\":null}, iothub-message-source -> Telemetry)</td></tr><tr><td>eyJkZXZpY2VfaWQiOiAzLCAidG1wIjogOTIsICJobWR0IjogNzcsICJwcnNyZSI6IDQwMSwgInRzIjogIjIwMjQtMDQtMTZUMjI6NTA6MDMuMTM1OTQ2IiwgInNvdXJjZSI6ICJJb3RIdWIifQ==</td><td>2</td><td>353336</td><td>738</td><td>2024-04-16T17:20:03.435+0000</td><td>null</td><td>null</td><td>Map()</td><td>Map(x-opt-sequence-number-epoch -> -1, iothub-connection-auth-generation-id -> 638486236982118213, iothub-connection-device-id -> Device1, iothub-enqueuedtime -> \"2024-04-16T17:20:03.429Z\", iothub-connection-auth-method -> {\"scope\":\"device\",\"type\":\"sas\",\"issuer\":\"iothub\",\"acceptingIpFilterRule\":null}, iothub-message-source -> Telemetry)</td></tr><tr><td>eyJkZXZpY2VfaWQiOiAxMywgInRtcCI6IDExMCwgImhtZHQiOiA3MywgInByc3JlIjogNDkzLCAidHMiOiAiMjAyNC0wNC0xNlQyMjo1MDowOC40MzMxNzEiLCAic291cmNlIjogIklvdEh1YiJ9</td><td>2</td><td>353816</td><td>739</td><td>2024-04-16T17:20:09.248+0000</td><td>null</td><td>null</td><td>Map()</td><td>Map(x-opt-sequence-number-epoch -> -1, iothub-connection-auth-generation-id -> 638486236982118213, iothub-connection-device-id -> Device1, iothub-enqueuedtime -> \"2024-04-16T17:20:09.247Z\", iothub-connection-auth-method -> {\"scope\":\"device\",\"type\":\"sas\",\"issuer\":\"iothub\",\"acceptingIpFilterRule\":null}, iothub-message-source -> Telemetry)</td></tr><tr><td>eyJkZXZpY2VfaWQiOiAxLCAidG1wIjogOTUsICJobWR0IjogNjEsICJwcnNyZSI6IDQ4NSwgInRzIjogIjIwMjQtMDQtMTZUMjI6NTA6MTQuMjQ4MjYyIiwgInNvdXJjZSI6ICJJb3RIdWIifQ==</td><td>2</td><td>354304</td><td>740</td><td>2024-04-16T17:20:14.561+0000</td><td>null</td><td>null</td><td>Map()</td><td>Map(x-opt-sequence-number-epoch -> -1, iothub-connection-auth-generation-id -> 638486236982118213, iothub-connection-device-id -> Device1, iothub-enqueuedtime -> \"2024-04-16T17:20:14.565Z\", iothub-connection-auth-method -> {\"scope\":\"device\",\"type\":\"sas\",\"issuer\":\"iothub\",\"acceptingIpFilterRule\":null}, iothub-message-source -> Telemetry)</td></tr><tr><td>eyJkZXZpY2VfaWQiOiAxNCwgInRtcCI6IDkyLCAiaG1kdCI6IDY3LCAicHJzcmUiOiA0MjEsICJ0cyI6ICIyMDI0LTA0LTE2VDIyOjUwOjE5Ljg1MjE3MSIsICJzb3VyY2UiOiAiSW90SHViIn0=</td><td>2</td><td>354784</td><td>741</td><td>2024-04-16T17:20:20.295+0000</td><td>null</td><td>null</td><td>Map()</td><td>Map(x-opt-sequence-number-epoch -> -1, iothub-connection-auth-generation-id -> 638486236982118213, iothub-connection-device-id -> Device1, iothub-enqueuedtime -> \"2024-04-16T17:20:20.293Z\", iothub-connection-auth-method -> {\"scope\":\"device\",\"type\":\"sas\",\"issuer\":\"iothub\",\"acceptingIpFilterRule\":null}, iothub-message-source -> Telemetry)</td></tr><tr><td>eyJkZXZpY2VfaWQiOiA2LCAidG1wIjogMTA0LCAiaG1kdCI6IDY2LCAicHJzcmUiOiA0MzksICJ0cyI6ICIyMDI0LTA0LTE2VDIyOjUwOjI1LjMwMTc4MSIsICJzb3VyY2UiOiAiSW90SHViIn0=</td><td>2</td><td>355264</td><td>742</td><td>2024-04-16T17:20:25.545+0000</td><td>null</td><td>null</td><td>Map()</td><td>Map(x-opt-sequence-number-epoch -> -1, iothub-connection-auth-generation-id -> 638486236982118213, iothub-connection-device-id -> Device1, iothub-enqueuedtime -> \"2024-04-16T17:20:25.547Z\", iothub-connection-auth-method -> {\"scope\":\"device\",\"type\":\"sas\",\"issuer\":\"iothub\",\"acceptingIpFilterRule\":null}, iothub-message-source -> Telemetry)</td></tr><tr><td>eyJkZXZpY2VfaWQiOiA3LCAidG1wIjogMTEyLCAiaG1kdCI6IDY1LCAicHJzcmUiOiA0ODAsICJ0cyI6ICIyMDI0LTA0LTE2VDIyOjUwOjMwLjU1MjIxNSIsICJzb3VyY2UiOiAiSW90SHViIn0=</td><td>2</td><td>355744</td><td>743</td><td>2024-04-16T17:20:30.748+0000</td><td>null</td><td>null</td><td>Map()</td><td>Map(x-opt-sequence-number-epoch -> -1, iothub-connection-auth-generation-id -> 638486236982118213, iothub-connection-device-id -> Device1, iothub-enqueuedtime -> \"2024-04-16T17:20:30.756Z\", iothub-connection-auth-method -> {\"scope\":\"device\",\"type\":\"sas\",\"issuer\":\"iothub\",\"acceptingIpFilterRule\":null}, iothub-message-source -> Telemetry)</td></tr><tr><td>eyJkZXZpY2VfaWQiOiAxNCwgInRtcCI6IDExMiwgImhtZHQiOiA2NywgInByc3JlIjogNDkzLCAidHMiOiAiMjAyNC0wNC0xNlQyMjo1MDozNS43NTIzMTciLCAic291cmNlIjogIklvdEh1YiJ9</td><td>2</td><td>356224</td><td>744</td><td>2024-04-16T17:20:36.248+0000</td><td>null</td><td>null</td><td>Map()</td><td>Map(x-opt-sequence-number-epoch -> -1, iothub-connection-auth-generation-id -> 638486236982118213, iothub-connection-device-id -> Device1, iothub-enqueuedtime -> \"2024-04-16T17:20:36.251Z\", iothub-connection-auth-method -> {\"scope\":\"device\",\"type\":\"sas\",\"issuer\":\"iothub\",\"acceptingIpFilterRule\":null}, iothub-message-source -> Telemetry)</td></tr><tr><td>eyJkZXZpY2VfaWQiOiAxNCwgInRtcCI6IDk2LCAiaG1kdCI6IDc5LCAicHJzcmUiOiA0NTAsICJ0cyI6ICIyMDI0LTA0LTE2VDIyOjUwOjQxLjI1MjIwNiIsICJzb3VyY2UiOiAiSW90SHViIn0=</td><td>2</td><td>356712</td><td>745</td><td>2024-04-16T17:20:41.734+0000</td><td>null</td><td>null</td><td>Map()</td><td>Map(x-opt-sequence-number-epoch -> -1, iothub-connection-auth-generation-id -> 638486236982118213, iothub-connection-device-id -> Device1, iothub-enqueuedtime -> \"2024-04-16T17:20:41.733Z\", iothub-connection-auth-method -> {\"scope\":\"device\",\"type\":\"sas\",\"issuer\":\"iothub\",\"acceptingIpFilterRule\":null}, iothub-message-source -> Telemetry)</td></tr><tr><td>eyJkZXZpY2VfaWQiOiA4LCAidG1wIjogMTA1LCAiaG1kdCI6IDc2LCAicHJzcmUiOiA0MjAsICJ0cyI6ICIyMDI0LTA0LTE2VDIyOjUwOjQ2Ljc0MzY1NCIsICJzb3VyY2UiOiAiSW90SHViIn0=</td><td>2</td><td>357192</td><td>746</td><td>2024-04-16T17:20:47.109+0000</td><td>null</td><td>null</td><td>Map()</td><td>Map(x-opt-sequence-number-epoch -> -1, iothub-connection-auth-generation-id -> 638486236982118213, iothub-connection-device-id -> Device1, iothub-enqueuedtime -> \"2024-04-16T17:20:47.115Z\", iothub-connection-auth-method -> {\"scope\":\"device\",\"type\":\"sas\",\"issuer\":\"iothub\",\"acceptingIpFilterRule\":null}, iothub-message-source -> Telemetry)</td></tr><tr><td>eyJkZXZpY2VfaWQiOiAxNCwgInRtcCI6IDEwOCwgImhtZHQiOiA3NiwgInByc3JlIjogNDY0LCAidHMiOiAiMjAyNC0wNC0xNlQyMjo1MDo1Mi4xMjgxMzUiLCAic291cmNlIjogIklvdEh1YiJ9</td><td>2</td><td>357672</td><td>747</td><td>2024-04-16T17:20:53.437+0000</td><td>null</td><td>null</td><td>Map()</td><td>Map(x-opt-sequence-number-epoch -> -1, iothub-connection-auth-generation-id -> 638486236982118213, iothub-connection-device-id -> Device1, iothub-enqueuedtime -> \"2024-04-16T17:20:53.448Z\", iothub-connection-auth-method -> {\"scope\":\"device\",\"type\":\"sas\",\"issuer\":\"iothub\",\"acceptingIpFilterRule\":null}, iothub-message-source -> Telemetry)</td></tr><tr><td>eyJkZXZpY2VfaWQiOiA0LCAidG1wIjogMTAyLCAiaG1kdCI6IDYwLCAicHJzcmUiOiA0NDksICJ0cyI6ICIyMDI0LTA0LTE2VDIyOjUwOjU4LjQ0MTI4MyIsICJzb3VyY2UiOiAiSW90SHViIn0=</td><td>2</td><td>358160</td><td>748</td><td>2024-04-16T17:20:58.687+0000</td><td>null</td><td>null</td><td>Map()</td><td>Map(x-opt-sequence-number-epoch -> -1, iothub-connection-auth-generation-id -> 638486236982118213, iothub-connection-device-id -> Device1, iothub-enqueuedtime -> \"2024-04-16T17:20:58.686Z\", iothub-connection-auth-method -> {\"scope\":\"device\",\"type\":\"sas\",\"issuer\":\"iothub\",\"acceptingIpFilterRule\":null}, iothub-message-source -> Telemetry)</td></tr></tbody></table></div>"
      ]
     },
     "metadata": {
      "application/vnd.databricks.v1+output": {
       "addedWidgets": {},
       "aggData": [],
       "aggError": "",
       "aggOverflow": false,
       "aggSchema": [],
       "aggSeriesLimitReached": false,
       "aggType": "",
       "arguments": {},
       "columnCustomDisplayInfos": {},
       "data": [
        [
         "eyJkZXZpY2VfaWQiOiA1LCAidG1wIjogMTAyLCAiaG1kdCI6IDcyLCAicHJzcmUiOiA0NTksICJ0cyI6ICIyMDI0LTA0LTE2VDIwOjAzOjI4LjAyNDI3MiIsICJzb3VyY2UiOiAiSW90SHViIn0=",
         "2",
         "217368",
         456,
         "2024-04-16T14:33:31.992+0000",
         null,
         null,
         {},
         {
          "iothub-connection-auth-generation-id": "638486236982118213",
          "iothub-connection-auth-method": "{\"scope\":\"device\",\"type\":\"sas\",\"issuer\":\"iothub\",\"acceptingIpFilterRule\":null}",
          "iothub-connection-device-id": "Device1",
          "iothub-enqueuedtime": "\"2024-04-16T14:33:31.614Z\"",
          "iothub-message-source": "Telemetry",
          "x-opt-sequence-number-epoch": "-1"
         }
        ],
        [
         "eyJkZXZpY2VfaWQiOiA3LCAidG1wIjogMTE2LCAiaG1kdCI6IDc5LCAicHJzcmUiOiA0NzgsICJ0cyI6ICIyMDI0LTA0LTE2VDIwOjAzOjM3LjA0MDE3NSIsICJzb3VyY2UiOiAiSW90SHViIn0=",
         "2",
         "217848",
         457,
         "2024-04-16T14:33:40.743+0000",
         null,
         null,
         {},
         {
          "iothub-connection-auth-generation-id": "638486236982118213",
          "iothub-connection-auth-method": "{\"scope\":\"device\",\"type\":\"sas\",\"issuer\":\"iothub\",\"acceptingIpFilterRule\":null}",
          "iothub-connection-device-id": "Device1",
          "iothub-enqueuedtime": "\"2024-04-16T14:33:40.508Z\"",
          "iothub-message-source": "Telemetry",
          "x-opt-sequence-number-epoch": "-1"
         }
        ],
        [
         "eyJkZXZpY2VfaWQiOiA0LCAidG1wIjogOTQsICJobWR0IjogNzYsICJwcnNyZSI6IDQ3MywgInRzIjogIjIwMjQtMDQtMTZUMjA6MDM6NDUuODI0MjE2IiwgInNvdXJjZSI6ICJJb3RIdWIifQ==",
         "2",
         "218328",
         458,
         "2024-04-16T14:33:46.290+0000",
         null,
         null,
         {},
         {
          "iothub-connection-auth-generation-id": "638486236982118213",
          "iothub-connection-auth-method": "{\"scope\":\"device\",\"type\":\"sas\",\"issuer\":\"iothub\",\"acceptingIpFilterRule\":null}",
          "iothub-connection-device-id": "Device1",
          "iothub-enqueuedtime": "\"2024-04-16T14:33:46.002Z\"",
          "iothub-message-source": "Telemetry",
          "x-opt-sequence-number-epoch": "-1"
         }
        ],
        [
         "eyJkZXZpY2VfaWQiOiAxMSwgInRtcCI6IDEwMiwgImhtZHQiOiA3OCwgInByc3JlIjogNDYzLCAidHMiOiAiMjAyNC0wNC0xNlQyMDowMzo1MS4zNTY0ODciLCAic291cmNlIjogIklvdEh1YiJ9",
         "2",
         "218808",
         459,
         "2024-04-16T14:33:52.447+0000",
         null,
         null,
         {},
         {
          "iothub-connection-auth-generation-id": "638486236982118213",
          "iothub-connection-auth-method": "{\"scope\":\"device\",\"type\":\"sas\",\"issuer\":\"iothub\",\"acceptingIpFilterRule\":null}",
          "iothub-connection-device-id": "Device1",
          "iothub-enqueuedtime": "\"2024-04-16T14:33:52.154Z\"",
          "iothub-message-source": "Telemetry",
          "x-opt-sequence-number-epoch": "-1"
         }
        ],
        [
         "eyJkZXZpY2VfaWQiOiAxNCwgInRtcCI6IDExOCwgImhtZHQiOiA2OCwgInByc3JlIjogNDMxLCAidHMiOiAiMjAyNC0wNC0xNlQyMDowMzo1Ny41MDQyNTgiLCAic291cmNlIjogIklvdEh1YiJ9",
         "2",
         "219296",
         460,
         "2024-04-16T14:33:57.932+0000",
         null,
         null,
         {},
         {
          "iothub-connection-auth-generation-id": "638486236982118213",
          "iothub-connection-auth-method": "{\"scope\":\"device\",\"type\":\"sas\",\"issuer\":\"iothub\",\"acceptingIpFilterRule\":null}",
          "iothub-connection-device-id": "Device1",
          "iothub-enqueuedtime": "\"2024-04-16T14:33:57.932Z\"",
          "iothub-message-source": "Telemetry",
          "x-opt-sequence-number-epoch": "-1"
         }
        ],
        [
         "eyJkZXZpY2VfaWQiOiAzLCAidG1wIjogMTE2LCAiaG1kdCI6IDc5LCAicHJzcmUiOiA0NzEsICJ0cyI6ICIyMDI0LTA0LTE2VDIwOjA0OjAyLjk3ODcxMCIsICJzb3VyY2UiOiAiSW90SHViIn0=",
         "2",
         "219784",
         461,
         "2024-04-16T14:34:03.182+0000",
         null,
         null,
         {},
         {
          "iothub-connection-auth-generation-id": "638486236982118213",
          "iothub-connection-auth-method": "{\"scope\":\"device\",\"type\":\"sas\",\"issuer\":\"iothub\",\"acceptingIpFilterRule\":null}",
          "iothub-connection-device-id": "Device1",
          "iothub-enqueuedtime": "\"2024-04-16T14:34:03.172Z\"",
          "iothub-message-source": "Telemetry",
          "x-opt-sequence-number-epoch": "-1"
         }
        ],
        [
         "eyJkZXZpY2VfaWQiOiA0LCAidG1wIjogMTA1LCAiaG1kdCI6IDY1LCAicHJzcmUiOiA0NDksICJ0cyI6ICIyMDI0LTA0LTE2VDIwOjA0OjA4LjIzNjcwOCIsICJzb3VyY2UiOiAiSW90SHViIn0=",
         "2",
         "220264",
         462,
         "2024-04-16T14:34:08.776+0000",
         null,
         null,
         {},
         {
          "iothub-connection-auth-generation-id": "638486236982118213",
          "iothub-connection-auth-method": "{\"scope\":\"device\",\"type\":\"sas\",\"issuer\":\"iothub\",\"acceptingIpFilterRule\":null}",
          "iothub-connection-device-id": "Device1",
          "iothub-enqueuedtime": "\"2024-04-16T14:34:08.423Z\"",
          "iothub-message-source": "Telemetry",
          "x-opt-sequence-number-epoch": "-1"
         }
        ],
        [
         "eyJkZXZpY2VfaWQiOiA3LCAidG1wIjogOTMsICJobWR0IjogNjUsICJwcnNyZSI6IDQ1MywgInRzIjogIjIwMjQtMDQtMTZUMjA6MDQ6MTMuOTkyOTQwIiwgInNvdXJjZSI6ICJJb3RIdWIifQ==",
         "2",
         "220744",
         463,
         "2024-04-16T14:34:18.011+0000",
         null,
         null,
         {},
         {
          "iothub-connection-auth-generation-id": "638486236982118213",
          "iothub-connection-auth-method": "{\"scope\":\"device\",\"type\":\"sas\",\"issuer\":\"iothub\",\"acceptingIpFilterRule\":null}",
          "iothub-connection-device-id": "Device1",
          "iothub-enqueuedtime": "\"2024-04-16T14:34:17.690Z\"",
          "iothub-message-source": "Telemetry",
          "x-opt-sequence-number-epoch": "-1"
         }
        ],
        [
         "eyJkZXZpY2VfaWQiOiA3LCAidG1wIjogOTQsICJobWR0IjogNjQsICJwcnNyZSI6IDQ3MywgInRzIjogIjIwMjQtMDQtMTZUMjA6MDQ6MjMuMTA0MjU1IiwgInNvdXJjZSI6ICJJb3RIdWIifQ==",
         "2",
         "221224",
         464,
         "2024-04-16T14:34:23.824+0000",
         null,
         null,
         {},
         {
          "iothub-connection-auth-generation-id": "638486236982118213",
          "iothub-connection-auth-method": "{\"scope\":\"device\",\"type\":\"sas\",\"issuer\":\"iothub\",\"acceptingIpFilterRule\":null}",
          "iothub-connection-device-id": "Device1",
          "iothub-enqueuedtime": "\"2024-04-16T14:34:23.270Z\"",
          "iothub-message-source": "Telemetry",
          "x-opt-sequence-number-epoch": "-1"
         }
        ],
        [
         "eyJkZXZpY2VfaWQiOiAxMiwgInRtcCI6IDExNCwgImhtZHQiOiA3NiwgInByc3JlIjogNDgwLCAidHMiOiAiMjAyNC0wNC0xNlQyMDowNDoyOC45NDAyNDAiLCAic291cmNlIjogIklvdEh1YiJ9",
         "2",
         "221704",
         465,
         "2024-04-16T14:34:29.168+0000",
         null,
         null,
         {},
         {
          "iothub-connection-auth-generation-id": "638486236982118213",
          "iothub-connection-auth-method": "{\"scope\":\"device\",\"type\":\"sas\",\"issuer\":\"iothub\",\"acceptingIpFilterRule\":null}",
          "iothub-connection-device-id": "Device1",
          "iothub-enqueuedtime": "\"2024-04-16T14:34:29.169Z\"",
          "iothub-message-source": "Telemetry",
          "x-opt-sequence-number-epoch": "-1"
         }
        ],
        [
         "eyJkZXZpY2VfaWQiOiAxLCAidG1wIjogOTgsICJobWR0IjogNjgsICJwcnNyZSI6IDQzOSwgInRzIjogIjIwMjQtMDQtMTZUMjA6MDQ6MzQuMjI3NzgxIiwgInNvdXJjZSI6ICJJb3RIdWIifQ==",
         "2",
         "222192",
         466,
         "2024-04-16T14:34:34.716+0000",
         null,
         null,
         {},
         {
          "iothub-connection-auth-generation-id": "638486236982118213",
          "iothub-connection-auth-method": "{\"scope\":\"device\",\"type\":\"sas\",\"issuer\":\"iothub\",\"acceptingIpFilterRule\":null}",
          "iothub-connection-device-id": "Device1",
          "iothub-enqueuedtime": "\"2024-04-16T14:34:34.412Z\"",
          "iothub-message-source": "Telemetry",
          "x-opt-sequence-number-epoch": "-1"
         }
        ],
        [
         "eyJkZXZpY2VfaWQiOiAxMCwgInRtcCI6IDExMiwgImhtZHQiOiA3MSwgInByc3JlIjogNDg3LCAidHMiOiAiMjAyNC0wNC0xNlQyMDowNDo0MC4xMDU2NzAiLCAic291cmNlIjogIklvdEh1YiJ9",
         "2",
         "222672",
         467,
         "2024-04-16T14:34:40.310+0000",
         null,
         null,
         {},
         {
          "iothub-connection-auth-generation-id": "638486236982118213",
          "iothub-connection-auth-method": "{\"scope\":\"device\",\"type\":\"sas\",\"issuer\":\"iothub\",\"acceptingIpFilterRule\":null}",
          "iothub-connection-device-id": "Device1",
          "iothub-enqueuedtime": "\"2024-04-16T14:34:40.313Z\"",
          "iothub-message-source": "Telemetry",
          "x-opt-sequence-number-epoch": "-1"
         }
        ],
        [
         "eyJkZXZpY2VfaWQiOiA1LCAidG1wIjogOTIsICJobWR0IjogNjIsICJwcnNyZSI6IDQ5NiwgInRzIjogIjIwMjQtMDQtMTZUMjA6MDQ6NDUuMzcwOTk0IiwgInNvdXJjZSI6ICJJb3RIdWIifQ==",
         "2",
         "223160",
         468,
         "2024-04-16T14:34:45.513+0000",
         null,
         null,
         {},
         {
          "iothub-connection-auth-generation-id": "638486236982118213",
          "iothub-connection-auth-method": "{\"scope\":\"device\",\"type\":\"sas\",\"issuer\":\"iothub\",\"acceptingIpFilterRule\":null}",
          "iothub-connection-device-id": "Device1",
          "iothub-enqueuedtime": "\"2024-04-16T14:34:45.517Z\"",
          "iothub-message-source": "Telemetry",
          "x-opt-sequence-number-epoch": "-1"
         }
        ],
        [
         "eyJkZXZpY2VfaWQiOiAyLCAidG1wIjogMTA1LCAiaG1kdCI6IDcwLCAicHJzcmUiOiA0MDQsICJ0cyI6ICIyMDI0LTA0LTE2VDIwOjA0OjUwLjU3MjA2MCIsICJzb3VyY2UiOiAiSW90SHViIn0=",
         "2",
         "223640",
         469,
         "2024-04-16T14:34:50.779+0000",
         null,
         null,
         {},
         {
          "iothub-connection-auth-generation-id": "638486236982118213",
          "iothub-connection-auth-method": "{\"scope\":\"device\",\"type\":\"sas\",\"issuer\":\"iothub\",\"acceptingIpFilterRule\":null}",
          "iothub-connection-device-id": "Device1",
          "iothub-enqueuedtime": "\"2024-04-16T14:34:50.775Z\"",
          "iothub-message-source": "Telemetry",
          "x-opt-sequence-number-epoch": "-1"
         }
        ],
        [
         "eyJkZXZpY2VfaWQiOiA4LCAidG1wIjogMTA2LCAiaG1kdCI6IDc0LCAicHJzcmUiOiA0NTQsICJ0cyI6ICIyMDI0LTA0LTE2VDIwOjA0OjU1LjgyNzg4MCIsICJzb3VyY2UiOiAiSW90SHViIn0=",
         "2",
         "224120",
         470,
         "2024-04-16T14:34:55.983+0000",
         null,
         null,
         {},
         {
          "iothub-connection-auth-generation-id": "638486236982118213",
          "iothub-connection-auth-method": "{\"scope\":\"device\",\"type\":\"sas\",\"issuer\":\"iothub\",\"acceptingIpFilterRule\":null}",
          "iothub-connection-device-id": "Device1",
          "iothub-enqueuedtime": "\"2024-04-16T14:34:55.982Z\"",
          "iothub-message-source": "Telemetry",
          "x-opt-sequence-number-epoch": "-1"
         }
        ],
        [
         "eyJkZXZpY2VfaWQiOiAxMCwgInRtcCI6IDEwNSwgImhtZHQiOiA3NywgInByc3JlIjogNDE1LCAidHMiOiAiMjAyNC0wNC0xNlQyMDowNTowMS4wMzcwNDQiLCAic291cmNlIjogIklvdEh1YiJ9",
         "2",
         "224600",
         471,
         "2024-04-16T14:35:01.218+0000",
         null,
         null,
         {},
         {
          "iothub-connection-auth-generation-id": "638486236982118213",
          "iothub-connection-auth-method": "{\"scope\":\"device\",\"type\":\"sas\",\"issuer\":\"iothub\",\"acceptingIpFilterRule\":null}",
          "iothub-connection-device-id": "Device1",
          "iothub-enqueuedtime": "\"2024-04-16T14:35:01.213Z\"",
          "iothub-message-source": "Telemetry",
          "x-opt-sequence-number-epoch": "-1"
         }
        ],
        [
         "eyJkZXZpY2VfaWQiOiAxMCwgInRtcCI6IDExNCwgImhtZHQiOiA3OCwgInByc3JlIjogNDg0LCAidHMiOiAiMjAyNC0wNC0xNlQyMDowNTowNi4yNzYzNTAiLCAic291cmNlIjogIklvdEh1YiJ9",
         "2",
         "225088",
         472,
         "2024-04-16T14:35:06.421+0000",
         null,
         null,
         {},
         {
          "iothub-connection-auth-generation-id": "638486236982118213",
          "iothub-connection-auth-method": "{\"scope\":\"device\",\"type\":\"sas\",\"issuer\":\"iothub\",\"acceptingIpFilterRule\":null}",
          "iothub-connection-device-id": "Device1",
          "iothub-enqueuedtime": "\"2024-04-16T14:35:06.420Z\"",
          "iothub-message-source": "Telemetry",
          "x-opt-sequence-number-epoch": "-1"
         }
        ],
        [
         "eyJkZXZpY2VfaWQiOiAxMywgInRtcCI6IDEwNiwgImhtZHQiOiA3MywgInByc3JlIjogNDg2LCAidHMiOiAiMjAyNC0wNC0xNlQyMDowNToxMS40NzQ4MTkiLCAic291cmNlIjogIklvdEh1YiJ9",
         "2",
         "225576",
         473,
         "2024-04-16T14:35:11.687+0000",
         null,
         null,
         {},
         {
          "iothub-connection-auth-generation-id": "638486236982118213",
          "iothub-connection-auth-method": "{\"scope\":\"device\",\"type\":\"sas\",\"issuer\":\"iothub\",\"acceptingIpFilterRule\":null}",
          "iothub-connection-device-id": "Device1",
          "iothub-enqueuedtime": "\"2024-04-16T14:35:11.692Z\"",
          "iothub-message-source": "Telemetry",
          "x-opt-sequence-number-epoch": "-1"
         }
        ],
        [
         "eyJkZXZpY2VfaWQiOiAzLCAidG1wIjogMTA3LCAiaG1kdCI6IDc2LCAicHJzcmUiOiA0NjYsICJ0cyI6ICIyMDI0LTA0LTE2VDIwOjA1OjE2Ljc0NDMyMCIsICJzb3VyY2UiOiAiSW90SHViIn0=",
         "2",
         "226064",
         474,
         "2024-04-16T14:35:16.953+0000",
         null,
         null,
         {},
         {
          "iothub-connection-auth-generation-id": "638486236982118213",
          "iothub-connection-auth-method": "{\"scope\":\"device\",\"type\":\"sas\",\"issuer\":\"iothub\",\"acceptingIpFilterRule\":null}",
          "iothub-connection-device-id": "Device1",
          "iothub-enqueuedtime": "\"2024-04-16T14:35:16.951Z\"",
          "iothub-message-source": "Telemetry",
          "x-opt-sequence-number-epoch": "-1"
         }
        ],
        [
         "eyJkZXZpY2VfaWQiOiAxMCwgInRtcCI6IDExNCwgImhtZHQiOiA2NywgInByc3JlIjogNDQwLCAidHMiOiAiMjAyNC0wNC0xNlQyMDowNToyMi4wMDI5MjQiLCAic291cmNlIjogIklvdEh1YiJ9",
         "2",
         "226544",
         475,
         "2024-04-16T14:35:22.187+0000",
         null,
         null,
         {},
         {
          "iothub-connection-auth-generation-id": "638486236982118213",
          "iothub-connection-auth-method": "{\"scope\":\"device\",\"type\":\"sas\",\"issuer\":\"iothub\",\"acceptingIpFilterRule\":null}",
          "iothub-connection-device-id": "Device1",
          "iothub-enqueuedtime": "\"2024-04-16T14:35:22.196Z\"",
          "iothub-message-source": "Telemetry",
          "x-opt-sequence-number-epoch": "-1"
         }
        ],
        [
         "eyJkZXZpY2VfaWQiOiAxMywgInRtcCI6IDEwMCwgImhtZHQiOiA2OCwgInByc3JlIjogNDU5LCAidHMiOiAiMjAyNC0wNC0xNlQyMDowNToyNy4yNDk0MDMiLCAic291cmNlIjogIklvdEh1YiJ9",
         "2",
         "227032",
         476,
         "2024-04-16T14:35:27.391+0000",
         null,
         null,
         {},
         {
          "iothub-connection-auth-generation-id": "638486236982118213",
          "iothub-connection-auth-method": "{\"scope\":\"device\",\"type\":\"sas\",\"issuer\":\"iothub\",\"acceptingIpFilterRule\":null}",
          "iothub-connection-device-id": "Device1",
          "iothub-enqueuedtime": "\"2024-04-16T14:35:27.391Z\"",
          "iothub-message-source": "Telemetry",
          "x-opt-sequence-number-epoch": "-1"
         }
        ],
        [
         "eyJkZXZpY2VfaWQiOiAxMCwgInRtcCI6IDEwNywgImhtZHQiOiA2MSwgInByc3JlIjogNDg5LCAidHMiOiAiMjAyNC0wNC0xNlQyMDowNTozMi40NTIyMjEiLCAic291cmNlIjogIklvdEh1YiJ9",
         "2",
         "227520",
         477,
         "2024-04-16T14:35:32.782+0000",
         null,
         null,
         {},
         {
          "iothub-connection-auth-generation-id": "638486236982118213",
          "iothub-connection-auth-method": "{\"scope\":\"device\",\"type\":\"sas\",\"issuer\":\"iothub\",\"acceptingIpFilterRule\":null}",
          "iothub-connection-device-id": "Device1",
          "iothub-enqueuedtime": "\"2024-04-16T14:35:32.776Z\"",
          "iothub-message-source": "Telemetry",
          "x-opt-sequence-number-epoch": "-1"
         }
        ],
        [
         "eyJkZXZpY2VfaWQiOiAyLCAidG1wIjogMTAwLCAiaG1kdCI6IDY5LCAicHJzcmUiOiA0MDksICJ0cyI6ICIyMDI0LTA0LTE2VDIwOjA1OjM3LjgzNjY2MiIsICJzb3VyY2UiOiAiSW90SHViIn0=",
         "2",
         "228008",
         478,
         "2024-04-16T14:35:37.985+0000",
         null,
         null,
         {},
         {
          "iothub-connection-auth-generation-id": "638486236982118213",
          "iothub-connection-auth-method": "{\"scope\":\"device\",\"type\":\"sas\",\"issuer\":\"iothub\",\"acceptingIpFilterRule\":null}",
          "iothub-connection-device-id": "Device1",
          "iothub-enqueuedtime": "\"2024-04-16T14:35:37.987Z\"",
          "iothub-message-source": "Telemetry",
          "x-opt-sequence-number-epoch": "-1"
         }
        ],
        [
         "eyJkZXZpY2VfaWQiOiA4LCAidG1wIjogMTE1LCAiaG1kdCI6IDYwLCAicHJzcmUiOiA0MDYsICJ0cyI6ICIyMDI0LTA0LTE2VDIwOjA1OjQzLjA0MDg0OSIsICJzb3VyY2UiOiAiSW90SHViIn0=",
         "2",
         "228488",
         479,
         "2024-04-16T14:35:43.220+0000",
         null,
         null,
         {},
         {
          "iothub-connection-auth-generation-id": "638486236982118213",
          "iothub-connection-auth-method": "{\"scope\":\"device\",\"type\":\"sas\",\"issuer\":\"iothub\",\"acceptingIpFilterRule\":null}",
          "iothub-connection-device-id": "Device1",
          "iothub-enqueuedtime": "\"2024-04-16T14:35:43.204Z\"",
          "iothub-message-source": "Telemetry",
          "x-opt-sequence-number-epoch": "-1"
         }
        ],
        [
         "eyJkZXZpY2VfaWQiOiAzLCAidG1wIjogMTEzLCAiaG1kdCI6IDY1LCAicHJzcmUiOiA0ODEsICJ0cyI6ICIyMDI0LTA0LTE2VDIwOjA1OjQ4LjI2NDI0OSIsICJzb3VyY2UiOiAiSW90SHViIn0=",
         "2",
         "228968",
         480,
         "2024-04-16T14:35:49.017+0000",
         null,
         null,
         {},
         {
          "iothub-connection-auth-generation-id": "638486236982118213",
          "iothub-connection-auth-method": "{\"scope\":\"device\",\"type\":\"sas\",\"issuer\":\"iothub\",\"acceptingIpFilterRule\":null}",
          "iothub-connection-device-id": "Device1",
          "iothub-enqueuedtime": "\"2024-04-16T14:35:48.696Z\"",
          "iothub-message-source": "Telemetry",
          "x-opt-sequence-number-epoch": "-1"
         }
        ],
        [
         "eyJkZXZpY2VfaWQiOiAxNCwgInRtcCI6IDkxLCAiaG1kdCI6IDY4LCAicHJzcmUiOiA0NjAsICJ0cyI6ICIyMDI0LTA0LTE2VDIwOjA1OjU0LjA2ODIyMyIsICJzb3VyY2UiOiAiSW90SHViIn0=",
         "2",
         "229448",
         481,
         "2024-04-16T14:35:54.814+0000",
         null,
         null,
         {},
         {
          "iothub-connection-auth-generation-id": "638486236982118213",
          "iothub-connection-auth-method": "{\"scope\":\"device\",\"type\":\"sas\",\"issuer\":\"iothub\",\"acceptingIpFilterRule\":null}",
          "iothub-connection-device-id": "Device1",
          "iothub-enqueuedtime": "\"2024-04-16T14:35:54.291Z\"",
          "iothub-message-source": "Telemetry",
          "x-opt-sequence-number-epoch": "-1"
         }
        ],
        [
         "eyJkZXZpY2VfaWQiOiAxMSwgInRtcCI6IDk0LCAiaG1kdCI6IDY0LCAicHJzcmUiOiA0NTMsICJ0cyI6ICIyMDI0LTA0LTE2VDIwOjA1OjU5Ljg3NjE3NCIsICJzb3VyY2UiOiAiSW90SHViIn0=",
         "2",
         "229928",
         482,
         "2024-04-16T14:36:00.002+0000",
         null,
         null,
         {},
         {
          "iothub-connection-auth-generation-id": "638486236982118213",
          "iothub-connection-auth-method": "{\"scope\":\"device\",\"type\":\"sas\",\"issuer\":\"iothub\",\"acceptingIpFilterRule\":null}",
          "iothub-connection-device-id": "Device1",
          "iothub-enqueuedtime": "\"2024-04-16T14:36:00.003Z\"",
          "iothub-message-source": "Telemetry",
          "x-opt-sequence-number-epoch": "-1"
         }
        ],
        [
         "eyJkZXZpY2VfaWQiOiAxMCwgInRtcCI6IDkzLCAiaG1kdCI6IDczLCAicHJzcmUiOiA0OTksICJ0cyI6ICIyMDI0LTA0LTE2VDIwOjA2OjA1LjA1NzMzOCIsICJzb3VyY2UiOiAiSW90SHViIn0=",
         "2",
         "230408",
         483,
         "2024-04-16T14:36:05.236+0000",
         null,
         null,
         {},
         {
          "iothub-connection-auth-generation-id": "638486236982118213",
          "iothub-connection-auth-method": "{\"scope\":\"device\",\"type\":\"sas\",\"issuer\":\"iothub\",\"acceptingIpFilterRule\":null}",
          "iothub-connection-device-id": "Device1",
          "iothub-enqueuedtime": "\"2024-04-16T14:36:05.230Z\"",
          "iothub-message-source": "Telemetry",
          "x-opt-sequence-number-epoch": "-1"
         }
        ],
        [
         "eyJkZXZpY2VfaWQiOiA0LCAidG1wIjogOTEsICJobWR0IjogNzMsICJwcnNyZSI6IDQzNywgInRzIjogIjIwMjQtMDQtMTZUMjA6MDY6MTAuMjg4MjcxIiwgInNvdXJjZSI6ICJJb3RIdWIifQ==",
         "2",
         "230888",
         484,
         "2024-04-16T14:36:10.439+0000",
         null,
         null,
         {},
         {
          "iothub-connection-auth-generation-id": "638486236982118213",
          "iothub-connection-auth-method": "{\"scope\":\"device\",\"type\":\"sas\",\"issuer\":\"iothub\",\"acceptingIpFilterRule\":null}",
          "iothub-connection-device-id": "Device1",
          "iothub-enqueuedtime": "\"2024-04-16T14:36:10.428Z\"",
          "iothub-message-source": "Telemetry",
          "x-opt-sequence-number-epoch": "-1"
         }
        ],
        [
         "eyJkZXZpY2VfaWQiOiAxMywgInRtcCI6IDkxLCAiaG1kdCI6IDY4LCAicHJzcmUiOiA0MDgsICJ0cyI6ICIyMDI0LTA0LTE2VDIwOjA2OjE1LjQ5MDI0NCIsICJzb3VyY2UiOiAiSW90SHViIn0=",
         "2",
         "231368",
         485,
         "2024-04-16T14:36:15.689+0000",
         null,
         null,
         {},
         {
          "iothub-connection-auth-generation-id": "638486236982118213",
          "iothub-connection-auth-method": "{\"scope\":\"device\",\"type\":\"sas\",\"issuer\":\"iothub\",\"acceptingIpFilterRule\":null}",
          "iothub-connection-device-id": "Device1",
          "iothub-enqueuedtime": "\"2024-04-16T14:36:15.682Z\"",
          "iothub-message-source": "Telemetry",
          "x-opt-sequence-number-epoch": "-1"
         }
        ],
        [
         "eyJkZXZpY2VfaWQiOiAxMSwgInRtcCI6IDEwNiwgImhtZHQiOiA2MiwgInByc3JlIjogNDc0LCAidHMiOiAiMjAyNC0wNC0xNlQyMDowNjoyMC43NDgxNjQiLCAic291cmNlIjogIklvdEh1YiJ9",
         "2",
         "231848",
         486,
         "2024-04-16T14:36:20.924+0000",
         null,
         null,
         {},
         {
          "iothub-connection-auth-generation-id": "638486236982118213",
          "iothub-connection-auth-method": "{\"scope\":\"device\",\"type\":\"sas\",\"issuer\":\"iothub\",\"acceptingIpFilterRule\":null}",
          "iothub-connection-device-id": "Device1",
          "iothub-enqueuedtime": "\"2024-04-16T14:36:20.923Z\"",
          "iothub-message-source": "Telemetry",
          "x-opt-sequence-number-epoch": "-1"
         }
        ],
        [
         "eyJkZXZpY2VfaWQiOiA2LCAidG1wIjogOTMsICJobWR0IjogNjcsICJwcnNyZSI6IDQ0MSwgInRzIjogIjIwMjQtMDQtMTZUMjA6MDY6MjUuOTc1NTM1IiwgInNvdXJjZSI6ICJJb3RIdWIifQ==",
         "2",
         "232336",
         487,
         "2024-04-16T14:36:26.159+0000",
         null,
         null,
         {},
         {
          "iothub-connection-auth-generation-id": "638486236982118213",
          "iothub-connection-auth-method": "{\"scope\":\"device\",\"type\":\"sas\",\"issuer\":\"iothub\",\"acceptingIpFilterRule\":null}",
          "iothub-connection-device-id": "Device1",
          "iothub-enqueuedtime": "\"2024-04-16T14:36:26.164Z\"",
          "iothub-message-source": "Telemetry",
          "x-opt-sequence-number-epoch": "-1"
         }
        ],
        [
         "eyJkZXZpY2VfaWQiOiA3LCAidG1wIjogOTUsICJobWR0IjogNjIsICJwcnNyZSI6IDQ0MiwgInRzIjogIjIwMjQtMDQtMTZUMjA6MDY6MzEuMjE2MTczIiwgInNvdXJjZSI6ICJJb3RIdWIifQ==",
         "2",
         "232816",
         488,
         "2024-04-16T14:36:31.346+0000",
         null,
         null,
         {},
         {
          "iothub-connection-auth-generation-id": "638486236982118213",
          "iothub-connection-auth-method": "{\"scope\":\"device\",\"type\":\"sas\",\"issuer\":\"iothub\",\"acceptingIpFilterRule\":null}",
          "iothub-connection-device-id": "Device1",
          "iothub-enqueuedtime": "\"2024-04-16T14:36:31.346Z\"",
          "iothub-message-source": "Telemetry",
          "x-opt-sequence-number-epoch": "-1"
         }
        ],
        [
         "eyJkZXZpY2VfaWQiOiA1LCAidG1wIjogOTYsICJobWR0IjogNjAsICJwcnNyZSI6IDQ3MSwgInRzIjogIjIwMjQtMDQtMTZUMjA6MDY6MzYuNDAxODQ0IiwgInNvdXJjZSI6ICJJb3RIdWIifQ==",
         "2",
         "233296",
         489,
         "2024-04-16T14:36:36.690+0000",
         null,
         null,
         {},
         {
          "iothub-connection-auth-generation-id": "638486236982118213",
          "iothub-connection-auth-method": "{\"scope\":\"device\",\"type\":\"sas\",\"issuer\":\"iothub\",\"acceptingIpFilterRule\":null}",
          "iothub-connection-device-id": "Device1",
          "iothub-enqueuedtime": "\"2024-04-16T14:36:36.691Z\"",
          "iothub-message-source": "Telemetry",
          "x-opt-sequence-number-epoch": "-1"
         }
        ],
        [
         "eyJkZXZpY2VfaWQiOiAxNCwgInRtcCI6IDEwNSwgImhtZHQiOiA2NSwgInByc3JlIjogNDY4LCAidHMiOiAiMjAyNC0wNC0xNlQyMDowNjo0MS43MzYyMzYiLCAic291cmNlIjogIklvdEh1YiJ9",
         "2",
         "233776",
         490,
         "2024-04-16T14:36:45.815+0000",
         null,
         null,
         {},
         {
          "iothub-connection-auth-generation-id": "638486236982118213",
          "iothub-connection-auth-method": "{\"scope\":\"device\",\"type\":\"sas\",\"issuer\":\"iothub\",\"acceptingIpFilterRule\":null}",
          "iothub-connection-device-id": "Device1",
          "iothub-enqueuedtime": "\"2024-04-16T14:36:45.645Z\"",
          "iothub-message-source": "Telemetry",
          "x-opt-sequence-number-epoch": "-1"
         }
        ],
        [
         "eyJkZXZpY2VfaWQiOiAxMiwgInRtcCI6IDExOCwgImhtZHQiOiA3NywgInByc3JlIjogNDQ3LCAidHMiOiAiMjAyNC0wNC0xNlQyMDowNjo1MC45NzIzMjMiLCAic291cmNlIjogIklvdEh1YiJ9",
         "2",
         "234264",
         491,
         "2024-04-16T14:36:51.409+0000",
         null,
         null,
         {},
         {
          "iothub-connection-auth-generation-id": "638486236982118213",
          "iothub-connection-auth-method": "{\"scope\":\"device\",\"type\":\"sas\",\"issuer\":\"iothub\",\"acceptingIpFilterRule\":null}",
          "iothub-connection-device-id": "Device1",
          "iothub-enqueuedtime": "\"2024-04-16T14:36:51.414Z\"",
          "iothub-message-source": "Telemetry",
          "x-opt-sequence-number-epoch": "-1"
         }
        ],
        [
         "eyJkZXZpY2VfaWQiOiA2LCAidG1wIjogMTEwLCAiaG1kdCI6IDcxLCAicHJzcmUiOiA0NTQsICJ0cyI6ICIyMDI0LTA0LTE2VDIwOjA2OjU2LjQ2NzkyMiIsICJzb3VyY2UiOiAiSW90SHViIn0=",
         "2",
         "234752",
         492,
         "2024-04-16T14:36:56.659+0000",
         null,
         null,
         {},
         {
          "iothub-connection-auth-generation-id": "638486236982118213",
          "iothub-connection-auth-method": "{\"scope\":\"device\",\"type\":\"sas\",\"issuer\":\"iothub\",\"acceptingIpFilterRule\":null}",
          "iothub-connection-device-id": "Device1",
          "iothub-enqueuedtime": "\"2024-04-16T14:36:56.662Z\"",
          "iothub-message-source": "Telemetry",
          "x-opt-sequence-number-epoch": "-1"
         }
        ],
        [
         "eyJkZXZpY2VfaWQiOiA2LCAidG1wIjogMTExLCAiaG1kdCI6IDc2LCAicHJzcmUiOiA0NDUsICJ0cyI6ICIyMDI0LTA0LTE2VDIwOjA3OjAxLjcxNjkxMSIsICJzb3VyY2UiOiAiSW90SHViIn0=",
         "2",
         "235232",
         493,
         "2024-04-16T14:37:01.847+0000",
         null,
         null,
         {},
         {
          "iothub-connection-auth-generation-id": "638486236982118213",
          "iothub-connection-auth-method": "{\"scope\":\"device\",\"type\":\"sas\",\"issuer\":\"iothub\",\"acceptingIpFilterRule\":null}",
          "iothub-connection-device-id": "Device1",
          "iothub-enqueuedtime": "\"2024-04-16T14:37:01.838Z\"",
          "iothub-message-source": "Telemetry",
          "x-opt-sequence-number-epoch": "-1"
         }
        ],
        [
         "eyJkZXZpY2VfaWQiOiAxMywgInRtcCI6IDExNiwgImhtZHQiOiA3NiwgInByc3JlIjogNDYyLCAidHMiOiAiMjAyNC0wNC0xNlQyMDowNzowNi44OTkyNzMiLCAic291cmNlIjogIklvdEh1YiJ9",
         "2",
         "235712",
         494,
         "2024-04-16T14:37:07.300+0000",
         null,
         null,
         {},
         {
          "iothub-connection-auth-generation-id": "638486236982118213",
          "iothub-connection-auth-method": "{\"scope\":\"device\",\"type\":\"sas\",\"issuer\":\"iothub\",\"acceptingIpFilterRule\":null}",
          "iothub-connection-device-id": "Device1",
          "iothub-enqueuedtime": "\"2024-04-16T14:37:07.297Z\"",
          "iothub-message-source": "Telemetry",
          "x-opt-sequence-number-epoch": "-1"
         }
        ],
        [
         "eyJkZXZpY2VfaWQiOiA4LCAidG1wIjogMTE0LCAiaG1kdCI6IDcyLCAicHJzcmUiOiA0MTgsICJ0cyI6ICIyMDI0LTA0LTE2VDIwOjA3OjEyLjM2MDQ3MyIsICJzb3VyY2UiOiAiSW90SHViIn0=",
         "2",
         "236200",
         495,
         "2024-04-16T14:37:12.503+0000",
         null,
         null,
         {},
         {
          "iothub-connection-auth-generation-id": "638486236982118213",
          "iothub-connection-auth-method": "{\"scope\":\"device\",\"type\":\"sas\",\"issuer\":\"iothub\",\"acceptingIpFilterRule\":null}",
          "iothub-connection-device-id": "Device1",
          "iothub-enqueuedtime": "\"2024-04-16T14:37:12.501Z\"",
          "iothub-message-source": "Telemetry",
          "x-opt-sequence-number-epoch": "-1"
         }
        ],
        [
         "eyJkZXZpY2VfaWQiOiA0LCAidG1wIjogMTE3LCAiaG1kdCI6IDc3LCAicHJzcmUiOiA0NTAsICJ0cyI6ICIyMDI0LTA0LTE2VDIwOjA3OjE3LjU1ODIzNSIsICJzb3VyY2UiOiAiSW90SHViIn0=",
         "2",
         "236680",
         496,
         "2024-04-16T14:37:17.785+0000",
         null,
         null,
         {},
         {
          "iothub-connection-auth-generation-id": "638486236982118213",
          "iothub-connection-auth-method": "{\"scope\":\"device\",\"type\":\"sas\",\"issuer\":\"iothub\",\"acceptingIpFilterRule\":null}",
          "iothub-connection-device-id": "Device1",
          "iothub-enqueuedtime": "\"2024-04-16T14:37:17.782Z\"",
          "iothub-message-source": "Telemetry",
          "x-opt-sequence-number-epoch": "-1"
         }
        ],
        [
         "eyJkZXZpY2VfaWQiOiAxLCAidG1wIjogMTEzLCAiaG1kdCI6IDY0LCAicHJzcmUiOiA0NDAsICJ0cyI6ICIyMDI0LTA0LTE2VDIwOjA3OjIyLjgzNjMyOSIsICJzb3VyY2UiOiAiSW90SHViIn0=",
         "2",
         "237160",
         497,
         "2024-04-16T14:37:23.379+0000",
         null,
         null,
         {},
         {
          "iothub-connection-auth-generation-id": "638486236982118213",
          "iothub-connection-auth-method": "{\"scope\":\"device\",\"type\":\"sas\",\"issuer\":\"iothub\",\"acceptingIpFilterRule\":null}",
          "iothub-connection-device-id": "Device1",
          "iothub-enqueuedtime": "\"2024-04-16T14:37:23.369Z\"",
          "iothub-message-source": "Telemetry",
          "x-opt-sequence-number-epoch": "-1"
         }
        ],
        [
         "eyJkZXZpY2VfaWQiOiA1LCAidG1wIjogMTE0LCAiaG1kdCI6IDc0LCAicHJzcmUiOiA0MDMsICJ0cyI6ICIyMDI0LTA0LTE2VDIwOjA3OjI4LjQzMjI5MiIsICJzb3VyY2UiOiAiSW90SHViIn0=",
         "2",
         "237640",
         498,
         "2024-04-16T14:37:28.614+0000",
         null,
         null,
         {},
         {
          "iothub-connection-auth-generation-id": "638486236982118213",
          "iothub-connection-auth-method": "{\"scope\":\"device\",\"type\":\"sas\",\"issuer\":\"iothub\",\"acceptingIpFilterRule\":null}",
          "iothub-connection-device-id": "Device1",
          "iothub-enqueuedtime": "\"2024-04-16T14:37:28.615Z\"",
          "iothub-message-source": "Telemetry",
          "x-opt-sequence-number-epoch": "-1"
         }
        ],
        [
         "eyJkZXZpY2VfaWQiOiAxLCAidG1wIjogMTE3LCAiaG1kdCI6IDYwLCAicHJzcmUiOiA0ODEsICJ0cyI6ICIyMDI0LTA0LTE2VDIwOjA3OjMzLjY3Mzg2NiIsICJzb3VyY2UiOiAiSW90SHViIn0=",
         "2",
         "238120",
         499,
         "2024-04-16T14:37:33.912+0000",
         null,
         null,
         {},
         {
          "iothub-connection-auth-generation-id": "638486236982118213",
          "iothub-connection-auth-method": "{\"scope\":\"device\",\"type\":\"sas\",\"issuer\":\"iothub\",\"acceptingIpFilterRule\":null}",
          "iothub-connection-device-id": "Device1",
          "iothub-enqueuedtime": "\"2024-04-16T14:37:33.904Z\"",
          "iothub-message-source": "Telemetry",
          "x-opt-sequence-number-epoch": "-1"
         }
        ],
        [
         "eyJkZXZpY2VfaWQiOiAxLCAidG1wIjogOTcsICJobWR0IjogNzYsICJwcnNyZSI6IDQwMywgInRzIjogIjIwMjQtMDQtMTZUMjA6MDc6MzguOTYwMTM3IiwgInNvdXJjZSI6ICJJb3RIdWIifQ==",
         "2",
         "238600",
         500,
         "2024-04-16T14:37:39.334+0000",
         null,
         null,
         {},
         {
          "iothub-connection-auth-generation-id": "638486236982118213",
          "iothub-connection-auth-method": "{\"scope\":\"device\",\"type\":\"sas\",\"issuer\":\"iothub\",\"acceptingIpFilterRule\":null}",
          "iothub-connection-device-id": "Device1",
          "iothub-enqueuedtime": "\"2024-04-16T14:37:39.336Z\"",
          "iothub-message-source": "Telemetry",
          "x-opt-sequence-number-epoch": "-1"
         }
        ],
        [
         "eyJkZXZpY2VfaWQiOiA1LCAidG1wIjogMTExLCAiaG1kdCI6IDc0LCAicHJzcmUiOiA0MjAsICJ0cyI6ICIyMDI0LTA0LTE2VDIwOjA3OjQ0LjM4NDI2MSIsICJzb3VyY2UiOiAiSW90SHViIn0=",
         "2",
         "239080",
         501,
         "2024-04-16T14:37:44.521+0000",
         null,
         null,
         {},
         {
          "iothub-connection-auth-generation-id": "638486236982118213",
          "iothub-connection-auth-method": "{\"scope\":\"device\",\"type\":\"sas\",\"issuer\":\"iothub\",\"acceptingIpFilterRule\":null}",
          "iothub-connection-device-id": "Device1",
          "iothub-enqueuedtime": "\"2024-04-16T14:37:44.525Z\"",
          "iothub-message-source": "Telemetry",
          "x-opt-sequence-number-epoch": "-1"
         }
        ],
        [
         "eyJkZXZpY2VfaWQiOiAxMywgInRtcCI6IDExMSwgImhtZHQiOiA2NiwgInByc3JlIjogNDc0LCAidHMiOiAiMjAyNC0wNC0xNlQyMDowNzo0OS41NzIyMTMiLCAic291cmNlIjogIklvdEh1YiJ9",
         "2",
         "239560",
         502,
         "2024-04-16T14:37:49.771+0000",
         null,
         null,
         {},
         {
          "iothub-connection-auth-generation-id": "638486236982118213",
          "iothub-connection-auth-method": "{\"scope\":\"device\",\"type\":\"sas\",\"issuer\":\"iothub\",\"acceptingIpFilterRule\":null}",
          "iothub-connection-device-id": "Device1",
          "iothub-enqueuedtime": "\"2024-04-16T14:37:49.765Z\"",
          "iothub-message-source": "Telemetry",
          "x-opt-sequence-number-epoch": "-1"
         }
        ],
        [
         "eyJkZXZpY2VfaWQiOiAxMSwgInRtcCI6IDExOSwgImhtZHQiOiA2NiwgInByc3JlIjogNDg3LCAidHMiOiAiMjAyNC0wNC0xNlQyMDowNzo1NC44MjAyMDIiLCAic291cmNlIjogIklvdEh1YiJ9",
         "2",
         "240048",
         503,
         "2024-04-16T14:37:54.959+0000",
         null,
         null,
         {},
         {
          "iothub-connection-auth-generation-id": "638486236982118213",
          "iothub-connection-auth-method": "{\"scope\":\"device\",\"type\":\"sas\",\"issuer\":\"iothub\",\"acceptingIpFilterRule\":null}",
          "iothub-connection-device-id": "Device1",
          "iothub-enqueuedtime": "\"2024-04-16T14:37:54.957Z\"",
          "iothub-message-source": "Telemetry",
          "x-opt-sequence-number-epoch": "-1"
         }
        ],
        [
         "eyJkZXZpY2VfaWQiOiA2LCAidG1wIjogMTAxLCAiaG1kdCI6IDczLCAicHJzcmUiOiA0NTYsICJ0cyI6ICIyMDI0LTA0LTE2VDIwOjA4OjAwLjAxMjE2MSIsICJzb3VyY2UiOiAiSW90SHViIn0=",
         "2",
         "240536",
         504,
         "2024-04-16T14:38:00.178+0000",
         null,
         null,
         {},
         {
          "iothub-connection-auth-generation-id": "638486236982118213",
          "iothub-connection-auth-method": "{\"scope\":\"device\",\"type\":\"sas\",\"issuer\":\"iothub\",\"acceptingIpFilterRule\":null}",
          "iothub-connection-device-id": "Device1",
          "iothub-enqueuedtime": "\"2024-04-16T14:38:00.186Z\"",
          "iothub-message-source": "Telemetry",
          "x-opt-sequence-number-epoch": "-1"
         }
        ],
        [
         "eyJkZXZpY2VfaWQiOiA3LCAidG1wIjogOTksICJobWR0IjogNzAsICJwcnNyZSI6IDQ2NywgInRzIjogIjIwMjQtMDQtMTZUMjA6MDg6MDUuMjQwMzQ3IiwgInNvdXJjZSI6ICJJb3RIdWIifQ==",
         "2",
         "241016",
         505,
         "2024-04-16T14:38:05.383+0000",
         null,
         null,
         {},
         {
          "iothub-connection-auth-generation-id": "638486236982118213",
          "iothub-connection-auth-method": "{\"scope\":\"device\",\"type\":\"sas\",\"issuer\":\"iothub\",\"acceptingIpFilterRule\":null}",
          "iothub-connection-device-id": "Device1",
          "iothub-enqueuedtime": "\"2024-04-16T14:38:05.383Z\"",
          "iothub-message-source": "Telemetry",
          "x-opt-sequence-number-epoch": "-1"
         }
        ],
        [
         "eyJkZXZpY2VfaWQiOiA1LCAidG1wIjogMTAzLCAiaG1kdCI6IDY5LCAicHJzcmUiOiA0NjEsICJ0cyI6ICIyMDI0LTA0LTE2VDIwOjA4OjEwLjQzNDA0NCIsICJzb3VyY2UiOiAiSW90SHViIn0=",
         "2",
         "241496",
         506,
         "2024-04-16T14:38:10.618+0000",
         null,
         null,
         {},
         {
          "iothub-connection-auth-generation-id": "638486236982118213",
          "iothub-connection-auth-method": "{\"scope\":\"device\",\"type\":\"sas\",\"issuer\":\"iothub\",\"acceptingIpFilterRule\":null}",
          "iothub-connection-device-id": "Device1",
          "iothub-enqueuedtime": "\"2024-04-16T14:38:10.613Z\"",
          "iothub-message-source": "Telemetry",
          "x-opt-sequence-number-epoch": "-1"
         }
        ],
        [
         "eyJkZXZpY2VfaWQiOiAxMiwgInRtcCI6IDExNiwgImhtZHQiOiA2MiwgInByc3JlIjogNDQwLCAidHMiOiAiMjAyNC0wNC0xNlQyMDowODoxNS42NjgyNTUiLCAic291cmNlIjogIklvdEh1YiJ9",
         "2",
         "241976",
         507,
         "2024-04-16T14:38:15.805+0000",
         null,
         null,
         {},
         {
          "iothub-connection-auth-generation-id": "638486236982118213",
          "iothub-connection-auth-method": "{\"scope\":\"device\",\"type\":\"sas\",\"issuer\":\"iothub\",\"acceptingIpFilterRule\":null}",
          "iothub-connection-device-id": "Device1",
          "iothub-enqueuedtime": "\"2024-04-16T14:38:15.818Z\"",
          "iothub-message-source": "Telemetry",
          "x-opt-sequence-number-epoch": "-1"
         }
        ],
        [
         "eyJkZXZpY2VfaWQiOiA2LCAidG1wIjogMTE5LCAiaG1kdCI6IDY1LCAicHJzcmUiOiA0MDcsICJ0cyI6ICIyMDI0LTA0LTE2VDIwOjA4OjIwLjg3MzA1MyIsICJzb3VyY2UiOiAiSW90SHViIn0=",
         "2",
         "242464",
         508,
         "2024-04-16T14:38:21.041+0000",
         null,
         null,
         {},
         {
          "iothub-connection-auth-generation-id": "638486236982118213",
          "iothub-connection-auth-method": "{\"scope\":\"device\",\"type\":\"sas\",\"issuer\":\"iothub\",\"acceptingIpFilterRule\":null}",
          "iothub-connection-device-id": "Device1",
          "iothub-enqueuedtime": "\"2024-04-16T14:38:21.045Z\"",
          "iothub-message-source": "Telemetry",
          "x-opt-sequence-number-epoch": "-1"
         }
        ],
        [
         "eyJkZXZpY2VfaWQiOiA0LCAidG1wIjogMTA2LCAiaG1kdCI6IDY2LCAicHJzcmUiOiA0MDAsICJ0cyI6ICIyMDI0LTA0LTE2VDIwOjA4OjI2LjA5ODI5NyIsICJzb3VyY2UiOiAiSW90SHViIn0=",
         "2",
         "242944",
         509,
         "2024-04-16T14:38:26.308+0000",
         null,
         null,
         {},
         {
          "iothub-connection-auth-generation-id": "638486236982118213",
          "iothub-connection-auth-method": "{\"scope\":\"device\",\"type\":\"sas\",\"issuer\":\"iothub\",\"acceptingIpFilterRule\":null}",
          "iothub-connection-device-id": "Device1",
          "iothub-enqueuedtime": "\"2024-04-16T14:38:26.312Z\"",
          "iothub-message-source": "Telemetry",
          "x-opt-sequence-number-epoch": "-1"
         }
        ],
        [
         "eyJkZXZpY2VfaWQiOiAxLCAidG1wIjogMTE1LCAiaG1kdCI6IDY4LCAicHJzcmUiOiA0MDQsICJ0cyI6ICIyMDI0LTA0LTE2VDIwOjA4OjMxLjM2NDE2OSIsICJzb3VyY2UiOiAiSW90SHViIn0=",
         "2",
         "243424",
         510,
         "2024-04-16T14:38:31.526+0000",
         null,
         null,
         {},
         {
          "iothub-connection-auth-generation-id": "638486236982118213",
          "iothub-connection-auth-method": "{\"scope\":\"device\",\"type\":\"sas\",\"issuer\":\"iothub\",\"acceptingIpFilterRule\":null}",
          "iothub-connection-device-id": "Device1",
          "iothub-enqueuedtime": "\"2024-04-16T14:38:31.529Z\"",
          "iothub-message-source": "Telemetry",
          "x-opt-sequence-number-epoch": "-1"
         }
        ],
        [
         "eyJkZXZpY2VfaWQiOiA0LCAidG1wIjogOTAsICJobWR0IjogNzgsICJwcnNyZSI6IDQzMiwgInRzIjogIjIwMjQtMDQtMTZUMjA6MDg6MzYuNTgzNzQwIiwgInNvdXJjZSI6ICJJb3RIdWIifQ==",
         "2",
         "243904",
         511,
         "2024-04-16T14:38:36.714+0000",
         null,
         null,
         {},
         {
          "iothub-connection-auth-generation-id": "638486236982118213",
          "iothub-connection-auth-method": "{\"scope\":\"device\",\"type\":\"sas\",\"issuer\":\"iothub\",\"acceptingIpFilterRule\":null}",
          "iothub-connection-device-id": "Device1",
          "iothub-enqueuedtime": "\"2024-04-16T14:38:36.708Z\"",
          "iothub-message-source": "Telemetry",
          "x-opt-sequence-number-epoch": "-1"
         }
        ],
        [
         "eyJkZXZpY2VfaWQiOiAxMywgInRtcCI6IDk3LCAiaG1kdCI6IDY5LCAicHJzcmUiOiA0NjUsICJ0cyI6ICIyMDI0LTA0LTE2VDIwOjA4OjQxLjc2MzUwNiIsICJzb3VyY2UiOiAiSW90SHViIn0=",
         "2",
         "244384",
         512,
         "2024-04-16T14:38:41.949+0000",
         null,
         null,
         {},
         {
          "iothub-connection-auth-generation-id": "638486236982118213",
          "iothub-connection-auth-method": "{\"scope\":\"device\",\"type\":\"sas\",\"issuer\":\"iothub\",\"acceptingIpFilterRule\":null}",
          "iothub-connection-device-id": "Device1",
          "iothub-enqueuedtime": "\"2024-04-16T14:38:41.942Z\"",
          "iothub-message-source": "Telemetry",
          "x-opt-sequence-number-epoch": "-1"
         }
        ],
        [
         "eyJkZXZpY2VfaWQiOiAxMywgInRtcCI6IDExNCwgImhtZHQiOiA3MiwgInByc3JlIjogNDc0LCAidHMiOiAiMjAyNC0wNC0xNlQyMDowODo0Ny4wMDAxODgiLCAic291cmNlIjogIklvdEh1YiJ9",
         "2",
         "244864",
         513,
         "2024-04-16T14:38:51.263+0000",
         null,
         null,
         {},
         {
          "iothub-connection-auth-generation-id": "638486236982118213",
          "iothub-connection-auth-method": "{\"scope\":\"device\",\"type\":\"sas\",\"issuer\":\"iothub\",\"acceptingIpFilterRule\":null}",
          "iothub-connection-device-id": "Device1",
          "iothub-enqueuedtime": "\"2024-04-16T14:38:50.595Z\"",
          "iothub-message-source": "Telemetry",
          "x-opt-sequence-number-epoch": "-1"
         }
        ],
        [
         "eyJkZXZpY2VfaWQiOiA2LCAidG1wIjogOTQsICJobWR0IjogNjYsICJwcnNyZSI6IDQxMiwgInRzIjogIjIwMjQtMDQtMTZUMjA6MDg6NTYuNDE5MTUzIiwgInNvdXJjZSI6ICJJb3RIdWIifQ==",
         "2",
         "245352",
         514,
         "2024-04-16T14:38:57.247+0000",
         null,
         null,
         {},
         {
          "iothub-connection-auth-generation-id": "638486236982118213",
          "iothub-connection-auth-method": "{\"scope\":\"device\",\"type\":\"sas\",\"issuer\":\"iothub\",\"acceptingIpFilterRule\":null}",
          "iothub-connection-device-id": "Device1",
          "iothub-enqueuedtime": "\"2024-04-16T14:38:57.237Z\"",
          "iothub-message-source": "Telemetry",
          "x-opt-sequence-number-epoch": "-1"
         }
        ],
        [
         "eyJkZXZpY2VfaWQiOiAxNCwgInRtcCI6IDk2LCAiaG1kdCI6IDcyLCAicHJzcmUiOiA0NjYsICJ0cyI6ICIyMDI0LTA0LTE2VDIwOjA5OjAyLjI5NjIwNiIsICJzb3VyY2UiOiAiSW90SHViIn0=",
         "2",
         "245832",
         515,
         "2024-04-16T14:39:02.420+0000",
         null,
         null,
         {},
         {
          "iothub-connection-auth-generation-id": "638486236982118213",
          "iothub-connection-auth-method": "{\"scope\":\"device\",\"type\":\"sas\",\"issuer\":\"iothub\",\"acceptingIpFilterRule\":null}",
          "iothub-connection-device-id": "Device1",
          "iothub-enqueuedtime": "\"2024-04-16T14:39:02.423Z\"",
          "iothub-message-source": "Telemetry",
          "x-opt-sequence-number-epoch": "-1"
         }
        ],
        [
         "eyJkZXZpY2VfaWQiOiA0LCAidG1wIjogMTAzLCAiaG1kdCI6IDc5LCAicHJzcmUiOiA0ODQsICJ0cyI6ICIyMDI0LTA0LTE2VDIwOjA5OjA3LjQ3OTYzNCIsICJzb3VyY2UiOiAiSW90SHViIn0=",
         "2",
         "246312",
         516,
         "2024-04-16T14:39:08.108+0000",
         null,
         null,
         {},
         {
          "iothub-connection-auth-generation-id": "638486236982118213",
          "iothub-connection-auth-method": "{\"scope\":\"device\",\"type\":\"sas\",\"issuer\":\"iothub\",\"acceptingIpFilterRule\":null}",
          "iothub-connection-device-id": "Device1",
          "iothub-enqueuedtime": "\"2024-04-16T14:39:08.110Z\"",
          "iothub-message-source": "Telemetry",
          "x-opt-sequence-number-epoch": "-1"
         }
        ],
        [
         "eyJkZXZpY2VfaWQiOiA0LCAidG1wIjogOTUsICJobWR0IjogNzMsICJwcnNyZSI6IDQ2MiwgInRzIjogIjIwMjQtMDQtMTZUMjA6MDk6MTMuMTY4MjYwIiwgInNvdXJjZSI6ICJJb3RIdWIifQ==",
         "2",
         "246792",
         517,
         "2024-04-16T14:39:13.296+0000",
         null,
         null,
         {},
         {
          "iothub-connection-auth-generation-id": "638486236982118213",
          "iothub-connection-auth-method": "{\"scope\":\"device\",\"type\":\"sas\",\"issuer\":\"iothub\",\"acceptingIpFilterRule\":null}",
          "iothub-connection-device-id": "Device1",
          "iothub-enqueuedtime": "\"2024-04-16T14:39:13.302Z\"",
          "iothub-message-source": "Telemetry",
          "x-opt-sequence-number-epoch": "-1"
         }
        ],
        [
         "eyJkZXZpY2VfaWQiOiA0LCAidG1wIjogOTQsICJobWR0IjogNjgsICJwcnNyZSI6IDQ0NywgInRzIjogIjIwMjQtMDQtMTZUMjA6MDk6MTguMzQ4MzQzIiwgInNvdXJjZSI6ICJJb3RIdWIifQ==",
         "2",
         "247272",
         518,
         "2024-04-16T14:39:19.485+0000",
         null,
         null,
         {},
         {
          "iothub-connection-auth-generation-id": "638486236982118213",
          "iothub-connection-auth-method": "{\"scope\":\"device\",\"type\":\"sas\",\"issuer\":\"iothub\",\"acceptingIpFilterRule\":null}",
          "iothub-connection-device-id": "Device1",
          "iothub-enqueuedtime": "\"2024-04-16T14:39:18.911Z\"",
          "iothub-message-source": "Telemetry",
          "x-opt-sequence-number-epoch": "-1"
         }
        ],
        [
         "eyJkZXZpY2VfaWQiOiAxMCwgInRtcCI6IDk3LCAiaG1kdCI6IDY5LCAicHJzcmUiOiA0ODMsICJ0cyI6ICIyMDI0LTA0LTE2VDIwOjA5OjI0LjU3OTkyMiIsICJzb3VyY2UiOiAiSW90SHViIn0=",
         "2",
         "247752",
         519,
         "2024-04-16T14:39:24.704+0000",
         null,
         null,
         {},
         {
          "iothub-connection-auth-generation-id": "638486236982118213",
          "iothub-connection-auth-method": "{\"scope\":\"device\",\"type\":\"sas\",\"issuer\":\"iothub\",\"acceptingIpFilterRule\":null}",
          "iothub-connection-device-id": "Device1",
          "iothub-enqueuedtime": "\"2024-04-16T14:39:24.708Z\"",
          "iothub-message-source": "Telemetry",
          "x-opt-sequence-number-epoch": "-1"
         }
        ],
        [
         "eyJkZXZpY2VfaWQiOiAxMCwgInRtcCI6IDExNiwgImhtZHQiOiA2MiwgInByc3JlIjogNDAwLCAidHMiOiAiMjAyNC0wNC0xNlQyMDowOTozMC4wMjAyNjEiLCAic291cmNlIjogIklvdEh1YiJ9",
         "2",
         "248232",
         520,
         "2024-04-16T14:39:30.439+0000",
         null,
         null,
         {},
         {
          "iothub-connection-auth-generation-id": "638486236982118213",
          "iothub-connection-auth-method": "{\"scope\":\"device\",\"type\":\"sas\",\"issuer\":\"iothub\",\"acceptingIpFilterRule\":null}",
          "iothub-connection-device-id": "Device1",
          "iothub-enqueuedtime": "\"2024-04-16T14:39:30.442Z\"",
          "iothub-message-source": "Telemetry",
          "x-opt-sequence-number-epoch": "-1"
         }
        ],
        [
         "eyJkZXZpY2VfaWQiOiAxMiwgInRtcCI6IDExNywgImhtZHQiOiA3NSwgInByc3JlIjogNDc1LCAidHMiOiAiMjAyNC0wNC0xNlQyMDowOTozNS40OTUzNTIiLCAic291cmNlIjogIklvdEh1YiJ9",
         "2",
         "248720",
         521,
         "2024-04-16T14:39:35.642+0000",
         null,
         null,
         {},
         {
          "iothub-connection-auth-generation-id": "638486236982118213",
          "iothub-connection-auth-method": "{\"scope\":\"device\",\"type\":\"sas\",\"issuer\":\"iothub\",\"acceptingIpFilterRule\":null}",
          "iothub-connection-device-id": "Device1",
          "iothub-enqueuedtime": "\"2024-04-16T14:39:35.630Z\"",
          "iothub-message-source": "Telemetry",
          "x-opt-sequence-number-epoch": "-1"
         }
        ],
        [
         "eyJkZXZpY2VfaWQiOiAxLCAidG1wIjogMTE2LCAiaG1kdCI6IDY2LCAicHJzcmUiOiA0NjksICJ0cyI6ICIyMDI0LTA0LTE2VDIwOjA5OjQwLjY4ODUwMyIsICJzb3VyY2UiOiAiSW90SHViIn0=",
         "2",
         "249208",
         522,
         "2024-04-16T14:39:40.861+0000",
         null,
         null,
         {},
         {
          "iothub-connection-auth-generation-id": "638486236982118213",
          "iothub-connection-auth-method": "{\"scope\":\"device\",\"type\":\"sas\",\"issuer\":\"iothub\",\"acceptingIpFilterRule\":null}",
          "iothub-connection-device-id": "Device1",
          "iothub-enqueuedtime": "\"2024-04-16T14:39:40.854Z\"",
          "iothub-message-source": "Telemetry",
          "x-opt-sequence-number-epoch": "-1"
         }
        ],
        [
         "eyJkZXZpY2VfaWQiOiAxLCAidG1wIjogOTEsICJobWR0IjogNjcsICJwcnNyZSI6IDQ3NSwgInRzIjogIjIwMjQtMDQtMTZUMjA6MDk6NDUuOTE3MDY4IiwgInNvdXJjZSI6ICJJb3RIdWIifQ==",
         "2",
         "249688",
         523,
         "2024-04-16T14:39:46.049+0000",
         null,
         null,
         {},
         {
          "iothub-connection-auth-generation-id": "638486236982118213",
          "iothub-connection-auth-method": "{\"scope\":\"device\",\"type\":\"sas\",\"issuer\":\"iothub\",\"acceptingIpFilterRule\":null}",
          "iothub-connection-device-id": "Device1",
          "iothub-enqueuedtime": "\"2024-04-16T14:39:46.051Z\"",
          "iothub-message-source": "Telemetry",
          "x-opt-sequence-number-epoch": "-1"
         }
        ],
        [
         "eyJkZXZpY2VfaWQiOiAxMSwgInRtcCI6IDkwLCAiaG1kdCI6IDY5LCAicHJzcmUiOiA0NjcsICJ0cyI6ICIyMDI0LTA0LTE2VDIwOjA5OjUxLjEwODE3OCIsICJzb3VyY2UiOiAiSW90SHViIn0=",
         "2",
         "250168",
         524,
         "2024-04-16T14:39:51.283+0000",
         null,
         null,
         {},
         {
          "iothub-connection-auth-generation-id": "638486236982118213",
          "iothub-connection-auth-method": "{\"scope\":\"device\",\"type\":\"sas\",\"issuer\":\"iothub\",\"acceptingIpFilterRule\":null}",
          "iothub-connection-device-id": "Device1",
          "iothub-enqueuedtime": "\"2024-04-16T14:39:51.287Z\"",
          "iothub-message-source": "Telemetry",
          "x-opt-sequence-number-epoch": "-1"
         }
        ],
        [
         "eyJkZXZpY2VfaWQiOiA1LCAidG1wIjogMTAwLCAiaG1kdCI6IDY2LCAicHJzcmUiOiA0MzYsICJ0cyI6ICIyMDI0LTA0LTE2VDIwOjA5OjU2LjMzNjE4NiIsICJzb3VyY2UiOiAiSW90SHViIn0=",
         "2",
         "250648",
         525,
         "2024-04-16T14:39:56.471+0000",
         null,
         null,
         {},
         {
          "iothub-connection-auth-generation-id": "638486236982118213",
          "iothub-connection-auth-method": "{\"scope\":\"device\",\"type\":\"sas\",\"issuer\":\"iothub\",\"acceptingIpFilterRule\":null}",
          "iothub-connection-device-id": "Device1",
          "iothub-enqueuedtime": "\"2024-04-16T14:39:56.474Z\"",
          "iothub-message-source": "Telemetry",
          "x-opt-sequence-number-epoch": "-1"
         }
        ],
        [
         "eyJkZXZpY2VfaWQiOiAxLCAidG1wIjogOTMsICJobWR0IjogNzEsICJwcnNyZSI6IDQ3OSwgInRzIjogIjIwMjQtMDQtMTZUMjA6MTA6MDEuNTIwMjU1IiwgInNvdXJjZSI6ICJJb3RIdWIifQ==",
         "2",
         "251128",
         526,
         "2024-04-16T14:40:01.674+0000",
         null,
         null,
         {},
         {
          "iothub-connection-auth-generation-id": "638486236982118213",
          "iothub-connection-auth-method": "{\"scope\":\"device\",\"type\":\"sas\",\"issuer\":\"iothub\",\"acceptingIpFilterRule\":null}",
          "iothub-connection-device-id": "Device1",
          "iothub-enqueuedtime": "\"2024-04-16T14:40:01.672Z\"",
          "iothub-message-source": "Telemetry",
          "x-opt-sequence-number-epoch": "-1"
         }
        ],
        [
         "eyJkZXZpY2VfaWQiOiA3LCAidG1wIjogOTQsICJobWR0IjogNjUsICJwcnNyZSI6IDQ5NSwgInRzIjogIjIwMjQtMDQtMTZUMjA6MTA6MDYuNzMxNzk4IiwgInNvdXJjZSI6ICJJb3RIdWIifQ==",
         "2",
         "251608",
         527,
         "2024-04-16T14:40:06.862+0000",
         null,
         null,
         {},
         {
          "iothub-connection-auth-generation-id": "638486236982118213",
          "iothub-connection-auth-method": "{\"scope\":\"device\",\"type\":\"sas\",\"issuer\":\"iothub\",\"acceptingIpFilterRule\":null}",
          "iothub-connection-device-id": "Device1",
          "iothub-enqueuedtime": "\"2024-04-16T14:40:06.856Z\"",
          "iothub-message-source": "Telemetry",
          "x-opt-sequence-number-epoch": "-1"
         }
        ],
        [
         "eyJkZXZpY2VfaWQiOiA2LCAidG1wIjogMTEzLCAiaG1kdCI6IDczLCAicHJzcmUiOiA0MDcsICJ0cyI6ICIyMDI0LTA0LTE2VDIwOjEwOjExLjkyODA3NCIsICJzb3VyY2UiOiAiSW90SHViIn0=",
         "2",
         "252088",
         528,
         "2024-04-16T14:40:12.159+0000",
         null,
         null,
         {},
         {
          "iothub-connection-auth-generation-id": "638486236982118213",
          "iothub-connection-auth-method": "{\"scope\":\"device\",\"type\":\"sas\",\"issuer\":\"iothub\",\"acceptingIpFilterRule\":null}",
          "iothub-connection-device-id": "Device1",
          "iothub-enqueuedtime": "\"2024-04-16T14:40:12.152Z\"",
          "iothub-message-source": "Telemetry",
          "x-opt-sequence-number-epoch": "-1"
         }
        ],
        [
         "eyJkZXZpY2VfaWQiOiAxMSwgInRtcCI6IDEwNSwgImhtZHQiOiA3MiwgInByc3JlIjogNDAzLCAidHMiOiAiMjAyNC0wNC0xNlQyMDoxMDoxNy4yMDgyNzAiLCAic291cmNlIjogIklvdEh1YiJ9",
         "2",
         "252568",
         529,
         "2024-04-16T14:40:17.347+0000",
         null,
         null,
         {},
         {
          "iothub-connection-auth-generation-id": "638486236982118213",
          "iothub-connection-auth-method": "{\"scope\":\"device\",\"type\":\"sas\",\"issuer\":\"iothub\",\"acceptingIpFilterRule\":null}",
          "iothub-connection-device-id": "Device1",
          "iothub-enqueuedtime": "\"2024-04-16T14:40:17.336Z\"",
          "iothub-message-source": "Telemetry",
          "x-opt-sequence-number-epoch": "-1"
         }
        ],
        [
         "eyJkZXZpY2VfaWQiOiAxMiwgInRtcCI6IDExNywgImhtZHQiOiA2MywgInByc3JlIjogNDkzLCAidHMiOiAiMjAyNC0wNC0xNlQyMDoxMDoyMi40MDAyMTciLCAic291cmNlIjogIklvdEh1YiJ9",
         "2",
         "253056",
         530,
         "2024-04-16T14:40:22.676+0000",
         null,
         null,
         {},
         {
          "iothub-connection-auth-generation-id": "638486236982118213",
          "iothub-connection-auth-method": "{\"scope\":\"device\",\"type\":\"sas\",\"issuer\":\"iothub\",\"acceptingIpFilterRule\":null}",
          "iothub-connection-device-id": "Device1",
          "iothub-enqueuedtime": "\"2024-04-16T14:40:22.664Z\"",
          "iothub-message-source": "Telemetry",
          "x-opt-sequence-number-epoch": "-1"
         }
        ],
        [
         "eyJkZXZpY2VfaWQiOiA0LCAidG1wIjogMTEwLCAiaG1kdCI6IDY5LCAicHJzcmUiOiA0MjMsICJ0cyI6ICIyMDI0LTA0LTE2VDIwOjEwOjI3LjcyODI2MyIsICJzb3VyY2UiOiAiSW90SHViIn0=",
         "2",
         "253544",
         531,
         "2024-04-16T14:40:27.863+0000",
         null,
         null,
         {},
         {
          "iothub-connection-auth-generation-id": "638486236982118213",
          "iothub-connection-auth-method": "{\"scope\":\"device\",\"type\":\"sas\",\"issuer\":\"iothub\",\"acceptingIpFilterRule\":null}",
          "iothub-connection-device-id": "Device1",
          "iothub-enqueuedtime": "\"2024-04-16T14:40:27.860Z\"",
          "iothub-message-source": "Telemetry",
          "x-opt-sequence-number-epoch": "-1"
         }
        ],
        [
         "eyJkZXZpY2VfaWQiOiAxMCwgInRtcCI6IDkwLCAiaG1kdCI6IDc5LCAicHJzcmUiOiA0NzYsICJ0cyI6ICIyMDI0LTA0LTE2VDIwOjEwOjMyLjkyODI0MSIsICJzb3VyY2UiOiAiSW90SHViIn0=",
         "2",
         "254024",
         532,
         "2024-04-16T14:40:33.410+0000",
         null,
         null,
         {},
         {
          "iothub-connection-auth-generation-id": "638486236982118213",
          "iothub-connection-auth-method": "{\"scope\":\"device\",\"type\":\"sas\",\"issuer\":\"iothub\",\"acceptingIpFilterRule\":null}",
          "iothub-connection-device-id": "Device1",
          "iothub-enqueuedtime": "\"2024-04-16T14:40:33.419Z\"",
          "iothub-message-source": "Telemetry",
          "x-opt-sequence-number-epoch": "-1"
         }
        ],
        [
         "eyJkZXZpY2VfaWQiOiA5LCAidG1wIjogOTMsICJobWR0IjogNjMsICJwcnNyZSI6IDQ1NywgInRzIjogIjIwMjQtMDQtMTZUMjA6MTA6MzguNDcyMjI3IiwgInNvdXJjZSI6ICJJb3RIdWIifQ==",
         "2",
         "254504",
         533,
         "2024-04-16T14:40:38.660+0000",
         null,
         null,
         {},
         {
          "iothub-connection-auth-generation-id": "638486236982118213",
          "iothub-connection-auth-method": "{\"scope\":\"device\",\"type\":\"sas\",\"issuer\":\"iothub\",\"acceptingIpFilterRule\":null}",
          "iothub-connection-device-id": "Device1",
          "iothub-enqueuedtime": "\"2024-04-16T14:40:38.650Z\"",
          "iothub-message-source": "Telemetry",
          "x-opt-sequence-number-epoch": "-1"
         }
        ],
        [
         "eyJkZXZpY2VfaWQiOiAxMiwgInRtcCI6IDEwOSwgImhtZHQiOiA3OSwgInByc3JlIjogNDYzLCAidHMiOiAiMjAyNC0wNC0xNlQyMDoxMDo0My43MTIyMDIiLCAic291cmNlIjogIklvdEh1YiJ9",
         "2",
         "254984",
         534,
         "2024-04-16T14:40:44.067+0000",
         null,
         null,
         {},
         {
          "iothub-connection-auth-generation-id": "638486236982118213",
          "iothub-connection-auth-method": "{\"scope\":\"device\",\"type\":\"sas\",\"issuer\":\"iothub\",\"acceptingIpFilterRule\":null}",
          "iothub-connection-device-id": "Device1",
          "iothub-enqueuedtime": "\"2024-04-16T14:40:44.071Z\"",
          "iothub-message-source": "Telemetry",
          "x-opt-sequence-number-epoch": "-1"
         }
        ],
        [
         "eyJkZXZpY2VfaWQiOiAzLCAidG1wIjogMTA0LCAiaG1kdCI6IDY0LCAicHJzcmUiOiA0MjcsICJ0cyI6ICIyMDI0LTA0LTE2VDIwOjEwOjQ5LjEyODE3NiIsICJzb3VyY2UiOiAiSW90SHViIn0=",
         "2",
         "255472",
         535,
         "2024-04-16T14:40:49.537+0000",
         null,
         null,
         {},
         {
          "iothub-connection-auth-generation-id": "638486236982118213",
          "iothub-connection-auth-method": "{\"scope\":\"device\",\"type\":\"sas\",\"issuer\":\"iothub\",\"acceptingIpFilterRule\":null}",
          "iothub-connection-device-id": "Device1",
          "iothub-enqueuedtime": "\"2024-04-16T14:40:49.529Z\"",
          "iothub-message-source": "Telemetry",
          "x-opt-sequence-number-epoch": "-1"
         }
        ],
        [
         "eyJkZXZpY2VfaWQiOiA3LCAidG1wIjogMTE2LCAiaG1kdCI6IDY3LCAicHJzcmUiOiA0NjEsICJ0cyI6ICIyMDI0LTA0LTE2VDIwOjEwOjU0LjYwMDI4NSIsICJzb3VyY2UiOiAiSW90SHViIn0=",
         "2",
         "255952",
         536,
         "2024-04-16T14:40:55.240+0000",
         null,
         null,
         {},
         {
          "iothub-connection-auth-generation-id": "638486236982118213",
          "iothub-connection-auth-method": "{\"scope\":\"device\",\"type\":\"sas\",\"issuer\":\"iothub\",\"acceptingIpFilterRule\":null}",
          "iothub-connection-device-id": "Device1",
          "iothub-enqueuedtime": "\"2024-04-16T14:40:55.242Z\"",
          "iothub-message-source": "Telemetry",
          "x-opt-sequence-number-epoch": "-1"
         }
        ],
        [
         "eyJkZXZpY2VfaWQiOiA4LCAidG1wIjogMTE3LCAiaG1kdCI6IDY0LCAicHJzcmUiOiA0NzQsICJ0cyI6ICIyMDI0LTA0LTE2VDIwOjExOjAwLjI5NjI0NCIsICJzb3VyY2UiOiAiSW90SHViIn0=",
         "2",
         "256432",
         537,
         "2024-04-16T14:41:00.428+0000",
         null,
         null,
         {},
         {
          "iothub-connection-auth-generation-id": "638486236982118213",
          "iothub-connection-auth-method": "{\"scope\":\"device\",\"type\":\"sas\",\"issuer\":\"iothub\",\"acceptingIpFilterRule\":null}",
          "iothub-connection-device-id": "Device1",
          "iothub-enqueuedtime": "\"2024-04-16T14:41:00.433Z\"",
          "iothub-message-source": "Telemetry",
          "x-opt-sequence-number-epoch": "-1"
         }
        ],
        [
         "eyJkZXZpY2VfaWQiOiAyLCAidG1wIjogOTMsICJobWR0IjogNjMsICJwcnNyZSI6IDQyNiwgInRzIjogIjIwMjQtMDQtMTZUMjA6MTE6MDUuNDgwMjUxIiwgInNvdXJjZSI6ICJJb3RIdWIifQ==",
         "2",
         "256912",
         538,
         "2024-04-16T14:41:05.881+0000",
         null,
         null,
         {},
         {
          "iothub-connection-auth-generation-id": "638486236982118213",
          "iothub-connection-auth-method": "{\"scope\":\"device\",\"type\":\"sas\",\"issuer\":\"iothub\",\"acceptingIpFilterRule\":null}",
          "iothub-connection-device-id": "Device1",
          "iothub-enqueuedtime": "\"2024-04-16T14:41:05.878Z\"",
          "iothub-message-source": "Telemetry",
          "x-opt-sequence-number-epoch": "-1"
         }
        ],
        [
         "eyJkZXZpY2VfaWQiOiAxNCwgInRtcCI6IDExOSwgImhtZHQiOiA3MCwgInByc3JlIjogNDg0LCAidHMiOiAiMjAyNC0wNC0xNlQyMDoxMToxMC45Mzc3NzUiLCAic291cmNlIjogIklvdEh1YiJ9",
         "2",
         "257392",
         539,
         "2024-04-16T14:41:11.084+0000",
         null,
         null,
         {},
         {
          "iothub-connection-auth-generation-id": "638486236982118213",
          "iothub-connection-auth-method": "{\"scope\":\"device\",\"type\":\"sas\",\"issuer\":\"iothub\",\"acceptingIpFilterRule\":null}",
          "iothub-connection-device-id": "Device1",
          "iothub-enqueuedtime": "\"2024-04-16T14:41:11.076Z\"",
          "iothub-message-source": "Telemetry",
          "x-opt-sequence-number-epoch": "-1"
         }
        ],
        [
         "eyJkZXZpY2VfaWQiOiAxMiwgInRtcCI6IDExOSwgImhtZHQiOiA2NywgInByc3JlIjogNDg2LCAidHMiOiAiMjAyNC0wNC0xNlQyMDoxMToxNi4xMzQ3MTAiLCAic291cmNlIjogIklvdEh1YiJ9",
         "2",
         "257880",
         540,
         "2024-04-16T14:41:16.382+0000",
         null,
         null,
         {},
         {
          "iothub-connection-auth-generation-id": "638486236982118213",
          "iothub-connection-auth-method": "{\"scope\":\"device\",\"type\":\"sas\",\"issuer\":\"iothub\",\"acceptingIpFilterRule\":null}",
          "iothub-connection-device-id": "Device1",
          "iothub-enqueuedtime": "\"2024-04-16T14:41:16.371Z\"",
          "iothub-message-source": "Telemetry",
          "x-opt-sequence-number-epoch": "-1"
         }
        ],
        [
         "eyJkZXZpY2VfaWQiOiA2LCAidG1wIjogMTA2LCAiaG1kdCI6IDcyLCAicHJzcmUiOiA0ODUsICJ0cyI6ICIyMDI0LTA0LTE2VDIwOjExOjIxLjQzNjIwMCIsICJzb3VyY2UiOiAiSW90SHViIn0=",
         "2",
         "258368",
         541,
         "2024-04-16T14:41:21.570+0000",
         null,
         null,
         {},
         {
          "iothub-connection-auth-generation-id": "638486236982118213",
          "iothub-connection-auth-method": "{\"scope\":\"device\",\"type\":\"sas\",\"issuer\":\"iothub\",\"acceptingIpFilterRule\":null}",
          "iothub-connection-device-id": "Device1",
          "iothub-enqueuedtime": "\"2024-04-16T14:41:21.569Z\"",
          "iothub-message-source": "Telemetry",
          "x-opt-sequence-number-epoch": "-1"
         }
        ],
        [
         "eyJkZXZpY2VfaWQiOiA3LCAidG1wIjogMTE3LCAiaG1kdCI6IDY1LCAicHJzcmUiOiA0MjEsICJ0cyI6ICIyMDI0LTA0LTE2VDIwOjExOjI2LjYzNDIyMSIsICJzb3VyY2UiOiAiSW90SHViIn0=",
         "2",
         "258848",
         542,
         "2024-04-16T14:41:27.070+0000",
         null,
         null,
         {},
         {
          "iothub-connection-auth-generation-id": "638486236982118213",
          "iothub-connection-auth-method": "{\"scope\":\"device\",\"type\":\"sas\",\"issuer\":\"iothub\",\"acceptingIpFilterRule\":null}",
          "iothub-connection-device-id": "Device1",
          "iothub-enqueuedtime": "\"2024-04-16T14:41:27.073Z\"",
          "iothub-message-source": "Telemetry",
          "x-opt-sequence-number-epoch": "-1"
         }
        ],
        [
         "eyJkZXZpY2VfaWQiOiA3LCAidG1wIjogMTE2LCAiaG1kdCI6IDYzLCAicHJzcmUiOiA0MzAsICJ0cyI6ICIyMDI0LTA0LTE2VDIwOjExOjMyLjEzNDI2MCIsICJzb3VyY2UiOiAiSW90SHViIn0=",
         "2",
         "259328",
         543,
         "2024-04-16T14:41:32.258+0000",
         null,
         null,
         {},
         {
          "iothub-connection-auth-generation-id": "638486236982118213",
          "iothub-connection-auth-method": "{\"scope\":\"device\",\"type\":\"sas\",\"issuer\":\"iothub\",\"acceptingIpFilterRule\":null}",
          "iothub-connection-device-id": "Device1",
          "iothub-enqueuedtime": "\"2024-04-16T14:41:32.268Z\"",
          "iothub-message-source": "Telemetry",
          "x-opt-sequence-number-epoch": "-1"
         }
        ],
        [
         "eyJkZXZpY2VfaWQiOiAyLCAidG1wIjogMTExLCAiaG1kdCI6IDc1LCAicHJzcmUiOiA0MjQsICJ0cyI6ICIyMDI0LTA0LTE2VDIwOjExOjM3LjMyMDIyNCIsICJzb3VyY2UiOiAiSW90SHViIn0=",
         "2",
         "259808",
         544,
         "2024-04-16T14:41:37.648+0000",
         null,
         null,
         {},
         {
          "iothub-connection-auth-generation-id": "638486236982118213",
          "iothub-connection-auth-method": "{\"scope\":\"device\",\"type\":\"sas\",\"issuer\":\"iothub\",\"acceptingIpFilterRule\":null}",
          "iothub-connection-device-id": "Device1",
          "iothub-enqueuedtime": "\"2024-04-16T14:41:37.657Z\"",
          "iothub-message-source": "Telemetry",
          "x-opt-sequence-number-epoch": "-1"
         }
        ],
        [
         "eyJkZXZpY2VfaWQiOiAxNCwgInRtcCI6IDEwNiwgImhtZHQiOiA3NCwgInByc3JlIjogNDA0LCAidHMiOiAiMjAyNC0wNC0xNlQyMDoxMTo0Mi43MDc1MTEiLCAic291cmNlIjogIklvdEh1YiJ9",
         "2",
         "260288",
         545,
         "2024-04-16T14:41:42.867+0000",
         null,
         null,
         {},
         {
          "iothub-connection-auth-generation-id": "638486236982118213",
          "iothub-connection-auth-method": "{\"scope\":\"device\",\"type\":\"sas\",\"issuer\":\"iothub\",\"acceptingIpFilterRule\":null}",
          "iothub-connection-device-id": "Device1",
          "iothub-enqueuedtime": "\"2024-04-16T14:41:42.863Z\"",
          "iothub-message-source": "Telemetry",
          "x-opt-sequence-number-epoch": "-1"
         }
        ],
        [
         "eyJkZXZpY2VfaWQiOiA3LCAidG1wIjogOTYsICJobWR0IjogNzEsICJwcnNyZSI6IDQxNCwgInRzIjogIjIwMjQtMDQtMTZUMjA6MTE6NDcuOTI4MzAzIiwgInNvdXJjZSI6ICJJb3RIdWIifQ==",
         "2",
         "260776",
         546,
         "2024-04-16T14:41:48.180+0000",
         null,
         null,
         {},
         {
          "iothub-connection-auth-generation-id": "638486236982118213",
          "iothub-connection-auth-method": "{\"scope\":\"device\",\"type\":\"sas\",\"issuer\":\"iothub\",\"acceptingIpFilterRule\":null}",
          "iothub-connection-device-id": "Device1",
          "iothub-enqueuedtime": "\"2024-04-16T14:41:48.183Z\"",
          "iothub-message-source": "Telemetry",
          "x-opt-sequence-number-epoch": "-1"
         }
        ],
        [
         "eyJkZXZpY2VfaWQiOiA1LCAidG1wIjogMTAzLCAiaG1kdCI6IDc4LCAicHJzcmUiOiA0MDEsICJ0cyI6ICIyMDI0LTA0LTE2VDIwOjExOjUzLjIzNzc1NiIsICJzb3VyY2UiOiAiSW90SHViIn0=",
         "2",
         "261256",
         547,
         "2024-04-16T14:41:53.383+0000",
         null,
         null,
         {},
         {
          "iothub-connection-auth-generation-id": "638486236982118213",
          "iothub-connection-auth-method": "{\"scope\":\"device\",\"type\":\"sas\",\"issuer\":\"iothub\",\"acceptingIpFilterRule\":null}",
          "iothub-connection-device-id": "Device1",
          "iothub-enqueuedtime": "\"2024-04-16T14:41:53.390Z\"",
          "iothub-message-source": "Telemetry",
          "x-opt-sequence-number-epoch": "-1"
         }
        ],
        [
         "eyJkZXZpY2VfaWQiOiA0LCAidG1wIjogMTA1LCAiaG1kdCI6IDYwLCAicHJzcmUiOiA0NjEsICJ0cyI6ICIyMDI0LTA0LTE2VDIwOjExOjU4LjQzNjI0NyIsICJzb3VyY2UiOiAiSW90SHViIn0=",
         "2",
         "261736",
         548,
         "2024-04-16T14:41:59.227+0000",
         null,
         null,
         {},
         {
          "iothub-connection-auth-generation-id": "638486236982118213",
          "iothub-connection-auth-method": "{\"scope\":\"device\",\"type\":\"sas\",\"issuer\":\"iothub\",\"acceptingIpFilterRule\":null}",
          "iothub-connection-device-id": "Device1",
          "iothub-enqueuedtime": "\"2024-04-16T14:41:59.233Z\"",
          "iothub-message-source": "Telemetry",
          "x-opt-sequence-number-epoch": "-1"
         }
        ],
        [
         "eyJkZXZpY2VfaWQiOiAxNCwgInRtcCI6IDk2LCAiaG1kdCI6IDcyLCAicHJzcmUiOiA0NzgsICJ0cyI6ICIyMDI0LTA0LTE2VDIwOjEyOjA0LjI4ODMzMSIsICJzb3VyY2UiOiAiSW90SHViIn0=",
         "2",
         "262216",
         549,
         "2024-04-16T14:42:04.431+0000",
         null,
         null,
         {},
         {
          "iothub-connection-auth-generation-id": "638486236982118213",
          "iothub-connection-auth-method": "{\"scope\":\"device\",\"type\":\"sas\",\"issuer\":\"iothub\",\"acceptingIpFilterRule\":null}",
          "iothub-connection-device-id": "Device1",
          "iothub-enqueuedtime": "\"2024-04-16T14:42:04.414Z\"",
          "iothub-message-source": "Telemetry",
          "x-opt-sequence-number-epoch": "-1"
         }
        ],
        [
         "eyJkZXZpY2VfaWQiOiA0LCAidG1wIjogMTA4LCAiaG1kdCI6IDcyLCAicHJzcmUiOiA0ODksICJ0cyI6ICIyMDI0LTA0LTE2VDIwOjEyOjA5LjQ3ODE2MCIsICJzb3VyY2UiOiAiSW90SHViIn0=",
         "2",
         "262696",
         550,
         "2024-04-16T14:42:09.649+0000",
         null,
         null,
         {},
         {
          "iothub-connection-auth-generation-id": "638486236982118213",
          "iothub-connection-auth-method": "{\"scope\":\"device\",\"type\":\"sas\",\"issuer\":\"iothub\",\"acceptingIpFilterRule\":null}",
          "iothub-connection-device-id": "Device1",
          "iothub-enqueuedtime": "\"2024-04-16T14:42:09.655Z\"",
          "iothub-message-source": "Telemetry",
          "x-opt-sequence-number-epoch": "-1"
         }
        ],
        [
         "eyJkZXZpY2VfaWQiOiA1LCAidG1wIjogMTAxLCAiaG1kdCI6IDc2LCAicHJzcmUiOiA0OTksICJ0cyI6ICIyMDI0LTA0LTE2VDIwOjEyOjE0LjcwNDMzMCIsICJzb3VyY2UiOiAiSW90SHViIn0=",
         "2",
         "263176",
         551,
         "2024-04-16T14:42:14.853+0000",
         null,
         null,
         {},
         {
          "iothub-connection-auth-generation-id": "638486236982118213",
          "iothub-connection-auth-method": "{\"scope\":\"device\",\"type\":\"sas\",\"issuer\":\"iothub\",\"acceptingIpFilterRule\":null}",
          "iothub-connection-device-id": "Device1",
          "iothub-enqueuedtime": "\"2024-04-16T14:42:14.842Z\"",
          "iothub-message-source": "Telemetry",
          "x-opt-sequence-number-epoch": "-1"
         }
        ],
        [
         "eyJkZXZpY2VfaWQiOiA5LCAidG1wIjogMTA0LCAiaG1kdCI6IDY3LCAicHJzcmUiOiA0NDYsICJ0cyI6ICIyMDI0LTA0LTE2VDIwOjUxOjA0LjY2MTU5NCIsICJzb3VyY2UiOiAiSW90SHViIn0=",
         "2",
         "263656",
         552,
         "2024-04-16T15:21:05.357+0000",
         null,
         null,
         {},
         {
          "iothub-connection-auth-generation-id": "638486236982118213",
          "iothub-connection-auth-method": "{\"scope\":\"device\",\"type\":\"sas\",\"issuer\":\"iothub\",\"acceptingIpFilterRule\":null}",
          "iothub-connection-device-id": "Device1",
          "iothub-enqueuedtime": "\"2024-04-16T15:21:04.922Z\"",
          "iothub-message-source": "Telemetry",
          "x-opt-sequence-number-epoch": "-1"
         }
        ],
        [
         "eyJkZXZpY2VfaWQiOiA2LCAidG1wIjogMTE1LCAiaG1kdCI6IDY3LCAicHJzcmUiOiA0NzgsICJ0cyI6ICIyMDI0LTA0LTE2VDIwOjUxOjEwLjQ3NjE5OCIsICJzb3VyY2UiOiAiSW90SHViIn0=",
         "2",
         "264136",
         553,
         "2024-04-16T15:21:10.904+0000",
         null,
         null,
         {},
         {
          "iothub-connection-auth-generation-id": "638486236982118213",
          "iothub-connection-auth-method": "{\"scope\":\"device\",\"type\":\"sas\",\"issuer\":\"iothub\",\"acceptingIpFilterRule\":null}",
          "iothub-connection-device-id": "Device1",
          "iothub-enqueuedtime": "\"2024-04-16T15:21:10.651Z\"",
          "iothub-message-source": "Telemetry",
          "x-opt-sequence-number-epoch": "-1"
         }
        ],
        [
         "eyJkZXZpY2VfaWQiOiAyLCAidG1wIjogMTEzLCAiaG1kdCI6IDY0LCAicHJzcmUiOiA0MTcsICJ0cyI6ICIyMDI0LTA0LTE2VDIwOjUxOjE1LjkwODIwNyIsICJzb3VyY2UiOiAiSW90SHViIn0=",
         "2",
         "264616",
         554,
         "2024-04-16T15:21:16.530+0000",
         null,
         null,
         {},
         {
          "iothub-connection-auth-generation-id": "638486236982118213",
          "iothub-connection-auth-method": "{\"scope\":\"device\",\"type\":\"sas\",\"issuer\":\"iothub\",\"acceptingIpFilterRule\":null}",
          "iothub-connection-device-id": "Device1",
          "iothub-enqueuedtime": "\"2024-04-16T15:21:16.154Z\"",
          "iothub-message-source": "Telemetry",
          "x-opt-sequence-number-epoch": "-1"
         }
        ],
        [
         "eyJkZXZpY2VfaWQiOiA1LCAidG1wIjogMTA0LCAiaG1kdCI6IDcwLCAicHJzcmUiOiA0MDgsICJ0cyI6ICIyMDI0LTA0LTE2VDIwOjUxOjIxLjU0MDIwNSIsICJzb3VyY2UiOiAiSW90SHViIn0=",
         "2",
         "265096",
         555,
         "2024-04-16T15:21:22.140+0000",
         null,
         null,
         {},
         {
          "iothub-connection-auth-generation-id": "638486236982118213",
          "iothub-connection-auth-method": "{\"scope\":\"device\",\"type\":\"sas\",\"issuer\":\"iothub\",\"acceptingIpFilterRule\":null}",
          "iothub-connection-device-id": "Device1",
          "iothub-enqueuedtime": "\"2024-04-16T15:21:21.717Z\"",
          "iothub-message-source": "Telemetry",
          "x-opt-sequence-number-epoch": "-1"
         }
        ],
        [
         "eyJkZXZpY2VfaWQiOiA0LCAidG1wIjogMTE4LCAiaG1kdCI6IDYzLCAicHJzcmUiOiA0MjEsICJ0cyI6ICIyMDI0LTA0LTE2VDIwOjUxOjI3LjE2NDE2MyIsICJzb3VyY2UiOiAiSW90SHViIn0=",
         "2",
         "265576",
         556,
         "2024-04-16T15:21:27.406+0000",
         null,
         null,
         {},
         {
          "iothub-connection-auth-generation-id": "638486236982118213",
          "iothub-connection-auth-method": "{\"scope\":\"device\",\"type\":\"sas\",\"issuer\":\"iothub\",\"acceptingIpFilterRule\":null}",
          "iothub-connection-device-id": "Device1",
          "iothub-enqueuedtime": "\"2024-04-16T15:21:27.407Z\"",
          "iothub-message-source": "Telemetry",
          "x-opt-sequence-number-epoch": "-1"
         }
        ],
        [
         "eyJkZXZpY2VfaWQiOiAzLCAidG1wIjogMTAzLCAiaG1kdCI6IDY0LCAicHJzcmUiOiA0NDMsICJ0cyI6ICIyMDI0LTA0LTE2VDIwOjUxOjMyLjQyNDI5MSIsICJzb3VyY2UiOiAiSW90SHViIn0=",
         "2",
         "266056",
         557,
         "2024-04-16T15:21:33.031+0000",
         null,
         null,
         {},
         {
          "iothub-connection-auth-generation-id": "638486236982118213",
          "iothub-connection-auth-method": "{\"scope\":\"device\",\"type\":\"sas\",\"issuer\":\"iothub\",\"acceptingIpFilterRule\":null}",
          "iothub-connection-device-id": "Device1",
          "iothub-enqueuedtime": "\"2024-04-16T15:21:32.610Z\"",
          "iothub-message-source": "Telemetry",
          "x-opt-sequence-number-epoch": "-1"
         }
        ],
        [
         "eyJkZXZpY2VfaWQiOiAxMywgInRtcCI6IDEwMSwgImhtZHQiOiA2NywgInByc3JlIjogNDUyLCAidHMiOiAiMjAyNC0wNC0xNlQyMDo1MTozOC4zMjQzMDgiLCAic291cmNlIjogIklvdEh1YiJ9",
         "2",
         "266536",
         558,
         "2024-04-16T15:21:38.891+0000",
         null,
         null,
         {},
         {
          "iothub-connection-auth-generation-id": "638486236982118213",
          "iothub-connection-auth-method": "{\"scope\":\"device\",\"type\":\"sas\",\"issuer\":\"iothub\",\"acceptingIpFilterRule\":null}",
          "iothub-connection-device-id": "Device1",
          "iothub-enqueuedtime": "\"2024-04-16T15:21:38.635Z\"",
          "iothub-message-source": "Telemetry",
          "x-opt-sequence-number-epoch": "-1"
         }
        ],
        [
         "eyJkZXZpY2VfaWQiOiA5LCAidG1wIjogMTE1LCAiaG1kdCI6IDY4LCAicHJzcmUiOiA0MjksICJ0cyI6ICIyMDI0LTA0LTE2VDIwOjUxOjQzLjk1MjIxNiIsICJzb3VyY2UiOiAiSW90SHViIn0=",
         "2",
         "267024",
         559,
         "2024-04-16T15:21:44.126+0000",
         null,
         null,
         {},
         {
          "iothub-connection-auth-generation-id": "638486236982118213",
          "iothub-connection-auth-method": "{\"scope\":\"device\",\"type\":\"sas\",\"issuer\":\"iothub\",\"acceptingIpFilterRule\":null}",
          "iothub-connection-device-id": "Device1",
          "iothub-enqueuedtime": "\"2024-04-16T15:21:44.120Z\"",
          "iothub-message-source": "Telemetry",
          "x-opt-sequence-number-epoch": "-1"
         }
        ],
        [
         "eyJkZXZpY2VfaWQiOiA2LCAidG1wIjogMTE0LCAiaG1kdCI6IDcyLCAicHJzcmUiOiA0NzQsICJ0cyI6ICIyMDI0LTA0LTE2VDIwOjUxOjQ5LjEzNjE2MyIsICJzb3VyY2UiOiAiSW90SHViIn0=",
         "2",
         "267504",
         560,
         "2024-04-16T15:21:49.892+0000",
         null,
         null,
         {},
         {
          "iothub-connection-auth-generation-id": "638486236982118213",
          "iothub-connection-auth-method": "{\"scope\":\"device\",\"type\":\"sas\",\"issuer\":\"iothub\",\"acceptingIpFilterRule\":null}",
          "iothub-connection-device-id": "Device1",
          "iothub-enqueuedtime": "\"2024-04-16T15:21:49.452Z\"",
          "iothub-message-source": "Telemetry",
          "x-opt-sequence-number-epoch": "-1"
         }
        ],
        [
         "eyJkZXZpY2VfaWQiOiA2LCAidG1wIjogMTE4LCAiaG1kdCI6IDcyLCAicHJzcmUiOiA0MjYsICJ0cyI6ICIyMDI0LTA0LTE2VDIwOjUxOjU0LjkwNDU1MiIsICJzb3VyY2UiOiAiSW90SHViIn0=",
         "2",
         "267984",
         561,
         "2024-04-16T15:21:55.095+0000",
         null,
         null,
         {},
         {
          "iothub-connection-auth-generation-id": "638486236982118213",
          "iothub-connection-auth-method": "{\"scope\":\"device\",\"type\":\"sas\",\"issuer\":\"iothub\",\"acceptingIpFilterRule\":null}",
          "iothub-connection-device-id": "Device1",
          "iothub-enqueuedtime": "\"2024-04-16T15:21:55.089Z\"",
          "iothub-message-source": "Telemetry",
          "x-opt-sequence-number-epoch": "-1"
         }
        ],
        [
         "eyJkZXZpY2VfaWQiOiAxMywgInRtcCI6IDExOSwgImhtZHQiOiA3MSwgInByc3JlIjogNDI2LCAidHMiOiAiMjAyNC0wNC0xNlQyMDo1MjowMC4xMDAzMjIiLCAic291cmNlIjogIklvdEh1YiJ9",
         "2",
         "268464",
         562,
         "2024-04-16T15:22:00.736+0000",
         null,
         null,
         {},
         {
          "iothub-connection-auth-generation-id": "638486236982118213",
          "iothub-connection-auth-method": "{\"scope\":\"device\",\"type\":\"sas\",\"issuer\":\"iothub\",\"acceptingIpFilterRule\":null}",
          "iothub-connection-device-id": "Device1",
          "iothub-enqueuedtime": "\"2024-04-16T15:22:00.732Z\"",
          "iothub-message-source": "Telemetry",
          "x-opt-sequence-number-epoch": "-1"
         }
        ],
        [
         "eyJkZXZpY2VfaWQiOiAyLCAidG1wIjogMTAyLCAiaG1kdCI6IDc0LCAicHJzcmUiOiA0MzcsICJ0cyI6ICIyMDI0LTA0LTE2VDIwOjUyOjA1Ljc1MjMwOCIsICJzb3VyY2UiOiAiSW90SHViIn0=",
         "2",
         "268952",
         563,
         "2024-04-16T15:22:06.158+0000",
         null,
         null,
         {},
         {
          "iothub-connection-auth-generation-id": "638486236982118213",
          "iothub-connection-auth-method": "{\"scope\":\"device\",\"type\":\"sas\",\"issuer\":\"iothub\",\"acceptingIpFilterRule\":null}",
          "iothub-connection-device-id": "Device1",
          "iothub-enqueuedtime": "\"2024-04-16T15:22:06.171Z\"",
          "iothub-message-source": "Telemetry",
          "x-opt-sequence-number-epoch": "-1"
         }
        ],
        [
         "eyJkZXZpY2VfaWQiOiA0LCAidG1wIjogMTE4LCAiaG1kdCI6IDY3LCAicHJzcmUiOiA0MTMsICJ0cyI6ICIyMDI0LTA0LTE2VDIwOjUyOjExLjE2ODEzNyIsICJzb3VyY2UiOiAiSW90SHViIn0=",
         "2",
         "269432",
         564,
         "2024-04-16T15:22:12.096+0000",
         null,
         null,
         {},
         {
          "iothub-connection-auth-generation-id": "638486236982118213",
          "iothub-connection-auth-method": "{\"scope\":\"device\",\"type\":\"sas\",\"issuer\":\"iothub\",\"acceptingIpFilterRule\":null}",
          "iothub-connection-device-id": "Device1",
          "iothub-enqueuedtime": "\"2024-04-16T15:22:11.700Z\"",
          "iothub-message-source": "Telemetry",
          "x-opt-sequence-number-epoch": "-1"
         }
        ],
        [
         "eyJkZXZpY2VfaWQiOiAxMywgInRtcCI6IDExMywgImhtZHQiOiA3NywgInByc3JlIjogNDUyLCAidHMiOiAiMjAyNC0wNC0xNlQyMDo1MjoxNy4xMzYzMjciLCAic291cmNlIjogIklvdEh1YiJ9",
         "2",
         "269912",
         565,
         "2024-04-16T15:22:17.315+0000",
         null,
         null,
         {},
         {
          "iothub-connection-auth-generation-id": "638486236982118213",
          "iothub-connection-auth-method": "{\"scope\":\"device\",\"type\":\"sas\",\"issuer\":\"iothub\",\"acceptingIpFilterRule\":null}",
          "iothub-connection-device-id": "Device1",
          "iothub-enqueuedtime": "\"2024-04-16T15:22:17.309Z\"",
          "iothub-message-source": "Telemetry",
          "x-opt-sequence-number-epoch": "-1"
         }
        ],
        [
         "eyJkZXZpY2VfaWQiOiAxMSwgInRtcCI6IDExNywgImhtZHQiOiA2MywgInByc3JlIjogNDA1LCAidHMiOiAiMjAyNC0wNC0xNlQyMDo1MjoyMi4zMjMwOTMiLCAic291cmNlIjogIklvdEh1YiJ9",
         "2",
         "270400",
         566,
         "2024-04-16T15:22:23.221+0000",
         null,
         null,
         {},
         {
          "iothub-connection-auth-generation-id": "638486236982118213",
          "iothub-connection-auth-method": "{\"scope\":\"device\",\"type\":\"sas\",\"issuer\":\"iothub\",\"acceptingIpFilterRule\":null}",
          "iothub-connection-device-id": "Device1",
          "iothub-enqueuedtime": "\"2024-04-16T15:22:22.576Z\"",
          "iothub-message-source": "Telemetry",
          "x-opt-sequence-number-epoch": "-1"
         }
        ],
        [
         "eyJkZXZpY2VfaWQiOiA2LCAidG1wIjogMTA3LCAiaG1kdCI6IDYxLCAicHJzcmUiOiA0NTksICJ0cyI6ICIyMDI0LTA0LTE2VDIwOjUyOjI4LjMwMTI5NiIsICJzb3VyY2UiOiAiSW90SHViIn0=",
         "2",
         "270888",
         567,
         "2024-04-16T15:22:28.487+0000",
         null,
         null,
         {},
         {
          "iothub-connection-auth-generation-id": "638486236982118213",
          "iothub-connection-auth-method": "{\"scope\":\"device\",\"type\":\"sas\",\"issuer\":\"iothub\",\"acceptingIpFilterRule\":null}",
          "iothub-connection-device-id": "Device1",
          "iothub-enqueuedtime": "\"2024-04-16T15:22:28.489Z\"",
          "iothub-message-source": "Telemetry",
          "x-opt-sequence-number-epoch": "-1"
         }
        ],
        [
         "eyJkZXZpY2VfaWQiOiA5LCAidG1wIjogOTUsICJobWR0IjogNjIsICJwcnNyZSI6IDQ0NiwgInRzIjogIjIwMjQtMDQtMTZUMjA6NTI6MzMuNDkyNDI3IiwgInNvdXJjZSI6ICJJb3RIdWIifQ==",
         "2",
         "271368",
         568,
         "2024-04-16T15:22:34.019+0000",
         null,
         null,
         {},
         {
          "iothub-connection-auth-generation-id": "638486236982118213",
          "iothub-connection-auth-method": "{\"scope\":\"device\",\"type\":\"sas\",\"issuer\":\"iothub\",\"acceptingIpFilterRule\":null}",
          "iothub-connection-device-id": "Device1",
          "iothub-enqueuedtime": "\"2024-04-16T15:22:34.014Z\"",
          "iothub-message-source": "Telemetry",
          "x-opt-sequence-number-epoch": "-1"
         }
        ],
        [
         "eyJkZXZpY2VfaWQiOiAxLCAidG1wIjogOTMsICJobWR0IjogNzEsICJwcnNyZSI6IDQ0NiwgInRzIjogIjIwMjQtMDQtMTZUMjA6NTI6MzkuMDIwMjgzIiwgInNvdXJjZSI6ICJJb3RIdWIifQ==",
         "2",
         "271848",
         569,
         "2024-04-16T15:22:39.645+0000",
         null,
         null,
         {},
         {
          "iothub-connection-auth-generation-id": "638486236982118213",
          "iothub-connection-auth-method": "{\"scope\":\"device\",\"type\":\"sas\",\"issuer\":\"iothub\",\"acceptingIpFilterRule\":null}",
          "iothub-connection-device-id": "Device1",
          "iothub-enqueuedtime": "\"2024-04-16T15:22:39.224Z\"",
          "iothub-message-source": "Telemetry",
          "x-opt-sequence-number-epoch": "-1"
         }
        ],
        [
         "eyJkZXZpY2VfaWQiOiA4LCAidG1wIjogOTAsICJobWR0IjogNzIsICJwcnNyZSI6IDQzOCwgInRzIjogIjIwMjQtMDQtMTZUMjA6NTI6NDQuNjUyMTk3IiwgInNvdXJjZSI6ICJJb3RIdWIifQ==",
         "2",
         "272328",
         570,
         "2024-04-16T15:22:45.176+0000",
         null,
         null,
         {},
         {
          "iothub-connection-auth-generation-id": "638486236982118213",
          "iothub-connection-auth-method": "{\"scope\":\"device\",\"type\":\"sas\",\"issuer\":\"iothub\",\"acceptingIpFilterRule\":null}",
          "iothub-connection-device-id": "Device1",
          "iothub-enqueuedtime": "\"2024-04-16T15:22:45.175Z\"",
          "iothub-message-source": "Telemetry",
          "x-opt-sequence-number-epoch": "-1"
         }
        ],
        [
         "eyJkZXZpY2VfaWQiOiAxNCwgInRtcCI6IDEwNywgImhtZHQiOiA3MSwgInByc3JlIjogNDMyLCAidHMiOiAiMjAyNC0wNC0xNlQyMDo1Mjo1MC4xOTEyNzgiLCAic291cmNlIjogIklvdEh1YiJ9",
         "2",
         "272808",
         571,
         "2024-04-16T15:22:50.676+0000",
         null,
         null,
         {},
         {
          "iothub-connection-auth-generation-id": "638486236982118213",
          "iothub-connection-auth-method": "{\"scope\":\"device\",\"type\":\"sas\",\"issuer\":\"iothub\",\"acceptingIpFilterRule\":null}",
          "iothub-connection-device-id": "Device1",
          "iothub-enqueuedtime": "\"2024-04-16T15:22:50.671Z\"",
          "iothub-message-source": "Telemetry",
          "x-opt-sequence-number-epoch": "-1"
         }
        ],
        [
         "eyJkZXZpY2VfaWQiOiA5LCAidG1wIjogMTA1LCAiaG1kdCI6IDY5LCAicHJzcmUiOiA0NjQsICJ0cyI6ICIyMDI0LTA0LTE2VDIwOjUyOjU1LjY4MzY3MiIsICJzb3VyY2UiOiAiSW90SHViIn0=",
         "2",
         "273296",
         572,
         "2024-04-16T15:22:56.130+0000",
         null,
         null,
         {},
         {
          "iothub-connection-auth-generation-id": "638486236982118213",
          "iothub-connection-auth-method": "{\"scope\":\"device\",\"type\":\"sas\",\"issuer\":\"iothub\",\"acceptingIpFilterRule\":null}",
          "iothub-connection-device-id": "Device1",
          "iothub-enqueuedtime": "\"2024-04-16T15:22:56.130Z\"",
          "iothub-message-source": "Telemetry",
          "x-opt-sequence-number-epoch": "-1"
         }
        ],
        [
         "eyJkZXZpY2VfaWQiOiA4LCAidG1wIjogMTAxLCAiaG1kdCI6IDY5LCAicHJzcmUiOiA0MTYsICJ0cyI6ICIyMDI0LTA0LTE2VDIwOjUzOjAxLjEzMjAyMiIsICJzb3VyY2UiOiAiSW90SHViIn0=",
         "2",
         "273776",
         573,
         "2024-04-16T15:23:01.333+0000",
         null,
         null,
         {},
         {
          "iothub-connection-auth-generation-id": "638486236982118213",
          "iothub-connection-auth-method": "{\"scope\":\"device\",\"type\":\"sas\",\"issuer\":\"iothub\",\"acceptingIpFilterRule\":null}",
          "iothub-connection-device-id": "Device1",
          "iothub-enqueuedtime": "\"2024-04-16T15:23:01.334Z\"",
          "iothub-message-source": "Telemetry",
          "x-opt-sequence-number-epoch": "-1"
         }
        ],
        [
         "eyJkZXZpY2VfaWQiOiA1LCAidG1wIjogMTA5LCAiaG1kdCI6IDc5LCAicHJzcmUiOiA0MTcsICJ0cyI6ICIyMDI0LTA0LTE2VDIwOjUzOjA2LjM0NzEzNiIsICJzb3VyY2UiOiAiSW90SHViIn0=",
         "2",
         "274256",
         574,
         "2024-04-16T15:23:06.631+0000",
         null,
         null,
         {},
         {
          "iothub-connection-auth-generation-id": "638486236982118213",
          "iothub-connection-auth-method": "{\"scope\":\"device\",\"type\":\"sas\",\"issuer\":\"iothub\",\"acceptingIpFilterRule\":null}",
          "iothub-connection-device-id": "Device1",
          "iothub-enqueuedtime": "\"2024-04-16T15:23:06.627Z\"",
          "iothub-message-source": "Telemetry",
          "x-opt-sequence-number-epoch": "-1"
         }
        ],
        [
         "eyJkZXZpY2VfaWQiOiAxMSwgInRtcCI6IDk2LCAiaG1kdCI6IDcyLCAicHJzcmUiOiA0MDMsICJ0cyI6ICIyMDI0LTA0LTE2VDIwOjUzOjExLjYyODYzMSIsICJzb3VyY2UiOiAiSW90SHViIn0=",
         "2",
         "274736",
         575,
         "2024-04-16T15:23:12.334+0000",
         null,
         null,
         {},
         {
          "iothub-connection-auth-generation-id": "638486236982118213",
          "iothub-connection-auth-method": "{\"scope\":\"device\",\"type\":\"sas\",\"issuer\":\"iothub\",\"acceptingIpFilterRule\":null}",
          "iothub-connection-device-id": "Device1",
          "iothub-enqueuedtime": "\"2024-04-16T15:23:11.822Z\"",
          "iothub-message-source": "Telemetry",
          "x-opt-sequence-number-epoch": "-1"
         }
        ],
        [
         "eyJkZXZpY2VfaWQiOiA3LCAidG1wIjogOTksICJobWR0IjogNjQsICJwcnNyZSI6IDQ4NiwgInRzIjogIjIwMjQtMDQtMTZUMjA6NTM6MTcuNDQ2OTE4IiwgInNvdXJjZSI6ICJJb3RIdWIifQ==",
         "2",
         "275216",
         576,
         "2024-04-16T15:23:17.694+0000",
         null,
         null,
         {},
         {
          "iothub-connection-auth-generation-id": "638486236982118213",
          "iothub-connection-auth-method": "{\"scope\":\"device\",\"type\":\"sas\",\"issuer\":\"iothub\",\"acceptingIpFilterRule\":null}",
          "iothub-connection-device-id": "Device1",
          "iothub-enqueuedtime": "\"2024-04-16T15:23:17.680Z\"",
          "iothub-message-source": "Telemetry",
          "x-opt-sequence-number-epoch": "-1"
         }
        ],
        [
         "eyJkZXZpY2VfaWQiOiA0LCAidG1wIjogOTUsICJobWR0IjogNjEsICJwcnNyZSI6IDQ1MCwgInRzIjogIjIwMjQtMDQtMTZUMjA6NTM6MjIuNjkzNjg2IiwgInNvdXJjZSI6ICJJb3RIdWIifQ==",
         "2",
         "275696",
         577,
         "2024-04-16T15:23:22.898+0000",
         null,
         null,
         {},
         {
          "iothub-connection-auth-generation-id": "638486236982118213",
          "iothub-connection-auth-method": "{\"scope\":\"device\",\"type\":\"sas\",\"issuer\":\"iothub\",\"acceptingIpFilterRule\":null}",
          "iothub-connection-device-id": "Device1",
          "iothub-enqueuedtime": "\"2024-04-16T15:23:22.890Z\"",
          "iothub-message-source": "Telemetry",
          "x-opt-sequence-number-epoch": "-1"
         }
        ],
        [
         "eyJkZXZpY2VfaWQiOiA4LCAidG1wIjogMTA0LCAiaG1kdCI6IDcyLCAicHJzcmUiOiA0MzIsICJ0cyI6ICIyMDI0LTA0LTE2VDIwOjUzOjI3LjkwMDMyMSIsICJzb3VyY2UiOiAiSW90SHViIn0=",
         "2",
         "276176",
         578,
         "2024-04-16T15:23:28.227+0000",
         null,
         null,
         {},
         {
          "iothub-connection-auth-generation-id": "638486236982118213",
          "iothub-connection-auth-method": "{\"scope\":\"device\",\"type\":\"sas\",\"issuer\":\"iothub\",\"acceptingIpFilterRule\":null}",
          "iothub-connection-device-id": "Device1",
          "iothub-enqueuedtime": "\"2024-04-16T15:23:28.217Z\"",
          "iothub-message-source": "Telemetry",
          "x-opt-sequence-number-epoch": "-1"
         }
        ],
        [
         "eyJkZXZpY2VfaWQiOiA0LCAidG1wIjogOTQsICJobWR0IjogNzAsICJwcnNyZSI6IDQwNiwgInRzIjogIjIwMjQtMDQtMTZUMjA6NTM6MzMuMjI1NjM5IiwgInNvdXJjZSI6ICJJb3RIdWIifQ==",
         "2",
         "276656",
         579,
         "2024-04-16T15:23:33.445+0000",
         null,
         null,
         {},
         {
          "iothub-connection-auth-generation-id": "638486236982118213",
          "iothub-connection-auth-method": "{\"scope\":\"device\",\"type\":\"sas\",\"issuer\":\"iothub\",\"acceptingIpFilterRule\":null}",
          "iothub-connection-device-id": "Device1",
          "iothub-enqueuedtime": "\"2024-04-16T15:23:33.441Z\"",
          "iothub-message-source": "Telemetry",
          "x-opt-sequence-number-epoch": "-1"
         }
        ],
        [
         "eyJkZXZpY2VfaWQiOiAxMiwgInRtcCI6IDkyLCAiaG1kdCI6IDc4LCAicHJzcmUiOiA0OTksICJ0cyI6ICIyMDI0LTA0LTE2VDIwOjUzOjM4LjQ0NDI0MSIsICJzb3VyY2UiOiAiSW90SHViIn0=",
         "2",
         "277136",
         580,
         "2024-04-16T15:23:38.789+0000",
         null,
         null,
         {},
         {
          "iothub-connection-auth-generation-id": "638486236982118213",
          "iothub-connection-auth-method": "{\"scope\":\"device\",\"type\":\"sas\",\"issuer\":\"iothub\",\"acceptingIpFilterRule\":null}",
          "iothub-connection-device-id": "Device1",
          "iothub-enqueuedtime": "\"2024-04-16T15:23:38.785Z\"",
          "iothub-message-source": "Telemetry",
          "x-opt-sequence-number-epoch": "-1"
         }
        ],
        [
         "eyJkZXZpY2VfaWQiOiAxLCAidG1wIjogOTIsICJobWR0IjogNjQsICJwcnNyZSI6IDQ0MCwgInRzIjogIjIwMjQtMDQtMTZUMjA6NTM6NDMuNzk0NDMzIiwgInNvdXJjZSI6ICJJb3RIdWIifQ==",
         "2",
         "277616",
         581,
         "2024-04-16T15:23:44.617+0000",
         null,
         null,
         {},
         {
          "iothub-connection-auth-generation-id": "638486236982118213",
          "iothub-connection-auth-method": "{\"scope\":\"device\",\"type\":\"sas\",\"issuer\":\"iothub\",\"acceptingIpFilterRule\":null}",
          "iothub-connection-device-id": "Device1",
          "iothub-enqueuedtime": "\"2024-04-16T15:23:44.613Z\"",
          "iothub-message-source": "Telemetry",
          "x-opt-sequence-number-epoch": "-1"
         }
        ],
        [
         "eyJkZXZpY2VfaWQiOiA4LCAidG1wIjogMTA3LCAiaG1kdCI6IDYxLCAicHJzcmUiOiA0NDIsICJ0cyI6ICIyMDI0LTA0LTE2VDIwOjUzOjQ5LjYyMzU4MSIsICJzb3VyY2UiOiAiSW90SHViIn0=",
         "2",
         "278096",
         582,
         "2024-04-16T15:23:56.072+0000",
         null,
         null,
         {},
         {
          "iothub-connection-auth-generation-id": "638486236982118213",
          "iothub-connection-auth-method": "{\"scope\":\"device\",\"type\":\"sas\",\"issuer\":\"iothub\",\"acceptingIpFilterRule\":null}",
          "iothub-connection-device-id": "Device1",
          "iothub-enqueuedtime": "\"2024-04-16T15:23:55.630Z\"",
          "iothub-message-source": "Telemetry",
          "x-opt-sequence-number-epoch": "-1"
         }
        ],
        [
         "eyJkZXZpY2VfaWQiOiAxMCwgInRtcCI6IDExMSwgImhtZHQiOiA3MywgInByc3JlIjogNDU5LCAidHMiOiAiMjAyNC0wNC0xNlQyMDo1NDowMS4xNjgyMDEiLCAic291cmNlIjogIklvdEh1YiJ9",
         "2",
         "278576",
         583,
         "2024-04-16T15:24:01.369+0000",
         null,
         null,
         {},
         {
          "iothub-connection-auth-generation-id": "638486236982118213",
          "iothub-connection-auth-method": "{\"scope\":\"device\",\"type\":\"sas\",\"issuer\":\"iothub\",\"acceptingIpFilterRule\":null}",
          "iothub-connection-device-id": "Device1",
          "iothub-enqueuedtime": "\"2024-04-16T15:24:01.364Z\"",
          "iothub-message-source": "Telemetry",
          "x-opt-sequence-number-epoch": "-1"
         }
        ],
        [
         "eyJkZXZpY2VfaWQiOiAxMSwgInRtcCI6IDEwMywgImhtZHQiOiA3OCwgInByc3JlIjogNDk4LCAidHMiOiAiMjAyNC0wNC0xNlQyMDo1NDowNi4zNzQyNzQiLCAic291cmNlIjogIklvdEh1YiJ9",
         "2",
         "279064",
         584,
         "2024-04-16T15:24:06.792+0000",
         null,
         null,
         {},
         {
          "iothub-connection-auth-generation-id": "638486236982118213",
          "iothub-connection-auth-method": "{\"scope\":\"device\",\"type\":\"sas\",\"issuer\":\"iothub\",\"acceptingIpFilterRule\":null}",
          "iothub-connection-device-id": "Device1",
          "iothub-enqueuedtime": "\"2024-04-16T15:24:06.785Z\"",
          "iothub-message-source": "Telemetry",
          "x-opt-sequence-number-epoch": "-1"
         }
        ],
        [
         "eyJkZXZpY2VfaWQiOiAxLCAidG1wIjogMTAxLCAiaG1kdCI6IDc5LCAicHJzcmUiOiA0MTUsICJ0cyI6ICIyMDI0LTA0LTE2VDIwOjU0OjExLjc4NTUzMCIsICJzb3VyY2UiOiAiSW90SHViIn0=",
         "2",
         "279552",
         585,
         "2024-04-16T15:24:11.979+0000",
         null,
         null,
         {},
         {
          "iothub-connection-auth-generation-id": "638486236982118213",
          "iothub-connection-auth-method": "{\"scope\":\"device\",\"type\":\"sas\",\"issuer\":\"iothub\",\"acceptingIpFilterRule\":null}",
          "iothub-connection-device-id": "Device1",
          "iothub-enqueuedtime": "\"2024-04-16T15:24:11.983Z\"",
          "iothub-message-source": "Telemetry",
          "x-opt-sequence-number-epoch": "-1"
         }
        ],
        [
         "eyJkZXZpY2VfaWQiOiAyLCAidG1wIjogMTA5LCAiaG1kdCI6IDc1LCAicHJzcmUiOiA0MTAsICJ0cyI6ICIyMDI0LTA0LTE2VDIwOjU0OjE2Ljk4ODk4NCIsICJzb3VyY2UiOiAiSW90SHViIn0=",
         "2",
         "280032",
         586,
         "2024-04-16T15:24:17.245+0000",
         null,
         null,
         {},
         {
          "iothub-connection-auth-generation-id": "638486236982118213",
          "iothub-connection-auth-method": "{\"scope\":\"device\",\"type\":\"sas\",\"issuer\":\"iothub\",\"acceptingIpFilterRule\":null}",
          "iothub-connection-device-id": "Device1",
          "iothub-enqueuedtime": "\"2024-04-16T15:24:17.233Z\"",
          "iothub-message-source": "Telemetry",
          "x-opt-sequence-number-epoch": "-1"
         }
        ],
        [
         "eyJkZXZpY2VfaWQiOiAxMywgInRtcCI6IDExMiwgImhtZHQiOiA3MCwgInByc3JlIjogNDg5LCAidHMiOiAiMjAyNC0wNC0xNlQyMDo1NDoyMi4yMzc3NjUiLCAic291cmNlIjogIklvdEh1YiJ9",
         "2",
         "280512",
         587,
         "2024-04-16T15:24:22.432+0000",
         null,
         null,
         {},
         {
          "iothub-connection-auth-generation-id": "638486236982118213",
          "iothub-connection-auth-method": "{\"scope\":\"device\",\"type\":\"sas\",\"issuer\":\"iothub\",\"acceptingIpFilterRule\":null}",
          "iothub-connection-device-id": "Device1",
          "iothub-enqueuedtime": "\"2024-04-16T15:24:22.435Z\"",
          "iothub-message-source": "Telemetry",
          "x-opt-sequence-number-epoch": "-1"
         }
        ],
        [
         "eyJkZXZpY2VfaWQiOiAxNCwgInRtcCI6IDExOSwgImhtZHQiOiA2NCwgInByc3JlIjogNDEzLCAidHMiOiAiMjAyNC0wNC0xNlQyMDo1NDoyNy40NDEwNTgiLCAic291cmNlIjogIklvdEh1YiJ9",
         "2",
         "281000",
         588,
         "2024-04-16T15:24:27.714+0000",
         null,
         null,
         {},
         {
          "iothub-connection-auth-generation-id": "638486236982118213",
          "iothub-connection-auth-method": "{\"scope\":\"device\",\"type\":\"sas\",\"issuer\":\"iothub\",\"acceptingIpFilterRule\":null}",
          "iothub-connection-device-id": "Device1",
          "iothub-enqueuedtime": "\"2024-04-16T15:24:27.708Z\"",
          "iothub-message-source": "Telemetry",
          "x-opt-sequence-number-epoch": "-1"
         }
        ],
        [
         "eyJkZXZpY2VfaWQiOiA2LCAidG1wIjogMTE3LCAiaG1kdCI6IDczLCAicHJzcmUiOiA0NTQsICJ0cyI6ICIyMDI0LTA0LTE2VDIwOjU0OjMyLjcxMjMxOCIsICJzb3VyY2UiOiAiSW90SHViIn0=",
         "2",
         "281488",
         589,
         "2024-04-16T15:24:32.917+0000",
         null,
         null,
         {},
         {
          "iothub-connection-auth-generation-id": "638486236982118213",
          "iothub-connection-auth-method": "{\"scope\":\"device\",\"type\":\"sas\",\"issuer\":\"iothub\",\"acceptingIpFilterRule\":null}",
          "iothub-connection-device-id": "Device1",
          "iothub-enqueuedtime": "\"2024-04-16T15:24:32.926Z\"",
          "iothub-message-source": "Telemetry",
          "x-opt-sequence-number-epoch": "-1"
         }
        ],
        [
         "eyJkZXZpY2VfaWQiOiA4LCAidG1wIjogMTE4LCAiaG1kdCI6IDc0LCAicHJzcmUiOiA0MzcsICJ0cyI6ICIyMDI0LTA0LTE2VDIwOjU0OjM3LjkyNDMxOCIsICJzb3VyY2UiOiAiSW90SHViIn0=",
         "2",
         "281968",
         590,
         "2024-04-16T15:24:38.433+0000",
         null,
         null,
         {},
         {
          "iothub-connection-auth-generation-id": "638486236982118213",
          "iothub-connection-auth-method": "{\"scope\":\"device\",\"type\":\"sas\",\"issuer\":\"iothub\",\"acceptingIpFilterRule\":null}",
          "iothub-connection-device-id": "Device1",
          "iothub-enqueuedtime": "\"2024-04-16T15:24:38.432Z\"",
          "iothub-message-source": "Telemetry",
          "x-opt-sequence-number-epoch": "-1"
         }
        ],
        [
         "eyJkZXZpY2VfaWQiOiAxLCAidG1wIjogMTE3LCAiaG1kdCI6IDc1LCAicHJzcmUiOiA0ODYsICJ0cyI6ICIyMDI0LTA0LTE2VDIwOjU0OjQzLjY3MjI1MiIsICJzb3VyY2UiOiAiSW90SHViIn0=",
         "2",
         "282448",
         591,
         "2024-04-16T15:24:43.886+0000",
         null,
         null,
         {},
         {
          "iothub-connection-auth-generation-id": "638486236982118213",
          "iothub-connection-auth-method": "{\"scope\":\"device\",\"type\":\"sas\",\"issuer\":\"iothub\",\"acceptingIpFilterRule\":null}",
          "iothub-connection-device-id": "Device1",
          "iothub-enqueuedtime": "\"2024-04-16T15:24:43.880Z\"",
          "iothub-message-source": "Telemetry",
          "x-opt-sequence-number-epoch": "-1"
         }
        ],
        [
         "eyJkZXZpY2VfaWQiOiAyLCAidG1wIjogOTEsICJobWR0IjogNjEsICJwcnNyZSI6IDQ5NCwgInRzIjogIjIwMjQtMDQtMTZUMjA6NTQ6NDguODg4Mjk1IiwgInNvdXJjZSI6ICJJb3RIdWIifQ==",
         "2",
         "282928",
         592,
         "2024-04-16T15:24:49.136+0000",
         null,
         null,
         {},
         {
          "iothub-connection-auth-generation-id": "638486236982118213",
          "iothub-connection-auth-method": "{\"scope\":\"device\",\"type\":\"sas\",\"issuer\":\"iothub\",\"acceptingIpFilterRule\":null}",
          "iothub-connection-device-id": "Device1",
          "iothub-enqueuedtime": "\"2024-04-16T15:24:49.138Z\"",
          "iothub-message-source": "Telemetry",
          "x-opt-sequence-number-epoch": "-1"
         }
        ],
        [
         "eyJkZXZpY2VfaWQiOiA4LCAidG1wIjogMTE1LCAiaG1kdCI6IDc2LCAicHJzcmUiOiA0MjEsICJ0cyI6ICIyMDI0LTA0LTE2VDIwOjU0OjU0LjEzMjE5MSIsICJzb3VyY2UiOiAiSW90SHViIn0=",
         "2",
         "283408",
         593,
         "2024-04-16T15:24:54.511+0000",
         null,
         null,
         {},
         {
          "iothub-connection-auth-generation-id": "638486236982118213",
          "iothub-connection-auth-method": "{\"scope\":\"device\",\"type\":\"sas\",\"issuer\":\"iothub\",\"acceptingIpFilterRule\":null}",
          "iothub-connection-device-id": "Device1",
          "iothub-enqueuedtime": "\"2024-04-16T15:24:54.518Z\"",
          "iothub-message-source": "Telemetry",
          "x-opt-sequence-number-epoch": "-1"
         }
        ],
        [
         "eyJkZXZpY2VfaWQiOiAxMywgInRtcCI6IDkxLCAiaG1kdCI6IDYyLCAicHJzcmUiOiA0OTgsICJ0cyI6ICIyMDI0LTA0LTE2VDIwOjU0OjU5LjUyNDI3NiIsICJzb3VyY2UiOiAiSW90SHViIn0=",
         "2",
         "283888",
         594,
         "2024-04-16T15:24:59.730+0000",
         null,
         null,
         {},
         {
          "iothub-connection-auth-generation-id": "638486236982118213",
          "iothub-connection-auth-method": "{\"scope\":\"device\",\"type\":\"sas\",\"issuer\":\"iothub\",\"acceptingIpFilterRule\":null}",
          "iothub-connection-device-id": "Device1",
          "iothub-enqueuedtime": "\"2024-04-16T15:24:59.728Z\"",
          "iothub-message-source": "Telemetry",
          "x-opt-sequence-number-epoch": "-1"
         }
        ],
        [
         "eyJkZXZpY2VfaWQiOiAxMywgInRtcCI6IDEwOCwgImhtZHQiOiA2MSwgInByc3JlIjogNDQwLCAidHMiOiAiMjAyNC0wNC0xNlQyMDo1NTowNC43Mjc3MDEiLCAic291cmNlIjogIklvdEh1YiJ9",
         "2",
         "284368",
         595,
         "2024-04-16T15:25:05.980+0000",
         null,
         null,
         {},
         {
          "iothub-connection-auth-generation-id": "638486236982118213",
          "iothub-connection-auth-method": "{\"scope\":\"device\",\"type\":\"sas\",\"issuer\":\"iothub\",\"acceptingIpFilterRule\":null}",
          "iothub-connection-device-id": "Device1",
          "iothub-enqueuedtime": "\"2024-04-16T15:25:05.468Z\"",
          "iothub-message-source": "Telemetry",
          "x-opt-sequence-number-epoch": "-1"
         }
        ],
        [
         "eyJkZXZpY2VfaWQiOiAxMywgInRtcCI6IDExNSwgImhtZHQiOiA3OCwgInByc3JlIjogNDMyLCAidHMiOiAiMjAyNC0wNC0xNlQyMDo1NToxMC45NzU3NDYiLCAic291cmNlIjogIklvdEh1YiJ9",
         "2",
         "284856",
         596,
         "2024-04-16T15:25:11.402+0000",
         null,
         null,
         {},
         {
          "iothub-connection-auth-generation-id": "638486236982118213",
          "iothub-connection-auth-method": "{\"scope\":\"device\",\"type\":\"sas\",\"issuer\":\"iothub\",\"acceptingIpFilterRule\":null}",
          "iothub-connection-device-id": "Device1",
          "iothub-enqueuedtime": "\"2024-04-16T15:25:11.410Z\"",
          "iothub-message-source": "Telemetry",
          "x-opt-sequence-number-epoch": "-1"
         }
        ],
        [
         "eyJkZXZpY2VfaWQiOiA4LCAidG1wIjogMTA4LCAiaG1kdCI6IDY1LCAicHJzcmUiOiA0NTQsICJ0cyI6ICIyMDI0LTA0LTE2VDIwOjU1OjE2LjM5NTI4NCIsICJzb3VyY2UiOiAiSW90SHViIn0=",
         "2",
         "285344",
         597,
         "2024-04-16T15:25:16.825+0000",
         null,
         null,
         {},
         {
          "iothub-connection-auth-generation-id": "638486236982118213",
          "iothub-connection-auth-method": "{\"scope\":\"device\",\"type\":\"sas\",\"issuer\":\"iothub\",\"acceptingIpFilterRule\":null}",
          "iothub-connection-device-id": "Device1",
          "iothub-enqueuedtime": "\"2024-04-16T15:25:16.831Z\"",
          "iothub-message-source": "Telemetry",
          "x-opt-sequence-number-epoch": "-1"
         }
        ],
        [
         "eyJkZXZpY2VfaWQiOiAxMywgInRtcCI6IDExNywgImhtZHQiOiA3MiwgInByc3JlIjogNDA5LCAidHMiOiAiMjAyNC0wNC0xNlQyMDo1NToyMS44MjQzMTkiLCAic291cmNlIjogIklvdEh1YiJ9",
         "2",
         "285824",
         598,
         "2024-04-16T15:25:22.481+0000",
         null,
         null,
         {},
         {
          "iothub-connection-auth-generation-id": "638486236982118213",
          "iothub-connection-auth-method": "{\"scope\":\"device\",\"type\":\"sas\",\"issuer\":\"iothub\",\"acceptingIpFilterRule\":null}",
          "iothub-connection-device-id": "Device1",
          "iothub-enqueuedtime": "\"2024-04-16T15:25:22.024Z\"",
          "iothub-message-source": "Telemetry",
          "x-opt-sequence-number-epoch": "-1"
         }
        ],
        [
         "eyJkZXZpY2VfaWQiOiAxMywgInRtcCI6IDExMiwgImhtZHQiOiA2NCwgInByc3JlIjogNDk2LCAidHMiOiAiMjAyNC0wNC0xNlQyMDo1NToyNy41ODgzMjciLCAic291cmNlIjogIklvdEh1YiJ9",
         "2",
         "286312",
         599,
         "2024-04-16T15:25:27.841+0000",
         null,
         null,
         {},
         {
          "iothub-connection-auth-generation-id": "638486236982118213",
          "iothub-connection-auth-method": "{\"scope\":\"device\",\"type\":\"sas\",\"issuer\":\"iothub\",\"acceptingIpFilterRule\":null}",
          "iothub-connection-device-id": "Device1",
          "iothub-enqueuedtime": "\"2024-04-16T15:25:27.834Z\"",
          "iothub-message-source": "Telemetry",
          "x-opt-sequence-number-epoch": "-1"
         }
        ],
        [
         "eyJkZXZpY2VfaWQiOiAxMCwgInRtcCI6IDExNSwgImhtZHQiOiA3MCwgInByc3JlIjogNDQ5LCAidHMiOiAiMjAyNC0wNC0xNlQyMDo1NTozMi44MzA3ODAiLCAic291cmNlIjogIklvdEh1YiJ9",
         "2",
         "286800",
         600,
         "2024-04-16T15:25:33.622+0000",
         null,
         null,
         {},
         {
          "iothub-connection-auth-generation-id": "638486236982118213",
          "iothub-connection-auth-method": "{\"scope\":\"device\",\"type\":\"sas\",\"issuer\":\"iothub\",\"acceptingIpFilterRule\":null}",
          "iothub-connection-device-id": "Device1",
          "iothub-enqueuedtime": "\"2024-04-16T15:25:33.043Z\"",
          "iothub-message-source": "Telemetry",
          "x-opt-sequence-number-epoch": "-1"
         }
        ],
        [
         "eyJkZXZpY2VfaWQiOiA0LCAidG1wIjogMTE2LCAiaG1kdCI6IDY3LCAicHJzcmUiOiA0ODYsICJ0cyI6ICIyMDI0LTA0LTE2VDIwOjU1OjM4LjYyNTc5NSIsICJzb3VyY2UiOiAiSW90SHViIn0=",
         "2",
         "287288",
         601,
         "2024-04-16T15:25:39.059+0000",
         null,
         null,
         {},
         {
          "iothub-connection-auth-generation-id": "638486236982118213",
          "iothub-connection-auth-method": "{\"scope\":\"device\",\"type\":\"sas\",\"issuer\":\"iothub\",\"acceptingIpFilterRule\":null}",
          "iothub-connection-device-id": "Device1",
          "iothub-enqueuedtime": "\"2024-04-16T15:25:39.048Z\"",
          "iothub-message-source": "Telemetry",
          "x-opt-sequence-number-epoch": "-1"
         }
        ],
        [
         "eyJkZXZpY2VfaWQiOiA3LCAidG1wIjogOTMsICJobWR0IjogNzIsICJwcnNyZSI6IDQ0NSwgInRzIjogIjIwMjQtMDQtMTZUMjA6NTU6NDQuMDUxNzQ2IiwgInNvdXJjZSI6ICJJb3RIdWIifQ==",
         "2",
         "287768",
         602,
         "2024-04-16T15:25:44.247+0000",
         null,
         null,
         {},
         {
          "iothub-connection-auth-generation-id": "638486236982118213",
          "iothub-connection-auth-method": "{\"scope\":\"device\",\"type\":\"sas\",\"issuer\":\"iothub\",\"acceptingIpFilterRule\":null}",
          "iothub-connection-device-id": "Device1",
          "iothub-enqueuedtime": "\"2024-04-16T15:25:44.249Z\"",
          "iothub-message-source": "Telemetry",
          "x-opt-sequence-number-epoch": "-1"
         }
        ],
        [
         "eyJkZXZpY2VfaWQiOiA4LCAidG1wIjogOTksICJobWR0IjogNzYsICJwcnNyZSI6IDQ3MCwgInRzIjogIjIwMjQtMDQtMTZUMjA6NTU6NDkuMjQ5MTM2IiwgInNvdXJjZSI6ICJJb3RIdWIifQ==",
         "2",
         "288248",
         603,
         "2024-04-16T15:25:49.592+0000",
         null,
         null,
         {},
         {
          "iothub-connection-auth-generation-id": "638486236982118213",
          "iothub-connection-auth-method": "{\"scope\":\"device\",\"type\":\"sas\",\"issuer\":\"iothub\",\"acceptingIpFilterRule\":null}",
          "iothub-connection-device-id": "Device1",
          "iothub-enqueuedtime": "\"2024-04-16T15:25:49.592Z\"",
          "iothub-message-source": "Telemetry",
          "x-opt-sequence-number-epoch": "-1"
         }
        ],
        [
         "eyJkZXZpY2VfaWQiOiAxMSwgInRtcCI6IDExMiwgImhtZHQiOiA2MSwgInByc3JlIjogNDEwLCAidHMiOiAiMjAyNC0wNC0xNlQyMDo1NTo1NC41ODgzMzkiLCAic291cmNlIjogIklvdEh1YiJ9",
         "2",
         "288728",
         604,
         "2024-04-16T15:25:55.045+0000",
         null,
         null,
         {},
         {
          "iothub-connection-auth-generation-id": "638486236982118213",
          "iothub-connection-auth-method": "{\"scope\":\"device\",\"type\":\"sas\",\"issuer\":\"iothub\",\"acceptingIpFilterRule\":null}",
          "iothub-connection-device-id": "Device1",
          "iothub-enqueuedtime": "\"2024-04-16T15:25:55.044Z\"",
          "iothub-message-source": "Telemetry",
          "x-opt-sequence-number-epoch": "-1"
         }
        ],
        [
         "eyJkZXZpY2VfaWQiOiA1LCAidG1wIjogMTE0LCAiaG1kdCI6IDY3LCAicHJzcmUiOiA0OTgsICJ0cyI6ICIyMDI0LTA0LTE2VDIwOjU2OjAwLjA0MDM2MiIsICJzb3VyY2UiOiAiSW90SHViIn0=",
         "2",
         "289216",
         605,
         "2024-04-16T15:26:00.295+0000",
         null,
         null,
         {},
         {
          "iothub-connection-auth-generation-id": "638486236982118213",
          "iothub-connection-auth-method": "{\"scope\":\"device\",\"type\":\"sas\",\"issuer\":\"iothub\",\"acceptingIpFilterRule\":null}",
          "iothub-connection-device-id": "Device1",
          "iothub-enqueuedtime": "\"2024-04-16T15:26:00.300Z\"",
          "iothub-message-source": "Telemetry",
          "x-opt-sequence-number-epoch": "-1"
         }
        ],
        [
         "eyJkZXZpY2VfaWQiOiAyLCAidG1wIjogMTAzLCAiaG1kdCI6IDYxLCAicHJzcmUiOiA0MzksICJ0cyI6ICIyMDI0LTA0LTE2VDIwOjU2OjA1LjI4OTg0OSIsICJzb3VyY2UiOiAiSW90SHViIn0=",
         "2",
         "289696",
         606,
         "2024-04-16T15:26:05.499+0000",
         null,
         null,
         {},
         {
          "iothub-connection-auth-generation-id": "638486236982118213",
          "iothub-connection-auth-method": "{\"scope\":\"device\",\"type\":\"sas\",\"issuer\":\"iothub\",\"acceptingIpFilterRule\":null}",
          "iothub-connection-device-id": "Device1",
          "iothub-enqueuedtime": "\"2024-04-16T15:26:05.500Z\"",
          "iothub-message-source": "Telemetry",
          "x-opt-sequence-number-epoch": "-1"
         }
        ],
        [
         "eyJkZXZpY2VfaWQiOiA1LCAidG1wIjogMTE4LCAiaG1kdCI6IDc1LCAicHJzcmUiOiA0ODQsICJ0cyI6ICIyMDI0LTA0LTE2VDIwOjU2OjEwLjQ5NjMxNyIsICJzb3VyY2UiOiAiSW90SHViIn0=",
         "2",
         "290176",
         607,
         "2024-04-16T15:26:11.062+0000",
         null,
         null,
         {},
         {
          "iothub-connection-auth-generation-id": "638486236982118213",
          "iothub-connection-auth-method": "{\"scope\":\"device\",\"type\":\"sas\",\"issuer\":\"iothub\",\"acceptingIpFilterRule\":null}",
          "iothub-connection-device-id": "Device1",
          "iothub-enqueuedtime": "\"2024-04-16T15:26:11.057Z\"",
          "iothub-message-source": "Telemetry",
          "x-opt-sequence-number-epoch": "-1"
         }
        ],
        [
         "eyJkZXZpY2VfaWQiOiA1LCAidG1wIjogOTIsICJobWR0IjogNjIsICJwcnNyZSI6IDQ1OCwgInRzIjogIjIwMjQtMDQtMTZUMjA6NTY6MTYuMDUyMzIwIiwgInNvdXJjZSI6ICJJb3RIdWIifQ==",
         "2",
         "290656",
         608,
         "2024-04-16T15:26:16.624+0000",
         null,
         null,
         {},
         {
          "iothub-connection-auth-generation-id": "638486236982118213",
          "iothub-connection-auth-method": "{\"scope\":\"device\",\"type\":\"sas\",\"issuer\":\"iothub\",\"acceptingIpFilterRule\":null}",
          "iothub-connection-device-id": "Device1",
          "iothub-enqueuedtime": "\"2024-04-16T15:26:16.625Z\"",
          "iothub-message-source": "Telemetry",
          "x-opt-sequence-number-epoch": "-1"
         }
        ],
        [
         "eyJkZXZpY2VfaWQiOiAxMiwgInRtcCI6IDExOCwgImhtZHQiOiA3MiwgInByc3JlIjogNDQ0LCAidHMiOiAiMjAyNC0wNC0xNlQyMDo1NjoyMS42MjAyOTIiLCAic291cmNlIjogIklvdEh1YiJ9",
         "2",
         "291136",
         609,
         "2024-04-16T15:26:22.171+0000",
         null,
         null,
         {},
         {
          "iothub-connection-auth-generation-id": "638486236982118213",
          "iothub-connection-auth-method": "{\"scope\":\"device\",\"type\":\"sas\",\"issuer\":\"iothub\",\"acceptingIpFilterRule\":null}",
          "iothub-connection-device-id": "Device1",
          "iothub-enqueuedtime": "\"2024-04-16T15:26:22.162Z\"",
          "iothub-message-source": "Telemetry",
          "x-opt-sequence-number-epoch": "-1"
         }
        ],
        [
         "eyJkZXZpY2VfaWQiOiAxMiwgInRtcCI6IDk5LCAiaG1kdCI6IDc0LCAicHJzcmUiOiA0ODksICJ0cyI6ICIyMDI0LTA0LTE2VDIwOjU2OjI3LjE2MDMxNiIsICJzb3VyY2UiOiAiSW90SHViIn0=",
         "2",
         "291624",
         610,
         "2024-04-16T15:26:27.359+0000",
         null,
         null,
         {},
         {
          "iothub-connection-auth-generation-id": "638486236982118213",
          "iothub-connection-auth-method": "{\"scope\":\"device\",\"type\":\"sas\",\"issuer\":\"iothub\",\"acceptingIpFilterRule\":null}",
          "iothub-connection-device-id": "Device1",
          "iothub-enqueuedtime": "\"2024-04-16T15:26:27.369Z\"",
          "iothub-message-source": "Telemetry",
          "x-opt-sequence-number-epoch": "-1"
         }
        ],
        [
         "eyJkZXZpY2VfaWQiOiAxMywgInRtcCI6IDEwNCwgImhtZHQiOiA3MSwgInByc3JlIjogNDE4LCAidHMiOiAiMjAyNC0wNC0xNlQyMDo1NjozMi4zNjAzMTciLCAic291cmNlIjogIklvdEh1YiJ9",
         "2",
         "292104",
         611,
         "2024-04-16T15:26:33.124+0000",
         null,
         null,
         {},
         {
          "iothub-connection-auth-generation-id": "638486236982118213",
          "iothub-connection-auth-method": "{\"scope\":\"device\",\"type\":\"sas\",\"issuer\":\"iothub\",\"acceptingIpFilterRule\":null}",
          "iothub-connection-device-id": "Device1",
          "iothub-enqueuedtime": "\"2024-04-16T15:26:33.119Z\"",
          "iothub-message-source": "Telemetry",
          "x-opt-sequence-number-epoch": "-1"
         }
        ],
        [
         "eyJkZXZpY2VfaWQiOiA5LCAidG1wIjogMTEwLCAiaG1kdCI6IDYzLCAicHJzcmUiOiA0MjAsICJ0cyI6ICIyMDI0LTA0LTE2VDIwOjU2OjM4LjEyMDE2OCIsICJzb3VyY2UiOiAiSW90SHViIn0=",
         "2",
         "292592",
         612,
         "2024-04-16T15:26:38.312+0000",
         null,
         null,
         {},
         {
          "iothub-connection-auth-generation-id": "638486236982118213",
          "iothub-connection-auth-method": "{\"scope\":\"device\",\"type\":\"sas\",\"issuer\":\"iothub\",\"acceptingIpFilterRule\":null}",
          "iothub-connection-device-id": "Device1",
          "iothub-enqueuedtime": "\"2024-04-16T15:26:38.306Z\"",
          "iothub-message-source": "Telemetry",
          "x-opt-sequence-number-epoch": "-1"
         }
        ],
        [
         "eyJkZXZpY2VfaWQiOiAxMiwgInRtcCI6IDEwOSwgImhtZHQiOiA2MywgInByc3JlIjogNDI1LCAidHMiOiAiMjAyNC0wNC0xNlQyMDo1Njo0My4yOTk5MTYiLCAic291cmNlIjogIklvdEh1YiJ9",
         "2",
         "293072",
         613,
         "2024-04-16T15:26:43.578+0000",
         null,
         null,
         {},
         {
          "iothub-connection-auth-generation-id": "638486236982118213",
          "iothub-connection-auth-method": "{\"scope\":\"device\",\"type\":\"sas\",\"issuer\":\"iothub\",\"acceptingIpFilterRule\":null}",
          "iothub-connection-device-id": "Device1",
          "iothub-enqueuedtime": "\"2024-04-16T15:26:43.576Z\"",
          "iothub-message-source": "Telemetry",
          "x-opt-sequence-number-epoch": "-1"
         }
        ],
        [
         "eyJkZXZpY2VfaWQiOiA4LCAidG1wIjogOTQsICJobWR0IjogNjgsICJwcnNyZSI6IDQ5NiwgInRzIjogIjIwMjQtMDQtMTZUMjA6NTY6NDguNTY3Nzg3IiwgInNvdXJjZSI6ICJJb3RIdWIifQ==",
         "2",
         "293560",
         614,
         "2024-04-16T15:26:48.797+0000",
         null,
         null,
         {},
         {
          "iothub-connection-auth-generation-id": "638486236982118213",
          "iothub-connection-auth-method": "{\"scope\":\"device\",\"type\":\"sas\",\"issuer\":\"iothub\",\"acceptingIpFilterRule\":null}",
          "iothub-connection-device-id": "Device1",
          "iothub-enqueuedtime": "\"2024-04-16T15:26:48.789Z\"",
          "iothub-message-source": "Telemetry",
          "x-opt-sequence-number-epoch": "-1"
         }
        ],
        [
         "eyJkZXZpY2VfaWQiOiAxMywgInRtcCI6IDExMCwgImhtZHQiOiA3NywgInByc3JlIjogNDM3LCAidHMiOiAiMjAyNC0wNC0xNlQyMDo1Njo1My43ODYzMzIiLCAic291cmNlIjogIklvdEh1YiJ9",
         "2",
         "294040",
         615,
         "2024-04-16T15:26:54.063+0000",
         null,
         null,
         {},
         {
          "iothub-connection-auth-generation-id": "638486236982118213",
          "iothub-connection-auth-method": "{\"scope\":\"device\",\"type\":\"sas\",\"issuer\":\"iothub\",\"acceptingIpFilterRule\":null}",
          "iothub-connection-device-id": "Device1",
          "iothub-enqueuedtime": "\"2024-04-16T15:26:54.060Z\"",
          "iothub-message-source": "Telemetry",
          "x-opt-sequence-number-epoch": "-1"
         }
        ],
        [
         "eyJkZXZpY2VfaWQiOiAxLCAidG1wIjogMTExLCAiaG1kdCI6IDczLCAicHJzcmUiOiA0MjIsICJ0cyI6ICIyMDI0LTA0LTE2VDIwOjU2OjU5LjA0NjE1MyIsICJzb3VyY2UiOiAiSW90SHViIn0=",
         "2",
         "294528",
         616,
         "2024-04-16T15:26:59.251+0000",
         null,
         null,
         {},
         {
          "iothub-connection-auth-generation-id": "638486236982118213",
          "iothub-connection-auth-method": "{\"scope\":\"device\",\"type\":\"sas\",\"issuer\":\"iothub\",\"acceptingIpFilterRule\":null}",
          "iothub-connection-device-id": "Device1",
          "iothub-enqueuedtime": "\"2024-04-16T15:26:59.244Z\"",
          "iothub-message-source": "Telemetry",
          "x-opt-sequence-number-epoch": "-1"
         }
        ],
        [
         "eyJkZXZpY2VfaWQiOiAxMSwgInRtcCI6IDEwNiwgImhtZHQiOiA3MywgInByc3JlIjogNDEzLCAidHMiOiAiMjAyNC0wNC0xNlQyMDo1NzowNC4yMzY1MDkiLCAic291cmNlIjogIklvdEh1YiJ9",
         "2",
         "295008",
         617,
         "2024-04-16T15:27:04.876+0000",
         null,
         null,
         {},
         {
          "iothub-connection-auth-generation-id": "638486236982118213",
          "iothub-connection-auth-method": "{\"scope\":\"device\",\"type\":\"sas\",\"issuer\":\"iothub\",\"acceptingIpFilterRule\":null}",
          "iothub-connection-device-id": "Device1",
          "iothub-enqueuedtime": "\"2024-04-16T15:27:04.873Z\"",
          "iothub-message-source": "Telemetry",
          "x-opt-sequence-number-epoch": "-1"
         }
        ],
        [
         "eyJkZXZpY2VfaWQiOiA1LCAidG1wIjogMTExLCAiaG1kdCI6IDYyLCAicHJzcmUiOiA0MDAsICJ0cyI6ICIyMDI0LTA0LTE2VDIwOjU3OjA5Ljg2MzE2MCIsICJzb3VyY2UiOiAiSW90SHViIn0=",
         "2",
         "295496",
         618,
         "2024-04-16T15:27:10.111+0000",
         null,
         null,
         {},
         {
          "iothub-connection-auth-generation-id": "638486236982118213",
          "iothub-connection-auth-method": "{\"scope\":\"device\",\"type\":\"sas\",\"issuer\":\"iothub\",\"acceptingIpFilterRule\":null}",
          "iothub-connection-device-id": "Device1",
          "iothub-enqueuedtime": "\"2024-04-16T15:27:10.109Z\"",
          "iothub-message-source": "Telemetry",
          "x-opt-sequence-number-epoch": "-1"
         }
        ],
        [
         "eyJkZXZpY2VfaWQiOiAxMiwgInRtcCI6IDExNywgImhtZHQiOiA3OSwgInByc3JlIjogNDc4LCAidHMiOiAiMjAyNC0wNC0xNlQyMDo1NzoxNS4xMDAyMzkiLCAic291cmNlIjogIklvdEh1YiJ9",
         "2",
         "295976",
         619,
         "2024-04-16T15:27:15.720+0000",
         null,
         null,
         {},
         {
          "iothub-connection-auth-generation-id": "638486236982118213",
          "iothub-connection-auth-method": "{\"scope\":\"device\",\"type\":\"sas\",\"issuer\":\"iothub\",\"acceptingIpFilterRule\":null}",
          "iothub-connection-device-id": "Device1",
          "iothub-enqueuedtime": "\"2024-04-16T15:27:15.725Z\"",
          "iothub-message-source": "Telemetry",
          "x-opt-sequence-number-epoch": "-1"
         }
        ],
        [
         "eyJkZXZpY2VfaWQiOiA0LCAidG1wIjogMTA0LCAiaG1kdCI6IDYzLCAicHJzcmUiOiA0OTMsICJ0cyI6ICIyMDI0LTA0LTE2VDIwOjU3OjIwLjcxNDQ2MSIsICJzb3VyY2UiOiAiSW90SHViIn0=",
         "2",
         "296464",
         620,
         "2024-04-16T15:27:21.251+0000",
         null,
         null,
         {},
         {
          "iothub-connection-auth-generation-id": "638486236982118213",
          "iothub-connection-auth-method": "{\"scope\":\"device\",\"type\":\"sas\",\"issuer\":\"iothub\",\"acceptingIpFilterRule\":null}",
          "iothub-connection-device-id": "Device1",
          "iothub-enqueuedtime": "\"2024-04-16T15:27:21.239Z\"",
          "iothub-message-source": "Telemetry",
          "x-opt-sequence-number-epoch": "-1"
         }
        ],
        [
         "eyJkZXZpY2VfaWQiOiAxMCwgInRtcCI6IDExMSwgImhtZHQiOiA3MSwgInByc3JlIjogNDA0LCAidHMiOiAiMjAyNC0wNC0xNlQyMDo1NzoyNi4yNDU2MTQiLCAic291cmNlIjogIklvdEh1YiJ9",
         "2",
         "296944",
         621,
         "2024-04-16T15:27:26.970+0000",
         null,
         null,
         {},
         {
          "iothub-connection-auth-generation-id": "638486236982118213",
          "iothub-connection-auth-method": "{\"scope\":\"device\",\"type\":\"sas\",\"issuer\":\"iothub\",\"acceptingIpFilterRule\":null}",
          "iothub-connection-device-id": "Device1",
          "iothub-enqueuedtime": "\"2024-04-16T15:27:26.977Z\"",
          "iothub-message-source": "Telemetry",
          "x-opt-sequence-number-epoch": "-1"
         }
        ],
        [
         "eyJkZXZpY2VfaWQiOiA5LCAidG1wIjogOTEsICJobWR0IjogNzUsICJwcnNyZSI6IDQyNSwgInRzIjogIjIwMjQtMDQtMTZUMjA6NTc6MzEuOTY4Mjc0IiwgInNvdXJjZSI6ICJJb3RIdWIifQ==",
         "2",
         "297432",
         622,
         "2024-04-16T15:27:32.173+0000",
         null,
         null,
         {},
         {
          "iothub-connection-auth-generation-id": "638486236982118213",
          "iothub-connection-auth-method": "{\"scope\":\"device\",\"type\":\"sas\",\"issuer\":\"iothub\",\"acceptingIpFilterRule\":null}",
          "iothub-connection-device-id": "Device1",
          "iothub-enqueuedtime": "\"2024-04-16T15:27:32.167Z\"",
          "iothub-message-source": "Telemetry",
          "x-opt-sequence-number-epoch": "-1"
         }
        ],
        [
         "eyJkZXZpY2VfaWQiOiAxMiwgInRtcCI6IDkxLCAiaG1kdCI6IDcyLCAicHJzcmUiOiA0OTksICJ0cyI6ICIyMDI0LTA0LTE2VDIwOjU3OjM3LjE2MjQ2MiIsICJzb3VyY2UiOiAiSW90SHViIn0=",
         "2",
         "297912",
         623,
         "2024-04-16T15:27:37.955+0000",
         null,
         null,
         {},
         {
          "iothub-connection-auth-generation-id": "638486236982118213",
          "iothub-connection-auth-method": "{\"scope\":\"device\",\"type\":\"sas\",\"issuer\":\"iothub\",\"acceptingIpFilterRule\":null}",
          "iothub-connection-device-id": "Device1",
          "iothub-enqueuedtime": "\"2024-04-16T15:27:37.948Z\"",
          "iothub-message-source": "Telemetry",
          "x-opt-sequence-number-epoch": "-1"
         }
        ],
        [
         "eyJkZXZpY2VfaWQiOiAxNCwgInRtcCI6IDEwMSwgImhtZHQiOiA3NiwgInByc3JlIjogNDk2LCAidHMiOiAiMjAyNC0wNC0xNlQyMDo1Nzo0Mi45Mzk1MjUiLCAic291cmNlIjogIklvdEh1YiJ9",
         "2",
         "298392",
         624,
         "2024-04-16T15:27:43.159+0000",
         null,
         null,
         {},
         {
          "iothub-connection-auth-generation-id": "638486236982118213",
          "iothub-connection-auth-method": "{\"scope\":\"device\",\"type\":\"sas\",\"issuer\":\"iothub\",\"acceptingIpFilterRule\":null}",
          "iothub-connection-device-id": "Device1",
          "iothub-enqueuedtime": "\"2024-04-16T15:27:43.170Z\"",
          "iothub-message-source": "Telemetry",
          "x-opt-sequence-number-epoch": "-1"
         }
        ],
        [
         "eyJkZXZpY2VfaWQiOiAxMiwgInRtcCI6IDkyLCAiaG1kdCI6IDYxLCAicHJzcmUiOiA0ODksICJ0cyI6ICIyMDI0LTA0LTE2VDIwOjU3OjQ4LjE1MjMyNiIsICJzb3VyY2UiOiAiSW90SHViIn0=",
         "2",
         "298880",
         625,
         "2024-04-16T15:27:48.425+0000",
         null,
         null,
         {},
         {
          "iothub-connection-auth-generation-id": "638486236982118213",
          "iothub-connection-auth-method": "{\"scope\":\"device\",\"type\":\"sas\",\"issuer\":\"iothub\",\"acceptingIpFilterRule\":null}",
          "iothub-connection-device-id": "Device1",
          "iothub-enqueuedtime": "\"2024-04-16T15:27:48.423Z\"",
          "iothub-message-source": "Telemetry",
          "x-opt-sequence-number-epoch": "-1"
         }
        ],
        [
         "eyJkZXZpY2VfaWQiOiA5LCAidG1wIjogMTE5LCAiaG1kdCI6IDc4LCAicHJzcmUiOiA0MDMsICJ0cyI6ICIyMDI0LTA0LTE2VDIwOjU3OjUzLjQyMjczMiIsICJzb3VyY2UiOiAiSW90SHViIn0=",
         "2",
         "299360",
         626,
         "2024-04-16T15:27:53.629+0000",
         null,
         null,
         {},
         {
          "iothub-connection-auth-generation-id": "638486236982118213",
          "iothub-connection-auth-method": "{\"scope\":\"device\",\"type\":\"sas\",\"issuer\":\"iothub\",\"acceptingIpFilterRule\":null}",
          "iothub-connection-device-id": "Device1",
          "iothub-enqueuedtime": "\"2024-04-16T15:27:53.633Z\"",
          "iothub-message-source": "Telemetry",
          "x-opt-sequence-number-epoch": "-1"
         }
        ],
        [
         "eyJkZXZpY2VfaWQiOiA5LCAidG1wIjogMTA3LCAiaG1kdCI6IDcxLCAicHJzcmUiOiA0NTcsICJ0cyI6ICIyMDI0LTA0LTE2VDIwOjU3OjU4LjYyNTU0MyIsICJzb3VyY2UiOiAiSW90SHViIn0=",
         "2",
         "299840",
         627,
         "2024-04-16T15:27:58.926+0000",
         null,
         null,
         {},
         {
          "iothub-connection-auth-generation-id": "638486236982118213",
          "iothub-connection-auth-method": "{\"scope\":\"device\",\"type\":\"sas\",\"issuer\":\"iothub\",\"acceptingIpFilterRule\":null}",
          "iothub-connection-device-id": "Device1",
          "iothub-enqueuedtime": "\"2024-04-16T15:27:58.922Z\"",
          "iothub-message-source": "Telemetry",
          "x-opt-sequence-number-epoch": "-1"
         }
        ],
        [
         "eyJkZXZpY2VfaWQiOiA3LCAidG1wIjogMTE4LCAiaG1kdCI6IDcwLCAicHJzcmUiOiA0MzQsICJ0cyI6ICIyMDI0LTA0LTE2VDIwOjU4OjAzLjkxNDYxOSIsICJzb3VyY2UiOiAiSW90SHViIn0=",
         "2",
         "300320",
         628,
         "2024-04-16T15:28:04.145+0000",
         null,
         null,
         {},
         {
          "iothub-connection-auth-generation-id": "638486236982118213",
          "iothub-connection-auth-method": "{\"scope\":\"device\",\"type\":\"sas\",\"issuer\":\"iothub\",\"acceptingIpFilterRule\":null}",
          "iothub-connection-device-id": "Device1",
          "iothub-enqueuedtime": "\"2024-04-16T15:28:04.145Z\"",
          "iothub-message-source": "Telemetry",
          "x-opt-sequence-number-epoch": "-1"
         }
        ],
        [
         "eyJkZXZpY2VfaWQiOiA3LCAidG1wIjogMTA5LCAiaG1kdCI6IDcxLCAicHJzcmUiOiA0MjQsICJ0cyI6ICIyMDI0LTA0LTE2VDIwOjU4OjA5LjEyNjA3MCIsICJzb3VyY2UiOiAiSW90SHViIn0=",
         "2",
         "300800",
         629,
         "2024-04-16T15:28:09.410+0000",
         null,
         null,
         {},
         {
          "iothub-connection-auth-generation-id": "638486236982118213",
          "iothub-connection-auth-method": "{\"scope\":\"device\",\"type\":\"sas\",\"issuer\":\"iothub\",\"acceptingIpFilterRule\":null}",
          "iothub-connection-device-id": "Device1",
          "iothub-enqueuedtime": "\"2024-04-16T15:28:09.402Z\"",
          "iothub-message-source": "Telemetry",
          "x-opt-sequence-number-epoch": "-1"
         }
        ],
        [
         "eyJkZXZpY2VfaWQiOiAzLCAidG1wIjogOTQsICJobWR0IjogNjcsICJwcnNyZSI6IDQ2MSwgInRzIjogIjIwMjQtMDQtMTZUMjA6NTg6MTQuMzg4NDQ2IiwgInNvdXJjZSI6ICJJb3RIdWIifQ==",
         "2",
         "301280",
         630,
         "2024-04-16T15:28:14.598+0000",
         null,
         null,
         {},
         {
          "iothub-connection-auth-generation-id": "638486236982118213",
          "iothub-connection-auth-method": "{\"scope\":\"device\",\"type\":\"sas\",\"issuer\":\"iothub\",\"acceptingIpFilterRule\":null}",
          "iothub-connection-device-id": "Device1",
          "iothub-enqueuedtime": "\"2024-04-16T15:28:14.594Z\"",
          "iothub-message-source": "Telemetry",
          "x-opt-sequence-number-epoch": "-1"
         }
        ],
        [
         "eyJkZXZpY2VfaWQiOiAxMCwgInRtcCI6IDkwLCAiaG1kdCI6IDYwLCAicHJzcmUiOiA0MTEsICJ0cyI6ICIyMDI0LTA0LTE2VDIwOjU4OjE5LjU4NzU3NCIsICJzb3VyY2UiOiAiSW90SHViIn0=",
         "2",
         "301760",
         631,
         "2024-04-16T15:28:20.629+0000",
         null,
         null,
         {},
         {
          "iothub-connection-auth-generation-id": "638486236982118213",
          "iothub-connection-auth-method": "{\"scope\":\"device\",\"type\":\"sas\",\"issuer\":\"iothub\",\"acceptingIpFilterRule\":null}",
          "iothub-connection-device-id": "Device1",
          "iothub-enqueuedtime": "\"2024-04-16T15:28:20.637Z\"",
          "iothub-message-source": "Telemetry",
          "x-opt-sequence-number-epoch": "-1"
         }
        ],
        [
         "eyJkZXZpY2VfaWQiOiAxNCwgInRtcCI6IDExOCwgImhtZHQiOiA3OCwgInByc3JlIjogNDMwLCAidHMiOiAiMjAyNC0wNC0xNlQyMDo1ODoyNS42MTgxMDkiLCAic291cmNlIjogIklvdEh1YiJ9",
         "2",
         "302240",
         632,
         "2024-04-16T15:28:26.067+0000",
         null,
         null,
         {},
         {
          "iothub-connection-auth-generation-id": "638486236982118213",
          "iothub-connection-auth-method": "{\"scope\":\"device\",\"type\":\"sas\",\"issuer\":\"iothub\",\"acceptingIpFilterRule\":null}",
          "iothub-connection-device-id": "Device1",
          "iothub-enqueuedtime": "\"2024-04-16T15:28:26.061Z\"",
          "iothub-message-source": "Telemetry",
          "x-opt-sequence-number-epoch": "-1"
         }
        ],
        [
         "eyJkZXZpY2VfaWQiOiAxLCAidG1wIjogMTA3LCAiaG1kdCI6IDYwLCAicHJzcmUiOiA0MjMsICJ0cyI6ICIyMDI0LTA0LTE2VDIwOjU4OjMxLjA1NzcwNSIsICJzb3VyY2UiOiAiSW90SHViIn0=",
         "2",
         "302728",
         633,
         "2024-04-16T15:28:31.614+0000",
         null,
         null,
         {},
         {
          "iothub-connection-auth-generation-id": "638486236982118213",
          "iothub-connection-auth-method": "{\"scope\":\"device\",\"type\":\"sas\",\"issuer\":\"iothub\",\"acceptingIpFilterRule\":null}",
          "iothub-connection-device-id": "Device1",
          "iothub-enqueuedtime": "\"2024-04-16T15:28:31.618Z\"",
          "iothub-message-source": "Telemetry",
          "x-opt-sequence-number-epoch": "-1"
         }
        ],
        [
         "eyJkZXZpY2VfaWQiOiAxMiwgInRtcCI6IDExMSwgImhtZHQiOiA3MywgInByc3JlIjogNDU4LCAidHMiOiAiMjAyNC0wNC0xNlQyMDo1ODozNi42MDg3MjgiLCAic291cmNlIjogIklvdEh1YiJ9",
         "2",
         "303208",
         634,
         "2024-04-16T15:28:36.817+0000",
         null,
         null,
         {},
         {
          "iothub-connection-auth-generation-id": "638486236982118213",
          "iothub-connection-auth-method": "{\"scope\":\"device\",\"type\":\"sas\",\"issuer\":\"iothub\",\"acceptingIpFilterRule\":null}",
          "iothub-connection-device-id": "Device1",
          "iothub-enqueuedtime": "\"2024-04-16T15:28:36.821Z\"",
          "iothub-message-source": "Telemetry",
          "x-opt-sequence-number-epoch": "-1"
         }
        ],
        [
         "eyJkZXZpY2VfaWQiOiAxMSwgInRtcCI6IDExMCwgImhtZHQiOiA3MCwgInByc3JlIjogNDY4LCAidHMiOiAiMjAyNC0wNC0xNlQyMDo1ODo0MS44MDQyNzMiLCAic291cmNlIjogIklvdEh1YiJ9",
         "2",
         "303696",
         635,
         "2024-04-16T15:28:42.067+0000",
         null,
         null,
         {},
         {
          "iothub-connection-auth-generation-id": "638486236982118213",
          "iothub-connection-auth-method": "{\"scope\":\"device\",\"type\":\"sas\",\"issuer\":\"iothub\",\"acceptingIpFilterRule\":null}",
          "iothub-connection-device-id": "Device1",
          "iothub-enqueuedtime": "\"2024-04-16T15:28:42.078Z\"",
          "iothub-message-source": "Telemetry",
          "x-opt-sequence-number-epoch": "-1"
         }
        ],
        [
         "eyJkZXZpY2VfaWQiOiAxMCwgInRtcCI6IDEwNSwgImhtZHQiOiA2MywgInByc3JlIjogNDE2LCAidHMiOiAiMjAyNC0wNC0xNlQyMDo1ODo0Ny4wNjc3MjAiLCAic291cmNlIjogIklvdEh1YiJ9",
         "2",
         "304184",
         636,
         "2024-04-16T15:28:47.286+0000",
         null,
         null,
         {},
         {
          "iothub-connection-auth-generation-id": "638486236982118213",
          "iothub-connection-auth-method": "{\"scope\":\"device\",\"type\":\"sas\",\"issuer\":\"iothub\",\"acceptingIpFilterRule\":null}",
          "iothub-connection-device-id": "Device1",
          "iothub-enqueuedtime": "\"2024-04-16T15:28:47.284Z\"",
          "iothub-message-source": "Telemetry",
          "x-opt-sequence-number-epoch": "-1"
         }
        ],
        [
         "eyJkZXZpY2VfaWQiOiA5LCAidG1wIjogMTE0LCAiaG1kdCI6IDY0LCAicHJzcmUiOiA0NzIsICJ0cyI6ICIyMDI0LTA0LTE2VDIwOjU4OjUyLjI3MTY2MSIsICJzb3VyY2UiOiAiSW90SHViIn0=",
         "2",
         "304672",
         637,
         "2024-04-16T15:28:52.520+0000",
         null,
         null,
         {},
         {
          "iothub-connection-auth-generation-id": "638486236982118213",
          "iothub-connection-auth-method": "{\"scope\":\"device\",\"type\":\"sas\",\"issuer\":\"iothub\",\"acceptingIpFilterRule\":null}",
          "iothub-connection-device-id": "Device1",
          "iothub-enqueuedtime": "\"2024-04-16T15:28:52.524Z\"",
          "iothub-message-source": "Telemetry",
          "x-opt-sequence-number-epoch": "-1"
         }
        ],
        [
         "eyJkZXZpY2VfaWQiOiA4LCAidG1wIjogOTMsICJobWR0IjogNzUsICJwcnNyZSI6IDQwMCwgInRzIjogIjIwMjQtMDQtMTZUMjA6NTg6NTcuNTAzNTY3IiwgInNvdXJjZSI6ICJJb3RIdWIifQ==",
         "2",
         "305152",
         638,
         "2024-04-16T15:29:00.756+0000",
         null,
         null,
         {},
         {
          "iothub-connection-auth-generation-id": "638486236982118213",
          "iothub-connection-auth-method": "{\"scope\":\"device\",\"type\":\"sas\",\"issuer\":\"iothub\",\"acceptingIpFilterRule\":null}",
          "iothub-connection-device-id": "Device1",
          "iothub-enqueuedtime": "\"2024-04-16T15:29:00.754Z\"",
          "iothub-message-source": "Telemetry",
          "x-opt-sequence-number-epoch": "-1"
         }
        ],
        [
         "eyJkZXZpY2VfaWQiOiA3LCAidG1wIjogOTMsICJobWR0IjogNjIsICJwcnNyZSI6IDQzNiwgInRzIjogIjIwMjQtMDQtMTZUMjA6NTk6MDUuNzQ2MDQ4IiwgInNvdXJjZSI6ICJJb3RIdWIifQ==",
         "2",
         "305632",
         639,
         "2024-04-16T15:29:06.022+0000",
         null,
         null,
         {},
         {
          "iothub-connection-auth-generation-id": "638486236982118213",
          "iothub-connection-auth-method": "{\"scope\":\"device\",\"type\":\"sas\",\"issuer\":\"iothub\",\"acceptingIpFilterRule\":null}",
          "iothub-connection-device-id": "Device1",
          "iothub-enqueuedtime": "\"2024-04-16T15:29:06.015Z\"",
          "iothub-message-source": "Telemetry",
          "x-opt-sequence-number-epoch": "-1"
         }
        ],
        [
         "eyJkZXZpY2VfaWQiOiA3LCAidG1wIjogOTYsICJobWR0IjogNzksICJwcnNyZSI6IDQ5MSwgInRzIjogIjIwMjQtMDQtMTZUMjA6NTk6MTEuMDEyMjg3IiwgInNvdXJjZSI6ICJJb3RIdWIifQ==",
         "2",
         "306112",
         640,
         "2024-04-16T15:29:11.226+0000",
         null,
         null,
         {},
         {
          "iothub-connection-auth-generation-id": "638486236982118213",
          "iothub-connection-auth-method": "{\"scope\":\"device\",\"type\":\"sas\",\"issuer\":\"iothub\",\"acceptingIpFilterRule\":null}",
          "iothub-connection-device-id": "Device1",
          "iothub-enqueuedtime": "\"2024-04-16T15:29:11.214Z\"",
          "iothub-message-source": "Telemetry",
          "x-opt-sequence-number-epoch": "-1"
         }
        ],
        [
         "eyJkZXZpY2VfaWQiOiA4LCAidG1wIjogMTE2LCAiaG1kdCI6IDY4LCAicHJzcmUiOiA0MzUsICJ0cyI6ICIyMDI0LTA0LTE2VDIwOjU5OjE2LjIwNzU1MCIsICJzb3VyY2UiOiAiSW90SHViIn0=",
         "2",
         "306592",
         641,
         "2024-04-16T15:29:16.960+0000",
         null,
         null,
         {},
         {
          "iothub-connection-auth-generation-id": "638486236982118213",
          "iothub-connection-auth-method": "{\"scope\":\"device\",\"type\":\"sas\",\"issuer\":\"iothub\",\"acceptingIpFilterRule\":null}",
          "iothub-connection-device-id": "Device1",
          "iothub-enqueuedtime": "\"2024-04-16T15:29:16.969Z\"",
          "iothub-message-source": "Telemetry",
          "x-opt-sequence-number-epoch": "-1"
         }
        ],
        [
         "eyJkZXZpY2VfaWQiOiAzLCAidG1wIjogMTE0LCAiaG1kdCI6IDYyLCAicHJzcmUiOiA0NzUsICJ0cyI6ICIyMDI0LTA0LTE2VDIwOjU5OjIxLjk1MjI2OCIsICJzb3VyY2UiOiAiSW90SHViIn0=",
         "2",
         "307072",
         642,
         "2024-04-16T15:29:22.179+0000",
         null,
         null,
         {},
         {
          "iothub-connection-auth-generation-id": "638486236982118213",
          "iothub-connection-auth-method": "{\"scope\":\"device\",\"type\":\"sas\",\"issuer\":\"iothub\",\"acceptingIpFilterRule\":null}",
          "iothub-connection-device-id": "Device1",
          "iothub-enqueuedtime": "\"2024-04-16T15:29:22.175Z\"",
          "iothub-message-source": "Telemetry",
          "x-opt-sequence-number-epoch": "-1"
         }
        ],
        [
         "eyJkZXZpY2VfaWQiOiA2LCAidG1wIjogMTEzLCAiaG1kdCI6IDc3LCAicHJzcmUiOiA0MjksICJ0cyI6ICIyMDI0LTA0LTE2VDIwOjU5OjI3LjE1Nzg0OCIsICJzb3VyY2UiOiAiSW90SHViIn0=",
         "2",
         "307552",
         643,
         "2024-04-16T15:29:28.241+0000",
         null,
         null,
         {},
         {
          "iothub-connection-auth-generation-id": "638486236982118213",
          "iothub-connection-auth-method": "{\"scope\":\"device\",\"type\":\"sas\",\"issuer\":\"iothub\",\"acceptingIpFilterRule\":null}",
          "iothub-connection-device-id": "Device1",
          "iothub-enqueuedtime": "\"2024-04-16T15:29:28.236Z\"",
          "iothub-message-source": "Telemetry",
          "x-opt-sequence-number-epoch": "-1"
         }
        ],
        [
         "eyJkZXZpY2VfaWQiOiAxMCwgInRtcCI6IDExMiwgImhtZHQiOiA2MSwgInByc3JlIjogNDIzLCAidHMiOiAiMjAyNC0wNC0xNlQyMDo1OTozMy4yMjExNTEiLCAic291cmNlIjogIklvdEh1YiJ9",
         "2",
         "308032",
         644,
         "2024-04-16T15:29:33.445+0000",
         null,
         null,
         {},
         {
          "iothub-connection-auth-generation-id": "638486236982118213",
          "iothub-connection-auth-method": "{\"scope\":\"device\",\"type\":\"sas\",\"issuer\":\"iothub\",\"acceptingIpFilterRule\":null}",
          "iothub-connection-device-id": "Device1",
          "iothub-enqueuedtime": "\"2024-04-16T15:29:33.440Z\"",
          "iothub-message-source": "Telemetry",
          "x-opt-sequence-number-epoch": "-1"
         }
        ],
        [
         "eyJkZXZpY2VfaWQiOiA0LCAidG1wIjogMTE5LCAiaG1kdCI6IDcyLCAicHJzcmUiOiA0OTUsICJ0cyI6ICIyMDI0LTA0LTE2VDIwOjU5OjM4LjQyNDMxNiIsICJzb3VyY2UiOiAiSW90SHViIn0=",
         "2",
         "308520",
         645,
         "2024-04-16T15:29:38.695+0000",
         null,
         null,
         {},
         {
          "iothub-connection-auth-generation-id": "638486236982118213",
          "iothub-connection-auth-method": "{\"scope\":\"device\",\"type\":\"sas\",\"issuer\":\"iothub\",\"acceptingIpFilterRule\":null}",
          "iothub-connection-device-id": "Device1",
          "iothub-enqueuedtime": "\"2024-04-16T15:29:38.690Z\"",
          "iothub-message-source": "Telemetry",
          "x-opt-sequence-number-epoch": "-1"
         }
        ],
        [
         "eyJkZXZpY2VfaWQiOiAxLCAidG1wIjogMTAwLCAiaG1kdCI6IDY3LCAicHJzcmUiOiA0NTUsICJ0cyI6ICIyMDI0LTA0LTE2VDIwOjU5OjQzLjY4Mjk5NCIsICJzb3VyY2UiOiAiSW90SHViIn0=",
         "2",
         "309000",
         646,
         "2024-04-16T15:29:43.914+0000",
         null,
         null,
         {},
         {
          "iothub-connection-auth-generation-id": "638486236982118213",
          "iothub-connection-auth-method": "{\"scope\":\"device\",\"type\":\"sas\",\"issuer\":\"iothub\",\"acceptingIpFilterRule\":null}",
          "iothub-connection-device-id": "Device1",
          "iothub-enqueuedtime": "\"2024-04-16T15:29:43.909Z\"",
          "iothub-message-source": "Telemetry",
          "x-opt-sequence-number-epoch": "-1"
         }
        ],
        [
         "eyJkZXZpY2VfaWQiOiAxLCAidG1wIjogMTAyLCAiaG1kdCI6IDc5LCAicHJzcmUiOiA0NDEsICJ0cyI6ICIyMDI0LTA0LTE2VDIwOjU5OjQ4Ljg5ODM3MSIsICJzb3VyY2UiOiAiSW90SHViIn0=",
         "2",
         "309480",
         647,
         "2024-04-16T15:29:49.164+0000",
         null,
         null,
         {},
         {
          "iothub-connection-auth-generation-id": "638486236982118213",
          "iothub-connection-auth-method": "{\"scope\":\"device\",\"type\":\"sas\",\"issuer\":\"iothub\",\"acceptingIpFilterRule\":null}",
          "iothub-connection-device-id": "Device1",
          "iothub-enqueuedtime": "\"2024-04-16T15:29:49.170Z\"",
          "iothub-message-source": "Telemetry",
          "x-opt-sequence-number-epoch": "-1"
         }
        ],
        [
         "eyJkZXZpY2VfaWQiOiAxMywgInRtcCI6IDEwMywgImhtZHQiOiA3MSwgInByc3JlIjogNDYzLCAidHMiOiAiMjAyNC0wNC0xNlQyMDo1OTo1NC4xNTUwNDAiLCAic291cmNlIjogIklvdEh1YiJ9",
         "2",
         "309960",
         648,
         "2024-04-16T15:29:54.367+0000",
         null,
         null,
         {},
         {
          "iothub-connection-auth-generation-id": "638486236982118213",
          "iothub-connection-auth-method": "{\"scope\":\"device\",\"type\":\"sas\",\"issuer\":\"iothub\",\"acceptingIpFilterRule\":null}",
          "iothub-connection-device-id": "Device1",
          "iothub-enqueuedtime": "\"2024-04-16T15:29:54.359Z\"",
          "iothub-message-source": "Telemetry",
          "x-opt-sequence-number-epoch": "-1"
         }
        ],
        [
         "eyJkZXZpY2VfaWQiOiAyLCAidG1wIjogMTE3LCAiaG1kdCI6IDYwLCAicHJzcmUiOiA0NDEsICJ0cyI6ICIyMDI0LTA0LTE2VDIwOjU5OjU5LjM1MjE0MiIsICJzb3VyY2UiOiAiSW90SHViIn0=",
         "2",
         "310448",
         649,
         "2024-04-16T15:29:59.617+0000",
         null,
         null,
         {},
         {
          "iothub-connection-auth-generation-id": "638486236982118213",
          "iothub-connection-auth-method": "{\"scope\":\"device\",\"type\":\"sas\",\"issuer\":\"iothub\",\"acceptingIpFilterRule\":null}",
          "iothub-connection-device-id": "Device1",
          "iothub-enqueuedtime": "\"2024-04-16T15:29:59.612Z\"",
          "iothub-message-source": "Telemetry",
          "x-opt-sequence-number-epoch": "-1"
         }
        ],
        [
         "eyJkZXZpY2VfaWQiOiAxNCwgInRtcCI6IDkzLCAiaG1kdCI6IDc3LCAicHJzcmUiOiA0NTQsICJ0cyI6ICIyMDI0LTA0LTE2VDIxOjAwOjA0LjYwMjI3MyIsICJzb3VyY2UiOiAiSW90SHViIn0=",
         "2",
         "310928",
         650,
         "2024-04-16T15:30:05.008+0000",
         null,
         null,
         {},
         {
          "iothub-connection-auth-generation-id": "638486236982118213",
          "iothub-connection-auth-method": "{\"scope\":\"device\",\"type\":\"sas\",\"issuer\":\"iothub\",\"acceptingIpFilterRule\":null}",
          "iothub-connection-device-id": "Device1",
          "iothub-enqueuedtime": "\"2024-04-16T15:30:05.003Z\"",
          "iothub-message-source": "Telemetry",
          "x-opt-sequence-number-epoch": "-1"
         }
        ],
        [
         "eyJkZXZpY2VfaWQiOiA0LCAidG1wIjogOTYsICJobWR0IjogNzAsICJwcnNyZSI6IDQyNCwgInRzIjogIjIwMjQtMDQtMTZUMjI6NDE6MjYuNzQ2MTI4IiwgInNvdXJjZSI6ICJJb3RIdWIifQ==",
         "2",
         "311408",
         651,
         "2024-04-16T17:11:29.768+0000",
         null,
         null,
         {},
         {
          "iothub-connection-auth-generation-id": "638486236982118213",
          "iothub-connection-auth-method": "{\"scope\":\"device\",\"type\":\"sas\",\"issuer\":\"iothub\",\"acceptingIpFilterRule\":null}",
          "iothub-connection-device-id": "Device1",
          "iothub-enqueuedtime": "\"2024-04-16T17:11:29.391Z\"",
          "iothub-message-source": "Telemetry",
          "x-opt-sequence-number-epoch": "-1"
         }
        ],
        [
         "eyJkZXZpY2VfaWQiOiAxLCAidG1wIjogMTEwLCAiaG1kdCI6IDY4LCAicHJzcmUiOiA0MDAsICJ0cyI6ICIyMDI0LTA0LTE2VDIyOjQxOjM0LjgwMDEzMyIsICJzb3VyY2UiOiAiSW90SHViIn0=",
         "2",
         "311888",
         652,
         "2024-04-16T17:11:38.190+0000",
         null,
         null,
         {},
         {
          "iothub-connection-auth-generation-id": "638486236982118213",
          "iothub-connection-auth-method": "{\"scope\":\"device\",\"type\":\"sas\",\"issuer\":\"iothub\",\"acceptingIpFilterRule\":null}",
          "iothub-connection-device-id": "Device1",
          "iothub-enqueuedtime": "\"2024-04-16T17:11:37.588Z\"",
          "iothub-message-source": "Telemetry",
          "x-opt-sequence-number-epoch": "-1"
         }
        ],
        [
         "eyJkZXZpY2VfaWQiOiAzLCAidG1wIjogOTEsICJobWR0IjogNzQsICJwcnNyZSI6IDQxNSwgInRzIjogIjIwMjQtMDQtMTZUMjI6NDE6NDMuMjA0MTUzIiwgInNvdXJjZSI6ICJJb3RIdWIifQ==",
         "2",
         "312368",
         653,
         "2024-04-16T17:11:45.909+0000",
         null,
         null,
         {},
         {
          "iothub-connection-auth-generation-id": "638486236982118213",
          "iothub-connection-auth-method": "{\"scope\":\"device\",\"type\":\"sas\",\"issuer\":\"iothub\",\"acceptingIpFilterRule\":null}",
          "iothub-connection-device-id": "Device1",
          "iothub-enqueuedtime": "\"2024-04-16T17:11:45.562Z\"",
          "iothub-message-source": "Telemetry",
          "x-opt-sequence-number-epoch": "-1"
         }
        ],
        [
         "eyJkZXZpY2VfaWQiOiA1LCAidG1wIjogOTIsICJobWR0IjogNzksICJwcnNyZSI6IDQxOCwgInRzIjogIjIwMjQtMDQtMTZUMjI6NDE6NTAuOTQ0MTc3IiwgInNvdXJjZSI6ICJJb3RIdWIifQ==",
         "2",
         "312848",
         654,
         "2024-04-16T17:11:51.113+0000",
         null,
         null,
         {},
         {
          "iothub-connection-auth-generation-id": "638486236982118213",
          "iothub-connection-auth-method": "{\"scope\":\"device\",\"type\":\"sas\",\"issuer\":\"iothub\",\"acceptingIpFilterRule\":null}",
          "iothub-connection-device-id": "Device1",
          "iothub-enqueuedtime": "\"2024-04-16T17:11:51.108Z\"",
          "iothub-message-source": "Telemetry",
          "x-opt-sequence-number-epoch": "-1"
         }
        ],
        [
         "eyJkZXZpY2VfaWQiOiA0LCAidG1wIjogOTgsICJobWR0IjogNzgsICJwcnNyZSI6IDQ5NywgInRzIjogIjIwMjQtMDQtMTZUMjI6NDE6NTYuMTE3ODY1IiwgInNvdXJjZSI6ICJJb3RIdWIifQ==",
         "2",
         "313328",
         655,
         "2024-04-16T17:11:58.817+0000",
         null,
         null,
         {},
         {
          "iothub-connection-auth-generation-id": "638486236982118213",
          "iothub-connection-auth-method": "{\"scope\":\"device\",\"type\":\"sas\",\"issuer\":\"iothub\",\"acceptingIpFilterRule\":null}",
          "iothub-connection-device-id": "Device1",
          "iothub-enqueuedtime": "\"2024-04-16T17:11:58.368Z\"",
          "iothub-message-source": "Telemetry",
          "x-opt-sequence-number-epoch": "-1"
         }
        ],
        [
         "eyJkZXZpY2VfaWQiOiA5LCAidG1wIjogMTA0LCAiaG1kdCI6IDcyLCAicHJzcmUiOiA0NjEsICJ0cyI6ICIyMDI0LTA0LTE2VDIyOjQyOjAzLjg1MjIyNSIsICJzb3VyY2UiOiAiSW90SHViIn0=",
         "2",
         "313808",
         656,
         "2024-04-16T17:12:06.754+0000",
         null,
         null,
         {},
         {
          "iothub-connection-auth-generation-id": "638486236982118213",
          "iothub-connection-auth-method": "{\"scope\":\"device\",\"type\":\"sas\",\"issuer\":\"iothub\",\"acceptingIpFilterRule\":null}",
          "iothub-connection-device-id": "Device1",
          "iothub-enqueuedtime": "\"2024-04-16T17:12:06.282Z\"",
          "iothub-message-source": "Telemetry",
          "x-opt-sequence-number-epoch": "-1"
         }
        ],
        [
         "eyJkZXZpY2VfaWQiOiAzLCAidG1wIjogOTQsICJobWR0IjogNjQsICJwcnNyZSI6IDQ2NSwgInRzIjogIjIwMjQtMDQtMTZUMjI6NDI6MTEuODMyMjM4IiwgInNvdXJjZSI6ICJJb3RIdWIifQ==",
         "2",
         "314288",
         657,
         "2024-04-16T17:12:14.504+0000",
         null,
         null,
         {},
         {
          "iothub-connection-auth-generation-id": "638486236982118213",
          "iothub-connection-auth-method": "{\"scope\":\"device\",\"type\":\"sas\",\"issuer\":\"iothub\",\"acceptingIpFilterRule\":null}",
          "iothub-connection-device-id": "Device1",
          "iothub-enqueuedtime": "\"2024-04-16T17:12:14.245Z\"",
          "iothub-message-source": "Telemetry",
          "x-opt-sequence-number-epoch": "-1"
         }
        ],
        [
         "eyJkZXZpY2VfaWQiOiAyLCAidG1wIjogMTAwLCAiaG1kdCI6IDcyLCAicHJzcmUiOiA0MzMsICJ0cyI6ICIyMDI0LTA0LTE2VDIyOjQyOjE5LjYyMDEyNiIsICJzb3VyY2UiOiAiSW90SHViIn0=",
         "2",
         "314768",
         658,
         "2024-04-16T17:12:22.210+0000",
         null,
         null,
         {},
         {
          "iothub-connection-auth-generation-id": "638486236982118213",
          "iothub-connection-auth-method": "{\"scope\":\"device\",\"type\":\"sas\",\"issuer\":\"iothub\",\"acceptingIpFilterRule\":null}",
          "iothub-connection-device-id": "Device1",
          "iothub-enqueuedtime": "\"2024-04-16T17:12:21.917Z\"",
          "iothub-message-source": "Telemetry",
          "x-opt-sequence-number-epoch": "-1"
         }
        ],
        [
         "eyJkZXZpY2VfaWQiOiAxNCwgInRtcCI6IDEwNiwgImhtZHQiOiA3NCwgInByc3JlIjogNDU3LCAidHMiOiAiMjAyNC0wNC0xNlQyMjo0MjoyNy4yOTczMTEiLCAic291cmNlIjogIklvdEh1YiJ9",
         "2",
         "315248",
         659,
         "2024-04-16T17:12:27.569+0000",
         null,
         null,
         {},
         {
          "iothub-connection-auth-generation-id": "638486236982118213",
          "iothub-connection-auth-method": "{\"scope\":\"device\",\"type\":\"sas\",\"issuer\":\"iothub\",\"acceptingIpFilterRule\":null}",
          "iothub-connection-device-id": "Device1",
          "iothub-enqueuedtime": "\"2024-04-16T17:12:27.560Z\"",
          "iothub-message-source": "Telemetry",
          "x-opt-sequence-number-epoch": "-1"
         }
        ],
        [
         "eyJkZXZpY2VfaWQiOiAxNCwgInRtcCI6IDkxLCAiaG1kdCI6IDY4LCAicHJzcmUiOiA0OTAsICJ0cyI6ICIyMDI0LTA0LTE2VDIyOjQyOjMyLjU4NDU5OSIsICJzb3VyY2UiOiAiSW90SHViIn0=",
         "2",
         "315736",
         660,
         "2024-04-16T17:12:33.007+0000",
         null,
         null,
         {},
         {
          "iothub-connection-auth-generation-id": "638486236982118213",
          "iothub-connection-auth-method": "{\"scope\":\"device\",\"type\":\"sas\",\"issuer\":\"iothub\",\"acceptingIpFilterRule\":null}",
          "iothub-connection-device-id": "Device1",
          "iothub-enqueuedtime": "\"2024-04-16T17:12:33.014Z\"",
          "iothub-message-source": "Telemetry",
          "x-opt-sequence-number-epoch": "-1"
         }
        ],
        [
         "eyJkZXZpY2VfaWQiOiA2LCAidG1wIjogOTIsICJobWR0IjogNjYsICJwcnNyZSI6IDQxNSwgInRzIjogIjIwMjQtMDQtMTZUMjI6NDI6MzguNjYwMTcwIiwgInNvdXJjZSI6ICJJb3RIdWIifQ==",
         "2",
         "316216",
         661,
         "2024-04-16T17:12:38.835+0000",
         null,
         null,
         {},
         {
          "iothub-connection-auth-generation-id": "638486236982118213",
          "iothub-connection-auth-method": "{\"scope\":\"device\",\"type\":\"sas\",\"issuer\":\"iothub\",\"acceptingIpFilterRule\":null}",
          "iothub-connection-device-id": "Device1",
          "iothub-enqueuedtime": "\"2024-04-16T17:12:38.839Z\"",
          "iothub-message-source": "Telemetry",
          "x-opt-sequence-number-epoch": "-1"
         }
        ],
        [
         "eyJkZXZpY2VfaWQiOiAxNCwgInRtcCI6IDExNywgImhtZHQiOiA2NSwgInByc3JlIjogNDU2LCAidHMiOiAiMjAyNC0wNC0xNlQyMjo0Mjo0My44NDgzMTYiLCAic291cmNlIjogIklvdEh1YiJ9",
         "2",
         "316696",
         662,
         "2024-04-16T17:12:49.851+0000",
         null,
         null,
         {},
         {
          "iothub-connection-auth-generation-id": "638486236982118213",
          "iothub-connection-auth-method": "{\"scope\":\"device\",\"type\":\"sas\",\"issuer\":\"iothub\",\"acceptingIpFilterRule\":null}",
          "iothub-connection-device-id": "Device1",
          "iothub-enqueuedtime": "\"2024-04-16T17:12:46.091Z\"",
          "iothub-message-source": "Telemetry",
          "x-opt-sequence-number-epoch": "-1"
         }
        ],
        [
         "eyJkZXZpY2VfaWQiOiAxMiwgInRtcCI6IDk5LCAiaG1kdCI6IDY5LCAicHJzcmUiOiA0OTUsICJ0cyI6ICIyMDI0LTA0LTE2VDIyOjQyOjU0Ljg2ODI0MCIsICJzb3VyY2UiOiAiSW90SHViIn0=",
         "2",
         "317184",
         663,
         "2024-04-16T17:12:55.148+0000",
         null,
         null,
         {},
         {
          "iothub-connection-auth-generation-id": "638486236982118213",
          "iothub-connection-auth-method": "{\"scope\":\"device\",\"type\":\"sas\",\"issuer\":\"iothub\",\"acceptingIpFilterRule\":null}",
          "iothub-connection-device-id": "Device1",
          "iothub-enqueuedtime": "\"2024-04-16T17:12:55.142Z\"",
          "iothub-message-source": "Telemetry",
          "x-opt-sequence-number-epoch": "-1"
         }
        ],
        [
         "eyJkZXZpY2VfaWQiOiA0LCAidG1wIjogMTAyLCAiaG1kdCI6IDc4LCAicHJzcmUiOiA0NTYsICJ0cyI6ICIyMDI0LTA0LTE2VDIyOjQzOjAwLjE1OTAwNCIsICJzb3VyY2UiOiAiSW90SHViIn0=",
         "2",
         "317664",
         664,
         "2024-04-16T17:13:00.367+0000",
         null,
         null,
         {},
         {
          "iothub-connection-auth-generation-id": "638486236982118213",
          "iothub-connection-auth-method": "{\"scope\":\"device\",\"type\":\"sas\",\"issuer\":\"iothub\",\"acceptingIpFilterRule\":null}",
          "iothub-connection-device-id": "Device1",
          "iothub-enqueuedtime": "\"2024-04-16T17:13:00.368Z\"",
          "iothub-message-source": "Telemetry",
          "x-opt-sequence-number-epoch": "-1"
         }
        ],
        [
         "eyJkZXZpY2VfaWQiOiA2LCAidG1wIjogOTAsICJobWR0IjogNzgsICJwcnNyZSI6IDQzMSwgInRzIjogIjIwMjQtMDQtMTZUMjI6NDM6MDUuMzgwMTY4IiwgInNvdXJjZSI6ICJJb3RIdWIifQ==",
         "2",
         "318144",
         665,
         "2024-04-16T17:13:07.914+0000",
         null,
         null,
         {},
         {
          "iothub-connection-auth-generation-id": "638486236982118213",
          "iothub-connection-auth-method": "{\"scope\":\"device\",\"type\":\"sas\",\"issuer\":\"iothub\",\"acceptingIpFilterRule\":null}",
          "iothub-connection-device-id": "Device1",
          "iothub-enqueuedtime": "\"2024-04-16T17:13:07.496Z\"",
          "iothub-message-source": "Telemetry",
          "x-opt-sequence-number-epoch": "-1"
         }
        ],
        [
         "eyJkZXZpY2VfaWQiOiAxMCwgInRtcCI6IDExMSwgImhtZHQiOiA3OSwgInByc3JlIjogNDg5LCAidHMiOiAiMjAyNC0wNC0xNlQyMjo0MzoxMi45NjgzNTkiLCAic291cmNlIjogIklvdEh1YiJ9",
         "2",
         "318624",
         666,
         "2024-04-16T17:13:13.179+0000",
         null,
         null,
         {},
         {
          "iothub-connection-auth-generation-id": "638486236982118213",
          "iothub-connection-auth-method": "{\"scope\":\"device\",\"type\":\"sas\",\"issuer\":\"iothub\",\"acceptingIpFilterRule\":null}",
          "iothub-connection-device-id": "Device1",
          "iothub-enqueuedtime": "\"2024-04-16T17:13:13.178Z\"",
          "iothub-message-source": "Telemetry",
          "x-opt-sequence-number-epoch": "-1"
         }
        ],
        [
         "eyJkZXZpY2VfaWQiOiAxMSwgInRtcCI6IDk4LCAiaG1kdCI6IDYxLCAicHJzcmUiOiA0NDgsICJ0cyI6ICIyMDI0LTA0LTE2VDIyOjQzOjE4LjE5NjMzMCIsICJzb3VyY2UiOiAiSW90SHViIn0=",
         "2",
         "319112",
         667,
         "2024-04-16T17:13:18.461+0000",
         null,
         null,
         {},
         {
          "iothub-connection-auth-generation-id": "638486236982118213",
          "iothub-connection-auth-method": "{\"scope\":\"device\",\"type\":\"sas\",\"issuer\":\"iothub\",\"acceptingIpFilterRule\":null}",
          "iothub-connection-device-id": "Device1",
          "iothub-enqueuedtime": "\"2024-04-16T17:13:18.456Z\"",
          "iothub-message-source": "Telemetry",
          "x-opt-sequence-number-epoch": "-1"
         }
        ],
        [
         "eyJkZXZpY2VfaWQiOiAxMiwgInRtcCI6IDExNiwgImhtZHQiOiA2MywgInByc3JlIjogNDQ3LCAidHMiOiAiMjAyNC0wNC0xNlQyMjo0MzoyMy40NjgxODkiLCAic291cmNlIjogIklvdEh1YiJ9",
         "2",
         "319592",
         668,
         "2024-04-16T17:13:23.649+0000",
         null,
         null,
         {},
         {
          "iothub-connection-auth-generation-id": "638486236982118213",
          "iothub-connection-auth-method": "{\"scope\":\"device\",\"type\":\"sas\",\"issuer\":\"iothub\",\"acceptingIpFilterRule\":null}",
          "iothub-connection-device-id": "Device1",
          "iothub-enqueuedtime": "\"2024-04-16T17:13:23.647Z\"",
          "iothub-message-source": "Telemetry",
          "x-opt-sequence-number-epoch": "-1"
         }
        ],
        [
         "eyJkZXZpY2VfaWQiOiAxMywgInRtcCI6IDExNiwgImhtZHQiOiA2NywgInByc3JlIjogNDQ4LCAidHMiOiAiMjAyNC0wNC0xNlQyMjo0MzoyOC42NjE4NzYiLCAic291cmNlIjogIklvdEh1YiJ9",
         "2",
         "320080",
         669,
         "2024-04-16T17:13:28.930+0000",
         null,
         null,
         {},
         {
          "iothub-connection-auth-generation-id": "638486236982118213",
          "iothub-connection-auth-method": "{\"scope\":\"device\",\"type\":\"sas\",\"issuer\":\"iothub\",\"acceptingIpFilterRule\":null}",
          "iothub-connection-device-id": "Device1",
          "iothub-enqueuedtime": "\"2024-04-16T17:13:28.933Z\"",
          "iothub-message-source": "Telemetry",
          "x-opt-sequence-number-epoch": "-1"
         }
        ],
        [
         "eyJkZXZpY2VfaWQiOiAxLCAidG1wIjogOTEsICJobWR0IjogNjAsICJwcnNyZSI6IDQyMSwgInRzIjogIjIwMjQtMDQtMTZUMjI6NDM6MzMuOTQ0MTg1IiwgInNvdXJjZSI6ICJJb3RIdWIifQ==",
         "2",
         "320568",
         670,
         "2024-04-16T17:13:34.462+0000",
         null,
         null,
         {},
         {
          "iothub-connection-auth-generation-id": "638486236982118213",
          "iothub-connection-auth-method": "{\"scope\":\"device\",\"type\":\"sas\",\"issuer\":\"iothub\",\"acceptingIpFilterRule\":null}",
          "iothub-connection-device-id": "Device1",
          "iothub-enqueuedtime": "\"2024-04-16T17:13:34.457Z\"",
          "iothub-message-source": "Telemetry",
          "x-opt-sequence-number-epoch": "-1"
         }
        ],
        [
         "eyJkZXZpY2VfaWQiOiAxMSwgInRtcCI6IDkyLCAiaG1kdCI6IDc0LCAicHJzcmUiOiA0NzAsICJ0cyI6ICIyMDI0LTA0LTE2VDIyOjQzOjM5LjQ3NjIwOCIsICJzb3VyY2UiOiAiSW90SHViIn0=",
         "2",
         "321048",
         671,
         "2024-04-16T17:13:40.087+0000",
         null,
         null,
         {},
         {
          "iothub-connection-auth-generation-id": "638486236982118213",
          "iothub-connection-auth-method": "{\"scope\":\"device\",\"type\":\"sas\",\"issuer\":\"iothub\",\"acceptingIpFilterRule\":null}",
          "iothub-connection-device-id": "Device1",
          "iothub-enqueuedtime": "\"2024-04-16T17:13:40.084Z\"",
          "iothub-message-source": "Telemetry",
          "x-opt-sequence-number-epoch": "-1"
         }
        ],
        [
         "eyJkZXZpY2VfaWQiOiAxMCwgInRtcCI6IDkwLCAiaG1kdCI6IDc4LCAicHJzcmUiOiA0NTEsICJ0cyI6ICIyMDI0LTA0LTE2VDIyOjQzOjQ1LjEwODI0NCIsICJzb3VyY2UiOiAiSW90SHViIn0=",
         "2",
         "321528",
         672,
         "2024-04-16T17:13:47.947+0000",
         null,
         null,
         {},
         {
          "iothub-connection-auth-generation-id": "638486236982118213",
          "iothub-connection-auth-method": "{\"scope\":\"device\",\"type\":\"sas\",\"issuer\":\"iothub\",\"acceptingIpFilterRule\":null}",
          "iothub-connection-device-id": "Device1",
          "iothub-enqueuedtime": "\"2024-04-16T17:13:47.625Z\"",
          "iothub-message-source": "Telemetry",
          "x-opt-sequence-number-epoch": "-1"
         }
        ],
        [
         "eyJkZXZpY2VfaWQiOiAyLCAidG1wIjogMTA3LCAiaG1kdCI6IDc4LCAicHJzcmUiOiA0ODMsICJ0cyI6ICIyMDI0LTA0LTE2VDIyOjQzOjUzLjAwODIyMyIsICJzb3VyY2UiOiAiSW90SHViIn0=",
         "2",
         "322008",
         673,
         "2024-04-16T17:13:53.229+0000",
         null,
         null,
         {},
         {
          "iothub-connection-auth-generation-id": "638486236982118213",
          "iothub-connection-auth-method": "{\"scope\":\"device\",\"type\":\"sas\",\"issuer\":\"iothub\",\"acceptingIpFilterRule\":null}",
          "iothub-connection-device-id": "Device1",
          "iothub-enqueuedtime": "\"2024-04-16T17:13:53.238Z\"",
          "iothub-message-source": "Telemetry",
          "x-opt-sequence-number-epoch": "-1"
         }
        ],
        [
         "eyJkZXZpY2VfaWQiOiA5LCAidG1wIjogOTgsICJobWR0IjogNjksICJwcnNyZSI6IDQxMywgInRzIjogIjIwMjQtMDQtMTZUMjI6NDM6NTguMjQ0MTQyIiwgInNvdXJjZSI6ICJJb3RIdWIifQ==",
         "2",
         "322488",
         674,
         "2024-04-16T17:13:58.416+0000",
         null,
         null,
         {},
         {
          "iothub-connection-auth-generation-id": "638486236982118213",
          "iothub-connection-auth-method": "{\"scope\":\"device\",\"type\":\"sas\",\"issuer\":\"iothub\",\"acceptingIpFilterRule\":null}",
          "iothub-connection-device-id": "Device1",
          "iothub-enqueuedtime": "\"2024-04-16T17:13:58.424Z\"",
          "iothub-message-source": "Telemetry",
          "x-opt-sequence-number-epoch": "-1"
         }
        ],
        [
         "eyJkZXZpY2VfaWQiOiA1LCAidG1wIjogOTgsICJobWR0IjogNzIsICJwcnNyZSI6IDQyNiwgInRzIjogIjIwMjQtMDQtMTZUMjI6NDQ6MDMuNDM2Mjc0IiwgInNvdXJjZSI6ICJJb3RIdWIifQ==",
         "2",
         "322968",
         675,
         "2024-04-16T17:14:04.042+0000",
         null,
         null,
         {},
         {
          "iothub-connection-auth-generation-id": "638486236982118213",
          "iothub-connection-auth-method": "{\"scope\":\"device\",\"type\":\"sas\",\"issuer\":\"iothub\",\"acceptingIpFilterRule\":null}",
          "iothub-connection-device-id": "Device1",
          "iothub-enqueuedtime": "\"2024-04-16T17:14:04.040Z\"",
          "iothub-message-source": "Telemetry",
          "x-opt-sequence-number-epoch": "-1"
         }
        ],
        [
         "eyJkZXZpY2VfaWQiOiAxMywgInRtcCI6IDEwNiwgImhtZHQiOiA2OSwgInByc3JlIjogNDIzLCAidHMiOiAiMjAyNC0wNC0xNlQyMjo0NDowOS4wNDQxNzkiLCAic291cmNlIjogIklvdEh1YiJ9",
         "2",
         "323448",
         676,
         "2024-04-16T17:14:11.965+0000",
         null,
         null,
         {},
         {
          "iothub-connection-auth-generation-id": "638486236982118213",
          "iothub-connection-auth-method": "{\"scope\":\"device\",\"type\":\"sas\",\"issuer\":\"iothub\",\"acceptingIpFilterRule\":null}",
          "iothub-connection-device-id": "Device1",
          "iothub-enqueuedtime": "\"2024-04-16T17:14:11.796Z\"",
          "iothub-message-source": "Telemetry",
          "x-opt-sequence-number-epoch": "-1"
         }
        ],
        [
         "eyJkZXZpY2VfaWQiOiAxMiwgInRtcCI6IDkwLCAiaG1kdCI6IDY1LCAicHJzcmUiOiA0MDgsICJ0cyI6ICIyMDI0LTA0LTE2VDIyOjQ0OjE2Ljk4ODI4MSIsICJzb3VyY2UiOiAiSW90SHViIn0=",
         "2",
         "323936",
         677,
         "2024-04-16T17:14:17.621+0000",
         null,
         null,
         {},
         {
          "iothub-connection-auth-generation-id": "638486236982118213",
          "iothub-connection-auth-method": "{\"scope\":\"device\",\"type\":\"sas\",\"issuer\":\"iothub\",\"acceptingIpFilterRule\":null}",
          "iothub-connection-device-id": "Device1",
          "iothub-enqueuedtime": "\"2024-04-16T17:14:17.605Z\"",
          "iothub-message-source": "Telemetry",
          "x-opt-sequence-number-epoch": "-1"
         }
        ],
        [
         "eyJkZXZpY2VfaWQiOiA2LCAidG1wIjogMTEyLCAiaG1kdCI6IDY0LCAicHJzcmUiOiA0MDgsICJ0cyI6ICIyMDI0LTA0LTE2VDIyOjQ0OjIyLjYyMjc4OSIsICJzb3VyY2UiOiAiSW90SHViIn0=",
         "2",
         "324416",
         678,
         "2024-04-16T17:14:22.808+0000",
         null,
         null,
         {},
         {
          "iothub-connection-auth-generation-id": "638486236982118213",
          "iothub-connection-auth-method": "{\"scope\":\"device\",\"type\":\"sas\",\"issuer\":\"iothub\",\"acceptingIpFilterRule\":null}",
          "iothub-connection-device-id": "Device1",
          "iothub-enqueuedtime": "\"2024-04-16T17:14:22.803Z\"",
          "iothub-message-source": "Telemetry",
          "x-opt-sequence-number-epoch": "-1"
         }
        ],
        [
         "eyJkZXZpY2VfaWQiOiAxMywgInRtcCI6IDk1LCAiaG1kdCI6IDY3LCAicHJzcmUiOiA0NTUsICJ0cyI6ICIyMDI0LTA0LTE2VDIyOjQ0OjI3LjgxNjI2MSIsICJzb3VyY2UiOiAiSW90SHViIn0=",
         "2",
         "324896",
         679,
         "2024-04-16T17:14:28.434+0000",
         null,
         null,
         {},
         {
          "iothub-connection-auth-generation-id": "638486236982118213",
          "iothub-connection-auth-method": "{\"scope\":\"device\",\"type\":\"sas\",\"issuer\":\"iothub\",\"acceptingIpFilterRule\":null}",
          "iothub-connection-device-id": "Device1",
          "iothub-enqueuedtime": "\"2024-04-16T17:14:28.442Z\"",
          "iothub-message-source": "Telemetry",
          "x-opt-sequence-number-epoch": "-1"
         }
        ],
        [
         "eyJkZXZpY2VfaWQiOiAyLCAidG1wIjogMTE3LCAiaG1kdCI6IDczLCAicHJzcmUiOiA0MzgsICJ0cyI6ICIyMDI0LTA0LTE2VDIyOjQ0OjMzLjQ0MzAyNSIsICJzb3VyY2UiOiAiSW90SHViIn0=",
         "2",
         "325376",
         680,
         "2024-04-16T17:14:33.637+0000",
         null,
         null,
         {},
         {
          "iothub-connection-auth-generation-id": "638486236982118213",
          "iothub-connection-auth-method": "{\"scope\":\"device\",\"type\":\"sas\",\"issuer\":\"iothub\",\"acceptingIpFilterRule\":null}",
          "iothub-connection-device-id": "Device1",
          "iothub-enqueuedtime": "\"2024-04-16T17:14:33.639Z\"",
          "iothub-message-source": "Telemetry",
          "x-opt-sequence-number-epoch": "-1"
         }
        ],
        [
         "eyJkZXZpY2VfaWQiOiA1LCAidG1wIjogOTYsICJobWR0IjogNjUsICJwcnNyZSI6IDQyNCwgInRzIjogIjIwMjQtMDQtMTZUMjI6NDQ6MzguNjQ4MjY0IiwgInNvdXJjZSI6ICJJb3RIdWIifQ==",
         "2",
         "325856",
         681,
         "2024-04-16T17:14:41.418+0000",
         null,
         null,
         {},
         {
          "iothub-connection-auth-generation-id": "638486236982118213",
          "iothub-connection-auth-method": "{\"scope\":\"device\",\"type\":\"sas\",\"issuer\":\"iothub\",\"acceptingIpFilterRule\":null}",
          "iothub-connection-device-id": "Device1",
          "iothub-enqueuedtime": "\"2024-04-16T17:14:41.183Z\"",
          "iothub-message-source": "Telemetry",
          "x-opt-sequence-number-epoch": "-1"
         }
        ],
        [
         "eyJkZXZpY2VfaWQiOiAxNCwgInRtcCI6IDEwNCwgImhtZHQiOiA3NSwgInByc3JlIjogNDgxLCAidHMiOiAiMjAyNC0wNC0xNlQyMjo0NDo0Ni40NTYxNjkiLCAic291cmNlIjogIklvdEh1YiJ9",
         "2",
         "326336",
         682,
         "2024-04-16T17:14:49.434+0000",
         null,
         null,
         {},
         {
          "iothub-connection-auth-generation-id": "638486236982118213",
          "iothub-connection-auth-method": "{\"scope\":\"device\",\"type\":\"sas\",\"issuer\":\"iothub\",\"acceptingIpFilterRule\":null}",
          "iothub-connection-device-id": "Device1",
          "iothub-enqueuedtime": "\"2024-04-16T17:14:49.274Z\"",
          "iothub-message-source": "Telemetry",
          "x-opt-sequence-number-epoch": "-1"
         }
        ],
        [
         "eyJkZXZpY2VfaWQiOiA1LCAidG1wIjogOTgsICJobWR0IjogNjAsICJwcnNyZSI6IDQ1NiwgInRzIjogIjIwMjQtMDQtMTZUMjI6NDQ6NTQuNDMyMjU1IiwgInNvdXJjZSI6ICJJb3RIdWIifQ==",
         "2",
         "326824",
         683,
         "2024-04-16T17:14:54.700+0000",
         null,
         null,
         {},
         {
          "iothub-connection-auth-generation-id": "638486236982118213",
          "iothub-connection-auth-method": "{\"scope\":\"device\",\"type\":\"sas\",\"issuer\":\"iothub\",\"acceptingIpFilterRule\":null}",
          "iothub-connection-device-id": "Device1",
          "iothub-enqueuedtime": "\"2024-04-16T17:14:54.707Z\"",
          "iothub-message-source": "Telemetry",
          "x-opt-sequence-number-epoch": "-1"
         }
        ],
        [
         "eyJkZXZpY2VfaWQiOiAzLCAidG1wIjogMTAzLCAiaG1kdCI6IDc3LCAicHJzcmUiOiA0MjksICJ0cyI6ICIyMDI0LTA0LTE2VDIyOjQ0OjU5LjcxMjI0MSIsICJzb3VyY2UiOiAiSW90SHViIn0=",
         "2",
         "327304",
         684,
         "2024-04-16T17:14:59.981+0000",
         null,
         null,
         {},
         {
          "iothub-connection-auth-generation-id": "638486236982118213",
          "iothub-connection-auth-method": "{\"scope\":\"device\",\"type\":\"sas\",\"issuer\":\"iothub\",\"acceptingIpFilterRule\":null}",
          "iothub-connection-device-id": "Device1",
          "iothub-enqueuedtime": "\"2024-04-16T17:14:59.988Z\"",
          "iothub-message-source": "Telemetry",
          "x-opt-sequence-number-epoch": "-1"
         }
        ],
        [
         "eyJkZXZpY2VfaWQiOiAxNCwgInRtcCI6IDExNSwgImhtZHQiOiA3OCwgInByc3JlIjogNDU4LCAidHMiOiAiMjAyNC0wNC0xNlQyMjo0NTowNS4yNTYyNDkiLCAic291cmNlIjogIklvdEh1YiJ9",
         "2",
         "327784",
         685,
         "2024-04-16T17:15:05.606+0000",
         null,
         null,
         {},
         {
          "iothub-connection-auth-generation-id": "638486236982118213",
          "iothub-connection-auth-method": "{\"scope\":\"device\",\"type\":\"sas\",\"issuer\":\"iothub\",\"acceptingIpFilterRule\":null}",
          "iothub-connection-device-id": "Device1",
          "iothub-enqueuedtime": "\"2024-04-16T17:15:05.609Z\"",
          "iothub-message-source": "Telemetry",
          "x-opt-sequence-number-epoch": "-1"
         }
        ],
        [
         "eyJkZXZpY2VfaWQiOiAxMywgInRtcCI6IDExNCwgImhtZHQiOiA2OSwgInByc3JlIjogNDI3LCAidHMiOiAiMjAyNC0wNC0xNlQyMjo0NToxMC44ODQxNzMiLCAic291cmNlIjogIklvdEh1YiJ9",
         "2",
         "328272",
         686,
         "2024-04-16T17:15:11.091+0000",
         null,
         null,
         {},
         {
          "iothub-connection-auth-generation-id": "638486236982118213",
          "iothub-connection-auth-method": "{\"scope\":\"device\",\"type\":\"sas\",\"issuer\":\"iothub\",\"acceptingIpFilterRule\":null}",
          "iothub-connection-device-id": "Device1",
          "iothub-enqueuedtime": "\"2024-04-16T17:15:11.087Z\"",
          "iothub-message-source": "Telemetry",
          "x-opt-sequence-number-epoch": "-1"
         }
        ],
        [
         "eyJkZXZpY2VfaWQiOiAzLCAidG1wIjogMTE2LCAiaG1kdCI6IDYyLCAicHJzcmUiOiA0MjAsICJ0cyI6ICIyMDI0LTA0LTE2VDIyOjQ1OjE2LjA4NDI2OCIsICJzb3VyY2UiOiAiSW90SHViIn0=",
         "2",
         "328760",
         687,
         "2024-04-16T17:15:16.325+0000",
         null,
         null,
         {},
         {
          "iothub-connection-auth-generation-id": "638486236982118213",
          "iothub-connection-auth-method": "{\"scope\":\"device\",\"type\":\"sas\",\"issuer\":\"iothub\",\"acceptingIpFilterRule\":null}",
          "iothub-connection-device-id": "Device1",
          "iothub-enqueuedtime": "\"2024-04-16T17:15:16.326Z\"",
          "iothub-message-source": "Telemetry",
          "x-opt-sequence-number-epoch": "-1"
         }
        ],
        [
         "eyJkZXZpY2VfaWQiOiA3LCAidG1wIjogMTExLCAiaG1kdCI6IDYxLCAicHJzcmUiOiA0NDksICJ0cyI6ICIyMDI0LTA0LTE2VDIyOjQ1OjIxLjMzMjI4OCIsICJzb3VyY2UiOiAiSW90SHViIn0=",
         "2",
         "329240",
         688,
         "2024-04-16T17:15:21.732+0000",
         null,
         null,
         {},
         {
          "iothub-connection-auth-generation-id": "638486236982118213",
          "iothub-connection-auth-method": "{\"scope\":\"device\",\"type\":\"sas\",\"issuer\":\"iothub\",\"acceptingIpFilterRule\":null}",
          "iothub-connection-device-id": "Device1",
          "iothub-enqueuedtime": "\"2024-04-16T17:15:21.732Z\"",
          "iothub-message-source": "Telemetry",
          "x-opt-sequence-number-epoch": "-1"
         }
        ],
        [
         "eyJkZXZpY2VfaWQiOiAxMywgInRtcCI6IDEwNCwgImhtZHQiOiA3NCwgInByc3JlIjogNDI2LCAidHMiOiAiMjAyNC0wNC0xNlQyMjo0NTozNi45ODQyODUiLCAic291cmNlIjogIklvdEh1YiJ9",
         "2",
         "329720",
         689,
         "2024-04-16T17:15:37.544+0000",
         null,
         null,
         {},
         {
          "iothub-connection-auth-generation-id": "638486236982118213",
          "iothub-connection-auth-method": "{\"scope\":\"device\",\"type\":\"sas\",\"issuer\":\"iothub\",\"acceptingIpFilterRule\":null}",
          "iothub-connection-device-id": "Device1",
          "iothub-enqueuedtime": "\"2024-04-16T17:15:37.539Z\"",
          "iothub-message-source": "Telemetry",
          "x-opt-sequence-number-epoch": "-1"
         }
        ],
        [
         "eyJkZXZpY2VfaWQiOiAxMywgInRtcCI6IDExOCwgImhtZHQiOiA3MCwgInByc3JlIjogNDcxLCAidHMiOiAiMjAyNC0wNC0xNlQyMjo0NTo0Mi41NTIyNTEiLCAic291cmNlIjogIklvdEh1YiJ9",
         "2",
         "330208",
         690,
         "2024-04-16T17:15:42.748+0000",
         null,
         null,
         {},
         {
          "iothub-connection-auth-generation-id": "638486236982118213",
          "iothub-connection-auth-method": "{\"scope\":\"device\",\"type\":\"sas\",\"issuer\":\"iothub\",\"acceptingIpFilterRule\":null}",
          "iothub-connection-device-id": "Device1",
          "iothub-enqueuedtime": "\"2024-04-16T17:15:42.745Z\"",
          "iothub-message-source": "Telemetry",
          "x-opt-sequence-number-epoch": "-1"
         }
        ],
        [
         "eyJkZXZpY2VfaWQiOiAxMiwgInRtcCI6IDEwMywgImhtZHQiOiA2MSwgInByc3JlIjogNDAyLCAidHMiOiAiMjAyNC0wNC0xNlQyMjo0NTo0Ny43NjgyNDkiLCAic291cmNlIjogIklvdEh1YiJ9",
         "2",
         "330696",
         691,
         "2024-04-16T17:15:48.312+0000",
         null,
         null,
         {},
         {
          "iothub-connection-auth-generation-id": "638486236982118213",
          "iothub-connection-auth-method": "{\"scope\":\"device\",\"type\":\"sas\",\"issuer\":\"iothub\",\"acceptingIpFilterRule\":null}",
          "iothub-connection-device-id": "Device1",
          "iothub-enqueuedtime": "\"2024-04-16T17:15:48.317Z\"",
          "iothub-message-source": "Telemetry",
          "x-opt-sequence-number-epoch": "-1"
         }
        ],
        [
         "eyJkZXZpY2VfaWQiOiA5LCAidG1wIjogMTE5LCAiaG1kdCI6IDY2LCAicHJzcmUiOiA0MDksICJ0cyI6ICIyMDI0LTA0LTE2VDIyOjQ1OjUzLjMxNTk3NiIsICJzb3VyY2UiOiAiSW90SHViIn0=",
         "2",
         "331184",
         692,
         "2024-04-16T17:15:53.500+0000",
         null,
         null,
         {},
         {
          "iothub-connection-auth-generation-id": "638486236982118213",
          "iothub-connection-auth-method": "{\"scope\":\"device\",\"type\":\"sas\",\"issuer\":\"iothub\",\"acceptingIpFilterRule\":null}",
          "iothub-connection-device-id": "Device1",
          "iothub-enqueuedtime": "\"2024-04-16T17:15:53.494Z\"",
          "iothub-message-source": "Telemetry",
          "x-opt-sequence-number-epoch": "-1"
         }
        ],
        [
         "eyJkZXZpY2VfaWQiOiA1LCAidG1wIjogMTExLCAiaG1kdCI6IDY2LCAicHJzcmUiOiA0MDQsICJ0cyI6ICIyMDI0LTA0LTE2VDIyOjQ1OjU4LjUwODMwNyIsICJzb3VyY2UiOiAiSW90SHViIn0=",
         "2",
         "331664",
         693,
         "2024-04-16T17:15:59.031+0000",
         null,
         null,
         {},
         {
          "iothub-connection-auth-generation-id": "638486236982118213",
          "iothub-connection-auth-method": "{\"scope\":\"device\",\"type\":\"sas\",\"issuer\":\"iothub\",\"acceptingIpFilterRule\":null}",
          "iothub-connection-device-id": "Device1",
          "iothub-enqueuedtime": "\"2024-04-16T17:15:59.037Z\"",
          "iothub-message-source": "Telemetry",
          "x-opt-sequence-number-epoch": "-1"
         }
        ],
        [
         "eyJkZXZpY2VfaWQiOiA5LCAidG1wIjogMTA3LCAiaG1kdCI6IDc2LCAicHJzcmUiOiA0ODAsICJ0cyI6ICIyMDI0LTA0LTE2VDIyOjQ2OjA0LjA0NDQ4NiIsICJzb3VyY2UiOiAiSW90SHViIn0=",
         "2",
         "332144",
         694,
         "2024-04-16T17:16:04.218+0000",
         null,
         null,
         {},
         {
          "iothub-connection-auth-generation-id": "638486236982118213",
          "iothub-connection-auth-method": "{\"scope\":\"device\",\"type\":\"sas\",\"issuer\":\"iothub\",\"acceptingIpFilterRule\":null}",
          "iothub-connection-device-id": "Device1",
          "iothub-enqueuedtime": "\"2024-04-16T17:16:04.227Z\"",
          "iothub-message-source": "Telemetry",
          "x-opt-sequence-number-epoch": "-1"
         }
        ],
        [
         "eyJkZXZpY2VfaWQiOiA4LCAidG1wIjogMTA2LCAiaG1kdCI6IDY4LCAicHJzcmUiOiA0MzcsICJ0cyI6ICIyMDI0LTA0LTE2VDIyOjQ2OjA5LjIyODE4NiIsICJzb3VyY2UiOiAiSW90SHViIn0=",
         "2",
         "332624",
         695,
         "2024-04-16T17:16:09.485+0000",
         null,
         null,
         {},
         {
          "iothub-connection-auth-generation-id": "638486236982118213",
          "iothub-connection-auth-method": "{\"scope\":\"device\",\"type\":\"sas\",\"issuer\":\"iothub\",\"acceptingIpFilterRule\":null}",
          "iothub-connection-device-id": "Device1",
          "iothub-enqueuedtime": "\"2024-04-16T17:16:09.485Z\"",
          "iothub-message-source": "Telemetry",
          "x-opt-sequence-number-epoch": "-1"
         }
        ],
        [
         "eyJkZXZpY2VfaWQiOiA0LCAidG1wIjogOTIsICJobWR0IjogNzcsICJwcnNyZSI6IDQ1NiwgInRzIjogIjIwMjQtMDQtMTZUMjI6NDY6MTQuNTAwMjE0IiwgInNvdXJjZSI6ICJJb3RIdWIifQ==",
         "2",
         "333104",
         696,
         "2024-04-16T17:16:14.704+0000",
         null,
         null,
         {},
         {
          "iothub-connection-auth-generation-id": "638486236982118213",
          "iothub-connection-auth-method": "{\"scope\":\"device\",\"type\":\"sas\",\"issuer\":\"iothub\",\"acceptingIpFilterRule\":null}",
          "iothub-connection-device-id": "Device1",
          "iothub-enqueuedtime": "\"2024-04-16T17:16:14.704Z\"",
          "iothub-message-source": "Telemetry",
          "x-opt-sequence-number-epoch": "-1"
         }
        ],
        [
         "eyJkZXZpY2VfaWQiOiAzLCAidG1wIjogMTE1LCAiaG1kdCI6IDc5LCAicHJzcmUiOiA0NjYsICJ0cyI6ICIyMDI0LTA0LTE2VDIyOjQ2OjE5LjczNjI2MCIsICJzb3VyY2UiOiAiSW90SHViIn0=",
         "2",
         "333584",
         697,
         "2024-04-16T17:16:20.533+0000",
         null,
         null,
         {},
         {
          "iothub-connection-auth-generation-id": "638486236982118213",
          "iothub-connection-auth-method": "{\"scope\":\"device\",\"type\":\"sas\",\"issuer\":\"iothub\",\"acceptingIpFilterRule\":null}",
          "iothub-connection-device-id": "Device1",
          "iothub-enqueuedtime": "\"2024-04-16T17:16:20.525Z\"",
          "iothub-message-source": "Telemetry",
          "x-opt-sequence-number-epoch": "-1"
         }
        ],
        [
         "eyJkZXZpY2VfaWQiOiA5LCAidG1wIjogOTIsICJobWR0IjogNjYsICJwcnNyZSI6IDQ4NiwgInRzIjogIjIwMjQtMDQtMTZUMjI6NDY6MjUuNTM3NDQ5IiwgInNvdXJjZSI6ICJJb3RIdWIifQ==",
         "2",
         "334064",
         698,
         "2024-04-16T17:16:25.736+0000",
         null,
         null,
         {},
         {
          "iothub-connection-auth-generation-id": "638486236982118213",
          "iothub-connection-auth-method": "{\"scope\":\"device\",\"type\":\"sas\",\"issuer\":\"iothub\",\"acceptingIpFilterRule\":null}",
          "iothub-connection-device-id": "Device1",
          "iothub-enqueuedtime": "\"2024-04-16T17:16:25.731Z\"",
          "iothub-message-source": "Telemetry",
          "x-opt-sequence-number-epoch": "-1"
         }
        ],
        [
         "eyJkZXZpY2VfaWQiOiA1LCAidG1wIjogMTEzLCAiaG1kdCI6IDYxLCAicHJzcmUiOiA0NzQsICJ0cyI6ICIyMDI0LTA0LTE2VDIyOjQ2OjMwLjc0ODE4MiIsICJzb3VyY2UiOiAiSW90SHViIn0=",
         "2",
         "334544",
         699,
         "2024-04-16T17:16:30.986+0000",
         null,
         null,
         {},
         {
          "iothub-connection-auth-generation-id": "638486236982118213",
          "iothub-connection-auth-method": "{\"scope\":\"device\",\"type\":\"sas\",\"issuer\":\"iothub\",\"acceptingIpFilterRule\":null}",
          "iothub-connection-device-id": "Device1",
          "iothub-enqueuedtime": "\"2024-04-16T17:16:30.981Z\"",
          "iothub-message-source": "Telemetry",
          "x-opt-sequence-number-epoch": "-1"
         }
        ],
        [
         "eyJkZXZpY2VfaWQiOiAxNCwgInRtcCI6IDExMCwgImhtZHQiOiA2NiwgInByc3JlIjogNDA2LCAidHMiOiAiMjAyNC0wNC0xNlQyMjo0NjozNS45ODQyMDciLCAic291cmNlIjogIklvdEh1YiJ9",
         "2",
         "335024",
         700,
         "2024-04-16T17:16:36.158+0000",
         null,
         null,
         {},
         {
          "iothub-connection-auth-generation-id": "638486236982118213",
          "iothub-connection-auth-method": "{\"scope\":\"device\",\"type\":\"sas\",\"issuer\":\"iothub\",\"acceptingIpFilterRule\":null}",
          "iothub-connection-device-id": "Device1",
          "iothub-enqueuedtime": "\"2024-04-16T17:16:36.167Z\"",
          "iothub-message-source": "Telemetry",
          "x-opt-sequence-number-epoch": "-1"
         }
        ],
        [
         "eyJkZXZpY2VfaWQiOiA0LCAidG1wIjogMTA0LCAiaG1kdCI6IDcwLCAicHJzcmUiOiA0MjEsICJ0cyI6ICIyMDI0LTA0LTE2VDIyOjQ2OjQxLjE2NDEzNCIsICJzb3VyY2UiOiAiSW90SHViIn0=",
         "2",
         "335512",
         701,
         "2024-04-16T17:16:41.674+0000",
         null,
         null,
         {},
         {
          "iothub-connection-auth-generation-id": "638486236982118213",
          "iothub-connection-auth-method": "{\"scope\":\"device\",\"type\":\"sas\",\"issuer\":\"iothub\",\"acceptingIpFilterRule\":null}",
          "iothub-connection-device-id": "Device1",
          "iothub-enqueuedtime": "\"2024-04-16T17:16:41.686Z\"",
          "iothub-message-source": "Telemetry",
          "x-opt-sequence-number-epoch": "-1"
         }
        ],
        [
         "eyJkZXZpY2VfaWQiOiA2LCAidG1wIjogMTA4LCAiaG1kdCI6IDc2LCAicHJzcmUiOiA0NDUsICJ0cyI6ICIyMDI0LTA0LTE2VDIyOjQ2OjQ2LjY4NDE4NCIsICJzb3VyY2UiOiAiSW90SHViIn0=",
         "2",
         "335992",
         702,
         "2024-04-16T17:16:46.861+0000",
         null,
         null,
         {},
         {
          "iothub-connection-auth-generation-id": "638486236982118213",
          "iothub-connection-auth-method": "{\"scope\":\"device\",\"type\":\"sas\",\"issuer\":\"iothub\",\"acceptingIpFilterRule\":null}",
          "iothub-connection-device-id": "Device1",
          "iothub-enqueuedtime": "\"2024-04-16T17:16:46.874Z\"",
          "iothub-message-source": "Telemetry",
          "x-opt-sequence-number-epoch": "-1"
         }
        ],
        [
         "eyJkZXZpY2VfaWQiOiA2LCAidG1wIjogOTksICJobWR0IjogNjIsICJwcnNyZSI6IDQ2NiwgInRzIjogIjIwMjQtMDQtMTZUMjI6NDY6NTEuODY4MjAyIiwgInNvdXJjZSI6ICJJb3RIdWIifQ==",
         "2",
         "336472",
         703,
         "2024-04-16T17:16:55.004+0000",
         null,
         null,
         {},
         {
          "iothub-connection-auth-generation-id": "638486236982118213",
          "iothub-connection-auth-method": "{\"scope\":\"device\",\"type\":\"sas\",\"issuer\":\"iothub\",\"acceptingIpFilterRule\":null}",
          "iothub-connection-device-id": "Device1",
          "iothub-enqueuedtime": "\"2024-04-16T17:16:54.685Z\"",
          "iothub-message-source": "Telemetry",
          "x-opt-sequence-number-epoch": "-1"
         }
        ],
        [
         "eyJkZXZpY2VfaWQiOiA3LCAidG1wIjogOTYsICJobWR0IjogNzcsICJwcnNyZSI6IDQyMCwgInRzIjogIjIwMjQtMDQtMTZUMjI6NDc6MDAuMDEyMTgzIiwgInNvdXJjZSI6ICJJb3RIdWIifQ==",
         "2",
         "336952",
         704,
         "2024-04-16T17:17:00.191+0000",
         null,
         null,
         {},
         {
          "iothub-connection-auth-generation-id": "638486236982118213",
          "iothub-connection-auth-method": "{\"scope\":\"device\",\"type\":\"sas\",\"issuer\":\"iothub\",\"acceptingIpFilterRule\":null}",
          "iothub-connection-device-id": "Device1",
          "iothub-enqueuedtime": "\"2024-04-16T17:17:00.190Z\"",
          "iothub-message-source": "Telemetry",
          "x-opt-sequence-number-epoch": "-1"
         }
        ],
        [
         "eyJkZXZpY2VfaWQiOiA5LCAidG1wIjogMTA0LCAiaG1kdCI6IDcyLCAicHJzcmUiOiA0MDcsICJ0cyI6ICIyMDI0LTA0LTE2VDIyOjQ3OjA1LjE5NjE2NiIsICJzb3VyY2UiOiAiSW90SHViIn0=",
         "2",
         "337432",
         705,
         "2024-04-16T17:17:05.691+0000",
         null,
         null,
         {},
         {
          "iothub-connection-auth-generation-id": "638486236982118213",
          "iothub-connection-auth-method": "{\"scope\":\"device\",\"type\":\"sas\",\"issuer\":\"iothub\",\"acceptingIpFilterRule\":null}",
          "iothub-connection-device-id": "Device1",
          "iothub-enqueuedtime": "\"2024-04-16T17:17:05.686Z\"",
          "iothub-message-source": "Telemetry",
          "x-opt-sequence-number-epoch": "-1"
         }
        ],
        [
         "eyJkZXZpY2VfaWQiOiAxLCAidG1wIjogOTQsICJobWR0IjogNzEsICJwcnNyZSI6IDQ5MywgInRzIjogIjIwMjQtMDQtMTZUMjI6NDc6MTAuNjg4MjAxIiwgInNvdXJjZSI6ICJJb3RIdWIifQ==",
         "2",
         "337912",
         706,
         "2024-04-16T17:17:10.896+0000",
         null,
         null,
         {},
         {
          "iothub-connection-auth-generation-id": "638486236982118213",
          "iothub-connection-auth-method": "{\"scope\":\"device\",\"type\":\"sas\",\"issuer\":\"iothub\",\"acceptingIpFilterRule\":null}",
          "iothub-connection-device-id": "Device1",
          "iothub-enqueuedtime": "\"2024-04-16T17:17:10.904Z\"",
          "iothub-message-source": "Telemetry",
          "x-opt-sequence-number-epoch": "-1"
         }
        ],
        [
         "eyJkZXZpY2VfaWQiOiA2LCAidG1wIjogOTIsICJobWR0IjogNjUsICJwcnNyZSI6IDQ3OCwgInRzIjogIjIwMjQtMDQtMTZUMjI6NDc6MTUuOTA0MTgyIiwgInNvdXJjZSI6ICJJb3RIdWIifQ==",
         "2",
         "338392",
         707,
         "2024-04-16T17:17:16.146+0000",
         null,
         null,
         {},
         {
          "iothub-connection-auth-generation-id": "638486236982118213",
          "iothub-connection-auth-method": "{\"scope\":\"device\",\"type\":\"sas\",\"issuer\":\"iothub\",\"acceptingIpFilterRule\":null}",
          "iothub-connection-device-id": "Device1",
          "iothub-enqueuedtime": "\"2024-04-16T17:17:16.136Z\"",
          "iothub-message-source": "Telemetry",
          "x-opt-sequence-number-epoch": "-1"
         }
        ],
        [
         "eyJkZXZpY2VfaWQiOiAxMywgInRtcCI6IDExMCwgImhtZHQiOiA3NCwgInByc3JlIjogNDYyLCAidHMiOiAiMjAyNC0wNC0xNlQyMjo0NzoyMS4xNDAxODEiLCAic291cmNlIjogIklvdEh1YiJ9",
         "2",
         "338872",
         708,
         "2024-04-16T17:17:21.552+0000",
         null,
         null,
         {},
         {
          "iothub-connection-auth-generation-id": "638486236982118213",
          "iothub-connection-auth-method": "{\"scope\":\"device\",\"type\":\"sas\",\"issuer\":\"iothub\",\"acceptingIpFilterRule\":null}",
          "iothub-connection-device-id": "Device1",
          "iothub-enqueuedtime": "\"2024-04-16T17:17:21.553Z\"",
          "iothub-message-source": "Telemetry",
          "x-opt-sequence-number-epoch": "-1"
         }
        ],
        [
         "eyJkZXZpY2VfaWQiOiA2LCAidG1wIjogMTEzLCAiaG1kdCI6IDc1LCAicHJzcmUiOiA0NTgsICJ0cyI6ICIyMDI0LTA0LTE2VDIyOjQ3OjI2LjU1NDExOCIsICJzb3VyY2UiOiAiSW90SHViIn0=",
         "2",
         "339360",
         709,
         "2024-04-16T17:17:26.943+0000",
         null,
         null,
         {},
         {
          "iothub-connection-auth-generation-id": "638486236982118213",
          "iothub-connection-auth-method": "{\"scope\":\"device\",\"type\":\"sas\",\"issuer\":\"iothub\",\"acceptingIpFilterRule\":null}",
          "iothub-connection-device-id": "Device1",
          "iothub-enqueuedtime": "\"2024-04-16T17:17:26.935Z\"",
          "iothub-message-source": "Telemetry",
          "x-opt-sequence-number-epoch": "-1"
         }
        ],
        [
         "eyJkZXZpY2VfaWQiOiA5LCAidG1wIjogMTAwLCAiaG1kdCI6IDc1LCAicHJzcmUiOiA0OTcsICJ0cyI6ICIyMDI0LTA0LTE2VDIyOjQ3OjMxLjk0MDI2OCIsICJzb3VyY2UiOiAiSW90SHViIn0=",
         "2",
         "339840",
         710,
         "2024-04-16T17:17:32.177+0000",
         null,
         null,
         {},
         {
          "iothub-connection-auth-generation-id": "638486236982118213",
          "iothub-connection-auth-method": "{\"scope\":\"device\",\"type\":\"sas\",\"issuer\":\"iothub\",\"acceptingIpFilterRule\":null}",
          "iothub-connection-device-id": "Device1",
          "iothub-enqueuedtime": "\"2024-04-16T17:17:32.179Z\"",
          "iothub-message-source": "Telemetry",
          "x-opt-sequence-number-epoch": "-1"
         }
        ],
        [
         "eyJkZXZpY2VfaWQiOiA5LCAidG1wIjogMTE5LCAiaG1kdCI6IDc2LCAicHJzcmUiOiA0MTEsICJ0cyI6ICIyMDI0LTA0LTE2VDIyOjQ3OjM3LjE4MDIxOSIsICJzb3VyY2UiOiAiSW90SHViIn0=",
         "2",
         "340320",
         711,
         "2024-04-16T17:17:37.380+0000",
         null,
         null,
         {},
         {
          "iothub-connection-auth-generation-id": "638486236982118213",
          "iothub-connection-auth-method": "{\"scope\":\"device\",\"type\":\"sas\",\"issuer\":\"iothub\",\"acceptingIpFilterRule\":null}",
          "iothub-connection-device-id": "Device1",
          "iothub-enqueuedtime": "\"2024-04-16T17:17:37.376Z\"",
          "iothub-message-source": "Telemetry",
          "x-opt-sequence-number-epoch": "-1"
         }
        ],
        [
         "eyJkZXZpY2VfaWQiOiAxLCAidG1wIjogMTA3LCAiaG1kdCI6IDY1LCAicHJzcmUiOiA0MTMsICJ0cyI6ICIyMDI0LTA0LTE2VDIyOjQ3OjQyLjM4MTU3OSIsICJzb3VyY2UiOiAiSW90SHViIn0=",
         "2",
         "340800",
         712,
         "2024-04-16T17:17:42.662+0000",
         null,
         null,
         {},
         {
          "iothub-connection-auth-generation-id": "638486236982118213",
          "iothub-connection-auth-method": "{\"scope\":\"device\",\"type\":\"sas\",\"issuer\":\"iothub\",\"acceptingIpFilterRule\":null}",
          "iothub-connection-device-id": "Device1",
          "iothub-enqueuedtime": "\"2024-04-16T17:17:42.658Z\"",
          "iothub-message-source": "Telemetry",
          "x-opt-sequence-number-epoch": "-1"
         }
        ],
        [
         "eyJkZXZpY2VfaWQiOiA5LCAidG1wIjogMTE5LCAiaG1kdCI6IDcxLCAicHJzcmUiOiA0MjYsICJ0cyI6ICIyMDI0LTA0LTE2VDIyOjQ3OjQ3LjY2ODIwMCIsICJzb3VyY2UiOiAiSW90SHViIn0=",
         "2",
         "341280",
         713,
         "2024-04-16T17:17:47.849+0000",
         null,
         null,
         {},
         {
          "iothub-connection-auth-generation-id": "638486236982118213",
          "iothub-connection-auth-method": "{\"scope\":\"device\",\"type\":\"sas\",\"issuer\":\"iothub\",\"acceptingIpFilterRule\":null}",
          "iothub-connection-device-id": "Device1",
          "iothub-enqueuedtime": "\"2024-04-16T17:17:47.845Z\"",
          "iothub-message-source": "Telemetry",
          "x-opt-sequence-number-epoch": "-1"
         }
        ],
        [
         "eyJkZXZpY2VfaWQiOiAzLCAidG1wIjogOTcsICJobWR0IjogNzEsICJwcnNyZSI6IDQ4NiwgInRzIjogIjIwMjQtMDQtMTZUMjI6NDc6NTIuODQ5OTQ5IiwgInNvdXJjZSI6ICJJb3RIdWIifQ==",
         "2",
         "341760",
         714,
         "2024-04-16T17:17:53.615+0000",
         null,
         null,
         {},
         {
          "iothub-connection-auth-generation-id": "638486236982118213",
          "iothub-connection-auth-method": "{\"scope\":\"device\",\"type\":\"sas\",\"issuer\":\"iothub\",\"acceptingIpFilterRule\":null}",
          "iothub-connection-device-id": "Device1",
          "iothub-enqueuedtime": "\"2024-04-16T17:17:53.617Z\"",
          "iothub-message-source": "Telemetry",
          "x-opt-sequence-number-epoch": "-1"
         }
        ],
        [
         "eyJkZXZpY2VfaWQiOiAxNCwgInRtcCI6IDExNywgImhtZHQiOiA3MywgInByc3JlIjogNDk5LCAidHMiOiAiMjAyNC0wNC0xNlQyMjo0Nzo1OC42MjgyNjMiLCAic291cmNlIjogIklvdEh1YiJ9",
         "2",
         "342240",
         715,
         "2024-04-16T17:17:58.818+0000",
         null,
         null,
         {},
         {
          "iothub-connection-auth-generation-id": "638486236982118213",
          "iothub-connection-auth-method": "{\"scope\":\"device\",\"type\":\"sas\",\"issuer\":\"iothub\",\"acceptingIpFilterRule\":null}",
          "iothub-connection-device-id": "Device1",
          "iothub-enqueuedtime": "\"2024-04-16T17:17:58.824Z\"",
          "iothub-message-source": "Telemetry",
          "x-opt-sequence-number-epoch": "-1"
         }
        ],
        [
         "eyJkZXZpY2VfaWQiOiA4LCAidG1wIjogMTA1LCAiaG1kdCI6IDY1LCAicHJzcmUiOiA0NTMsICJ0cyI6ICIyMDI0LTA0LTE2VDIyOjQ4OjAzLjgyNjc3OCIsICJzb3VyY2UiOiAiSW90SHViIn0=",
         "2",
         "342728",
         716,
         "2024-04-16T17:18:04.193+0000",
         null,
         null,
         {},
         {
          "iothub-connection-auth-generation-id": "638486236982118213",
          "iothub-connection-auth-method": "{\"scope\":\"device\",\"type\":\"sas\",\"issuer\":\"iothub\",\"acceptingIpFilterRule\":null}",
          "iothub-connection-device-id": "Device1",
          "iothub-enqueuedtime": "\"2024-04-16T17:18:04.188Z\"",
          "iothub-message-source": "Telemetry",
          "x-opt-sequence-number-epoch": "-1"
         }
        ],
        [
         "eyJkZXZpY2VfaWQiOiA0LCAidG1wIjogMTE1LCAiaG1kdCI6IDY5LCAicHJzcmUiOiA0NTQsICJ0cyI6ICIyMDI0LTA0LTE2VDIyOjQ4OjA5LjIwMTAxMSIsICJzb3VyY2UiOiAiSW90SHViIn0=",
         "2",
         "343208",
         717,
         "2024-04-16T17:18:09.396+0000",
         null,
         null,
         {},
         {
          "iothub-connection-auth-generation-id": "638486236982118213",
          "iothub-connection-auth-method": "{\"scope\":\"device\",\"type\":\"sas\",\"issuer\":\"iothub\",\"acceptingIpFilterRule\":null}",
          "iothub-connection-device-id": "Device1",
          "iothub-enqueuedtime": "\"2024-04-16T17:18:09.380Z\"",
          "iothub-message-source": "Telemetry",
          "x-opt-sequence-number-epoch": "-1"
         }
        ],
        [
         "eyJkZXZpY2VfaWQiOiAxMiwgInRtcCI6IDExNCwgImhtZHQiOiA2NiwgInByc3JlIjogNDEyLCAidHMiOiAiMjAyNC0wNC0xNlQyMjo0ODoxNC4zOTY3MjMiLCAic291cmNlIjogIklvdEh1YiJ9",
         "2",
         "343688",
         718,
         "2024-04-16T17:18:14.725+0000",
         null,
         null,
         {},
         {
          "iothub-connection-auth-generation-id": "638486236982118213",
          "iothub-connection-auth-method": "{\"scope\":\"device\",\"type\":\"sas\",\"issuer\":\"iothub\",\"acceptingIpFilterRule\":null}",
          "iothub-connection-device-id": "Device1",
          "iothub-enqueuedtime": "\"2024-04-16T17:18:14.721Z\"",
          "iothub-message-source": "Telemetry",
          "x-opt-sequence-number-epoch": "-1"
         }
        ],
        [
         "eyJkZXZpY2VfaWQiOiA4LCAidG1wIjogMTE1LCAiaG1kdCI6IDczLCAicHJzcmUiOiA0NjksICJ0cyI6ICIyMDI0LTA0LTE2VDIyOjQ4OjE5Ljc0MDIzNSIsICJzb3VyY2UiOiAiSW90SHViIn0=",
         "2",
         "344176",
         719,
         "2024-04-16T17:18:19.944+0000",
         null,
         null,
         {},
         {
          "iothub-connection-auth-generation-id": "638486236982118213",
          "iothub-connection-auth-method": "{\"scope\":\"device\",\"type\":\"sas\",\"issuer\":\"iothub\",\"acceptingIpFilterRule\":null}",
          "iothub-connection-device-id": "Device1",
          "iothub-enqueuedtime": "\"2024-04-16T17:18:19.952Z\"",
          "iothub-message-source": "Telemetry",
          "x-opt-sequence-number-epoch": "-1"
         }
        ],
        [
         "eyJkZXZpY2VfaWQiOiAxLCAidG1wIjogMTE2LCAiaG1kdCI6IDc1LCAicHJzcmUiOiA0MzcsICJ0cyI6ICIyMDI0LTA0LTE2VDIyOjQ4OjI0Ljk1MjMyNyIsICJzb3VyY2UiOiAiSW90SHViIn0=",
         "2",
         "344656",
         720,
         "2024-04-16T17:18:25.475+0000",
         null,
         null,
         {},
         {
          "iothub-connection-auth-generation-id": "638486236982118213",
          "iothub-connection-auth-method": "{\"scope\":\"device\",\"type\":\"sas\",\"issuer\":\"iothub\",\"acceptingIpFilterRule\":null}",
          "iothub-connection-device-id": "Device1",
          "iothub-enqueuedtime": "\"2024-04-16T17:18:25.477Z\"",
          "iothub-message-source": "Telemetry",
          "x-opt-sequence-number-epoch": "-1"
         }
        ],
        [
         "eyJkZXZpY2VfaWQiOiA5LCAidG1wIjogOTgsICJobWR0IjogNzYsICJwcnNyZSI6IDQ4NCwgInRzIjogIjIwMjQtMDQtMTZUMjI6NDg6MzAuNDgyODcwIiwgInNvdXJjZSI6ICJJb3RIdWIifQ==",
         "2",
         "345136",
         721,
         "2024-04-16T17:18:30.679+0000",
         null,
         null,
         {},
         {
          "iothub-connection-auth-generation-id": "638486236982118213",
          "iothub-connection-auth-method": "{\"scope\":\"device\",\"type\":\"sas\",\"issuer\":\"iothub\",\"acceptingIpFilterRule\":null}",
          "iothub-connection-device-id": "Device1",
          "iothub-enqueuedtime": "\"2024-04-16T17:18:30.663Z\"",
          "iothub-message-source": "Telemetry",
          "x-opt-sequence-number-epoch": "-1"
         }
        ],
        [
         "eyJkZXZpY2VfaWQiOiAxMiwgInRtcCI6IDExOCwgImhtZHQiOiA2MCwgInByc3JlIjogNDk0LCAidHMiOiAiMjAyNC0wNC0xNlQyMjo0ODozNS42NzYxODIiLCAic291cmNlIjogIklvdEh1YiJ9",
         "2",
         "345616",
         722,
         "2024-04-16T17:18:35.929+0000",
         null,
         null,
         {},
         {
          "iothub-connection-auth-generation-id": "638486236982118213",
          "iothub-connection-auth-method": "{\"scope\":\"device\",\"type\":\"sas\",\"issuer\":\"iothub\",\"acceptingIpFilterRule\":null}",
          "iothub-connection-device-id": "Device1",
          "iothub-enqueuedtime": "\"2024-04-16T17:18:35.927Z\"",
          "iothub-message-source": "Telemetry",
          "x-opt-sequence-number-epoch": "-1"
         }
        ],
        [
         "eyJkZXZpY2VfaWQiOiAxLCAidG1wIjogOTQsICJobWR0IjogNzMsICJwcnNyZSI6IDQ1NSwgInRzIjogIjIwMjQtMDQtMTZUMjI6NDg6NDAuOTM2MjgwIiwgInNvdXJjZSI6ICJJb3RIdWIifQ==",
         "2",
         "346104",
         723,
         "2024-04-16T17:18:41.384+0000",
         null,
         null,
         {},
         {
          "iothub-connection-auth-generation-id": "638486236982118213",
          "iothub-connection-auth-method": "{\"scope\":\"device\",\"type\":\"sas\",\"issuer\":\"iothub\",\"acceptingIpFilterRule\":null}",
          "iothub-connection-device-id": "Device1",
          "iothub-enqueuedtime": "\"2024-04-16T17:18:41.375Z\"",
          "iothub-message-source": "Telemetry",
          "x-opt-sequence-number-epoch": "-1"
         }
        ],
        [
         "eyJkZXZpY2VfaWQiOiA0LCAidG1wIjogMTE0LCAiaG1kdCI6IDczLCAicHJzcmUiOiA0MzAsICJ0cyI6ICIyMDI0LTA0LTE2VDIyOjQ4OjQ2LjM4MDI0NSIsICJzb3VyY2UiOiAiSW90SHViIn0=",
         "2",
         "346584",
         724,
         "2024-04-16T17:18:46.634+0000",
         null,
         null,
         {},
         {
          "iothub-connection-auth-generation-id": "638486236982118213",
          "iothub-connection-auth-method": "{\"scope\":\"device\",\"type\":\"sas\",\"issuer\":\"iothub\",\"acceptingIpFilterRule\":null}",
          "iothub-connection-device-id": "Device1",
          "iothub-enqueuedtime": "\"2024-04-16T17:18:46.633Z\"",
          "iothub-message-source": "Telemetry",
          "x-opt-sequence-number-epoch": "-1"
         }
        ],
        [
         "eyJkZXZpY2VfaWQiOiAzLCAidG1wIjogOTksICJobWR0IjogNzMsICJwcnNyZSI6IDQxNSwgInRzIjogIjIwMjQtMDQtMTZUMjI6NDg6NTEuNjQ1MjYzIiwgInNvdXJjZSI6ICJJb3RIdWIifQ==",
         "2",
         "347064",
         725,
         "2024-04-16T17:18:51.854+0000",
         null,
         null,
         {},
         {
          "iothub-connection-auth-generation-id": "638486236982118213",
          "iothub-connection-auth-method": "{\"scope\":\"device\",\"type\":\"sas\",\"issuer\":\"iothub\",\"acceptingIpFilterRule\":null}",
          "iothub-connection-device-id": "Device1",
          "iothub-enqueuedtime": "\"2024-04-16T17:18:51.852Z\"",
          "iothub-message-source": "Telemetry",
          "x-opt-sequence-number-epoch": "-1"
         }
        ],
        [
         "eyJkZXZpY2VfaWQiOiAxNCwgInRtcCI6IDk3LCAiaG1kdCI6IDY2LCAicHJzcmUiOiA0OTcsICJ0cyI6ICIyMDI0LTA0LTE2VDIyOjQ4OjU2Ljg1NzgyNyIsICJzb3VyY2UiOiAiSW90SHViIn0=",
         "2",
         "347544",
         726,
         "2024-04-16T17:18:57.307+0000",
         null,
         null,
         {},
         {
          "iothub-connection-auth-generation-id": "638486236982118213",
          "iothub-connection-auth-method": "{\"scope\":\"device\",\"type\":\"sas\",\"issuer\":\"iothub\",\"acceptingIpFilterRule\":null}",
          "iothub-connection-device-id": "Device1",
          "iothub-enqueuedtime": "\"2024-04-16T17:18:57.312Z\"",
          "iothub-message-source": "Telemetry",
          "x-opt-sequence-number-epoch": "-1"
         }
        ],
        [
         "eyJkZXZpY2VfaWQiOiAxMywgInRtcCI6IDExMywgImhtZHQiOiA2NSwgInByc3JlIjogNDc4LCAidHMiOiAiMjAyNC0wNC0xNlQyMjo0OTowMi4zMTA0NDkiLCAic291cmNlIjogIklvdEh1YiJ9",
         "2",
         "348024",
         727,
         "2024-04-16T17:19:02.729+0000",
         null,
         null,
         {},
         {
          "iothub-connection-auth-generation-id": "638486236982118213",
          "iothub-connection-auth-method": "{\"scope\":\"device\",\"type\":\"sas\",\"issuer\":\"iothub\",\"acceptingIpFilterRule\":null}",
          "iothub-connection-device-id": "Device1",
          "iothub-enqueuedtime": "\"2024-04-16T17:19:02.741Z\"",
          "iothub-message-source": "Telemetry",
          "x-opt-sequence-number-epoch": "-1"
         }
        ],
        [
         "eyJkZXZpY2VfaWQiOiA3LCAidG1wIjogOTIsICJobWR0IjogNjQsICJwcnNyZSI6IDQ0NCwgInRzIjogIjIwMjQtMDQtMTZUMjI6NDk6MDcuNzMyMTg0IiwgInNvdXJjZSI6ICJJb3RIdWIifQ==",
         "2",
         "348512",
         728,
         "2024-04-16T17:19:08.606+0000",
         null,
         null,
         {},
         {
          "iothub-connection-auth-generation-id": "638486236982118213",
          "iothub-connection-auth-method": "{\"scope\":\"device\",\"type\":\"sas\",\"issuer\":\"iothub\",\"acceptingIpFilterRule\":null}",
          "iothub-connection-device-id": "Device1",
          "iothub-enqueuedtime": "\"2024-04-16T17:19:08.600Z\"",
          "iothub-message-source": "Telemetry",
          "x-opt-sequence-number-epoch": "-1"
         }
        ],
        [
         "eyJkZXZpY2VfaWQiOiA5LCAidG1wIjogMTA4LCAiaG1kdCI6IDYwLCAicHJzcmUiOiA0MTMsICJ0cyI6ICIyMDI0LTA0LTE2VDIyOjQ5OjEzLjYxMjI1OCIsICJzb3VyY2UiOiAiSW90SHViIn0=",
         "2",
         "348992",
         729,
         "2024-04-16T17:19:13.809+0000",
         null,
         null,
         {},
         {
          "iothub-connection-auth-generation-id": "638486236982118213",
          "iothub-connection-auth-method": "{\"scope\":\"device\",\"type\":\"sas\",\"issuer\":\"iothub\",\"acceptingIpFilterRule\":null}",
          "iothub-connection-device-id": "Device1",
          "iothub-enqueuedtime": "\"2024-04-16T17:19:13.815Z\"",
          "iothub-message-source": "Telemetry",
          "x-opt-sequence-number-epoch": "-1"
         }
        ],
        [
         "eyJkZXZpY2VfaWQiOiAxNCwgInRtcCI6IDExMiwgImhtZHQiOiA3NSwgInByc3JlIjogNDQ0LCAidHMiOiAiMjAyNC0wNC0xNlQyMjo0OToxOC44MjAyNzgiLCAic291cmNlIjogIklvdEh1YiJ9",
         "2",
         "349472",
         730,
         "2024-04-16T17:19:20.278+0000",
         null,
         null,
         {},
         {
          "iothub-connection-auth-generation-id": "638486236982118213",
          "iothub-connection-auth-method": "{\"scope\":\"device\",\"type\":\"sas\",\"issuer\":\"iothub\",\"acceptingIpFilterRule\":null}",
          "iothub-connection-device-id": "Device1",
          "iothub-enqueuedtime": "\"2024-04-16T17:19:20.282Z\"",
          "iothub-message-source": "Telemetry",
          "x-opt-sequence-number-epoch": "-1"
         }
        ],
        [
         "eyJkZXZpY2VfaWQiOiA5LCAidG1wIjogMTAxLCAiaG1kdCI6IDY1LCAicHJzcmUiOiA0ODgsICJ0cyI6ICIyMDI0LTA0LTE2VDIyOjQ5OjI1LjI5NjIyMSIsICJzb3VyY2UiOiAiSW90SHViIn0=",
         "2",
         "349960",
         731,
         "2024-04-16T17:19:25.481+0000",
         null,
         null,
         {},
         {
          "iothub-connection-auth-generation-id": "638486236982118213",
          "iothub-connection-auth-method": "{\"scope\":\"device\",\"type\":\"sas\",\"issuer\":\"iothub\",\"acceptingIpFilterRule\":null}",
          "iothub-connection-device-id": "Device1",
          "iothub-enqueuedtime": "\"2024-04-16T17:19:25.478Z\"",
          "iothub-message-source": "Telemetry",
          "x-opt-sequence-number-epoch": "-1"
         }
        ],
        [
         "eyJkZXZpY2VfaWQiOiA1LCAidG1wIjogMTE2LCAiaG1kdCI6IDY3LCAicHJzcmUiOiA0MTgsICJ0cyI6ICIyMDI0LTA0LTE2VDIyOjQ5OjMwLjQ4ODM4MCIsICJzb3VyY2UiOiAiSW90SHViIn0=",
         "2",
         "350440",
         732,
         "2024-04-16T17:19:31.262+0000",
         null,
         null,
         {},
         {
          "iothub-connection-auth-generation-id": "638486236982118213",
          "iothub-connection-auth-method": "{\"scope\":\"device\",\"type\":\"sas\",\"issuer\":\"iothub\",\"acceptingIpFilterRule\":null}",
          "iothub-connection-device-id": "Device1",
          "iothub-enqueuedtime": "\"2024-04-16T17:19:31.257Z\"",
          "iothub-message-source": "Telemetry",
          "x-opt-sequence-number-epoch": "-1"
         }
        ],
        [
         "eyJkZXZpY2VfaWQiOiA3LCAidG1wIjogMTAzLCAiaG1kdCI6IDY2LCAicHJzcmUiOiA0NDgsICJ0cyI6ICIyMDI0LTA0LTE2VDIyOjQ5OjM2LjI2MDI1MyIsICJzb3VyY2UiOiAiSW90SHViIn0=",
         "2",
         "350920",
         733,
         "2024-04-16T17:19:36.465+0000",
         null,
         null,
         {},
         {
          "iothub-connection-auth-generation-id": "638486236982118213",
          "iothub-connection-auth-method": "{\"scope\":\"device\",\"type\":\"sas\",\"issuer\":\"iothub\",\"acceptingIpFilterRule\":null}",
          "iothub-connection-device-id": "Device1",
          "iothub-enqueuedtime": "\"2024-04-16T17:19:36.472Z\"",
          "iothub-message-source": "Telemetry",
          "x-opt-sequence-number-epoch": "-1"
         }
        ],
        [
         "eyJkZXZpY2VfaWQiOiAxNCwgInRtcCI6IDEwMSwgImhtZHQiOiA3MywgInByc3JlIjogNDA1LCAidHMiOiAiMjAyNC0wNC0xNlQyMjo0OTo0MS40NzIxOTQiLCAic291cmNlIjogIklvdEh1YiJ9",
         "2",
         "351400",
         734,
         "2024-04-16T17:19:41.747+0000",
         null,
         null,
         {},
         {
          "iothub-connection-auth-generation-id": "638486236982118213",
          "iothub-connection-auth-method": "{\"scope\":\"device\",\"type\":\"sas\",\"issuer\":\"iothub\",\"acceptingIpFilterRule\":null}",
          "iothub-connection-device-id": "Device1",
          "iothub-enqueuedtime": "\"2024-04-16T17:19:41.739Z\"",
          "iothub-message-source": "Telemetry",
          "x-opt-sequence-number-epoch": "-1"
         }
        ],
        [
         "eyJkZXZpY2VfaWQiOiA1LCAidG1wIjogOTgsICJobWR0IjogNzksICJwcnNyZSI6IDQ2NywgInRzIjogIjIwMjQtMDQtMTZUMjI6NDk6NDYuNzQwMjY0IiwgInNvdXJjZSI6ICJJb3RIdWIifQ==",
         "2",
         "351888",
         735,
         "2024-04-16T17:19:47.263+0000",
         null,
         null,
         {},
         {
          "iothub-connection-auth-generation-id": "638486236982118213",
          "iothub-connection-auth-method": "{\"scope\":\"device\",\"type\":\"sas\",\"issuer\":\"iothub\",\"acceptingIpFilterRule\":null}",
          "iothub-connection-device-id": "Device1",
          "iothub-enqueuedtime": "\"2024-04-16T17:19:47.259Z\"",
          "iothub-message-source": "Telemetry",
          "x-opt-sequence-number-epoch": "-1"
         }
        ],
        [
         "eyJkZXZpY2VfaWQiOiAxMywgInRtcCI6IDEwNiwgImhtZHQiOiA2NywgInByc3JlIjogNDk3LCAidHMiOiAiMjAyNC0wNC0xNlQyMjo0OTo1Mi4yODUxMjIiLCAic291cmNlIjogIklvdEh1YiJ9",
         "2",
         "352368",
         736,
         "2024-04-16T17:19:52.919+0000",
         null,
         null,
         {},
         {
          "iothub-connection-auth-generation-id": "638486236982118213",
          "iothub-connection-auth-method": "{\"scope\":\"device\",\"type\":\"sas\",\"issuer\":\"iothub\",\"acceptingIpFilterRule\":null}",
          "iothub-connection-device-id": "Device1",
          "iothub-enqueuedtime": "\"2024-04-16T17:19:52.917Z\"",
          "iothub-message-source": "Telemetry",
          "x-opt-sequence-number-epoch": "-1"
         }
        ],
        [
         "eyJkZXZpY2VfaWQiOiAxLCAidG1wIjogMTEyLCAiaG1kdCI6IDc2LCAicHJzcmUiOiA0ODUsICJ0cyI6ICIyMDI0LTA0LTE2VDIyOjQ5OjU3LjkxOTQ5OSIsICJzb3VyY2UiOiAiSW90SHViIn0=",
         "2",
         "352856",
         737,
         "2024-04-16T17:19:58.138+0000",
         null,
         null,
         {},
         {
          "iothub-connection-auth-generation-id": "638486236982118213",
          "iothub-connection-auth-method": "{\"scope\":\"device\",\"type\":\"sas\",\"issuer\":\"iothub\",\"acceptingIpFilterRule\":null}",
          "iothub-connection-device-id": "Device1",
          "iothub-enqueuedtime": "\"2024-04-16T17:19:58.130Z\"",
          "iothub-message-source": "Telemetry",
          "x-opt-sequence-number-epoch": "-1"
         }
        ],
        [
         "eyJkZXZpY2VfaWQiOiAzLCAidG1wIjogOTIsICJobWR0IjogNzcsICJwcnNyZSI6IDQwMSwgInRzIjogIjIwMjQtMDQtMTZUMjI6NTA6MDMuMTM1OTQ2IiwgInNvdXJjZSI6ICJJb3RIdWIifQ==",
         "2",
         "353336",
         738,
         "2024-04-16T17:20:03.435+0000",
         null,
         null,
         {},
         {
          "iothub-connection-auth-generation-id": "638486236982118213",
          "iothub-connection-auth-method": "{\"scope\":\"device\",\"type\":\"sas\",\"issuer\":\"iothub\",\"acceptingIpFilterRule\":null}",
          "iothub-connection-device-id": "Device1",
          "iothub-enqueuedtime": "\"2024-04-16T17:20:03.429Z\"",
          "iothub-message-source": "Telemetry",
          "x-opt-sequence-number-epoch": "-1"
         }
        ],
        [
         "eyJkZXZpY2VfaWQiOiAxMywgInRtcCI6IDExMCwgImhtZHQiOiA3MywgInByc3JlIjogNDkzLCAidHMiOiAiMjAyNC0wNC0xNlQyMjo1MDowOC40MzMxNzEiLCAic291cmNlIjogIklvdEh1YiJ9",
         "2",
         "353816",
         739,
         "2024-04-16T17:20:09.248+0000",
         null,
         null,
         {},
         {
          "iothub-connection-auth-generation-id": "638486236982118213",
          "iothub-connection-auth-method": "{\"scope\":\"device\",\"type\":\"sas\",\"issuer\":\"iothub\",\"acceptingIpFilterRule\":null}",
          "iothub-connection-device-id": "Device1",
          "iothub-enqueuedtime": "\"2024-04-16T17:20:09.247Z\"",
          "iothub-message-source": "Telemetry",
          "x-opt-sequence-number-epoch": "-1"
         }
        ],
        [
         "eyJkZXZpY2VfaWQiOiAxLCAidG1wIjogOTUsICJobWR0IjogNjEsICJwcnNyZSI6IDQ4NSwgInRzIjogIjIwMjQtMDQtMTZUMjI6NTA6MTQuMjQ4MjYyIiwgInNvdXJjZSI6ICJJb3RIdWIifQ==",
         "2",
         "354304",
         740,
         "2024-04-16T17:20:14.561+0000",
         null,
         null,
         {},
         {
          "iothub-connection-auth-generation-id": "638486236982118213",
          "iothub-connection-auth-method": "{\"scope\":\"device\",\"type\":\"sas\",\"issuer\":\"iothub\",\"acceptingIpFilterRule\":null}",
          "iothub-connection-device-id": "Device1",
          "iothub-enqueuedtime": "\"2024-04-16T17:20:14.565Z\"",
          "iothub-message-source": "Telemetry",
          "x-opt-sequence-number-epoch": "-1"
         }
        ],
        [
         "eyJkZXZpY2VfaWQiOiAxNCwgInRtcCI6IDkyLCAiaG1kdCI6IDY3LCAicHJzcmUiOiA0MjEsICJ0cyI6ICIyMDI0LTA0LTE2VDIyOjUwOjE5Ljg1MjE3MSIsICJzb3VyY2UiOiAiSW90SHViIn0=",
         "2",
         "354784",
         741,
         "2024-04-16T17:20:20.295+0000",
         null,
         null,
         {},
         {
          "iothub-connection-auth-generation-id": "638486236982118213",
          "iothub-connection-auth-method": "{\"scope\":\"device\",\"type\":\"sas\",\"issuer\":\"iothub\",\"acceptingIpFilterRule\":null}",
          "iothub-connection-device-id": "Device1",
          "iothub-enqueuedtime": "\"2024-04-16T17:20:20.293Z\"",
          "iothub-message-source": "Telemetry",
          "x-opt-sequence-number-epoch": "-1"
         }
        ],
        [
         "eyJkZXZpY2VfaWQiOiA2LCAidG1wIjogMTA0LCAiaG1kdCI6IDY2LCAicHJzcmUiOiA0MzksICJ0cyI6ICIyMDI0LTA0LTE2VDIyOjUwOjI1LjMwMTc4MSIsICJzb3VyY2UiOiAiSW90SHViIn0=",
         "2",
         "355264",
         742,
         "2024-04-16T17:20:25.545+0000",
         null,
         null,
         {},
         {
          "iothub-connection-auth-generation-id": "638486236982118213",
          "iothub-connection-auth-method": "{\"scope\":\"device\",\"type\":\"sas\",\"issuer\":\"iothub\",\"acceptingIpFilterRule\":null}",
          "iothub-connection-device-id": "Device1",
          "iothub-enqueuedtime": "\"2024-04-16T17:20:25.547Z\"",
          "iothub-message-source": "Telemetry",
          "x-opt-sequence-number-epoch": "-1"
         }
        ],
        [
         "eyJkZXZpY2VfaWQiOiA3LCAidG1wIjogMTEyLCAiaG1kdCI6IDY1LCAicHJzcmUiOiA0ODAsICJ0cyI6ICIyMDI0LTA0LTE2VDIyOjUwOjMwLjU1MjIxNSIsICJzb3VyY2UiOiAiSW90SHViIn0=",
         "2",
         "355744",
         743,
         "2024-04-16T17:20:30.748+0000",
         null,
         null,
         {},
         {
          "iothub-connection-auth-generation-id": "638486236982118213",
          "iothub-connection-auth-method": "{\"scope\":\"device\",\"type\":\"sas\",\"issuer\":\"iothub\",\"acceptingIpFilterRule\":null}",
          "iothub-connection-device-id": "Device1",
          "iothub-enqueuedtime": "\"2024-04-16T17:20:30.756Z\"",
          "iothub-message-source": "Telemetry",
          "x-opt-sequence-number-epoch": "-1"
         }
        ],
        [
         "eyJkZXZpY2VfaWQiOiAxNCwgInRtcCI6IDExMiwgImhtZHQiOiA2NywgInByc3JlIjogNDkzLCAidHMiOiAiMjAyNC0wNC0xNlQyMjo1MDozNS43NTIzMTciLCAic291cmNlIjogIklvdEh1YiJ9",
         "2",
         "356224",
         744,
         "2024-04-16T17:20:36.248+0000",
         null,
         null,
         {},
         {
          "iothub-connection-auth-generation-id": "638486236982118213",
          "iothub-connection-auth-method": "{\"scope\":\"device\",\"type\":\"sas\",\"issuer\":\"iothub\",\"acceptingIpFilterRule\":null}",
          "iothub-connection-device-id": "Device1",
          "iothub-enqueuedtime": "\"2024-04-16T17:20:36.251Z\"",
          "iothub-message-source": "Telemetry",
          "x-opt-sequence-number-epoch": "-1"
         }
        ],
        [
         "eyJkZXZpY2VfaWQiOiAxNCwgInRtcCI6IDk2LCAiaG1kdCI6IDc5LCAicHJzcmUiOiA0NTAsICJ0cyI6ICIyMDI0LTA0LTE2VDIyOjUwOjQxLjI1MjIwNiIsICJzb3VyY2UiOiAiSW90SHViIn0=",
         "2",
         "356712",
         745,
         "2024-04-16T17:20:41.734+0000",
         null,
         null,
         {},
         {
          "iothub-connection-auth-generation-id": "638486236982118213",
          "iothub-connection-auth-method": "{\"scope\":\"device\",\"type\":\"sas\",\"issuer\":\"iothub\",\"acceptingIpFilterRule\":null}",
          "iothub-connection-device-id": "Device1",
          "iothub-enqueuedtime": "\"2024-04-16T17:20:41.733Z\"",
          "iothub-message-source": "Telemetry",
          "x-opt-sequence-number-epoch": "-1"
         }
        ],
        [
         "eyJkZXZpY2VfaWQiOiA4LCAidG1wIjogMTA1LCAiaG1kdCI6IDc2LCAicHJzcmUiOiA0MjAsICJ0cyI6ICIyMDI0LTA0LTE2VDIyOjUwOjQ2Ljc0MzY1NCIsICJzb3VyY2UiOiAiSW90SHViIn0=",
         "2",
         "357192",
         746,
         "2024-04-16T17:20:47.109+0000",
         null,
         null,
         {},
         {
          "iothub-connection-auth-generation-id": "638486236982118213",
          "iothub-connection-auth-method": "{\"scope\":\"device\",\"type\":\"sas\",\"issuer\":\"iothub\",\"acceptingIpFilterRule\":null}",
          "iothub-connection-device-id": "Device1",
          "iothub-enqueuedtime": "\"2024-04-16T17:20:47.115Z\"",
          "iothub-message-source": "Telemetry",
          "x-opt-sequence-number-epoch": "-1"
         }
        ],
        [
         "eyJkZXZpY2VfaWQiOiAxNCwgInRtcCI6IDEwOCwgImhtZHQiOiA3NiwgInByc3JlIjogNDY0LCAidHMiOiAiMjAyNC0wNC0xNlQyMjo1MDo1Mi4xMjgxMzUiLCAic291cmNlIjogIklvdEh1YiJ9",
         "2",
         "357672",
         747,
         "2024-04-16T17:20:53.437+0000",
         null,
         null,
         {},
         {
          "iothub-connection-auth-generation-id": "638486236982118213",
          "iothub-connection-auth-method": "{\"scope\":\"device\",\"type\":\"sas\",\"issuer\":\"iothub\",\"acceptingIpFilterRule\":null}",
          "iothub-connection-device-id": "Device1",
          "iothub-enqueuedtime": "\"2024-04-16T17:20:53.448Z\"",
          "iothub-message-source": "Telemetry",
          "x-opt-sequence-number-epoch": "-1"
         }
        ],
        [
         "eyJkZXZpY2VfaWQiOiA0LCAidG1wIjogMTAyLCAiaG1kdCI6IDYwLCAicHJzcmUiOiA0NDksICJ0cyI6ICIyMDI0LTA0LTE2VDIyOjUwOjU4LjQ0MTI4MyIsICJzb3VyY2UiOiAiSW90SHViIn0=",
         "2",
         "358160",
         748,
         "2024-04-16T17:20:58.687+0000",
         null,
         null,
         {},
         {
          "iothub-connection-auth-generation-id": "638486236982118213",
          "iothub-connection-auth-method": "{\"scope\":\"device\",\"type\":\"sas\",\"issuer\":\"iothub\",\"acceptingIpFilterRule\":null}",
          "iothub-connection-device-id": "Device1",
          "iothub-enqueuedtime": "\"2024-04-16T17:20:58.686Z\"",
          "iothub-message-source": "Telemetry",
          "x-opt-sequence-number-epoch": "-1"
         }
        ]
       ],
       "datasetInfos": [],
       "dbfsResultPath": null,
       "isJsonSchema": true,
       "metadata": {},
       "overflow": false,
       "plotOptions": {
        "customPlotOptions": {},
        "displayType": "table",
        "pivotAggregation": null,
        "pivotColumns": null,
        "xColumns": null,
        "yColumns": null
       },
       "removedWidgets": [],
       "schema": [
        {
         "metadata": "{}",
         "name": "body",
         "type": "\"binary\""
        },
        {
         "metadata": "{}",
         "name": "partition",
         "type": "\"string\""
        },
        {
         "metadata": "{}",
         "name": "offset",
         "type": "\"string\""
        },
        {
         "metadata": "{}",
         "name": "sequenceNumber",
         "type": "\"long\""
        },
        {
         "metadata": "{}",
         "name": "enqueuedTime",
         "type": "\"timestamp\""
        },
        {
         "metadata": "{}",
         "name": "publisher",
         "type": "\"string\""
        },
        {
         "metadata": "{}",
         "name": "partitionKey",
         "type": "\"string\""
        },
        {
         "metadata": "{}",
         "name": "properties",
         "type": "{\"type\":\"map\",\"keyType\":\"string\",\"valueType\":\"string\",\"valueContainsNull\":true}"
        },
        {
         "metadata": "{}",
         "name": "systemProperties",
         "type": "{\"type\":\"map\",\"keyType\":\"string\",\"valueType\":\"string\",\"valueContainsNull\":true}"
        }
       ],
       "type": "table"
      }
     },
     "output_type": "display_data"
    }
   ],
   "source": [
    "sensorRawData = spark.readStream \\\n",
    "    .format(\"eventhubs\") \\\n",
    "    .options(**ehConf) \\\n",
    "    .load()\n",
    "\n",
    "sensorRawData.display()"
   ]
  },
  {
   "cell_type": "code",
   "execution_count": 0,
   "metadata": {
    "application/vnd.databricks.v1+cell": {
     "cellMetadata": {
      "byteLimit": 2048000,
      "rowLimit": 10000
     },
     "inputWidgets": {},
     "nuid": "795dbac8-a3fc-4a10-ab9d-af0c7b73951b",
     "showTitle": false,
     "title": ""
    }
   },
   "outputs": [
    {
     "output_type": "display_data",
     "data": {
      "text/html": [
       "<style scoped>\n",
       "  .table-result-container {\n",
       "    max-height: 300px;\n",
       "    overflow: auto;\n",
       "  }\n",
       "  table, th, td {\n",
       "    border: 1px solid black;\n",
       "    border-collapse: collapse;\n",
       "  }\n",
       "  th, td {\n",
       "    padding: 5px;\n",
       "  }\n",
       "  th {\n",
       "    text-align: left;\n",
       "  }\n",
       "</style><div class='table-result-container'><table class='table-result'><thead style='background-color: white'><tr><th>device_id</th><th>tmp</th><th>hmdt</th><th>prsre</th><th>source</th><th>ts</th></tr></thead><tbody><tr><td>11</td><td>102</td><td>78</td><td>463</td><td>IotHub</td><td>2024-04-16T20:03:51.356+0000</td></tr><tr><td>14</td><td>118</td><td>68</td><td>431</td><td>IotHub</td><td>2024-04-16T20:03:57.504+0000</td></tr><tr><td>3</td><td>116</td><td>79</td><td>471</td><td>IotHub</td><td>2024-04-16T20:04:02.978+0000</td></tr><tr><td>4</td><td>105</td><td>65</td><td>449</td><td>IotHub</td><td>2024-04-16T20:04:08.236+0000</td></tr><tr><td>7</td><td>93</td><td>65</td><td>453</td><td>IotHub</td><td>2024-04-16T20:04:13.992+0000</td></tr><tr><td>7</td><td>94</td><td>64</td><td>473</td><td>IotHub</td><td>2024-04-16T20:04:23.104+0000</td></tr><tr><td>12</td><td>114</td><td>76</td><td>480</td><td>IotHub</td><td>2024-04-16T20:04:28.940+0000</td></tr><tr><td>1</td><td>98</td><td>68</td><td>439</td><td>IotHub</td><td>2024-04-16T20:04:34.227+0000</td></tr><tr><td>10</td><td>112</td><td>71</td><td>487</td><td>IotHub</td><td>2024-04-16T20:04:40.105+0000</td></tr><tr><td>5</td><td>92</td><td>62</td><td>496</td><td>IotHub</td><td>2024-04-16T20:04:45.370+0000</td></tr><tr><td>2</td><td>105</td><td>70</td><td>404</td><td>IotHub</td><td>2024-04-16T20:04:50.572+0000</td></tr><tr><td>8</td><td>106</td><td>74</td><td>454</td><td>IotHub</td><td>2024-04-16T20:04:55.827+0000</td></tr><tr><td>10</td><td>105</td><td>77</td><td>415</td><td>IotHub</td><td>2024-04-16T20:05:01.037+0000</td></tr><tr><td>10</td><td>114</td><td>78</td><td>484</td><td>IotHub</td><td>2024-04-16T20:05:06.276+0000</td></tr><tr><td>13</td><td>106</td><td>73</td><td>486</td><td>IotHub</td><td>2024-04-16T20:05:11.474+0000</td></tr><tr><td>3</td><td>107</td><td>76</td><td>466</td><td>IotHub</td><td>2024-04-16T20:05:16.744+0000</td></tr><tr><td>10</td><td>114</td><td>67</td><td>440</td><td>IotHub</td><td>2024-04-16T20:05:22.002+0000</td></tr><tr><td>13</td><td>100</td><td>68</td><td>459</td><td>IotHub</td><td>2024-04-16T20:05:27.249+0000</td></tr><tr><td>10</td><td>107</td><td>61</td><td>489</td><td>IotHub</td><td>2024-04-16T20:05:32.452+0000</td></tr><tr><td>2</td><td>100</td><td>69</td><td>409</td><td>IotHub</td><td>2024-04-16T20:05:37.836+0000</td></tr><tr><td>8</td><td>115</td><td>60</td><td>406</td><td>IotHub</td><td>2024-04-16T20:05:43.040+0000</td></tr><tr><td>3</td><td>113</td><td>65</td><td>481</td><td>IotHub</td><td>2024-04-16T20:05:48.264+0000</td></tr><tr><td>14</td><td>91</td><td>68</td><td>460</td><td>IotHub</td><td>2024-04-16T20:05:54.068+0000</td></tr><tr><td>11</td><td>94</td><td>64</td><td>453</td><td>IotHub</td><td>2024-04-16T20:05:59.876+0000</td></tr><tr><td>10</td><td>93</td><td>73</td><td>499</td><td>IotHub</td><td>2024-04-16T20:06:05.057+0000</td></tr><tr><td>4</td><td>91</td><td>73</td><td>437</td><td>IotHub</td><td>2024-04-16T20:06:10.288+0000</td></tr><tr><td>13</td><td>91</td><td>68</td><td>408</td><td>IotHub</td><td>2024-04-16T20:06:15.490+0000</td></tr><tr><td>11</td><td>106</td><td>62</td><td>474</td><td>IotHub</td><td>2024-04-16T20:06:20.748+0000</td></tr><tr><td>6</td><td>93</td><td>67</td><td>441</td><td>IotHub</td><td>2024-04-16T20:06:25.975+0000</td></tr><tr><td>7</td><td>95</td><td>62</td><td>442</td><td>IotHub</td><td>2024-04-16T20:06:31.216+0000</td></tr><tr><td>5</td><td>96</td><td>60</td><td>471</td><td>IotHub</td><td>2024-04-16T20:06:36.401+0000</td></tr><tr><td>14</td><td>105</td><td>65</td><td>468</td><td>IotHub</td><td>2024-04-16T20:06:41.736+0000</td></tr><tr><td>12</td><td>118</td><td>77</td><td>447</td><td>IotHub</td><td>2024-04-16T20:06:50.972+0000</td></tr><tr><td>6</td><td>110</td><td>71</td><td>454</td><td>IotHub</td><td>2024-04-16T20:06:56.467+0000</td></tr><tr><td>6</td><td>111</td><td>76</td><td>445</td><td>IotHub</td><td>2024-04-16T20:07:01.716+0000</td></tr><tr><td>13</td><td>116</td><td>76</td><td>462</td><td>IotHub</td><td>2024-04-16T20:07:06.899+0000</td></tr><tr><td>8</td><td>114</td><td>72</td><td>418</td><td>IotHub</td><td>2024-04-16T20:07:12.360+0000</td></tr><tr><td>4</td><td>117</td><td>77</td><td>450</td><td>IotHub</td><td>2024-04-16T20:07:17.558+0000</td></tr><tr><td>1</td><td>113</td><td>64</td><td>440</td><td>IotHub</td><td>2024-04-16T20:07:22.836+0000</td></tr><tr><td>5</td><td>114</td><td>74</td><td>403</td><td>IotHub</td><td>2024-04-16T20:07:28.432+0000</td></tr><tr><td>1</td><td>117</td><td>60</td><td>481</td><td>IotHub</td><td>2024-04-16T20:07:33.673+0000</td></tr><tr><td>1</td><td>97</td><td>76</td><td>403</td><td>IotHub</td><td>2024-04-16T20:07:38.960+0000</td></tr><tr><td>5</td><td>111</td><td>74</td><td>420</td><td>IotHub</td><td>2024-04-16T20:07:44.384+0000</td></tr><tr><td>13</td><td>111</td><td>66</td><td>474</td><td>IotHub</td><td>2024-04-16T20:07:49.572+0000</td></tr><tr><td>11</td><td>119</td><td>66</td><td>487</td><td>IotHub</td><td>2024-04-16T20:07:54.820+0000</td></tr><tr><td>6</td><td>101</td><td>73</td><td>456</td><td>IotHub</td><td>2024-04-16T20:08:00.012+0000</td></tr><tr><td>7</td><td>99</td><td>70</td><td>467</td><td>IotHub</td><td>2024-04-16T20:08:05.240+0000</td></tr><tr><td>5</td><td>103</td><td>69</td><td>461</td><td>IotHub</td><td>2024-04-16T20:08:10.434+0000</td></tr><tr><td>12</td><td>116</td><td>62</td><td>440</td><td>IotHub</td><td>2024-04-16T20:08:15.668+0000</td></tr><tr><td>6</td><td>119</td><td>65</td><td>407</td><td>IotHub</td><td>2024-04-16T20:08:20.873+0000</td></tr><tr><td>4</td><td>106</td><td>66</td><td>400</td><td>IotHub</td><td>2024-04-16T20:08:26.098+0000</td></tr><tr><td>1</td><td>115</td><td>68</td><td>404</td><td>IotHub</td><td>2024-04-16T20:08:31.364+0000</td></tr><tr><td>4</td><td>90</td><td>78</td><td>432</td><td>IotHub</td><td>2024-04-16T20:08:36.583+0000</td></tr><tr><td>13</td><td>97</td><td>69</td><td>465</td><td>IotHub</td><td>2024-04-16T20:08:41.763+0000</td></tr><tr><td>13</td><td>114</td><td>72</td><td>474</td><td>IotHub</td><td>2024-04-16T20:08:47.000+0000</td></tr><tr><td>6</td><td>94</td><td>66</td><td>412</td><td>IotHub</td><td>2024-04-16T20:08:56.419+0000</td></tr><tr><td>14</td><td>96</td><td>72</td><td>466</td><td>IotHub</td><td>2024-04-16T20:09:02.296+0000</td></tr><tr><td>4</td><td>103</td><td>79</td><td>484</td><td>IotHub</td><td>2024-04-16T20:09:07.479+0000</td></tr><tr><td>4</td><td>95</td><td>73</td><td>462</td><td>IotHub</td><td>2024-04-16T20:09:13.168+0000</td></tr><tr><td>4</td><td>94</td><td>68</td><td>447</td><td>IotHub</td><td>2024-04-16T20:09:18.348+0000</td></tr><tr><td>10</td><td>97</td><td>69</td><td>483</td><td>IotHub</td><td>2024-04-16T20:09:24.579+0000</td></tr><tr><td>10</td><td>116</td><td>62</td><td>400</td><td>IotHub</td><td>2024-04-16T20:09:30.020+0000</td></tr><tr><td>12</td><td>117</td><td>75</td><td>475</td><td>IotHub</td><td>2024-04-16T20:09:35.495+0000</td></tr><tr><td>1</td><td>116</td><td>66</td><td>469</td><td>IotHub</td><td>2024-04-16T20:09:40.688+0000</td></tr><tr><td>1</td><td>91</td><td>67</td><td>475</td><td>IotHub</td><td>2024-04-16T20:09:45.917+0000</td></tr><tr><td>11</td><td>90</td><td>69</td><td>467</td><td>IotHub</td><td>2024-04-16T20:09:51.108+0000</td></tr><tr><td>5</td><td>100</td><td>66</td><td>436</td><td>IotHub</td><td>2024-04-16T20:09:56.336+0000</td></tr><tr><td>1</td><td>93</td><td>71</td><td>479</td><td>IotHub</td><td>2024-04-16T20:10:01.520+0000</td></tr><tr><td>7</td><td>94</td><td>65</td><td>495</td><td>IotHub</td><td>2024-04-16T20:10:06.731+0000</td></tr><tr><td>6</td><td>113</td><td>73</td><td>407</td><td>IotHub</td><td>2024-04-16T20:10:11.928+0000</td></tr><tr><td>11</td><td>105</td><td>72</td><td>403</td><td>IotHub</td><td>2024-04-16T20:10:17.208+0000</td></tr><tr><td>12</td><td>117</td><td>63</td><td>493</td><td>IotHub</td><td>2024-04-16T20:10:22.400+0000</td></tr><tr><td>4</td><td>110</td><td>69</td><td>423</td><td>IotHub</td><td>2024-04-16T20:10:27.728+0000</td></tr><tr><td>10</td><td>90</td><td>79</td><td>476</td><td>IotHub</td><td>2024-04-16T20:10:32.928+0000</td></tr><tr><td>9</td><td>93</td><td>63</td><td>457</td><td>IotHub</td><td>2024-04-16T20:10:38.472+0000</td></tr><tr><td>12</td><td>109</td><td>79</td><td>463</td><td>IotHub</td><td>2024-04-16T20:10:43.712+0000</td></tr><tr><td>3</td><td>104</td><td>64</td><td>427</td><td>IotHub</td><td>2024-04-16T20:10:49.128+0000</td></tr><tr><td>7</td><td>116</td><td>67</td><td>461</td><td>IotHub</td><td>2024-04-16T20:10:54.600+0000</td></tr><tr><td>8</td><td>117</td><td>64</td><td>474</td><td>IotHub</td><td>2024-04-16T20:11:00.296+0000</td></tr><tr><td>2</td><td>93</td><td>63</td><td>426</td><td>IotHub</td><td>2024-04-16T20:11:05.480+0000</td></tr><tr><td>14</td><td>119</td><td>70</td><td>484</td><td>IotHub</td><td>2024-04-16T20:11:10.937+0000</td></tr><tr><td>12</td><td>119</td><td>67</td><td>486</td><td>IotHub</td><td>2024-04-16T20:11:16.134+0000</td></tr><tr><td>6</td><td>106</td><td>72</td><td>485</td><td>IotHub</td><td>2024-04-16T20:11:21.436+0000</td></tr><tr><td>7</td><td>117</td><td>65</td><td>421</td><td>IotHub</td><td>2024-04-16T20:11:26.634+0000</td></tr><tr><td>7</td><td>116</td><td>63</td><td>430</td><td>IotHub</td><td>2024-04-16T20:11:32.134+0000</td></tr><tr><td>2</td><td>111</td><td>75</td><td>424</td><td>IotHub</td><td>2024-04-16T20:11:37.320+0000</td></tr><tr><td>14</td><td>106</td><td>74</td><td>404</td><td>IotHub</td><td>2024-04-16T20:11:42.707+0000</td></tr><tr><td>7</td><td>96</td><td>71</td><td>414</td><td>IotHub</td><td>2024-04-16T20:11:47.928+0000</td></tr><tr><td>5</td><td>103</td><td>78</td><td>401</td><td>IotHub</td><td>2024-04-16T20:11:53.237+0000</td></tr><tr><td>4</td><td>105</td><td>60</td><td>461</td><td>IotHub</td><td>2024-04-16T20:11:58.436+0000</td></tr><tr><td>14</td><td>96</td><td>72</td><td>478</td><td>IotHub</td><td>2024-04-16T20:12:04.288+0000</td></tr><tr><td>4</td><td>108</td><td>72</td><td>489</td><td>IotHub</td><td>2024-04-16T20:12:09.478+0000</td></tr><tr><td>5</td><td>101</td><td>76</td><td>499</td><td>IotHub</td><td>2024-04-16T20:12:14.704+0000</td></tr><tr><td>9</td><td>104</td><td>67</td><td>446</td><td>IotHub</td><td>2024-04-16T20:51:04.661+0000</td></tr><tr><td>6</td><td>115</td><td>67</td><td>478</td><td>IotHub</td><td>2024-04-16T20:51:10.476+0000</td></tr><tr><td>2</td><td>113</td><td>64</td><td>417</td><td>IotHub</td><td>2024-04-16T20:51:15.908+0000</td></tr><tr><td>5</td><td>104</td><td>70</td><td>408</td><td>IotHub</td><td>2024-04-16T20:51:21.540+0000</td></tr><tr><td>4</td><td>118</td><td>63</td><td>421</td><td>IotHub</td><td>2024-04-16T20:51:27.164+0000</td></tr><tr><td>3</td><td>103</td><td>64</td><td>443</td><td>IotHub</td><td>2024-04-16T20:51:32.424+0000</td></tr><tr><td>13</td><td>101</td><td>67</td><td>452</td><td>IotHub</td><td>2024-04-16T20:51:38.324+0000</td></tr><tr><td>9</td><td>115</td><td>68</td><td>429</td><td>IotHub</td><td>2024-04-16T20:51:43.952+0000</td></tr><tr><td>6</td><td>114</td><td>72</td><td>474</td><td>IotHub</td><td>2024-04-16T20:51:49.136+0000</td></tr><tr><td>6</td><td>118</td><td>72</td><td>426</td><td>IotHub</td><td>2024-04-16T20:51:54.904+0000</td></tr><tr><td>13</td><td>119</td><td>71</td><td>426</td><td>IotHub</td><td>2024-04-16T20:52:00.100+0000</td></tr><tr><td>2</td><td>102</td><td>74</td><td>437</td><td>IotHub</td><td>2024-04-16T20:52:05.752+0000</td></tr><tr><td>4</td><td>118</td><td>67</td><td>413</td><td>IotHub</td><td>2024-04-16T20:52:11.168+0000</td></tr><tr><td>13</td><td>113</td><td>77</td><td>452</td><td>IotHub</td><td>2024-04-16T20:52:17.136+0000</td></tr><tr><td>11</td><td>117</td><td>63</td><td>405</td><td>IotHub</td><td>2024-04-16T20:52:22.323+0000</td></tr><tr><td>6</td><td>107</td><td>61</td><td>459</td><td>IotHub</td><td>2024-04-16T20:52:28.301+0000</td></tr><tr><td>9</td><td>95</td><td>62</td><td>446</td><td>IotHub</td><td>2024-04-16T20:52:33.492+0000</td></tr><tr><td>1</td><td>93</td><td>71</td><td>446</td><td>IotHub</td><td>2024-04-16T20:52:39.020+0000</td></tr><tr><td>8</td><td>90</td><td>72</td><td>438</td><td>IotHub</td><td>2024-04-16T20:52:44.652+0000</td></tr><tr><td>14</td><td>107</td><td>71</td><td>432</td><td>IotHub</td><td>2024-04-16T20:52:50.191+0000</td></tr><tr><td>9</td><td>105</td><td>69</td><td>464</td><td>IotHub</td><td>2024-04-16T20:52:55.683+0000</td></tr><tr><td>8</td><td>101</td><td>69</td><td>416</td><td>IotHub</td><td>2024-04-16T20:53:01.132+0000</td></tr><tr><td>5</td><td>109</td><td>79</td><td>417</td><td>IotHub</td><td>2024-04-16T20:53:06.347+0000</td></tr><tr><td>11</td><td>96</td><td>72</td><td>403</td><td>IotHub</td><td>2024-04-16T20:53:11.628+0000</td></tr><tr><td>7</td><td>99</td><td>64</td><td>486</td><td>IotHub</td><td>2024-04-16T20:53:17.446+0000</td></tr><tr><td>4</td><td>95</td><td>61</td><td>450</td><td>IotHub</td><td>2024-04-16T20:53:22.693+0000</td></tr><tr><td>8</td><td>104</td><td>72</td><td>432</td><td>IotHub</td><td>2024-04-16T20:53:27.900+0000</td></tr><tr><td>4</td><td>94</td><td>70</td><td>406</td><td>IotHub</td><td>2024-04-16T20:53:33.225+0000</td></tr><tr><td>12</td><td>92</td><td>78</td><td>499</td><td>IotHub</td><td>2024-04-16T20:53:38.444+0000</td></tr><tr><td>1</td><td>92</td><td>64</td><td>440</td><td>IotHub</td><td>2024-04-16T20:53:43.794+0000</td></tr><tr><td>8</td><td>107</td><td>61</td><td>442</td><td>IotHub</td><td>2024-04-16T20:53:49.623+0000</td></tr><tr><td>10</td><td>111</td><td>73</td><td>459</td><td>IotHub</td><td>2024-04-16T20:54:01.168+0000</td></tr><tr><td>11</td><td>103</td><td>78</td><td>498</td><td>IotHub</td><td>2024-04-16T20:54:06.374+0000</td></tr><tr><td>1</td><td>101</td><td>79</td><td>415</td><td>IotHub</td><td>2024-04-16T20:54:11.785+0000</td></tr><tr><td>2</td><td>109</td><td>75</td><td>410</td><td>IotHub</td><td>2024-04-16T20:54:16.988+0000</td></tr><tr><td>13</td><td>112</td><td>70</td><td>489</td><td>IotHub</td><td>2024-04-16T20:54:22.237+0000</td></tr><tr><td>14</td><td>119</td><td>64</td><td>413</td><td>IotHub</td><td>2024-04-16T20:54:27.441+0000</td></tr><tr><td>6</td><td>117</td><td>73</td><td>454</td><td>IotHub</td><td>2024-04-16T20:54:32.712+0000</td></tr><tr><td>8</td><td>118</td><td>74</td><td>437</td><td>IotHub</td><td>2024-04-16T20:54:37.924+0000</td></tr><tr><td>1</td><td>117</td><td>75</td><td>486</td><td>IotHub</td><td>2024-04-16T20:54:43.672+0000</td></tr><tr><td>2</td><td>91</td><td>61</td><td>494</td><td>IotHub</td><td>2024-04-16T20:54:48.888+0000</td></tr><tr><td>8</td><td>115</td><td>76</td><td>421</td><td>IotHub</td><td>2024-04-16T20:54:54.132+0000</td></tr><tr><td>13</td><td>91</td><td>62</td><td>498</td><td>IotHub</td><td>2024-04-16T20:54:59.524+0000</td></tr><tr><td>13</td><td>108</td><td>61</td><td>440</td><td>IotHub</td><td>2024-04-16T20:55:04.727+0000</td></tr><tr><td>13</td><td>115</td><td>78</td><td>432</td><td>IotHub</td><td>2024-04-16T20:55:10.975+0000</td></tr><tr><td>8</td><td>108</td><td>65</td><td>454</td><td>IotHub</td><td>2024-04-16T20:55:16.395+0000</td></tr><tr><td>13</td><td>117</td><td>72</td><td>409</td><td>IotHub</td><td>2024-04-16T20:55:21.824+0000</td></tr><tr><td>13</td><td>112</td><td>64</td><td>496</td><td>IotHub</td><td>2024-04-16T20:55:27.588+0000</td></tr><tr><td>10</td><td>115</td><td>70</td><td>449</td><td>IotHub</td><td>2024-04-16T20:55:32.830+0000</td></tr><tr><td>4</td><td>116</td><td>67</td><td>486</td><td>IotHub</td><td>2024-04-16T20:55:38.625+0000</td></tr><tr><td>7</td><td>93</td><td>72</td><td>445</td><td>IotHub</td><td>2024-04-16T20:55:44.051+0000</td></tr><tr><td>8</td><td>99</td><td>76</td><td>470</td><td>IotHub</td><td>2024-04-16T20:55:49.249+0000</td></tr><tr><td>11</td><td>112</td><td>61</td><td>410</td><td>IotHub</td><td>2024-04-16T20:55:54.588+0000</td></tr><tr><td>5</td><td>114</td><td>67</td><td>498</td><td>IotHub</td><td>2024-04-16T20:56:00.040+0000</td></tr><tr><td>2</td><td>103</td><td>61</td><td>439</td><td>IotHub</td><td>2024-04-16T20:56:05.289+0000</td></tr><tr><td>5</td><td>118</td><td>75</td><td>484</td><td>IotHub</td><td>2024-04-16T20:56:10.496+0000</td></tr><tr><td>5</td><td>92</td><td>62</td><td>458</td><td>IotHub</td><td>2024-04-16T20:56:16.052+0000</td></tr><tr><td>12</td><td>118</td><td>72</td><td>444</td><td>IotHub</td><td>2024-04-16T20:56:21.620+0000</td></tr><tr><td>12</td><td>99</td><td>74</td><td>489</td><td>IotHub</td><td>2024-04-16T20:56:27.160+0000</td></tr><tr><td>13</td><td>104</td><td>71</td><td>418</td><td>IotHub</td><td>2024-04-16T20:56:32.360+0000</td></tr><tr><td>9</td><td>110</td><td>63</td><td>420</td><td>IotHub</td><td>2024-04-16T20:56:38.120+0000</td></tr><tr><td>12</td><td>109</td><td>63</td><td>425</td><td>IotHub</td><td>2024-04-16T20:56:43.299+0000</td></tr><tr><td>8</td><td>94</td><td>68</td><td>496</td><td>IotHub</td><td>2024-04-16T20:56:48.567+0000</td></tr><tr><td>13</td><td>110</td><td>77</td><td>437</td><td>IotHub</td><td>2024-04-16T20:56:53.786+0000</td></tr><tr><td>1</td><td>111</td><td>73</td><td>422</td><td>IotHub</td><td>2024-04-16T20:56:59.046+0000</td></tr><tr><td>11</td><td>106</td><td>73</td><td>413</td><td>IotHub</td><td>2024-04-16T20:57:04.236+0000</td></tr><tr><td>5</td><td>111</td><td>62</td><td>400</td><td>IotHub</td><td>2024-04-16T20:57:09.863+0000</td></tr><tr><td>12</td><td>117</td><td>79</td><td>478</td><td>IotHub</td><td>2024-04-16T20:57:15.100+0000</td></tr><tr><td>4</td><td>104</td><td>63</td><td>493</td><td>IotHub</td><td>2024-04-16T20:57:20.714+0000</td></tr><tr><td>10</td><td>111</td><td>71</td><td>404</td><td>IotHub</td><td>2024-04-16T20:57:26.245+0000</td></tr><tr><td>9</td><td>91</td><td>75</td><td>425</td><td>IotHub</td><td>2024-04-16T20:57:31.968+0000</td></tr><tr><td>12</td><td>91</td><td>72</td><td>499</td><td>IotHub</td><td>2024-04-16T20:57:37.162+0000</td></tr><tr><td>14</td><td>101</td><td>76</td><td>496</td><td>IotHub</td><td>2024-04-16T20:57:42.939+0000</td></tr><tr><td>12</td><td>92</td><td>61</td><td>489</td><td>IotHub</td><td>2024-04-16T20:57:48.152+0000</td></tr><tr><td>9</td><td>119</td><td>78</td><td>403</td><td>IotHub</td><td>2024-04-16T20:57:53.422+0000</td></tr><tr><td>9</td><td>107</td><td>71</td><td>457</td><td>IotHub</td><td>2024-04-16T20:57:58.625+0000</td></tr><tr><td>7</td><td>118</td><td>70</td><td>434</td><td>IotHub</td><td>2024-04-16T20:58:03.914+0000</td></tr><tr><td>7</td><td>109</td><td>71</td><td>424</td><td>IotHub</td><td>2024-04-16T20:58:09.126+0000</td></tr><tr><td>3</td><td>94</td><td>67</td><td>461</td><td>IotHub</td><td>2024-04-16T20:58:14.388+0000</td></tr><tr><td>10</td><td>90</td><td>60</td><td>411</td><td>IotHub</td><td>2024-04-16T20:58:19.587+0000</td></tr><tr><td>14</td><td>118</td><td>78</td><td>430</td><td>IotHub</td><td>2024-04-16T20:58:25.618+0000</td></tr><tr><td>1</td><td>107</td><td>60</td><td>423</td><td>IotHub</td><td>2024-04-16T20:58:31.057+0000</td></tr><tr><td>12</td><td>111</td><td>73</td><td>458</td><td>IotHub</td><td>2024-04-16T20:58:36.608+0000</td></tr><tr><td>11</td><td>110</td><td>70</td><td>468</td><td>IotHub</td><td>2024-04-16T20:58:41.804+0000</td></tr><tr><td>10</td><td>105</td><td>63</td><td>416</td><td>IotHub</td><td>2024-04-16T20:58:47.067+0000</td></tr><tr><td>9</td><td>114</td><td>64</td><td>472</td><td>IotHub</td><td>2024-04-16T20:58:52.271+0000</td></tr><tr><td>8</td><td>93</td><td>75</td><td>400</td><td>IotHub</td><td>2024-04-16T20:58:57.503+0000</td></tr><tr><td>7</td><td>93</td><td>62</td><td>436</td><td>IotHub</td><td>2024-04-16T20:59:05.746+0000</td></tr><tr><td>7</td><td>96</td><td>79</td><td>491</td><td>IotHub</td><td>2024-04-16T20:59:11.012+0000</td></tr><tr><td>8</td><td>116</td><td>68</td><td>435</td><td>IotHub</td><td>2024-04-16T20:59:16.207+0000</td></tr><tr><td>3</td><td>114</td><td>62</td><td>475</td><td>IotHub</td><td>2024-04-16T20:59:21.952+0000</td></tr><tr><td>6</td><td>113</td><td>77</td><td>429</td><td>IotHub</td><td>2024-04-16T20:59:27.157+0000</td></tr><tr><td>10</td><td>112</td><td>61</td><td>423</td><td>IotHub</td><td>2024-04-16T20:59:33.221+0000</td></tr><tr><td>4</td><td>119</td><td>72</td><td>495</td><td>IotHub</td><td>2024-04-16T20:59:38.424+0000</td></tr><tr><td>1</td><td>100</td><td>67</td><td>455</td><td>IotHub</td><td>2024-04-16T20:59:43.682+0000</td></tr><tr><td>1</td><td>102</td><td>79</td><td>441</td><td>IotHub</td><td>2024-04-16T20:59:48.898+0000</td></tr><tr><td>13</td><td>103</td><td>71</td><td>463</td><td>IotHub</td><td>2024-04-16T20:59:54.155+0000</td></tr><tr><td>2</td><td>117</td><td>60</td><td>441</td><td>IotHub</td><td>2024-04-16T20:59:59.352+0000</td></tr><tr><td>14</td><td>93</td><td>77</td><td>454</td><td>IotHub</td><td>2024-04-16T21:00:04.602+0000</td></tr><tr><td>4</td><td>96</td><td>70</td><td>424</td><td>IotHub</td><td>2024-04-16T22:41:26.746+0000</td></tr><tr><td>1</td><td>110</td><td>68</td><td>400</td><td>IotHub</td><td>2024-04-16T22:41:34.800+0000</td></tr><tr><td>3</td><td>91</td><td>74</td><td>415</td><td>IotHub</td><td>2024-04-16T22:41:43.204+0000</td></tr><tr><td>5</td><td>92</td><td>79</td><td>418</td><td>IotHub</td><td>2024-04-16T22:41:50.944+0000</td></tr><tr><td>4</td><td>98</td><td>78</td><td>497</td><td>IotHub</td><td>2024-04-16T22:41:56.117+0000</td></tr><tr><td>9</td><td>104</td><td>72</td><td>461</td><td>IotHub</td><td>2024-04-16T22:42:03.852+0000</td></tr><tr><td>3</td><td>94</td><td>64</td><td>465</td><td>IotHub</td><td>2024-04-16T22:42:11.832+0000</td></tr><tr><td>2</td><td>100</td><td>72</td><td>433</td><td>IotHub</td><td>2024-04-16T22:42:19.620+0000</td></tr><tr><td>14</td><td>106</td><td>74</td><td>457</td><td>IotHub</td><td>2024-04-16T22:42:27.297+0000</td></tr><tr><td>14</td><td>91</td><td>68</td><td>490</td><td>IotHub</td><td>2024-04-16T22:42:32.584+0000</td></tr><tr><td>6</td><td>92</td><td>66</td><td>415</td><td>IotHub</td><td>2024-04-16T22:42:38.660+0000</td></tr><tr><td>14</td><td>117</td><td>65</td><td>456</td><td>IotHub</td><td>2024-04-16T22:42:43.848+0000</td></tr><tr><td>12</td><td>99</td><td>69</td><td>495</td><td>IotHub</td><td>2024-04-16T22:42:54.868+0000</td></tr><tr><td>4</td><td>102</td><td>78</td><td>456</td><td>IotHub</td><td>2024-04-16T22:43:00.159+0000</td></tr><tr><td>6</td><td>90</td><td>78</td><td>431</td><td>IotHub</td><td>2024-04-16T22:43:05.380+0000</td></tr><tr><td>10</td><td>111</td><td>79</td><td>489</td><td>IotHub</td><td>2024-04-16T22:43:12.968+0000</td></tr><tr><td>11</td><td>98</td><td>61</td><td>448</td><td>IotHub</td><td>2024-04-16T22:43:18.196+0000</td></tr><tr><td>12</td><td>116</td><td>63</td><td>447</td><td>IotHub</td><td>2024-04-16T22:43:23.468+0000</td></tr><tr><td>13</td><td>116</td><td>67</td><td>448</td><td>IotHub</td><td>2024-04-16T22:43:28.661+0000</td></tr><tr><td>1</td><td>91</td><td>60</td><td>421</td><td>IotHub</td><td>2024-04-16T22:43:33.944+0000</td></tr><tr><td>11</td><td>92</td><td>74</td><td>470</td><td>IotHub</td><td>2024-04-16T22:43:39.476+0000</td></tr><tr><td>10</td><td>90</td><td>78</td><td>451</td><td>IotHub</td><td>2024-04-16T22:43:45.108+0000</td></tr><tr><td>2</td><td>107</td><td>78</td><td>483</td><td>IotHub</td><td>2024-04-16T22:43:53.008+0000</td></tr><tr><td>9</td><td>98</td><td>69</td><td>413</td><td>IotHub</td><td>2024-04-16T22:43:58.244+0000</td></tr><tr><td>5</td><td>98</td><td>72</td><td>426</td><td>IotHub</td><td>2024-04-16T22:44:03.436+0000</td></tr><tr><td>13</td><td>106</td><td>69</td><td>423</td><td>IotHub</td><td>2024-04-16T22:44:09.044+0000</td></tr><tr><td>12</td><td>90</td><td>65</td><td>408</td><td>IotHub</td><td>2024-04-16T22:44:16.988+0000</td></tr><tr><td>6</td><td>112</td><td>64</td><td>408</td><td>IotHub</td><td>2024-04-16T22:44:22.622+0000</td></tr><tr><td>13</td><td>95</td><td>67</td><td>455</td><td>IotHub</td><td>2024-04-16T22:44:27.816+0000</td></tr><tr><td>2</td><td>117</td><td>73</td><td>438</td><td>IotHub</td><td>2024-04-16T22:44:33.443+0000</td></tr><tr><td>5</td><td>96</td><td>65</td><td>424</td><td>IotHub</td><td>2024-04-16T22:44:38.648+0000</td></tr><tr><td>14</td><td>104</td><td>75</td><td>481</td><td>IotHub</td><td>2024-04-16T22:44:46.456+0000</td></tr><tr><td>5</td><td>98</td><td>60</td><td>456</td><td>IotHub</td><td>2024-04-16T22:44:54.432+0000</td></tr><tr><td>3</td><td>103</td><td>77</td><td>429</td><td>IotHub</td><td>2024-04-16T22:44:59.712+0000</td></tr><tr><td>14</td><td>115</td><td>78</td><td>458</td><td>IotHub</td><td>2024-04-16T22:45:05.256+0000</td></tr><tr><td>13</td><td>114</td><td>69</td><td>427</td><td>IotHub</td><td>2024-04-16T22:45:10.884+0000</td></tr><tr><td>3</td><td>116</td><td>62</td><td>420</td><td>IotHub</td><td>2024-04-16T22:45:16.084+0000</td></tr><tr><td>7</td><td>111</td><td>61</td><td>449</td><td>IotHub</td><td>2024-04-16T22:45:21.332+0000</td></tr><tr><td>13</td><td>104</td><td>74</td><td>426</td><td>IotHub</td><td>2024-04-16T22:45:36.984+0000</td></tr><tr><td>13</td><td>118</td><td>70</td><td>471</td><td>IotHub</td><td>2024-04-16T22:45:42.552+0000</td></tr><tr><td>12</td><td>103</td><td>61</td><td>402</td><td>IotHub</td><td>2024-04-16T22:45:47.768+0000</td></tr><tr><td>9</td><td>119</td><td>66</td><td>409</td><td>IotHub</td><td>2024-04-16T22:45:53.315+0000</td></tr><tr><td>5</td><td>111</td><td>66</td><td>404</td><td>IotHub</td><td>2024-04-16T22:45:58.508+0000</td></tr><tr><td>9</td><td>107</td><td>76</td><td>480</td><td>IotHub</td><td>2024-04-16T22:46:04.044+0000</td></tr><tr><td>8</td><td>106</td><td>68</td><td>437</td><td>IotHub</td><td>2024-04-16T22:46:09.228+0000</td></tr><tr><td>4</td><td>92</td><td>77</td><td>456</td><td>IotHub</td><td>2024-04-16T22:46:14.500+0000</td></tr><tr><td>3</td><td>115</td><td>79</td><td>466</td><td>IotHub</td><td>2024-04-16T22:46:19.736+0000</td></tr><tr><td>9</td><td>92</td><td>66</td><td>486</td><td>IotHub</td><td>2024-04-16T22:46:25.537+0000</td></tr><tr><td>5</td><td>113</td><td>61</td><td>474</td><td>IotHub</td><td>2024-04-16T22:46:30.748+0000</td></tr><tr><td>14</td><td>110</td><td>66</td><td>406</td><td>IotHub</td><td>2024-04-16T22:46:35.984+0000</td></tr><tr><td>4</td><td>104</td><td>70</td><td>421</td><td>IotHub</td><td>2024-04-16T22:46:41.164+0000</td></tr><tr><td>6</td><td>108</td><td>76</td><td>445</td><td>IotHub</td><td>2024-04-16T22:46:46.684+0000</td></tr><tr><td>6</td><td>99</td><td>62</td><td>466</td><td>IotHub</td><td>2024-04-16T22:46:51.868+0000</td></tr><tr><td>7</td><td>96</td><td>77</td><td>420</td><td>IotHub</td><td>2024-04-16T22:47:00.012+0000</td></tr><tr><td>9</td><td>104</td><td>72</td><td>407</td><td>IotHub</td><td>2024-04-16T22:47:05.196+0000</td></tr><tr><td>1</td><td>94</td><td>71</td><td>493</td><td>IotHub</td><td>2024-04-16T22:47:10.688+0000</td></tr><tr><td>6</td><td>92</td><td>65</td><td>478</td><td>IotHub</td><td>2024-04-16T22:47:15.904+0000</td></tr><tr><td>13</td><td>110</td><td>74</td><td>462</td><td>IotHub</td><td>2024-04-16T22:47:21.140+0000</td></tr><tr><td>6</td><td>113</td><td>75</td><td>458</td><td>IotHub</td><td>2024-04-16T22:47:26.554+0000</td></tr><tr><td>9</td><td>100</td><td>75</td><td>497</td><td>IotHub</td><td>2024-04-16T22:47:31.940+0000</td></tr><tr><td>9</td><td>119</td><td>76</td><td>411</td><td>IotHub</td><td>2024-04-16T22:47:37.180+0000</td></tr><tr><td>1</td><td>107</td><td>65</td><td>413</td><td>IotHub</td><td>2024-04-16T22:47:42.381+0000</td></tr><tr><td>9</td><td>119</td><td>71</td><td>426</td><td>IotHub</td><td>2024-04-16T22:47:47.668+0000</td></tr><tr><td>3</td><td>97</td><td>71</td><td>486</td><td>IotHub</td><td>2024-04-16T22:47:52.849+0000</td></tr><tr><td>14</td><td>117</td><td>73</td><td>499</td><td>IotHub</td><td>2024-04-16T22:47:58.628+0000</td></tr><tr><td>8</td><td>105</td><td>65</td><td>453</td><td>IotHub</td><td>2024-04-16T22:48:03.826+0000</td></tr><tr><td>4</td><td>115</td><td>69</td><td>454</td><td>IotHub</td><td>2024-04-16T22:48:09.201+0000</td></tr><tr><td>12</td><td>114</td><td>66</td><td>412</td><td>IotHub</td><td>2024-04-16T22:48:14.396+0000</td></tr><tr><td>8</td><td>115</td><td>73</td><td>469</td><td>IotHub</td><td>2024-04-16T22:48:19.740+0000</td></tr><tr><td>1</td><td>116</td><td>75</td><td>437</td><td>IotHub</td><td>2024-04-16T22:48:24.952+0000</td></tr><tr><td>9</td><td>98</td><td>76</td><td>484</td><td>IotHub</td><td>2024-04-16T22:48:30.482+0000</td></tr><tr><td>12</td><td>118</td><td>60</td><td>494</td><td>IotHub</td><td>2024-04-16T22:48:35.676+0000</td></tr><tr><td>1</td><td>94</td><td>73</td><td>455</td><td>IotHub</td><td>2024-04-16T22:48:40.936+0000</td></tr><tr><td>4</td><td>114</td><td>73</td><td>430</td><td>IotHub</td><td>2024-04-16T22:48:46.380+0000</td></tr><tr><td>3</td><td>99</td><td>73</td><td>415</td><td>IotHub</td><td>2024-04-16T22:48:51.645+0000</td></tr><tr><td>14</td><td>97</td><td>66</td><td>497</td><td>IotHub</td><td>2024-04-16T22:48:56.857+0000</td></tr><tr><td>13</td><td>113</td><td>65</td><td>478</td><td>IotHub</td><td>2024-04-16T22:49:02.310+0000</td></tr><tr><td>7</td><td>92</td><td>64</td><td>444</td><td>IotHub</td><td>2024-04-16T22:49:07.732+0000</td></tr><tr><td>9</td><td>108</td><td>60</td><td>413</td><td>IotHub</td><td>2024-04-16T22:49:13.612+0000</td></tr><tr><td>14</td><td>112</td><td>75</td><td>444</td><td>IotHub</td><td>2024-04-16T22:49:18.820+0000</td></tr><tr><td>9</td><td>101</td><td>65</td><td>488</td><td>IotHub</td><td>2024-04-16T22:49:25.296+0000</td></tr><tr><td>5</td><td>116</td><td>67</td><td>418</td><td>IotHub</td><td>2024-04-16T22:49:30.488+0000</td></tr><tr><td>7</td><td>103</td><td>66</td><td>448</td><td>IotHub</td><td>2024-04-16T22:49:36.260+0000</td></tr><tr><td>14</td><td>101</td><td>73</td><td>405</td><td>IotHub</td><td>2024-04-16T22:49:41.472+0000</td></tr><tr><td>5</td><td>98</td><td>79</td><td>467</td><td>IotHub</td><td>2024-04-16T22:49:46.740+0000</td></tr><tr><td>13</td><td>106</td><td>67</td><td>497</td><td>IotHub</td><td>2024-04-16T22:49:52.285+0000</td></tr><tr><td>1</td><td>112</td><td>76</td><td>485</td><td>IotHub</td><td>2024-04-16T22:49:57.919+0000</td></tr><tr><td>3</td><td>92</td><td>77</td><td>401</td><td>IotHub</td><td>2024-04-16T22:50:03.135+0000</td></tr><tr><td>13</td><td>110</td><td>73</td><td>493</td><td>IotHub</td><td>2024-04-16T22:50:08.433+0000</td></tr><tr><td>1</td><td>95</td><td>61</td><td>485</td><td>IotHub</td><td>2024-04-16T22:50:14.248+0000</td></tr><tr><td>14</td><td>92</td><td>67</td><td>421</td><td>IotHub</td><td>2024-04-16T22:50:19.852+0000</td></tr><tr><td>6</td><td>104</td><td>66</td><td>439</td><td>IotHub</td><td>2024-04-16T22:50:25.301+0000</td></tr><tr><td>7</td><td>112</td><td>65</td><td>480</td><td>IotHub</td><td>2024-04-16T22:50:30.552+0000</td></tr><tr><td>14</td><td>112</td><td>67</td><td>493</td><td>IotHub</td><td>2024-04-16T22:50:35.752+0000</td></tr><tr><td>14</td><td>96</td><td>79</td><td>450</td><td>IotHub</td><td>2024-04-16T22:50:41.252+0000</td></tr><tr><td>8</td><td>105</td><td>76</td><td>420</td><td>IotHub</td><td>2024-04-16T22:50:46.743+0000</td></tr><tr><td>14</td><td>108</td><td>76</td><td>464</td><td>IotHub</td><td>2024-04-16T22:50:52.128+0000</td></tr><tr><td>4</td><td>102</td><td>60</td><td>449</td><td>IotHub</td><td>2024-04-16T22:50:58.441+0000</td></tr></tbody></table></div>"
      ]
     },
     "metadata": {
      "application/vnd.databricks.v1+output": {
       "addedWidgets": {},
       "aggData": [],
       "aggError": "",
       "aggOverflow": false,
       "aggSchema": [],
       "aggSeriesLimitReached": false,
       "aggType": "",
       "arguments": {},
       "columnCustomDisplayInfos": {},
       "data": [
        [
         11,
         102,
         78,
         463,
         "IotHub",
         "2024-04-16T20:03:51.356+0000"
        ],
        [
         14,
         118,
         68,
         431,
         "IotHub",
         "2024-04-16T20:03:57.504+0000"
        ],
        [
         3,
         116,
         79,
         471,
         "IotHub",
         "2024-04-16T20:04:02.978+0000"
        ],
        [
         4,
         105,
         65,
         449,
         "IotHub",
         "2024-04-16T20:04:08.236+0000"
        ],
        [
         7,
         93,
         65,
         453,
         "IotHub",
         "2024-04-16T20:04:13.992+0000"
        ],
        [
         7,
         94,
         64,
         473,
         "IotHub",
         "2024-04-16T20:04:23.104+0000"
        ],
        [
         12,
         114,
         76,
         480,
         "IotHub",
         "2024-04-16T20:04:28.940+0000"
        ],
        [
         1,
         98,
         68,
         439,
         "IotHub",
         "2024-04-16T20:04:34.227+0000"
        ],
        [
         10,
         112,
         71,
         487,
         "IotHub",
         "2024-04-16T20:04:40.105+0000"
        ],
        [
         5,
         92,
         62,
         496,
         "IotHub",
         "2024-04-16T20:04:45.370+0000"
        ],
        [
         2,
         105,
         70,
         404,
         "IotHub",
         "2024-04-16T20:04:50.572+0000"
        ],
        [
         8,
         106,
         74,
         454,
         "IotHub",
         "2024-04-16T20:04:55.827+0000"
        ],
        [
         10,
         105,
         77,
         415,
         "IotHub",
         "2024-04-16T20:05:01.037+0000"
        ],
        [
         10,
         114,
         78,
         484,
         "IotHub",
         "2024-04-16T20:05:06.276+0000"
        ],
        [
         13,
         106,
         73,
         486,
         "IotHub",
         "2024-04-16T20:05:11.474+0000"
        ],
        [
         3,
         107,
         76,
         466,
         "IotHub",
         "2024-04-16T20:05:16.744+0000"
        ],
        [
         10,
         114,
         67,
         440,
         "IotHub",
         "2024-04-16T20:05:22.002+0000"
        ],
        [
         13,
         100,
         68,
         459,
         "IotHub",
         "2024-04-16T20:05:27.249+0000"
        ],
        [
         10,
         107,
         61,
         489,
         "IotHub",
         "2024-04-16T20:05:32.452+0000"
        ],
        [
         2,
         100,
         69,
         409,
         "IotHub",
         "2024-04-16T20:05:37.836+0000"
        ],
        [
         8,
         115,
         60,
         406,
         "IotHub",
         "2024-04-16T20:05:43.040+0000"
        ],
        [
         3,
         113,
         65,
         481,
         "IotHub",
         "2024-04-16T20:05:48.264+0000"
        ],
        [
         14,
         91,
         68,
         460,
         "IotHub",
         "2024-04-16T20:05:54.068+0000"
        ],
        [
         11,
         94,
         64,
         453,
         "IotHub",
         "2024-04-16T20:05:59.876+0000"
        ],
        [
         10,
         93,
         73,
         499,
         "IotHub",
         "2024-04-16T20:06:05.057+0000"
        ],
        [
         4,
         91,
         73,
         437,
         "IotHub",
         "2024-04-16T20:06:10.288+0000"
        ],
        [
         13,
         91,
         68,
         408,
         "IotHub",
         "2024-04-16T20:06:15.490+0000"
        ],
        [
         11,
         106,
         62,
         474,
         "IotHub",
         "2024-04-16T20:06:20.748+0000"
        ],
        [
         6,
         93,
         67,
         441,
         "IotHub",
         "2024-04-16T20:06:25.975+0000"
        ],
        [
         7,
         95,
         62,
         442,
         "IotHub",
         "2024-04-16T20:06:31.216+0000"
        ],
        [
         5,
         96,
         60,
         471,
         "IotHub",
         "2024-04-16T20:06:36.401+0000"
        ],
        [
         14,
         105,
         65,
         468,
         "IotHub",
         "2024-04-16T20:06:41.736+0000"
        ],
        [
         12,
         118,
         77,
         447,
         "IotHub",
         "2024-04-16T20:06:50.972+0000"
        ],
        [
         6,
         110,
         71,
         454,
         "IotHub",
         "2024-04-16T20:06:56.467+0000"
        ],
        [
         6,
         111,
         76,
         445,
         "IotHub",
         "2024-04-16T20:07:01.716+0000"
        ],
        [
         13,
         116,
         76,
         462,
         "IotHub",
         "2024-04-16T20:07:06.899+0000"
        ],
        [
         8,
         114,
         72,
         418,
         "IotHub",
         "2024-04-16T20:07:12.360+0000"
        ],
        [
         4,
         117,
         77,
         450,
         "IotHub",
         "2024-04-16T20:07:17.558+0000"
        ],
        [
         1,
         113,
         64,
         440,
         "IotHub",
         "2024-04-16T20:07:22.836+0000"
        ],
        [
         5,
         114,
         74,
         403,
         "IotHub",
         "2024-04-16T20:07:28.432+0000"
        ],
        [
         1,
         117,
         60,
         481,
         "IotHub",
         "2024-04-16T20:07:33.673+0000"
        ],
        [
         1,
         97,
         76,
         403,
         "IotHub",
         "2024-04-16T20:07:38.960+0000"
        ],
        [
         5,
         111,
         74,
         420,
         "IotHub",
         "2024-04-16T20:07:44.384+0000"
        ],
        [
         13,
         111,
         66,
         474,
         "IotHub",
         "2024-04-16T20:07:49.572+0000"
        ],
        [
         11,
         119,
         66,
         487,
         "IotHub",
         "2024-04-16T20:07:54.820+0000"
        ],
        [
         6,
         101,
         73,
         456,
         "IotHub",
         "2024-04-16T20:08:00.012+0000"
        ],
        [
         7,
         99,
         70,
         467,
         "IotHub",
         "2024-04-16T20:08:05.240+0000"
        ],
        [
         5,
         103,
         69,
         461,
         "IotHub",
         "2024-04-16T20:08:10.434+0000"
        ],
        [
         12,
         116,
         62,
         440,
         "IotHub",
         "2024-04-16T20:08:15.668+0000"
        ],
        [
         6,
         119,
         65,
         407,
         "IotHub",
         "2024-04-16T20:08:20.873+0000"
        ],
        [
         4,
         106,
         66,
         400,
         "IotHub",
         "2024-04-16T20:08:26.098+0000"
        ],
        [
         1,
         115,
         68,
         404,
         "IotHub",
         "2024-04-16T20:08:31.364+0000"
        ],
        [
         4,
         90,
         78,
         432,
         "IotHub",
         "2024-04-16T20:08:36.583+0000"
        ],
        [
         13,
         97,
         69,
         465,
         "IotHub",
         "2024-04-16T20:08:41.763+0000"
        ],
        [
         13,
         114,
         72,
         474,
         "IotHub",
         "2024-04-16T20:08:47.000+0000"
        ],
        [
         6,
         94,
         66,
         412,
         "IotHub",
         "2024-04-16T20:08:56.419+0000"
        ],
        [
         14,
         96,
         72,
         466,
         "IotHub",
         "2024-04-16T20:09:02.296+0000"
        ],
        [
         4,
         103,
         79,
         484,
         "IotHub",
         "2024-04-16T20:09:07.479+0000"
        ],
        [
         4,
         95,
         73,
         462,
         "IotHub",
         "2024-04-16T20:09:13.168+0000"
        ],
        [
         4,
         94,
         68,
         447,
         "IotHub",
         "2024-04-16T20:09:18.348+0000"
        ],
        [
         10,
         97,
         69,
         483,
         "IotHub",
         "2024-04-16T20:09:24.579+0000"
        ],
        [
         10,
         116,
         62,
         400,
         "IotHub",
         "2024-04-16T20:09:30.020+0000"
        ],
        [
         12,
         117,
         75,
         475,
         "IotHub",
         "2024-04-16T20:09:35.495+0000"
        ],
        [
         1,
         116,
         66,
         469,
         "IotHub",
         "2024-04-16T20:09:40.688+0000"
        ],
        [
         1,
         91,
         67,
         475,
         "IotHub",
         "2024-04-16T20:09:45.917+0000"
        ],
        [
         11,
         90,
         69,
         467,
         "IotHub",
         "2024-04-16T20:09:51.108+0000"
        ],
        [
         5,
         100,
         66,
         436,
         "IotHub",
         "2024-04-16T20:09:56.336+0000"
        ],
        [
         1,
         93,
         71,
         479,
         "IotHub",
         "2024-04-16T20:10:01.520+0000"
        ],
        [
         7,
         94,
         65,
         495,
         "IotHub",
         "2024-04-16T20:10:06.731+0000"
        ],
        [
         6,
         113,
         73,
         407,
         "IotHub",
         "2024-04-16T20:10:11.928+0000"
        ],
        [
         11,
         105,
         72,
         403,
         "IotHub",
         "2024-04-16T20:10:17.208+0000"
        ],
        [
         12,
         117,
         63,
         493,
         "IotHub",
         "2024-04-16T20:10:22.400+0000"
        ],
        [
         4,
         110,
         69,
         423,
         "IotHub",
         "2024-04-16T20:10:27.728+0000"
        ],
        [
         10,
         90,
         79,
         476,
         "IotHub",
         "2024-04-16T20:10:32.928+0000"
        ],
        [
         9,
         93,
         63,
         457,
         "IotHub",
         "2024-04-16T20:10:38.472+0000"
        ],
        [
         12,
         109,
         79,
         463,
         "IotHub",
         "2024-04-16T20:10:43.712+0000"
        ],
        [
         3,
         104,
         64,
         427,
         "IotHub",
         "2024-04-16T20:10:49.128+0000"
        ],
        [
         7,
         116,
         67,
         461,
         "IotHub",
         "2024-04-16T20:10:54.600+0000"
        ],
        [
         8,
         117,
         64,
         474,
         "IotHub",
         "2024-04-16T20:11:00.296+0000"
        ],
        [
         2,
         93,
         63,
         426,
         "IotHub",
         "2024-04-16T20:11:05.480+0000"
        ],
        [
         14,
         119,
         70,
         484,
         "IotHub",
         "2024-04-16T20:11:10.937+0000"
        ],
        [
         12,
         119,
         67,
         486,
         "IotHub",
         "2024-04-16T20:11:16.134+0000"
        ],
        [
         6,
         106,
         72,
         485,
         "IotHub",
         "2024-04-16T20:11:21.436+0000"
        ],
        [
         7,
         117,
         65,
         421,
         "IotHub",
         "2024-04-16T20:11:26.634+0000"
        ],
        [
         7,
         116,
         63,
         430,
         "IotHub",
         "2024-04-16T20:11:32.134+0000"
        ],
        [
         2,
         111,
         75,
         424,
         "IotHub",
         "2024-04-16T20:11:37.320+0000"
        ],
        [
         14,
         106,
         74,
         404,
         "IotHub",
         "2024-04-16T20:11:42.707+0000"
        ],
        [
         7,
         96,
         71,
         414,
         "IotHub",
         "2024-04-16T20:11:47.928+0000"
        ],
        [
         5,
         103,
         78,
         401,
         "IotHub",
         "2024-04-16T20:11:53.237+0000"
        ],
        [
         4,
         105,
         60,
         461,
         "IotHub",
         "2024-04-16T20:11:58.436+0000"
        ],
        [
         14,
         96,
         72,
         478,
         "IotHub",
         "2024-04-16T20:12:04.288+0000"
        ],
        [
         4,
         108,
         72,
         489,
         "IotHub",
         "2024-04-16T20:12:09.478+0000"
        ],
        [
         5,
         101,
         76,
         499,
         "IotHub",
         "2024-04-16T20:12:14.704+0000"
        ],
        [
         9,
         104,
         67,
         446,
         "IotHub",
         "2024-04-16T20:51:04.661+0000"
        ],
        [
         6,
         115,
         67,
         478,
         "IotHub",
         "2024-04-16T20:51:10.476+0000"
        ],
        [
         2,
         113,
         64,
         417,
         "IotHub",
         "2024-04-16T20:51:15.908+0000"
        ],
        [
         5,
         104,
         70,
         408,
         "IotHub",
         "2024-04-16T20:51:21.540+0000"
        ],
        [
         4,
         118,
         63,
         421,
         "IotHub",
         "2024-04-16T20:51:27.164+0000"
        ],
        [
         3,
         103,
         64,
         443,
         "IotHub",
         "2024-04-16T20:51:32.424+0000"
        ],
        [
         13,
         101,
         67,
         452,
         "IotHub",
         "2024-04-16T20:51:38.324+0000"
        ],
        [
         9,
         115,
         68,
         429,
         "IotHub",
         "2024-04-16T20:51:43.952+0000"
        ],
        [
         6,
         114,
         72,
         474,
         "IotHub",
         "2024-04-16T20:51:49.136+0000"
        ],
        [
         6,
         118,
         72,
         426,
         "IotHub",
         "2024-04-16T20:51:54.904+0000"
        ],
        [
         13,
         119,
         71,
         426,
         "IotHub",
         "2024-04-16T20:52:00.100+0000"
        ],
        [
         2,
         102,
         74,
         437,
         "IotHub",
         "2024-04-16T20:52:05.752+0000"
        ],
        [
         4,
         118,
         67,
         413,
         "IotHub",
         "2024-04-16T20:52:11.168+0000"
        ],
        [
         13,
         113,
         77,
         452,
         "IotHub",
         "2024-04-16T20:52:17.136+0000"
        ],
        [
         11,
         117,
         63,
         405,
         "IotHub",
         "2024-04-16T20:52:22.323+0000"
        ],
        [
         6,
         107,
         61,
         459,
         "IotHub",
         "2024-04-16T20:52:28.301+0000"
        ],
        [
         9,
         95,
         62,
         446,
         "IotHub",
         "2024-04-16T20:52:33.492+0000"
        ],
        [
         1,
         93,
         71,
         446,
         "IotHub",
         "2024-04-16T20:52:39.020+0000"
        ],
        [
         8,
         90,
         72,
         438,
         "IotHub",
         "2024-04-16T20:52:44.652+0000"
        ],
        [
         14,
         107,
         71,
         432,
         "IotHub",
         "2024-04-16T20:52:50.191+0000"
        ],
        [
         9,
         105,
         69,
         464,
         "IotHub",
         "2024-04-16T20:52:55.683+0000"
        ],
        [
         8,
         101,
         69,
         416,
         "IotHub",
         "2024-04-16T20:53:01.132+0000"
        ],
        [
         5,
         109,
         79,
         417,
         "IotHub",
         "2024-04-16T20:53:06.347+0000"
        ],
        [
         11,
         96,
         72,
         403,
         "IotHub",
         "2024-04-16T20:53:11.628+0000"
        ],
        [
         7,
         99,
         64,
         486,
         "IotHub",
         "2024-04-16T20:53:17.446+0000"
        ],
        [
         4,
         95,
         61,
         450,
         "IotHub",
         "2024-04-16T20:53:22.693+0000"
        ],
        [
         8,
         104,
         72,
         432,
         "IotHub",
         "2024-04-16T20:53:27.900+0000"
        ],
        [
         4,
         94,
         70,
         406,
         "IotHub",
         "2024-04-16T20:53:33.225+0000"
        ],
        [
         12,
         92,
         78,
         499,
         "IotHub",
         "2024-04-16T20:53:38.444+0000"
        ],
        [
         1,
         92,
         64,
         440,
         "IotHub",
         "2024-04-16T20:53:43.794+0000"
        ],
        [
         8,
         107,
         61,
         442,
         "IotHub",
         "2024-04-16T20:53:49.623+0000"
        ],
        [
         10,
         111,
         73,
         459,
         "IotHub",
         "2024-04-16T20:54:01.168+0000"
        ],
        [
         11,
         103,
         78,
         498,
         "IotHub",
         "2024-04-16T20:54:06.374+0000"
        ],
        [
         1,
         101,
         79,
         415,
         "IotHub",
         "2024-04-16T20:54:11.785+0000"
        ],
        [
         2,
         109,
         75,
         410,
         "IotHub",
         "2024-04-16T20:54:16.988+0000"
        ],
        [
         13,
         112,
         70,
         489,
         "IotHub",
         "2024-04-16T20:54:22.237+0000"
        ],
        [
         14,
         119,
         64,
         413,
         "IotHub",
         "2024-04-16T20:54:27.441+0000"
        ],
        [
         6,
         117,
         73,
         454,
         "IotHub",
         "2024-04-16T20:54:32.712+0000"
        ],
        [
         8,
         118,
         74,
         437,
         "IotHub",
         "2024-04-16T20:54:37.924+0000"
        ],
        [
         1,
         117,
         75,
         486,
         "IotHub",
         "2024-04-16T20:54:43.672+0000"
        ],
        [
         2,
         91,
         61,
         494,
         "IotHub",
         "2024-04-16T20:54:48.888+0000"
        ],
        [
         8,
         115,
         76,
         421,
         "IotHub",
         "2024-04-16T20:54:54.132+0000"
        ],
        [
         13,
         91,
         62,
         498,
         "IotHub",
         "2024-04-16T20:54:59.524+0000"
        ],
        [
         13,
         108,
         61,
         440,
         "IotHub",
         "2024-04-16T20:55:04.727+0000"
        ],
        [
         13,
         115,
         78,
         432,
         "IotHub",
         "2024-04-16T20:55:10.975+0000"
        ],
        [
         8,
         108,
         65,
         454,
         "IotHub",
         "2024-04-16T20:55:16.395+0000"
        ],
        [
         13,
         117,
         72,
         409,
         "IotHub",
         "2024-04-16T20:55:21.824+0000"
        ],
        [
         13,
         112,
         64,
         496,
         "IotHub",
         "2024-04-16T20:55:27.588+0000"
        ],
        [
         10,
         115,
         70,
         449,
         "IotHub",
         "2024-04-16T20:55:32.830+0000"
        ],
        [
         4,
         116,
         67,
         486,
         "IotHub",
         "2024-04-16T20:55:38.625+0000"
        ],
        [
         7,
         93,
         72,
         445,
         "IotHub",
         "2024-04-16T20:55:44.051+0000"
        ],
        [
         8,
         99,
         76,
         470,
         "IotHub",
         "2024-04-16T20:55:49.249+0000"
        ],
        [
         11,
         112,
         61,
         410,
         "IotHub",
         "2024-04-16T20:55:54.588+0000"
        ],
        [
         5,
         114,
         67,
         498,
         "IotHub",
         "2024-04-16T20:56:00.040+0000"
        ],
        [
         2,
         103,
         61,
         439,
         "IotHub",
         "2024-04-16T20:56:05.289+0000"
        ],
        [
         5,
         118,
         75,
         484,
         "IotHub",
         "2024-04-16T20:56:10.496+0000"
        ],
        [
         5,
         92,
         62,
         458,
         "IotHub",
         "2024-04-16T20:56:16.052+0000"
        ],
        [
         12,
         118,
         72,
         444,
         "IotHub",
         "2024-04-16T20:56:21.620+0000"
        ],
        [
         12,
         99,
         74,
         489,
         "IotHub",
         "2024-04-16T20:56:27.160+0000"
        ],
        [
         13,
         104,
         71,
         418,
         "IotHub",
         "2024-04-16T20:56:32.360+0000"
        ],
        [
         9,
         110,
         63,
         420,
         "IotHub",
         "2024-04-16T20:56:38.120+0000"
        ],
        [
         12,
         109,
         63,
         425,
         "IotHub",
         "2024-04-16T20:56:43.299+0000"
        ],
        [
         8,
         94,
         68,
         496,
         "IotHub",
         "2024-04-16T20:56:48.567+0000"
        ],
        [
         13,
         110,
         77,
         437,
         "IotHub",
         "2024-04-16T20:56:53.786+0000"
        ],
        [
         1,
         111,
         73,
         422,
         "IotHub",
         "2024-04-16T20:56:59.046+0000"
        ],
        [
         11,
         106,
         73,
         413,
         "IotHub",
         "2024-04-16T20:57:04.236+0000"
        ],
        [
         5,
         111,
         62,
         400,
         "IotHub",
         "2024-04-16T20:57:09.863+0000"
        ],
        [
         12,
         117,
         79,
         478,
         "IotHub",
         "2024-04-16T20:57:15.100+0000"
        ],
        [
         4,
         104,
         63,
         493,
         "IotHub",
         "2024-04-16T20:57:20.714+0000"
        ],
        [
         10,
         111,
         71,
         404,
         "IotHub",
         "2024-04-16T20:57:26.245+0000"
        ],
        [
         9,
         91,
         75,
         425,
         "IotHub",
         "2024-04-16T20:57:31.968+0000"
        ],
        [
         12,
         91,
         72,
         499,
         "IotHub",
         "2024-04-16T20:57:37.162+0000"
        ],
        [
         14,
         101,
         76,
         496,
         "IotHub",
         "2024-04-16T20:57:42.939+0000"
        ],
        [
         12,
         92,
         61,
         489,
         "IotHub",
         "2024-04-16T20:57:48.152+0000"
        ],
        [
         9,
         119,
         78,
         403,
         "IotHub",
         "2024-04-16T20:57:53.422+0000"
        ],
        [
         9,
         107,
         71,
         457,
         "IotHub",
         "2024-04-16T20:57:58.625+0000"
        ],
        [
         7,
         118,
         70,
         434,
         "IotHub",
         "2024-04-16T20:58:03.914+0000"
        ],
        [
         7,
         109,
         71,
         424,
         "IotHub",
         "2024-04-16T20:58:09.126+0000"
        ],
        [
         3,
         94,
         67,
         461,
         "IotHub",
         "2024-04-16T20:58:14.388+0000"
        ],
        [
         10,
         90,
         60,
         411,
         "IotHub",
         "2024-04-16T20:58:19.587+0000"
        ],
        [
         14,
         118,
         78,
         430,
         "IotHub",
         "2024-04-16T20:58:25.618+0000"
        ],
        [
         1,
         107,
         60,
         423,
         "IotHub",
         "2024-04-16T20:58:31.057+0000"
        ],
        [
         12,
         111,
         73,
         458,
         "IotHub",
         "2024-04-16T20:58:36.608+0000"
        ],
        [
         11,
         110,
         70,
         468,
         "IotHub",
         "2024-04-16T20:58:41.804+0000"
        ],
        [
         10,
         105,
         63,
         416,
         "IotHub",
         "2024-04-16T20:58:47.067+0000"
        ],
        [
         9,
         114,
         64,
         472,
         "IotHub",
         "2024-04-16T20:58:52.271+0000"
        ],
        [
         8,
         93,
         75,
         400,
         "IotHub",
         "2024-04-16T20:58:57.503+0000"
        ],
        [
         7,
         93,
         62,
         436,
         "IotHub",
         "2024-04-16T20:59:05.746+0000"
        ],
        [
         7,
         96,
         79,
         491,
         "IotHub",
         "2024-04-16T20:59:11.012+0000"
        ],
        [
         8,
         116,
         68,
         435,
         "IotHub",
         "2024-04-16T20:59:16.207+0000"
        ],
        [
         3,
         114,
         62,
         475,
         "IotHub",
         "2024-04-16T20:59:21.952+0000"
        ],
        [
         6,
         113,
         77,
         429,
         "IotHub",
         "2024-04-16T20:59:27.157+0000"
        ],
        [
         10,
         112,
         61,
         423,
         "IotHub",
         "2024-04-16T20:59:33.221+0000"
        ],
        [
         4,
         119,
         72,
         495,
         "IotHub",
         "2024-04-16T20:59:38.424+0000"
        ],
        [
         1,
         100,
         67,
         455,
         "IotHub",
         "2024-04-16T20:59:43.682+0000"
        ],
        [
         1,
         102,
         79,
         441,
         "IotHub",
         "2024-04-16T20:59:48.898+0000"
        ],
        [
         13,
         103,
         71,
         463,
         "IotHub",
         "2024-04-16T20:59:54.155+0000"
        ],
        [
         2,
         117,
         60,
         441,
         "IotHub",
         "2024-04-16T20:59:59.352+0000"
        ],
        [
         14,
         93,
         77,
         454,
         "IotHub",
         "2024-04-16T21:00:04.602+0000"
        ],
        [
         4,
         96,
         70,
         424,
         "IotHub",
         "2024-04-16T22:41:26.746+0000"
        ],
        [
         1,
         110,
         68,
         400,
         "IotHub",
         "2024-04-16T22:41:34.800+0000"
        ],
        [
         3,
         91,
         74,
         415,
         "IotHub",
         "2024-04-16T22:41:43.204+0000"
        ],
        [
         5,
         92,
         79,
         418,
         "IotHub",
         "2024-04-16T22:41:50.944+0000"
        ],
        [
         4,
         98,
         78,
         497,
         "IotHub",
         "2024-04-16T22:41:56.117+0000"
        ],
        [
         9,
         104,
         72,
         461,
         "IotHub",
         "2024-04-16T22:42:03.852+0000"
        ],
        [
         3,
         94,
         64,
         465,
         "IotHub",
         "2024-04-16T22:42:11.832+0000"
        ],
        [
         2,
         100,
         72,
         433,
         "IotHub",
         "2024-04-16T22:42:19.620+0000"
        ],
        [
         14,
         106,
         74,
         457,
         "IotHub",
         "2024-04-16T22:42:27.297+0000"
        ],
        [
         14,
         91,
         68,
         490,
         "IotHub",
         "2024-04-16T22:42:32.584+0000"
        ],
        [
         6,
         92,
         66,
         415,
         "IotHub",
         "2024-04-16T22:42:38.660+0000"
        ],
        [
         14,
         117,
         65,
         456,
         "IotHub",
         "2024-04-16T22:42:43.848+0000"
        ],
        [
         12,
         99,
         69,
         495,
         "IotHub",
         "2024-04-16T22:42:54.868+0000"
        ],
        [
         4,
         102,
         78,
         456,
         "IotHub",
         "2024-04-16T22:43:00.159+0000"
        ],
        [
         6,
         90,
         78,
         431,
         "IotHub",
         "2024-04-16T22:43:05.380+0000"
        ],
        [
         10,
         111,
         79,
         489,
         "IotHub",
         "2024-04-16T22:43:12.968+0000"
        ],
        [
         11,
         98,
         61,
         448,
         "IotHub",
         "2024-04-16T22:43:18.196+0000"
        ],
        [
         12,
         116,
         63,
         447,
         "IotHub",
         "2024-04-16T22:43:23.468+0000"
        ],
        [
         13,
         116,
         67,
         448,
         "IotHub",
         "2024-04-16T22:43:28.661+0000"
        ],
        [
         1,
         91,
         60,
         421,
         "IotHub",
         "2024-04-16T22:43:33.944+0000"
        ],
        [
         11,
         92,
         74,
         470,
         "IotHub",
         "2024-04-16T22:43:39.476+0000"
        ],
        [
         10,
         90,
         78,
         451,
         "IotHub",
         "2024-04-16T22:43:45.108+0000"
        ],
        [
         2,
         107,
         78,
         483,
         "IotHub",
         "2024-04-16T22:43:53.008+0000"
        ],
        [
         9,
         98,
         69,
         413,
         "IotHub",
         "2024-04-16T22:43:58.244+0000"
        ],
        [
         5,
         98,
         72,
         426,
         "IotHub",
         "2024-04-16T22:44:03.436+0000"
        ],
        [
         13,
         106,
         69,
         423,
         "IotHub",
         "2024-04-16T22:44:09.044+0000"
        ],
        [
         12,
         90,
         65,
         408,
         "IotHub",
         "2024-04-16T22:44:16.988+0000"
        ],
        [
         6,
         112,
         64,
         408,
         "IotHub",
         "2024-04-16T22:44:22.622+0000"
        ],
        [
         13,
         95,
         67,
         455,
         "IotHub",
         "2024-04-16T22:44:27.816+0000"
        ],
        [
         2,
         117,
         73,
         438,
         "IotHub",
         "2024-04-16T22:44:33.443+0000"
        ],
        [
         5,
         96,
         65,
         424,
         "IotHub",
         "2024-04-16T22:44:38.648+0000"
        ],
        [
         14,
         104,
         75,
         481,
         "IotHub",
         "2024-04-16T22:44:46.456+0000"
        ],
        [
         5,
         98,
         60,
         456,
         "IotHub",
         "2024-04-16T22:44:54.432+0000"
        ],
        [
         3,
         103,
         77,
         429,
         "IotHub",
         "2024-04-16T22:44:59.712+0000"
        ],
        [
         14,
         115,
         78,
         458,
         "IotHub",
         "2024-04-16T22:45:05.256+0000"
        ],
        [
         13,
         114,
         69,
         427,
         "IotHub",
         "2024-04-16T22:45:10.884+0000"
        ],
        [
         3,
         116,
         62,
         420,
         "IotHub",
         "2024-04-16T22:45:16.084+0000"
        ],
        [
         7,
         111,
         61,
         449,
         "IotHub",
         "2024-04-16T22:45:21.332+0000"
        ],
        [
         13,
         104,
         74,
         426,
         "IotHub",
         "2024-04-16T22:45:36.984+0000"
        ],
        [
         13,
         118,
         70,
         471,
         "IotHub",
         "2024-04-16T22:45:42.552+0000"
        ],
        [
         12,
         103,
         61,
         402,
         "IotHub",
         "2024-04-16T22:45:47.768+0000"
        ],
        [
         9,
         119,
         66,
         409,
         "IotHub",
         "2024-04-16T22:45:53.315+0000"
        ],
        [
         5,
         111,
         66,
         404,
         "IotHub",
         "2024-04-16T22:45:58.508+0000"
        ],
        [
         9,
         107,
         76,
         480,
         "IotHub",
         "2024-04-16T22:46:04.044+0000"
        ],
        [
         8,
         106,
         68,
         437,
         "IotHub",
         "2024-04-16T22:46:09.228+0000"
        ],
        [
         4,
         92,
         77,
         456,
         "IotHub",
         "2024-04-16T22:46:14.500+0000"
        ],
        [
         3,
         115,
         79,
         466,
         "IotHub",
         "2024-04-16T22:46:19.736+0000"
        ],
        [
         9,
         92,
         66,
         486,
         "IotHub",
         "2024-04-16T22:46:25.537+0000"
        ],
        [
         5,
         113,
         61,
         474,
         "IotHub",
         "2024-04-16T22:46:30.748+0000"
        ],
        [
         14,
         110,
         66,
         406,
         "IotHub",
         "2024-04-16T22:46:35.984+0000"
        ],
        [
         4,
         104,
         70,
         421,
         "IotHub",
         "2024-04-16T22:46:41.164+0000"
        ],
        [
         6,
         108,
         76,
         445,
         "IotHub",
         "2024-04-16T22:46:46.684+0000"
        ],
        [
         6,
         99,
         62,
         466,
         "IotHub",
         "2024-04-16T22:46:51.868+0000"
        ],
        [
         7,
         96,
         77,
         420,
         "IotHub",
         "2024-04-16T22:47:00.012+0000"
        ],
        [
         9,
         104,
         72,
         407,
         "IotHub",
         "2024-04-16T22:47:05.196+0000"
        ],
        [
         1,
         94,
         71,
         493,
         "IotHub",
         "2024-04-16T22:47:10.688+0000"
        ],
        [
         6,
         92,
         65,
         478,
         "IotHub",
         "2024-04-16T22:47:15.904+0000"
        ],
        [
         13,
         110,
         74,
         462,
         "IotHub",
         "2024-04-16T22:47:21.140+0000"
        ],
        [
         6,
         113,
         75,
         458,
         "IotHub",
         "2024-04-16T22:47:26.554+0000"
        ],
        [
         9,
         100,
         75,
         497,
         "IotHub",
         "2024-04-16T22:47:31.940+0000"
        ],
        [
         9,
         119,
         76,
         411,
         "IotHub",
         "2024-04-16T22:47:37.180+0000"
        ],
        [
         1,
         107,
         65,
         413,
         "IotHub",
         "2024-04-16T22:47:42.381+0000"
        ],
        [
         9,
         119,
         71,
         426,
         "IotHub",
         "2024-04-16T22:47:47.668+0000"
        ],
        [
         3,
         97,
         71,
         486,
         "IotHub",
         "2024-04-16T22:47:52.849+0000"
        ],
        [
         14,
         117,
         73,
         499,
         "IotHub",
         "2024-04-16T22:47:58.628+0000"
        ],
        [
         8,
         105,
         65,
         453,
         "IotHub",
         "2024-04-16T22:48:03.826+0000"
        ],
        [
         4,
         115,
         69,
         454,
         "IotHub",
         "2024-04-16T22:48:09.201+0000"
        ],
        [
         12,
         114,
         66,
         412,
         "IotHub",
         "2024-04-16T22:48:14.396+0000"
        ],
        [
         8,
         115,
         73,
         469,
         "IotHub",
         "2024-04-16T22:48:19.740+0000"
        ],
        [
         1,
         116,
         75,
         437,
         "IotHub",
         "2024-04-16T22:48:24.952+0000"
        ],
        [
         9,
         98,
         76,
         484,
         "IotHub",
         "2024-04-16T22:48:30.482+0000"
        ],
        [
         12,
         118,
         60,
         494,
         "IotHub",
         "2024-04-16T22:48:35.676+0000"
        ],
        [
         1,
         94,
         73,
         455,
         "IotHub",
         "2024-04-16T22:48:40.936+0000"
        ],
        [
         4,
         114,
         73,
         430,
         "IotHub",
         "2024-04-16T22:48:46.380+0000"
        ],
        [
         3,
         99,
         73,
         415,
         "IotHub",
         "2024-04-16T22:48:51.645+0000"
        ],
        [
         14,
         97,
         66,
         497,
         "IotHub",
         "2024-04-16T22:48:56.857+0000"
        ],
        [
         13,
         113,
         65,
         478,
         "IotHub",
         "2024-04-16T22:49:02.310+0000"
        ],
        [
         7,
         92,
         64,
         444,
         "IotHub",
         "2024-04-16T22:49:07.732+0000"
        ],
        [
         9,
         108,
         60,
         413,
         "IotHub",
         "2024-04-16T22:49:13.612+0000"
        ],
        [
         14,
         112,
         75,
         444,
         "IotHub",
         "2024-04-16T22:49:18.820+0000"
        ],
        [
         9,
         101,
         65,
         488,
         "IotHub",
         "2024-04-16T22:49:25.296+0000"
        ],
        [
         5,
         116,
         67,
         418,
         "IotHub",
         "2024-04-16T22:49:30.488+0000"
        ],
        [
         7,
         103,
         66,
         448,
         "IotHub",
         "2024-04-16T22:49:36.260+0000"
        ],
        [
         14,
         101,
         73,
         405,
         "IotHub",
         "2024-04-16T22:49:41.472+0000"
        ],
        [
         5,
         98,
         79,
         467,
         "IotHub",
         "2024-04-16T22:49:46.740+0000"
        ],
        [
         13,
         106,
         67,
         497,
         "IotHub",
         "2024-04-16T22:49:52.285+0000"
        ],
        [
         1,
         112,
         76,
         485,
         "IotHub",
         "2024-04-16T22:49:57.919+0000"
        ],
        [
         3,
         92,
         77,
         401,
         "IotHub",
         "2024-04-16T22:50:03.135+0000"
        ],
        [
         13,
         110,
         73,
         493,
         "IotHub",
         "2024-04-16T22:50:08.433+0000"
        ],
        [
         1,
         95,
         61,
         485,
         "IotHub",
         "2024-04-16T22:50:14.248+0000"
        ],
        [
         14,
         92,
         67,
         421,
         "IotHub",
         "2024-04-16T22:50:19.852+0000"
        ],
        [
         6,
         104,
         66,
         439,
         "IotHub",
         "2024-04-16T22:50:25.301+0000"
        ],
        [
         7,
         112,
         65,
         480,
         "IotHub",
         "2024-04-16T22:50:30.552+0000"
        ],
        [
         14,
         112,
         67,
         493,
         "IotHub",
         "2024-04-16T22:50:35.752+0000"
        ],
        [
         14,
         96,
         79,
         450,
         "IotHub",
         "2024-04-16T22:50:41.252+0000"
        ],
        [
         8,
         105,
         76,
         420,
         "IotHub",
         "2024-04-16T22:50:46.743+0000"
        ],
        [
         14,
         108,
         76,
         464,
         "IotHub",
         "2024-04-16T22:50:52.128+0000"
        ],
        [
         4,
         102,
         60,
         449,
         "IotHub",
         "2024-04-16T22:50:58.441+0000"
        ]
       ],
       "datasetInfos": [],
       "dbfsResultPath": null,
       "isJsonSchema": true,
       "metadata": {},
       "overflow": false,
       "plotOptions": {
        "customPlotOptions": {},
        "displayType": "table",
        "pivotAggregation": null,
        "pivotColumns": null,
        "xColumns": null,
        "yColumns": null
       },
       "removedWidgets": [],
       "schema": [
        {
         "metadata": "{}",
         "name": "device_id",
         "type": "\"integer\""
        },
        {
         "metadata": "{}",
         "name": "tmp",
         "type": "\"integer\""
        },
        {
         "metadata": "{}",
         "name": "hmdt",
         "type": "\"integer\""
        },
        {
         "metadata": "{}",
         "name": "prsre",
         "type": "\"integer\""
        },
        {
         "metadata": "{}",
         "name": "source",
         "type": "\"string\""
        },
        {
         "metadata": "{}",
         "name": "ts",
         "type": "\"timestamp\""
        }
       ],
       "type": "table"
      }
     },
     "output_type": "display_data"
    }
   ],
   "source": [
    "json_schema = StructType([\n",
    "    StructField(\"device_id\", IntegerType()),\n",
    "    StructField(\"tmp\", IntegerType()),\n",
    "    StructField(\"hmdt\", IntegerType()),\n",
    "    StructField(\"prsre\", IntegerType()),\n",
    "    StructField(\"ts\", TimestampType()),\n",
    "    StructField(\"source\", StringType())\n",
    "])\n",
    "\n",
    "sensorData = sensorRawData.withColumn(\"body\",col(\"body\").cast(\"string\")).withColumn(\"body\",from_json(col(\"body\"), json_schema))\n",
    "#sensorData.display()\n",
    "\n",
    "sensorData = sensorData.select(\"body.device_id\",\"body.tmp\",\"body.hmdt\",\"body.prsre\",\"body.source\",\"body.ts\")\n",
    "sensorData.display()"
   ]
  },
  {
   "cell_type": "code",
   "execution_count": 0,
   "metadata": {
    "application/vnd.databricks.v1+cell": {
     "cellMetadata": {
      "byteLimit": 2048000,
      "rowLimit": 10000
     },
     "inputWidgets": {},
     "nuid": "175ae716-c9f4-444a-bec0-d6d4d27d5e4a",
     "showTitle": false,
     "title": ""
    }
   },
   "outputs": [
    {
     "output_type": "display_data",
     "data": {
      "text/html": [
       "<style scoped>\n",
       "  .ansiout {\n",
       "    display: block;\n",
       "    unicode-bidi: embed;\n",
       "    white-space: pre-wrap;\n",
       "    word-wrap: break-word;\n",
       "    word-break: break-all;\n",
       "    font-family: \"Menlo\", \"Monaco\", \"Consolas\", \"Ubuntu Mono\", \"Source Code Pro\", monospace;\n",
       "    font-size: 13px;\n",
       "    color: #555;\n",
       "    margin-left: 4px;\n",
       "    line-height: 19px;\n",
       "  }\n",
       "</style>\n",
       "<div class=\"ansiout\">/mnt/mechineryMoniter/ has been unmounted.\n",
       "</div>"
      ]
     },
     "metadata": {
      "application/vnd.databricks.v1+output": {
       "addedWidgets": {},
       "arguments": {},
       "data": "<div class=\"ansiout\">/mnt/mechineryMoniter/ has been unmounted.\n</div>",
       "datasetInfos": [],
       "metadata": {},
       "removedWidgets": [],
       "type": "html"
      }
     },
     "output_type": "display_data"
    }
   ],
   "source": [
    "dbutils.fs.unmount(\"/mnt/mechineryMoniter/\")\n",
    "configs = {\"fs.azure.account.auth.type\": \"OAuth\",\n",
    "          \"fs.azure.account.oauth.provider.type\": \"org.apache.hadoop.fs.azurebfs.oauth2.ClientCredsTokenProvider\",\n",
    "          \"fs.azure.account.oauth2.client.id\": \"e279c02d-5afe-41be-acd0-f585cd573fba\",\n",
    "          \"fs.azure.account.oauth2.client.secret\": dbutils.secrets.get(scope=\"db-scope\",key=\"db-secret\"),\n",
    "          \"fs.azure.account.oauth2.client.endpoint\": \"https://login.microsoftonline.com/307b8cfc-5be1-4e90-9ea0-b101674cc4c2/oauth2/token\"}\n",
    "\n",
    "dbutils.fs.mount(\n",
    "  source = \"abfss://landingarea@mmadlsg2.dfs.core.windows.net/\",\n",
    "  mount_point = \"/mnt/mechineryMoniter/\",\n",
    "  extra_configs = configs)\n",
    "\n",
    "dbutils.fs.ls(\"/mnt/mechineryMoniter/\")\n",
    "\n",
    "ROOT_PATH = \"/mnt/mechineryMoniter/\"\n",
    "BRONZE_PATH = ROOT_PATH + \"bronze/\"\n",
    "SILVER_PATH = ROOT_PATH + \"silver/\"\n",
    "GOLD_PATH = ROOT_PATH + \"gold/\"\n",
    "CHECKPOINT_PATH = ROOT_PATH + \"checkpoints/\"\n",
    "SYNAPSE_PATH = ROOT_PATH + \"synapse/\""
   ]
  },
  {
   "cell_type": "code",
   "execution_count": 0,
   "metadata": {
    "application/vnd.databricks.v1+cell": {
     "cellMetadata": {
      "byteLimit": 2048000,
      "rowLimit": 10000
     },
     "inputWidgets": {},
     "nuid": "68ecee9e-1e70-47c5-84e8-c6e2f4d6d289",
     "showTitle": false,
     "title": ""
    }
   },
   "outputs": [
    {
     "output_type": "display_data",
     "data": {
      "text/html": [
       "<style scoped>\n",
       "  .ansiout {\n",
       "    display: block;\n",
       "    unicode-bidi: embed;\n",
       "    white-space: pre-wrap;\n",
       "    word-wrap: break-word;\n",
       "    word-break: break-all;\n",
       "    font-family: \"Menlo\", \"Monaco\", \"Consolas\", \"Ubuntu Mono\", \"Source Code Pro\", monospace;\n",
       "    font-size: 13px;\n",
       "    color: #555;\n",
       "    margin-left: 4px;\n",
       "    line-height: 19px;\n",
       "  }\n",
       "</style>\n",
       "<div class=\"ansiout\">+---------+-------+--------+---------+\n",
       "device_id|tmp_thr|hmdt_thr|prsre_thr|\n",
       "+---------+-------+--------+---------+\n",
       "        1|    105|      75|      450|\n",
       "        2|    107|      78|      450|\n",
       "        3|    115|      78|      480|\n",
       "        4|    102|      73|      490|\n",
       "        5|    110|      75|      450|\n",
       "        6|    118|      78|      490|\n",
       "        7|    105|      79|      495|\n",
       "        8|    116|      76|      460|\n",
       "        9|    110|      75|      450|\n",
       "       10|    106|      78|      450|\n",
       "       11|    106|      78|      480|\n",
       "       12|    110|      73|      490|\n",
       "       13|    108|      75|      450|\n",
       "       14|    118|      78|      490|\n",
       "       15|    113|      79|      495|\n",
       "+---------+-------+--------+---------+\n",
       "\n",
       "</div>"
      ]
     },
     "metadata": {
      "application/vnd.databricks.v1+output": {
       "addedWidgets": {},
       "arguments": {},
       "data": "<div class=\"ansiout\">+---------+-------+--------+---------+\n|device_id|tmp_thr|hmdt_thr|prsre_thr|\n+---------+-------+--------+---------+\n|        1|    105|      75|      450|\n|        2|    107|      78|      450|\n|        3|    115|      78|      480|\n|        4|    102|      73|      490|\n|        5|    110|      75|      450|\n|        6|    118|      78|      490|\n|        7|    105|      79|      495|\n|        8|    116|      76|      460|\n|        9|    110|      75|      450|\n|       10|    106|      78|      450|\n|       11|    106|      78|      480|\n|       12|    110|      73|      490|\n|       13|    108|      75|      450|\n|       14|    118|      78|      490|\n|       15|    113|      79|      495|\n+---------+-------+--------+---------+\n\n</div>",
       "datasetInfos": [],
       "metadata": {},
       "removedWidgets": [],
       "type": "html"
      }
     },
     "output_type": "display_data"
    }
   ],
   "source": [
    "thresholdValues = spark.read.option(\"header\",\"true\").option(\"inferSchema\",\"true\").csv(\"/mnt/mechineryMoniter/Device_Threshold.csv\")\n",
    "thresholdValues.show()"
   ]
  },
  {
   "cell_type": "code",
   "execution_count": 0,
   "metadata": {
    "application/vnd.databricks.v1+cell": {
     "cellMetadata": {
      "byteLimit": 2048000,
      "rowLimit": 10000
     },
     "inputWidgets": {},
     "nuid": "58ecffe3-4795-4c30-b582-e5ed778a821e",
     "showTitle": false,
     "title": ""
    }
   },
   "outputs": [
    {
     "output_type": "display_data",
     "data": {
      "text/html": [
       "<style scoped>\n",
       "  .ansiout {\n",
       "    display: block;\n",
       "    unicode-bidi: embed;\n",
       "    white-space: pre-wrap;\n",
       "    word-wrap: break-word;\n",
       "    word-break: break-all;\n",
       "    font-family: \"Menlo\", \"Monaco\", \"Consolas\", \"Ubuntu Mono\", \"Source Code Pro\", monospace;\n",
       "    font-size: 13px;\n",
       "    color: #555;\n",
       "    margin-left: 4px;\n",
       "    line-height: 19px;\n",
       "  }\n",
       "</style>\n",
       "<div class=\"ansiout\">Out[6]: DataFrame[]</div>"
      ]
     },
     "metadata": {
      "application/vnd.databricks.v1+output": {
       "addedWidgets": {},
       "arguments": {},
       "data": "<div class=\"ansiout\">Out[6]: DataFrame[]</div>",
       "datasetInfos": [],
       "metadata": {},
       "removedWidgets": [],
       "type": "html"
      }
     },
     "output_type": "display_data"
    }
   ],
   "source": [
    "write_sensor_to_Delta = sensorData.writeStream.format(\"delta\").option(\"checkpointLocation\",CHECKPOINT_PATH+\"sensorData\").start(BRONZE_PATH+\"sensorData\")\n",
    "\n",
    "spark.sql(f'CREATE TABLE IF NOT EXISTS sensorData USING DELTA LOCATION \"{BRONZE_PATH + \"sensorData\"}\"')"
   ]
  },
  {
   "cell_type": "code",
   "execution_count": 0,
   "metadata": {
    "application/vnd.databricks.v1+cell": {
     "cellMetadata": {
      "byteLimit": 2048000,
      "implicitDf": true,
      "rowLimit": 10000
     },
     "inputWidgets": {},
     "nuid": "be401a4d-6b88-4529-9b7d-11843bf4825f",
     "showTitle": false,
     "title": ""
    }
   },
   "outputs": [
    {
     "output_type": "display_data",
     "data": {
      "text/html": [
       "<style scoped>\n",
       "  .table-result-container {\n",
       "    max-height: 300px;\n",
       "    overflow: auto;\n",
       "  }\n",
       "  table, th, td {\n",
       "    border: 1px solid black;\n",
       "    border-collapse: collapse;\n",
       "  }\n",
       "  th, td {\n",
       "    padding: 5px;\n",
       "  }\n",
       "  th {\n",
       "    text-align: left;\n",
       "  }\n",
       "</style><div class='table-result-container'><table class='table-result'><thead style='background-color: white'><tr><th>device_id</th><th>tmp</th><th>hmdt</th><th>prsre</th><th>source</th><th>ts</th></tr></thead><tbody><tr><td>9</td><td>95</td><td>66</td><td>469</td><td>IotHub</td><td>2024-04-15T18:32:50.752+0000</td></tr><tr><td>8</td><td>94</td><td>53</td><td>375</td><td>IotHub</td><td>2024-04-15T18:32:45.419+0000</td></tr><tr><td>4</td><td>103</td><td>58</td><td>352</td><td>IotHub</td><td>2024-04-15T18:32:40.140+0000</td></tr><tr><td>3</td><td>118</td><td>57</td><td>484</td><td>IotHub</td><td>2024-04-15T18:32:34.747+0000</td></tr><tr><td>13</td><td>94</td><td>70</td><td>359</td><td>IotHub</td><td>2024-04-15T18:32:28.744+0000</td></tr><tr><td>2</td><td>95</td><td>75</td><td>377</td><td>IotHub</td><td>2024-04-15T18:32:23.344+0000</td></tr><tr><td>9</td><td>105</td><td>52</td><td>362</td><td>IotHub</td><td>2024-04-15T18:32:18.072+0000</td></tr><tr><td>5</td><td>95</td><td>57</td><td>493</td><td>IotHub</td><td>2024-04-15T18:32:12.261+0000</td></tr><tr><td>8</td><td>108</td><td>79</td><td>495</td><td>IotHub</td><td>2024-04-15T18:32:06.999+0000</td></tr><tr><td>2</td><td>98</td><td>58</td><td>408</td><td>IotHub</td><td>2024-04-15T18:32:01.540+0000</td></tr></tbody></table></div>"
      ]
     },
     "metadata": {
      "application/vnd.databricks.v1+output": {
       "addedWidgets": {},
       "aggData": [],
       "aggError": "",
       "aggOverflow": false,
       "aggSchema": [],
       "aggSeriesLimitReached": false,
       "aggType": "",
       "arguments": {},
       "columnCustomDisplayInfos": {},
       "data": [
        [
         9,
         95,
         66,
         469,
         "IotHub",
         "2024-04-15T18:32:50.752+0000"
        ],
        [
         8,
         94,
         53,
         375,
         "IotHub",
         "2024-04-15T18:32:45.419+0000"
        ],
        [
         4,
         103,
         58,
         352,
         "IotHub",
         "2024-04-15T18:32:40.140+0000"
        ],
        [
         3,
         118,
         57,
         484,
         "IotHub",
         "2024-04-15T18:32:34.747+0000"
        ],
        [
         13,
         94,
         70,
         359,
         "IotHub",
         "2024-04-15T18:32:28.744+0000"
        ],
        [
         2,
         95,
         75,
         377,
         "IotHub",
         "2024-04-15T18:32:23.344+0000"
        ],
        [
         9,
         105,
         52,
         362,
         "IotHub",
         "2024-04-15T18:32:18.072+0000"
        ],
        [
         5,
         95,
         57,
         493,
         "IotHub",
         "2024-04-15T18:32:12.261+0000"
        ],
        [
         8,
         108,
         79,
         495,
         "IotHub",
         "2024-04-15T18:32:06.999+0000"
        ],
        [
         2,
         98,
         58,
         408,
         "IotHub",
         "2024-04-15T18:32:01.540+0000"
        ]
       ],
       "datasetInfos": [],
       "dbfsResultPath": null,
       "isJsonSchema": true,
       "metadata": {},
       "overflow": false,
       "plotOptions": {
        "customPlotOptions": {},
        "displayType": "table",
        "pivotAggregation": null,
        "pivotColumns": null,
        "xColumns": null,
        "yColumns": null
       },
       "removedWidgets": [],
       "schema": [
        {
         "metadata": "{}",
         "name": "device_id",
         "type": "\"integer\""
        },
        {
         "metadata": "{}",
         "name": "tmp",
         "type": "\"integer\""
        },
        {
         "metadata": "{}",
         "name": "hmdt",
         "type": "\"integer\""
        },
        {
         "metadata": "{}",
         "name": "prsre",
         "type": "\"integer\""
        },
        {
         "metadata": "{}",
         "name": "source",
         "type": "\"string\""
        },
        {
         "metadata": "{}",
         "name": "ts",
         "type": "\"timestamp\""
        }
       ],
       "type": "table"
      }
     },
     "output_type": "display_data"
    }
   ],
   "source": [
    "%sql \n",
    "SELECT * FROM sensorData order by ts desc limit 10"
   ]
  },
  {
   "cell_type": "code",
   "execution_count": 0,
   "metadata": {
    "application/vnd.databricks.v1+cell": {
     "cellMetadata": {
      "byteLimit": 2048000,
      "rowLimit": 10000
     },
     "inputWidgets": {},
     "nuid": "c9cecacc-869d-48b1-8fff-07b1767b9ac6",
     "showTitle": false,
     "title": ""
    }
   },
   "outputs": [
    {
     "output_type": "display_data",
     "data": {
      "text/html": [
       "<style scoped>\n",
       "  .table-result-container {\n",
       "    max-height: 300px;\n",
       "    overflow: auto;\n",
       "  }\n",
       "  table, th, td {\n",
       "    border: 1px solid black;\n",
       "    border-collapse: collapse;\n",
       "  }\n",
       "  th, td {\n",
       "    padding: 5px;\n",
       "  }\n",
       "  th {\n",
       "    text-align: left;\n",
       "  }\n",
       "</style><div class='table-result-container'><table class='table-result'><thead style='background-color: white'><tr><th>window</th><th>device_id</th><th>avg_tmp</th><th>avg_hmdt</th><th>avg_prsre</th></tr></thead><tbody><tr><td>List(2024-04-15T18:30:00.000+0000, 2024-04-15T18:40:00.000+0000)</td><td>1</td><td>104.0</td><td>67.666664</td><td>411.0</td></tr><tr><td>List(2024-04-16T20:50:00.000+0000, 2024-04-16T21:00:00.000+0000)</td><td>7</td><td>101.333336</td><td>69.666664</td><td>452.66666</td></tr><tr><td>List(2024-04-16T20:00:00.000+0000, 2024-04-16T20:10:00.000+0000)</td><td>10</td><td>107.25</td><td>69.75</td><td>462.125</td></tr><tr><td>List(2024-04-16T22:50:00.000+0000, 2024-04-16T23:00:00.000+0000)</td><td>6</td><td>104.0</td><td>66.0</td><td>439.0</td></tr><tr><td>List(2024-04-15T01:40:00.000+0000, 2024-04-15T01:50:00.000+0000)</td><td>1</td><td>100.28571</td><td>68.42857</td><td>438.7143</td></tr><tr><td>List(2024-04-15T18:30:00.000+0000, 2024-04-15T18:40:00.000+0000)</td><td>2</td><td>100.0</td><td>67.0</td><td>388.33334</td></tr><tr><td>List(2024-04-16T20:50:00.000+0000, 2024-04-16T21:00:00.000+0000)</td><td>8</td><td>104.09091</td><td>70.545456</td><td>440.0909</td></tr><tr><td>List(2024-04-15T18:20:00.000+0000, 2024-04-15T18:30:00.000+0000)</td><td>13</td><td>102.333336</td><td>63.5</td><td>438.33334</td></tr><tr><td>List(2024-04-16T20:00:00.000+0000, 2024-04-16T20:10:00.000+0000)</td><td>6</td><td>104.666664</td><td>69.666664</td><td>435.83334</td></tr><tr><td>List(2024-04-16T20:00:00.000+0000, 2024-04-16T20:10:00.000+0000)</td><td>7</td><td>99.4</td><td>68.0</td><td>462.6</td></tr><tr><td>List(2024-04-16T20:10:00.000+0000, 2024-04-16T20:20:00.000+0000)</td><td>5</td><td>102.0</td><td>77.0</td><td>450.0</td></tr><tr><td>List(2024-04-16T22:50:00.000+0000, 2024-04-16T23:00:00.000+0000)</td><td>7</td><td>112.0</td><td>65.0</td><td>480.0</td></tr><tr><td>List(2024-04-15T18:30:00.000+0000, 2024-04-15T18:40:00.000+0000)</td><td>7</td><td>109.0</td><td>55.0</td><td>352.0</td></tr><tr><td>List(2024-04-15T01:40:00.000+0000, 2024-04-15T01:50:00.000+0000)</td><td>5</td><td>107.666664</td><td>59.666668</td><td>378.33334</td></tr><tr><td>List(2024-04-15T18:20:00.000+0000, 2024-04-15T18:30:00.000+0000)</td><td>12</td><td>103.666664</td><td>71.0</td><td>379.33334</td></tr><tr><td>List(2024-04-15T01:30:00.000+0000, 2024-04-15T01:40:00.000+0000)</td><td>1</td><td>109.5</td><td>65.0</td><td>379.5</td></tr><tr><td>List(2024-04-16T20:10:00.000+0000, 2024-04-16T20:20:00.000+0000)</td><td>10</td><td>90.0</td><td>79.0</td><td>476.0</td></tr><tr><td>List(2024-04-15T00:50:00.000+0000, 2024-04-15T01:00:00.000+0000)</td><td>7</td><td>104.125</td><td>59.875</td><td>428.875</td></tr><tr><td>List(2024-04-16T22:40:00.000+0000, 2024-04-16T22:50:00.000+0000)</td><td>7</td><td>100.5</td><td>67.0</td><td>440.25</td></tr><tr><td>List(2024-04-15T01:40:00.000+0000, 2024-04-15T01:50:00.000+0000)</td><td>10</td><td>113.5</td><td>59.75</td><td>443.0</td></tr><tr><td>List(2024-04-15T00:50:00.000+0000, 2024-04-15T01:00:00.000+0000)</td><td>2</td><td>97.0</td><td>53.0</td><td>467.0</td></tr><tr><td>List(2024-04-16T20:10:00.000+0000, 2024-04-16T20:20:00.000+0000)</td><td>3</td><td>104.0</td><td>64.0</td><td>427.0</td></tr><tr><td>List(2024-04-16T22:40:00.000+0000, 2024-04-16T22:50:00.000+0000)</td><td>8</td><td>108.666664</td><td>68.666664</td><td>453.0</td></tr><tr><td>List(2024-04-16T20:50:00.000+0000, 2024-04-16T21:00:00.000+0000)</td><td>2</td><td>105.833336</td><td>65.833336</td><td>439.66666</td></tr><tr><td>List(2024-04-16T20:00:00.000+0000, 2024-04-16T20:10:00.000+0000)</td><td>3</td><td>112.0</td><td>73.333336</td><td>472.66666</td></tr><tr><td>List(2024-04-15T18:20:00.000+0000, 2024-04-15T18:30:00.000+0000)</td><td>14</td><td>97.0</td><td>70.666664</td><td>436.0</td></tr><tr><td>List(2024-04-16T22:40:00.000+0000, 2024-04-16T22:50:00.000+0000)</td><td>13</td><td>109.111115</td><td>69.111115</td><td>454.1111</td></tr><tr><td>List(2024-04-16T22:50:00.000+0000, 2024-04-16T23:00:00.000+0000)</td><td>1</td><td>95.0</td><td>61.0</td><td>485.0</td></tr><tr><td>List(2024-04-16T20:50:00.000+0000, 2024-04-16T21:00:00.000+0000)</td><td>14</td><td>111.25</td><td>72.25</td><td>442.75</td></tr><tr><td>List(2024-04-16T20:10:00.000+0000, 2024-04-16T20:20:00.000+0000)</td><td>12</td><td>115.0</td><td>69.666664</td><td>480.66666</td></tr><tr><td>List(2024-04-16T20:50:00.000+0000, 2024-04-16T21:00:00.000+0000)</td><td>1</td><td>102.875</td><td>71.0</td><td>441.0</td></tr><tr><td>List(2024-04-15T00:50:00.000+0000, 2024-04-15T01:00:00.000+0000)</td><td>10</td><td>104.25</td><td>67.5</td><td>420.0</td></tr><tr><td>List(2024-04-15T01:40:00.000+0000, 2024-04-15T01:50:00.000+0000)</td><td>11</td><td>104.4</td><td>65.6</td><td>428.4</td></tr><tr><td>List(2024-04-15T01:40:00.000+0000, 2024-04-15T01:50:00.000+0000)</td><td>2</td><td>106.333336</td><td>62.0</td><td>406.66666</td></tr><tr><td>List(2024-04-16T20:00:00.000+0000, 2024-04-16T20:10:00.000+0000)</td><td>1</td><td>106.71429</td><td>67.0</td><td>444.42856</td></tr><tr><td>List(2024-04-15T18:20:00.000+0000, 2024-04-15T18:30:00.000+0000)</td><td>1</td><td>101.5</td><td>66.166664</td><td>436.33334</td></tr><tr><td>List(2024-04-15T00:50:00.000+0000, 2024-04-15T01:00:00.000+0000)</td><td>5</td><td>107.0</td><td>66.666664</td><td>406.5</td></tr><tr><td>List(2024-04-15T00:50:00.000+0000, 2024-04-15T01:00:00.000+0000)</td><td>12</td><td>108.75</td><td>61.5</td><td>425.5</td></tr><tr><td>List(2024-04-16T20:50:00.000+0000, 2024-04-16T21:00:00.000+0000)</td><td>6</td><td>114.0</td><td>70.333336</td><td>453.33334</td></tr><tr><td>List(2024-04-15T01:40:00.000+0000, 2024-04-15T01:50:00.000+0000)</td><td>6</td><td>106.0</td><td>53.0</td><td>444.0</td></tr><tr><td>List(2024-04-16T20:10:00.000+0000, 2024-04-16T20:20:00.000+0000)</td><td>1</td><td>93.0</td><td>71.0</td><td>479.0</td></tr><tr><td>List(2024-04-16T20:00:00.000+0000, 2024-04-16T20:10:00.000+0000)</td><td>5</td><td>102.57143</td><td>68.14286</td><td>449.42856</td></tr><tr><td>List(2024-04-15T01:30:00.000+0000, 2024-04-15T01:40:00.000+0000)</td><td>13</td><td>110.0</td><td>58.0</td><td>452.66666</td></tr><tr><td>List(2024-04-15T18:20:00.000+0000, 2024-04-15T18:30:00.000+0000)</td><td>4</td><td>104.5</td><td>63.666668</td><td>452.83334</td></tr><tr><td>List(2024-04-15T01:30:00.000+0000, 2024-04-15T01:40:00.000+0000)</td><td>10</td><td>108.4</td><td>75.6</td><td>443.4</td></tr><tr><td>List(2024-04-15T18:30:00.000+0000, 2024-04-15T18:40:00.000+0000)</td><td>8</td><td>101.0</td><td>66.0</td><td>435.0</td></tr><tr><td>List(2024-04-15T01:40:00.000+0000, 2024-04-15T01:50:00.000+0000)</td><td>14</td><td>103.666664</td><td>68.44444</td><td>445.22223</td></tr><tr><td>List(2024-04-16T22:40:00.000+0000, 2024-04-16T22:50:00.000+0000)</td><td>9</td><td>105.75</td><td>70.333336</td><td>447.91666</td></tr><tr><td>List(2024-04-15T01:40:00.000+0000, 2024-04-15T01:50:00.000+0000)</td><td>9</td><td>104.333336</td><td>56.666668</td><td>397.83334</td></tr><tr><td>List(2024-04-15T18:30:00.000+0000, 2024-04-15T18:40:00.000+0000)</td><td>5</td><td>95.0</td><td>57.0</td><td>493.0</td></tr><tr><td>List(2024-04-15T01:40:00.000+0000, 2024-04-15T01:50:00.000+0000)</td><td>13</td><td>106.2</td><td>59.4</td><td>429.8</td></tr><tr><td>List(2024-04-15T01:30:00.000+0000, 2024-04-15T01:40:00.000+0000)</td><td>9</td><td>104.5</td><td>72.5</td><td>477.5</td></tr><tr><td>List(2024-04-16T22:40:00.000+0000, 2024-04-16T22:50:00.000+0000)</td><td>14</td><td>107.0</td><td>71.3</td><td>459.3</td></tr><tr><td>List(2024-04-15T18:30:00.000+0000, 2024-04-15T18:40:00.000+0000)</td><td>14</td><td>102.666664</td><td>65.0</td><td>449.0</td></tr><tr><td>List(2024-04-16T22:40:00.000+0000, 2024-04-16T22:50:00.000+0000)</td><td>10</td><td>100.5</td><td>78.5</td><td>470.0</td></tr><tr><td>List(2024-04-16T20:50:00.000+0000, 2024-04-16T21:00:00.000+0000)</td><td>11</td><td>107.333336</td><td>69.5</td><td>432.83334</td></tr><tr><td>List(2024-04-15T18:30:00.000+0000, 2024-04-15T18:40:00.000+0000)</td><td>4</td><td>107.4</td><td>60.6</td><td>372.2</td></tr><tr><td>List(2024-04-16T22:50:00.000+0000, 2024-04-16T23:00:00.000+0000)</td><td>13</td><td>110.0</td><td>73.0</td><td>493.0</td></tr><tr><td>List(2024-04-15T01:30:00.000+0000, 2024-04-15T01:40:00.000+0000)</td><td>8</td><td>101.333336</td><td>62.666668</td><td>470.66666</td></tr><tr><td>List(2024-04-16T22:40:00.000+0000, 2024-04-16T22:50:00.000+0000)</td><td>2</td><td>108.0</td><td>74.333336</td><td>451.33334</td></tr><tr><td>List(2024-04-16T20:50:00.000+0000, 2024-04-16T21:00:00.000+0000)</td><td>10</td><td>107.333336</td><td>66.333336</td><td>427.0</td></tr><tr><td>List(2024-04-16T20:50:00.000+0000, 2024-04-16T21:00:00.000+0000)</td><td>12</td><td>103.625</td><td>71.5</td><td>472.625</td></tr><tr><td>List(2024-04-15T01:30:00.000+0000, 2024-04-15T01:40:00.000+0000)</td><td>2</td><td>114.0</td><td>69.0</td><td>440.0</td></tr><tr><td>List(2024-04-15T18:30:00.000+0000, 2024-04-15T18:40:00.000+0000)</td><td>6</td><td>103.0</td><td>69.5</td><td>446.0</td></tr><tr><td>List(2024-04-16T20:00:00.000+0000, 2024-04-16T20:10:00.000+0000)</td><td>4</td><td>99.44444</td><td>72.77778</td><td>448.22223</td></tr><tr><td>List(2024-04-15T18:30:00.000+0000, 2024-04-15T18:40:00.000+0000)</td><td>9</td><td>101.0</td><td>56.666668</td><td>411.0</td></tr><tr><td>List(2024-04-16T22:50:00.000+0000, 2024-04-16T23:00:00.000+0000)</td><td>3</td><td>92.0</td><td>77.0</td><td>401.0</td></tr><tr><td>List(2024-04-16T22:50:00.000+0000, 2024-04-16T23:00:00.000+0000)</td><td>8</td><td>105.0</td><td>76.0</td><td>420.0</td></tr><tr><td>List(2024-04-15T01:30:00.000+0000, 2024-04-15T01:40:00.000+0000)</td><td>4</td><td>98.0</td><td>63.0</td><td>488.0</td></tr><tr><td>List(2024-04-15T18:20:00.000+0000, 2024-04-15T18:30:00.000+0000)</td><td>11</td><td>111.0</td><td>64.5</td><td>416.25</td></tr><tr><td>List(2024-04-15T00:50:00.000+0000, 2024-04-15T01:00:00.000+0000)</td><td>6</td><td>93.5</td><td>73.0</td><td>431.5</td></tr><tr><td>List(2024-04-15T01:40:00.000+0000, 2024-04-15T01:50:00.000+0000)</td><td>7</td><td>106.0</td><td>66.8</td><td>413.8</td></tr><tr><td>List(2024-04-16T20:00:00.000+0000, 2024-04-16T20:10:00.000+0000)</td><td>8</td><td>111.666664</td><td>68.666664</td><td>426.0</td></tr><tr><td>List(2024-04-16T20:50:00.000+0000, 2024-04-16T21:00:00.000+0000)</td><td>3</td><td>103.666664</td><td>64.333336</td><td>459.66666</td></tr><tr><td>List(2024-04-16T20:50:00.000+0000, 2024-04-16T21:00:00.000+0000)</td><td>9</td><td>106.666664</td><td>68.55556</td><td>440.22223</td></tr><tr><td>List(2024-04-15T01:30:00.000+0000, 2024-04-15T01:40:00.000+0000)</td><td>5</td><td>108.666664</td><td>74.666664</td><td>427.0</td></tr><tr><td>List(2024-04-15T00:50:00.000+0000, 2024-04-15T01:00:00.000+0000)</td><td>14</td><td>102.666664</td><td>67.333336</td><td>418.66666</td></tr><tr><td>List(2024-04-15T18:30:00.000+0000, 2024-04-15T18:40:00.000+0000)</td><td>11</td><td>114.0</td><td>63.0</td><td>446.5</td></tr><tr><td>List(2024-04-16T20:10:00.000+0000, 2024-04-16T20:20:00.000+0000)</td><td>6</td><td>109.5</td><td>72.5</td><td>446.0</td></tr><tr><td>List(2024-04-16T22:40:00.000+0000, 2024-04-16T22:50:00.000+0000)</td><td>3</td><td>102.14286</td><td>71.42857</td><td>442.2857</td></tr><tr><td>List(2024-04-16T22:40:00.000+0000, 2024-04-16T22:50:00.000+0000)</td><td>12</td><td>106.666664</td><td>64.0</td><td>443.0</td></tr><tr><td>List(2024-04-16T20:50:00.000+0000, 2024-04-16T21:00:00.000+0000)</td><td>5</td><td>108.0</td><td>69.166664</td><td>444.16666</td></tr><tr><td>List(2024-04-16T20:10:00.000+0000, 2024-04-16T20:20:00.000+0000)</td><td>7</td><td>107.8</td><td>66.2</td><td>444.2</td></tr><tr><td>List(2024-04-16T20:00:00.000+0000, 2024-04-16T20:10:00.000+0000)</td><td>2</td><td>102.5</td><td>69.5</td><td>406.5</td></tr><tr><td>List(2024-04-16T22:40:00.000+0000, 2024-04-16T22:50:00.000+0000)</td><td>4</td><td>103.166664</td><td>72.833336</td><td>447.0</td></tr><tr><td>List(2024-04-16T20:00:00.000+0000, 2024-04-16T20:10:00.000+0000)</td><td>14</td><td>102.6</td><td>66.8</td><td>463.8</td></tr><tr><td>List(2024-04-16T20:00:00.000+0000, 2024-04-16T20:10:00.000+0000)</td><td>12</td><td>113.0</td><td>71.6</td><td>450.0</td></tr><tr><td>List(2024-04-15T18:20:00.000+0000, 2024-04-15T18:30:00.000+0000)</td><td>9</td><td>109.666664</td><td>70.166664</td><td>442.33334</td></tr><tr><td>List(2024-04-16T20:00:00.000+0000, 2024-04-16T20:10:00.000+0000)</td><td>13</td><td>103.125</td><td>70.25</td><td>456.0</td></tr><tr><td>List(2024-04-16T22:40:00.000+0000, 2024-04-16T22:50:00.000+0000)</td><td>6</td><td>99.5</td><td>70.5</td><td>441.5</td></tr><tr><td>List(2024-04-15T01:30:00.000+0000, 2024-04-15T01:40:00.000+0000)</td><td>14</td><td>118.0</td><td>63.0</td><td>438.0</td></tr><tr><td>List(2024-04-15T00:50:00.000+0000, 2024-04-15T01:00:00.000+0000)</td><td>13</td><td>98.57143</td><td>57.142857</td><td>396.7143</td></tr><tr><td>List(2024-04-15T18:20:00.000+0000, 2024-04-15T18:30:00.000+0000)</td><td>2</td><td>108.833336</td><td>62.666668</td><td>400.66666</td></tr><tr><td>List(2024-04-16T20:10:00.000+0000, 2024-04-16T20:20:00.000+0000)</td><td>4</td><td>107.666664</td><td>67.0</td><td>457.66666</td></tr><tr><td>List(2024-04-15T18:20:00.000+0000, 2024-04-15T18:30:00.000+0000)</td><td>3</td><td>108.2</td><td>64.2</td><td>427.8</td></tr><tr><td>List(2024-04-16T22:40:00.000+0000, 2024-04-16T22:50:00.000+0000)</td><td>5</td><td>102.75</td><td>68.625</td><td>435.875</td></tr><tr><td>List(2024-04-15T01:40:00.000+0000, 2024-04-15T01:50:00.000+0000)</td><td>4</td><td>105.0</td><td>64.1</td><td>438.8</td></tr><tr><td>List(2024-04-16T20:50:00.000+0000, 2024-04-16T21:00:00.000+0000)</td><td>4</td><td>109.14286</td><td>66.14286</td><td>452.0</td></tr><tr><td>List(2024-04-16T20:10:00.000+0000, 2024-04-16T20:20:00.000+0000)</td><td>11</td><td>105.0</td><td>72.0</td><td>403.0</td></tr><tr><td>List(2024-04-15T18:20:00.000+0000, 2024-04-15T18:30:00.000+0000)</td><td>10</td><td>102.0</td><td>68.4</td><td>429.6</td></tr><tr><td>List(2024-04-15T00:50:00.000+0000, 2024-04-15T01:00:00.000+0000)</td><td>4</td><td>107.666664</td><td>61.666668</td><td>400.0</td></tr><tr><td>List(2024-04-15T01:40:00.000+0000, 2024-04-15T01:50:00.000+0000)</td><td>3</td><td>104.7</td><td>67.7</td><td>451.7</td></tr><tr><td>List(2024-04-15T18:20:00.000+0000, 2024-04-15T18:30:00.000+0000)</td><td>5</td><td>108.25</td><td>61.25</td><td>433.25</td></tr><tr><td>List(2024-04-16T21:00:00.000+0000, 2024-04-16T21:10:00.000+0000)</td><td>14</td><td>93.0</td><td>77.0</td><td>454.0</td></tr><tr><td>List(2024-04-15T18:20:00.000+0000, 2024-04-15T18:30:00.000+0000)</td><td>6</td><td>110.5</td><td>64.0</td><td>448.0</td></tr><tr><td>List(2024-04-15T00:50:00.000+0000, 2024-04-15T01:00:00.000+0000)</td><td>11</td><td>104.4</td><td>61.8</td><td>454.6</td></tr><tr><td>List(2024-04-15T00:50:00.000+0000, 2024-04-15T01:00:00.000+0000)</td><td>1</td><td>112.0</td><td>68.2</td><td>418.6</td></tr><tr><td>List(2024-04-15T01:40:00.000+0000, 2024-04-15T01:50:00.000+0000)</td><td>8</td><td>95.8</td><td>57.0</td><td>424.6</td></tr><tr><td>List(2024-04-15T01:30:00.000+0000, 2024-04-15T01:40:00.000+0000)</td><td>11</td><td>102.5</td><td>64.0</td><td>372.5</td></tr><tr><td>List(2024-04-16T20:50:00.000+0000, 2024-04-16T21:00:00.000+0000)</td><td>13</td><td>108.75</td><td>70.083336</td><td>451.0</td></tr><tr><td>List(2024-04-15T01:30:00.000+0000, 2024-04-15T01:40:00.000+0000)</td><td>6</td><td>112.0</td><td>75.0</td><td>499.0</td></tr><tr><td>List(2024-04-15T18:20:00.000+0000, 2024-04-15T18:30:00.000+0000)</td><td>8</td><td>101.71429</td><td>59.714287</td><td>422.14285</td></tr><tr><td>List(2024-04-15T18:20:00.000+0000, 2024-04-15T18:30:00.000+0000)</td><td>7</td><td>108.5</td><td>67.25</td><td>446.75</td></tr><tr><td>List(2024-04-15T00:50:00.000+0000, 2024-04-15T01:00:00.000+0000)</td><td>9</td><td>102.0</td><td>75.0</td><td>494.0</td></tr><tr><td>List(2024-04-16T20:10:00.000+0000, 2024-04-16T20:20:00.000+0000)</td><td>14</td><td>107.0</td><td>72.0</td><td>455.33334</td></tr><tr><td>List(2024-04-16T22:40:00.000+0000, 2024-04-16T22:50:00.000+0000)</td><td>1</td><td>103.42857</td><td>69.71429</td><td>443.42856</td></tr><tr><td>List(2024-04-15T18:30:00.000+0000, 2024-04-15T18:40:00.000+0000)</td><td>13</td><td>103.5</td><td>66.5</td><td>404.5</td></tr><tr><td>List(2024-04-16T22:50:00.000+0000, 2024-04-16T23:00:00.000+0000)</td><td>4</td><td>102.0</td><td>60.0</td><td>449.0</td></tr><tr><td>List(2024-04-15T00:50:00.000+0000, 2024-04-15T01:00:00.000+0000)</td><td>8</td><td>100.75</td><td>72.0</td><td>398.25</td></tr><tr><td>List(2024-04-15T00:50:00.000+0000, 2024-04-15T01:00:00.000+0000)</td><td>3</td><td>107.8</td><td>61.2</td><td>391.2</td></tr><tr><td>List(2024-04-16T22:50:00.000+0000, 2024-04-16T23:00:00.000+0000)</td><td>14</td><td>102.0</td><td>72.25</td><td>457.0</td></tr><tr><td>List(2024-04-16T20:10:00.000+0000, 2024-04-16T20:20:00.000+0000)</td><td>9</td><td>93.0</td><td>63.0</td><td>457.0</td></tr><tr><td>List(2024-04-16T20:10:00.000+0000, 2024-04-16T20:20:00.000+0000)</td><td>8</td><td>117.0</td><td>64.0</td><td>474.0</td></tr><tr><td>List(2024-04-16T22:40:00.000+0000, 2024-04-16T22:50:00.000+0000)</td><td>11</td><td>95.0</td><td>67.5</td><td>459.0</td></tr><tr><td>List(2024-04-15T01:30:00.000+0000, 2024-04-15T01:40:00.000+0000)</td><td>12</td><td>99.5</td><td>56.0</td><td>468.5</td></tr><tr><td>List(2024-04-16T20:10:00.000+0000, 2024-04-16T20:20:00.000+0000)</td><td>2</td><td>102.0</td><td>69.0</td><td>425.0</td></tr><tr><td>List(2024-04-16T20:00:00.000+0000, 2024-04-16T20:10:00.000+0000)</td><td>11</td><td>102.2</td><td>67.8</td><td>468.8</td></tr><tr><td>List(2024-04-15T18:30:00.000+0000, 2024-04-15T18:40:00.000+0000)</td><td>3</td><td>113.6</td><td>62.6</td><td>438.0</td></tr></tbody></table></div>"
      ]
     },
     "metadata": {
      "application/vnd.databricks.v1+output": {
       "addedWidgets": {},
       "aggData": [],
       "aggError": "",
       "aggOverflow": false,
       "aggSchema": [],
       "aggSeriesLimitReached": false,
       "aggType": "",
       "arguments": {},
       "columnCustomDisplayInfos": {},
       "data": [
        [
         [
          "2024-04-15T18:30:00.000+0000",
          "2024-04-15T18:40:00.000+0000"
         ],
         1,
         104.0,
         67.666664,
         411.0
        ],
        [
         [
          "2024-04-16T20:50:00.000+0000",
          "2024-04-16T21:00:00.000+0000"
         ],
         7,
         101.333336,
         69.666664,
         452.66666
        ],
        [
         [
          "2024-04-16T20:00:00.000+0000",
          "2024-04-16T20:10:00.000+0000"
         ],
         10,
         107.25,
         69.75,
         462.125
        ],
        [
         [
          "2024-04-16T22:50:00.000+0000",
          "2024-04-16T23:00:00.000+0000"
         ],
         6,
         104.0,
         66.0,
         439.0
        ],
        [
         [
          "2024-04-15T01:40:00.000+0000",
          "2024-04-15T01:50:00.000+0000"
         ],
         1,
         100.28571,
         68.42857,
         438.7143
        ],
        [
         [
          "2024-04-15T18:30:00.000+0000",
          "2024-04-15T18:40:00.000+0000"
         ],
         2,
         100.0,
         67.0,
         388.33334
        ],
        [
         [
          "2024-04-16T20:50:00.000+0000",
          "2024-04-16T21:00:00.000+0000"
         ],
         8,
         104.09091,
         70.545456,
         440.0909
        ],
        [
         [
          "2024-04-15T18:20:00.000+0000",
          "2024-04-15T18:30:00.000+0000"
         ],
         13,
         102.333336,
         63.5,
         438.33334
        ],
        [
         [
          "2024-04-16T20:00:00.000+0000",
          "2024-04-16T20:10:00.000+0000"
         ],
         6,
         104.666664,
         69.666664,
         435.83334
        ],
        [
         [
          "2024-04-16T20:00:00.000+0000",
          "2024-04-16T20:10:00.000+0000"
         ],
         7,
         99.4,
         68.0,
         462.6
        ],
        [
         [
          "2024-04-16T20:10:00.000+0000",
          "2024-04-16T20:20:00.000+0000"
         ],
         5,
         102.0,
         77.0,
         450.0
        ],
        [
         [
          "2024-04-16T22:50:00.000+0000",
          "2024-04-16T23:00:00.000+0000"
         ],
         7,
         112.0,
         65.0,
         480.0
        ],
        [
         [
          "2024-04-15T18:30:00.000+0000",
          "2024-04-15T18:40:00.000+0000"
         ],
         7,
         109.0,
         55.0,
         352.0
        ],
        [
         [
          "2024-04-15T01:40:00.000+0000",
          "2024-04-15T01:50:00.000+0000"
         ],
         5,
         107.666664,
         59.666668,
         378.33334
        ],
        [
         [
          "2024-04-15T18:20:00.000+0000",
          "2024-04-15T18:30:00.000+0000"
         ],
         12,
         103.666664,
         71.0,
         379.33334
        ],
        [
         [
          "2024-04-15T01:30:00.000+0000",
          "2024-04-15T01:40:00.000+0000"
         ],
         1,
         109.5,
         65.0,
         379.5
        ],
        [
         [
          "2024-04-16T20:10:00.000+0000",
          "2024-04-16T20:20:00.000+0000"
         ],
         10,
         90.0,
         79.0,
         476.0
        ],
        [
         [
          "2024-04-15T00:50:00.000+0000",
          "2024-04-15T01:00:00.000+0000"
         ],
         7,
         104.125,
         59.875,
         428.875
        ],
        [
         [
          "2024-04-16T22:40:00.000+0000",
          "2024-04-16T22:50:00.000+0000"
         ],
         7,
         100.5,
         67.0,
         440.25
        ],
        [
         [
          "2024-04-15T01:40:00.000+0000",
          "2024-04-15T01:50:00.000+0000"
         ],
         10,
         113.5,
         59.75,
         443.0
        ],
        [
         [
          "2024-04-15T00:50:00.000+0000",
          "2024-04-15T01:00:00.000+0000"
         ],
         2,
         97.0,
         53.0,
         467.0
        ],
        [
         [
          "2024-04-16T20:10:00.000+0000",
          "2024-04-16T20:20:00.000+0000"
         ],
         3,
         104.0,
         64.0,
         427.0
        ],
        [
         [
          "2024-04-16T22:40:00.000+0000",
          "2024-04-16T22:50:00.000+0000"
         ],
         8,
         108.666664,
         68.666664,
         453.0
        ],
        [
         [
          "2024-04-16T20:50:00.000+0000",
          "2024-04-16T21:00:00.000+0000"
         ],
         2,
         105.833336,
         65.833336,
         439.66666
        ],
        [
         [
          "2024-04-16T20:00:00.000+0000",
          "2024-04-16T20:10:00.000+0000"
         ],
         3,
         112.0,
         73.333336,
         472.66666
        ],
        [
         [
          "2024-04-15T18:20:00.000+0000",
          "2024-04-15T18:30:00.000+0000"
         ],
         14,
         97.0,
         70.666664,
         436.0
        ],
        [
         [
          "2024-04-16T22:40:00.000+0000",
          "2024-04-16T22:50:00.000+0000"
         ],
         13,
         109.111115,
         69.111115,
         454.1111
        ],
        [
         [
          "2024-04-16T22:50:00.000+0000",
          "2024-04-16T23:00:00.000+0000"
         ],
         1,
         95.0,
         61.0,
         485.0
        ],
        [
         [
          "2024-04-16T20:50:00.000+0000",
          "2024-04-16T21:00:00.000+0000"
         ],
         14,
         111.25,
         72.25,
         442.75
        ],
        [
         [
          "2024-04-16T20:10:00.000+0000",
          "2024-04-16T20:20:00.000+0000"
         ],
         12,
         115.0,
         69.666664,
         480.66666
        ],
        [
         [
          "2024-04-16T20:50:00.000+0000",
          "2024-04-16T21:00:00.000+0000"
         ],
         1,
         102.875,
         71.0,
         441.0
        ],
        [
         [
          "2024-04-15T00:50:00.000+0000",
          "2024-04-15T01:00:00.000+0000"
         ],
         10,
         104.25,
         67.5,
         420.0
        ],
        [
         [
          "2024-04-15T01:40:00.000+0000",
          "2024-04-15T01:50:00.000+0000"
         ],
         11,
         104.4,
         65.6,
         428.4
        ],
        [
         [
          "2024-04-15T01:40:00.000+0000",
          "2024-04-15T01:50:00.000+0000"
         ],
         2,
         106.333336,
         62.0,
         406.66666
        ],
        [
         [
          "2024-04-16T20:00:00.000+0000",
          "2024-04-16T20:10:00.000+0000"
         ],
         1,
         106.71429,
         67.0,
         444.42856
        ],
        [
         [
          "2024-04-15T18:20:00.000+0000",
          "2024-04-15T18:30:00.000+0000"
         ],
         1,
         101.5,
         66.166664,
         436.33334
        ],
        [
         [
          "2024-04-15T00:50:00.000+0000",
          "2024-04-15T01:00:00.000+0000"
         ],
         5,
         107.0,
         66.666664,
         406.5
        ],
        [
         [
          "2024-04-15T00:50:00.000+0000",
          "2024-04-15T01:00:00.000+0000"
         ],
         12,
         108.75,
         61.5,
         425.5
        ],
        [
         [
          "2024-04-16T20:50:00.000+0000",
          "2024-04-16T21:00:00.000+0000"
         ],
         6,
         114.0,
         70.333336,
         453.33334
        ],
        [
         [
          "2024-04-15T01:40:00.000+0000",
          "2024-04-15T01:50:00.000+0000"
         ],
         6,
         106.0,
         53.0,
         444.0
        ],
        [
         [
          "2024-04-16T20:10:00.000+0000",
          "2024-04-16T20:20:00.000+0000"
         ],
         1,
         93.0,
         71.0,
         479.0
        ],
        [
         [
          "2024-04-16T20:00:00.000+0000",
          "2024-04-16T20:10:00.000+0000"
         ],
         5,
         102.57143,
         68.14286,
         449.42856
        ],
        [
         [
          "2024-04-15T01:30:00.000+0000",
          "2024-04-15T01:40:00.000+0000"
         ],
         13,
         110.0,
         58.0,
         452.66666
        ],
        [
         [
          "2024-04-15T18:20:00.000+0000",
          "2024-04-15T18:30:00.000+0000"
         ],
         4,
         104.5,
         63.666668,
         452.83334
        ],
        [
         [
          "2024-04-15T01:30:00.000+0000",
          "2024-04-15T01:40:00.000+0000"
         ],
         10,
         108.4,
         75.6,
         443.4
        ],
        [
         [
          "2024-04-15T18:30:00.000+0000",
          "2024-04-15T18:40:00.000+0000"
         ],
         8,
         101.0,
         66.0,
         435.0
        ],
        [
         [
          "2024-04-15T01:40:00.000+0000",
          "2024-04-15T01:50:00.000+0000"
         ],
         14,
         103.666664,
         68.44444,
         445.22223
        ],
        [
         [
          "2024-04-16T22:40:00.000+0000",
          "2024-04-16T22:50:00.000+0000"
         ],
         9,
         105.75,
         70.333336,
         447.91666
        ],
        [
         [
          "2024-04-15T01:40:00.000+0000",
          "2024-04-15T01:50:00.000+0000"
         ],
         9,
         104.333336,
         56.666668,
         397.83334
        ],
        [
         [
          "2024-04-15T18:30:00.000+0000",
          "2024-04-15T18:40:00.000+0000"
         ],
         5,
         95.0,
         57.0,
         493.0
        ],
        [
         [
          "2024-04-15T01:40:00.000+0000",
          "2024-04-15T01:50:00.000+0000"
         ],
         13,
         106.2,
         59.4,
         429.8
        ],
        [
         [
          "2024-04-15T01:30:00.000+0000",
          "2024-04-15T01:40:00.000+0000"
         ],
         9,
         104.5,
         72.5,
         477.5
        ],
        [
         [
          "2024-04-16T22:40:00.000+0000",
          "2024-04-16T22:50:00.000+0000"
         ],
         14,
         107.0,
         71.3,
         459.3
        ],
        [
         [
          "2024-04-15T18:30:00.000+0000",
          "2024-04-15T18:40:00.000+0000"
         ],
         14,
         102.666664,
         65.0,
         449.0
        ],
        [
         [
          "2024-04-16T22:40:00.000+0000",
          "2024-04-16T22:50:00.000+0000"
         ],
         10,
         100.5,
         78.5,
         470.0
        ],
        [
         [
          "2024-04-16T20:50:00.000+0000",
          "2024-04-16T21:00:00.000+0000"
         ],
         11,
         107.333336,
         69.5,
         432.83334
        ],
        [
         [
          "2024-04-15T18:30:00.000+0000",
          "2024-04-15T18:40:00.000+0000"
         ],
         4,
         107.4,
         60.6,
         372.2
        ],
        [
         [
          "2024-04-16T22:50:00.000+0000",
          "2024-04-16T23:00:00.000+0000"
         ],
         13,
         110.0,
         73.0,
         493.0
        ],
        [
         [
          "2024-04-15T01:30:00.000+0000",
          "2024-04-15T01:40:00.000+0000"
         ],
         8,
         101.333336,
         62.666668,
         470.66666
        ],
        [
         [
          "2024-04-16T22:40:00.000+0000",
          "2024-04-16T22:50:00.000+0000"
         ],
         2,
         108.0,
         74.333336,
         451.33334
        ],
        [
         [
          "2024-04-16T20:50:00.000+0000",
          "2024-04-16T21:00:00.000+0000"
         ],
         10,
         107.333336,
         66.333336,
         427.0
        ],
        [
         [
          "2024-04-16T20:50:00.000+0000",
          "2024-04-16T21:00:00.000+0000"
         ],
         12,
         103.625,
         71.5,
         472.625
        ],
        [
         [
          "2024-04-15T01:30:00.000+0000",
          "2024-04-15T01:40:00.000+0000"
         ],
         2,
         114.0,
         69.0,
         440.0
        ],
        [
         [
          "2024-04-15T18:30:00.000+0000",
          "2024-04-15T18:40:00.000+0000"
         ],
         6,
         103.0,
         69.5,
         446.0
        ],
        [
         [
          "2024-04-16T20:00:00.000+0000",
          "2024-04-16T20:10:00.000+0000"
         ],
         4,
         99.44444,
         72.77778,
         448.22223
        ],
        [
         [
          "2024-04-15T18:30:00.000+0000",
          "2024-04-15T18:40:00.000+0000"
         ],
         9,
         101.0,
         56.666668,
         411.0
        ],
        [
         [
          "2024-04-16T22:50:00.000+0000",
          "2024-04-16T23:00:00.000+0000"
         ],
         3,
         92.0,
         77.0,
         401.0
        ],
        [
         [
          "2024-04-16T22:50:00.000+0000",
          "2024-04-16T23:00:00.000+0000"
         ],
         8,
         105.0,
         76.0,
         420.0
        ],
        [
         [
          "2024-04-15T01:30:00.000+0000",
          "2024-04-15T01:40:00.000+0000"
         ],
         4,
         98.0,
         63.0,
         488.0
        ],
        [
         [
          "2024-04-15T18:20:00.000+0000",
          "2024-04-15T18:30:00.000+0000"
         ],
         11,
         111.0,
         64.5,
         416.25
        ],
        [
         [
          "2024-04-15T00:50:00.000+0000",
          "2024-04-15T01:00:00.000+0000"
         ],
         6,
         93.5,
         73.0,
         431.5
        ],
        [
         [
          "2024-04-15T01:40:00.000+0000",
          "2024-04-15T01:50:00.000+0000"
         ],
         7,
         106.0,
         66.8,
         413.8
        ],
        [
         [
          "2024-04-16T20:00:00.000+0000",
          "2024-04-16T20:10:00.000+0000"
         ],
         8,
         111.666664,
         68.666664,
         426.0
        ],
        [
         [
          "2024-04-16T20:50:00.000+0000",
          "2024-04-16T21:00:00.000+0000"
         ],
         3,
         103.666664,
         64.333336,
         459.66666
        ],
        [
         [
          "2024-04-16T20:50:00.000+0000",
          "2024-04-16T21:00:00.000+0000"
         ],
         9,
         106.666664,
         68.55556,
         440.22223
        ],
        [
         [
          "2024-04-15T01:30:00.000+0000",
          "2024-04-15T01:40:00.000+0000"
         ],
         5,
         108.666664,
         74.666664,
         427.0
        ],
        [
         [
          "2024-04-15T00:50:00.000+0000",
          "2024-04-15T01:00:00.000+0000"
         ],
         14,
         102.666664,
         67.333336,
         418.66666
        ],
        [
         [
          "2024-04-15T18:30:00.000+0000",
          "2024-04-15T18:40:00.000+0000"
         ],
         11,
         114.0,
         63.0,
         446.5
        ],
        [
         [
          "2024-04-16T20:10:00.000+0000",
          "2024-04-16T20:20:00.000+0000"
         ],
         6,
         109.5,
         72.5,
         446.0
        ],
        [
         [
          "2024-04-16T22:40:00.000+0000",
          "2024-04-16T22:50:00.000+0000"
         ],
         3,
         102.14286,
         71.42857,
         442.2857
        ],
        [
         [
          "2024-04-16T22:40:00.000+0000",
          "2024-04-16T22:50:00.000+0000"
         ],
         12,
         106.666664,
         64.0,
         443.0
        ],
        [
         [
          "2024-04-16T20:50:00.000+0000",
          "2024-04-16T21:00:00.000+0000"
         ],
         5,
         108.0,
         69.166664,
         444.16666
        ],
        [
         [
          "2024-04-16T20:10:00.000+0000",
          "2024-04-16T20:20:00.000+0000"
         ],
         7,
         107.8,
         66.2,
         444.2
        ],
        [
         [
          "2024-04-16T20:00:00.000+0000",
          "2024-04-16T20:10:00.000+0000"
         ],
         2,
         102.5,
         69.5,
         406.5
        ],
        [
         [
          "2024-04-16T22:40:00.000+0000",
          "2024-04-16T22:50:00.000+0000"
         ],
         4,
         103.166664,
         72.833336,
         447.0
        ],
        [
         [
          "2024-04-16T20:00:00.000+0000",
          "2024-04-16T20:10:00.000+0000"
         ],
         14,
         102.6,
         66.8,
         463.8
        ],
        [
         [
          "2024-04-16T20:00:00.000+0000",
          "2024-04-16T20:10:00.000+0000"
         ],
         12,
         113.0,
         71.6,
         450.0
        ],
        [
         [
          "2024-04-15T18:20:00.000+0000",
          "2024-04-15T18:30:00.000+0000"
         ],
         9,
         109.666664,
         70.166664,
         442.33334
        ],
        [
         [
          "2024-04-16T20:00:00.000+0000",
          "2024-04-16T20:10:00.000+0000"
         ],
         13,
         103.125,
         70.25,
         456.0
        ],
        [
         [
          "2024-04-16T22:40:00.000+0000",
          "2024-04-16T22:50:00.000+0000"
         ],
         6,
         99.5,
         70.5,
         441.5
        ],
        [
         [
          "2024-04-15T01:30:00.000+0000",
          "2024-04-15T01:40:00.000+0000"
         ],
         14,
         118.0,
         63.0,
         438.0
        ],
        [
         [
          "2024-04-15T00:50:00.000+0000",
          "2024-04-15T01:00:00.000+0000"
         ],
         13,
         98.57143,
         57.142857,
         396.7143
        ],
        [
         [
          "2024-04-15T18:20:00.000+0000",
          "2024-04-15T18:30:00.000+0000"
         ],
         2,
         108.833336,
         62.666668,
         400.66666
        ],
        [
         [
          "2024-04-16T20:10:00.000+0000",
          "2024-04-16T20:20:00.000+0000"
         ],
         4,
         107.666664,
         67.0,
         457.66666
        ],
        [
         [
          "2024-04-15T18:20:00.000+0000",
          "2024-04-15T18:30:00.000+0000"
         ],
         3,
         108.2,
         64.2,
         427.8
        ],
        [
         [
          "2024-04-16T22:40:00.000+0000",
          "2024-04-16T22:50:00.000+0000"
         ],
         5,
         102.75,
         68.625,
         435.875
        ],
        [
         [
          "2024-04-15T01:40:00.000+0000",
          "2024-04-15T01:50:00.000+0000"
         ],
         4,
         105.0,
         64.1,
         438.8
        ],
        [
         [
          "2024-04-16T20:50:00.000+0000",
          "2024-04-16T21:00:00.000+0000"
         ],
         4,
         109.14286,
         66.14286,
         452.0
        ],
        [
         [
          "2024-04-16T20:10:00.000+0000",
          "2024-04-16T20:20:00.000+0000"
         ],
         11,
         105.0,
         72.0,
         403.0
        ],
        [
         [
          "2024-04-15T18:20:00.000+0000",
          "2024-04-15T18:30:00.000+0000"
         ],
         10,
         102.0,
         68.4,
         429.6
        ],
        [
         [
          "2024-04-15T00:50:00.000+0000",
          "2024-04-15T01:00:00.000+0000"
         ],
         4,
         107.666664,
         61.666668,
         400.0
        ],
        [
         [
          "2024-04-15T01:40:00.000+0000",
          "2024-04-15T01:50:00.000+0000"
         ],
         3,
         104.7,
         67.7,
         451.7
        ],
        [
         [
          "2024-04-15T18:20:00.000+0000",
          "2024-04-15T18:30:00.000+0000"
         ],
         5,
         108.25,
         61.25,
         433.25
        ],
        [
         [
          "2024-04-16T21:00:00.000+0000",
          "2024-04-16T21:10:00.000+0000"
         ],
         14,
         93.0,
         77.0,
         454.0
        ],
        [
         [
          "2024-04-15T18:20:00.000+0000",
          "2024-04-15T18:30:00.000+0000"
         ],
         6,
         110.5,
         64.0,
         448.0
        ],
        [
         [
          "2024-04-15T00:50:00.000+0000",
          "2024-04-15T01:00:00.000+0000"
         ],
         11,
         104.4,
         61.8,
         454.6
        ],
        [
         [
          "2024-04-15T00:50:00.000+0000",
          "2024-04-15T01:00:00.000+0000"
         ],
         1,
         112.0,
         68.2,
         418.6
        ],
        [
         [
          "2024-04-15T01:40:00.000+0000",
          "2024-04-15T01:50:00.000+0000"
         ],
         8,
         95.8,
         57.0,
         424.6
        ],
        [
         [
          "2024-04-15T01:30:00.000+0000",
          "2024-04-15T01:40:00.000+0000"
         ],
         11,
         102.5,
         64.0,
         372.5
        ],
        [
         [
          "2024-04-16T20:50:00.000+0000",
          "2024-04-16T21:00:00.000+0000"
         ],
         13,
         108.75,
         70.083336,
         451.0
        ],
        [
         [
          "2024-04-15T01:30:00.000+0000",
          "2024-04-15T01:40:00.000+0000"
         ],
         6,
         112.0,
         75.0,
         499.0
        ],
        [
         [
          "2024-04-15T18:20:00.000+0000",
          "2024-04-15T18:30:00.000+0000"
         ],
         8,
         101.71429,
         59.714287,
         422.14285
        ],
        [
         [
          "2024-04-15T18:20:00.000+0000",
          "2024-04-15T18:30:00.000+0000"
         ],
         7,
         108.5,
         67.25,
         446.75
        ],
        [
         [
          "2024-04-15T00:50:00.000+0000",
          "2024-04-15T01:00:00.000+0000"
         ],
         9,
         102.0,
         75.0,
         494.0
        ],
        [
         [
          "2024-04-16T20:10:00.000+0000",
          "2024-04-16T20:20:00.000+0000"
         ],
         14,
         107.0,
         72.0,
         455.33334
        ],
        [
         [
          "2024-04-16T22:40:00.000+0000",
          "2024-04-16T22:50:00.000+0000"
         ],
         1,
         103.42857,
         69.71429,
         443.42856
        ],
        [
         [
          "2024-04-15T18:30:00.000+0000",
          "2024-04-15T18:40:00.000+0000"
         ],
         13,
         103.5,
         66.5,
         404.5
        ],
        [
         [
          "2024-04-16T22:50:00.000+0000",
          "2024-04-16T23:00:00.000+0000"
         ],
         4,
         102.0,
         60.0,
         449.0
        ],
        [
         [
          "2024-04-15T00:50:00.000+0000",
          "2024-04-15T01:00:00.000+0000"
         ],
         8,
         100.75,
         72.0,
         398.25
        ],
        [
         [
          "2024-04-15T00:50:00.000+0000",
          "2024-04-15T01:00:00.000+0000"
         ],
         3,
         107.8,
         61.2,
         391.2
        ],
        [
         [
          "2024-04-16T22:50:00.000+0000",
          "2024-04-16T23:00:00.000+0000"
         ],
         14,
         102.0,
         72.25,
         457.0
        ],
        [
         [
          "2024-04-16T20:10:00.000+0000",
          "2024-04-16T20:20:00.000+0000"
         ],
         9,
         93.0,
         63.0,
         457.0
        ],
        [
         [
          "2024-04-16T20:10:00.000+0000",
          "2024-04-16T20:20:00.000+0000"
         ],
         8,
         117.0,
         64.0,
         474.0
        ],
        [
         [
          "2024-04-16T22:40:00.000+0000",
          "2024-04-16T22:50:00.000+0000"
         ],
         11,
         95.0,
         67.5,
         459.0
        ],
        [
         [
          "2024-04-15T01:30:00.000+0000",
          "2024-04-15T01:40:00.000+0000"
         ],
         12,
         99.5,
         56.0,
         468.5
        ],
        [
         [
          "2024-04-16T20:10:00.000+0000",
          "2024-04-16T20:20:00.000+0000"
         ],
         2,
         102.0,
         69.0,
         425.0
        ],
        [
         [
          "2024-04-16T20:00:00.000+0000",
          "2024-04-16T20:10:00.000+0000"
         ],
         11,
         102.2,
         67.8,
         468.8
        ],
        [
         [
          "2024-04-15T18:30:00.000+0000",
          "2024-04-15T18:40:00.000+0000"
         ],
         3,
         113.6,
         62.6,
         438.0
        ]
       ],
       "datasetInfos": [],
       "dbfsResultPath": null,
       "isJsonSchema": true,
       "metadata": {},
       "overflow": false,
       "plotOptions": {
        "customPlotOptions": {},
        "displayType": "table",
        "pivotAggregation": null,
        "pivotColumns": null,
        "xColumns": null,
        "yColumns": null
       },
       "removedWidgets": [],
       "schema": [
        {
         "metadata": "{\"spark.watermarkDelayMs\":3600000}",
         "name": "window",
         "type": "{\"type\":\"struct\",\"fields\":[{\"name\":\"start\",\"type\":\"timestamp\",\"nullable\":true,\"metadata\":{}},{\"name\":\"end\",\"type\":\"timestamp\",\"nullable\":true,\"metadata\":{}}]}"
        },
        {
         "metadata": "{}",
         "name": "device_id",
         "type": "\"integer\""
        },
        {
         "metadata": "{}",
         "name": "avg_tmp",
         "type": "\"float\""
        },
        {
         "metadata": "{}",
         "name": "avg_hmdt",
         "type": "\"float\""
        },
        {
         "metadata": "{}",
         "name": "avg_prsre",
         "type": "\"float\""
        }
       ],
       "type": "table"
      }
     },
     "output_type": "display_data"
    }
   ],
   "source": [
    "sensorDataAgg = spark.readStream.format(\"delta\").table(\"sensorData\")\\\n",
    "                .withWatermark(\"ts\", \"60 minutes\")\\\n",
    "                .groupBy(window('ts','10 minutes'),'device_id')\\\n",
    "                .agg(avg('tmp').alias('avg_tmp'),avg('hmdt').alias('avg_hmdt'),avg('prsre').alias('avg_prsre'))\\\n",
    "                .withColumn('avg_tmp',col('avg_tmp').cast(FloatType()))\\\n",
    "                .withColumn('avg_hmdt',col('avg_hmdt').cast(FloatType()))\\\n",
    "                .withColumn('avg_prsre',col('avg_prsre').cast(FloatType()))\n",
    "sensorDataAgg.display()\n",
    "\n",
    "write_sensorDataAgg_to_Delta = sensorDataAgg.writeStream.format(\"delta\")\\\n",
    "                                .option(\"checkpointLocation\",CHECKPOINT_PATH+\"sensorDataAgg\")\\\n",
    "                                .outputMode(\"complete\")\\\n",
    "                                .start(SILVER_PATH+\"sensorDataAgg\")\n",
    "\n",
    "#spark.sql(f'CREATE TABLE IF NOT EXISTS sensorDataAgg USING DELTA LOCATION \"{SILVER_PATH + \"sensorDataAgg\"}\"')\n",
    "\n",
    "spark.sql(f'CREATE TABLE IF NOT EXISTS sensorDataAgg USING DELTA LOCATION \"{SILVER_PATH + \"sensorDataAgg\"}\"')\n"
   ]
  },
  {
   "cell_type": "code",
   "execution_count": 0,
   "metadata": {
    "application/vnd.databricks.v1+cell": {
     "cellMetadata": {
      "byteLimit": 2048000,
      "implicitDf": true,
      "rowLimit": 10000
     },
     "inputWidgets": {},
     "nuid": "0208dd59-8923-4767-ab34-e6d6827355e1",
     "showTitle": false,
     "title": ""
    }
   },
   "outputs": [
    {
     "output_type": "display_data",
     "data": {
      "text/html": [
       "<style scoped>\n",
       "  .table-result-container {\n",
       "    max-height: 300px;\n",
       "    overflow: auto;\n",
       "  }\n",
       "  table, th, td {\n",
       "    border: 1px solid black;\n",
       "    border-collapse: collapse;\n",
       "  }\n",
       "  th, td {\n",
       "    padding: 5px;\n",
       "  }\n",
       "  th {\n",
       "    text-align: left;\n",
       "  }\n",
       "</style><div class='table-result-container'><table class='table-result'><thead style='background-color: white'><tr><th>window</th><th>device_id</th><th>avg_tmp</th><th>avg_hmdt</th><th>avg_prsre</th></tr></thead><tbody><tr><td>List(2024-04-15T00:50:00.000+0000, 2024-04-15T01:00:00.000+0000)</td><td>10</td><td>104.25</td><td>67.5</td><td>420.0</td></tr><tr><td>List(2024-04-15T01:40:00.000+0000, 2024-04-15T01:50:00.000+0000)</td><td>11</td><td>104.4</td><td>65.6</td><td>428.4</td></tr><tr><td>List(2024-04-15T01:40:00.000+0000, 2024-04-15T01:50:00.000+0000)</td><td>1</td><td>100.28571</td><td>68.42857</td><td>438.7143</td></tr><tr><td>List(2024-04-15T01:40:00.000+0000, 2024-04-15T01:50:00.000+0000)</td><td>5</td><td>107.666664</td><td>59.666668</td><td>378.33334</td></tr><tr><td>List(2024-04-15T01:30:00.000+0000, 2024-04-15T01:40:00.000+0000)</td><td>1</td><td>109.5</td><td>65.0</td><td>379.5</td></tr><tr><td>List(2024-04-15T00:50:00.000+0000, 2024-04-15T01:00:00.000+0000)</td><td>7</td><td>104.125</td><td>59.875</td><td>428.875</td></tr><tr><td>List(2024-04-15T01:40:00.000+0000, 2024-04-15T01:50:00.000+0000)</td><td>10</td><td>113.5</td><td>59.75</td><td>443.0</td></tr><tr><td>List(2024-04-15T00:50:00.000+0000, 2024-04-15T01:00:00.000+0000)</td><td>2</td><td>97.0</td><td>53.0</td><td>467.0</td></tr><tr><td>List(2024-04-15T01:40:00.000+0000, 2024-04-15T01:50:00.000+0000)</td><td>2</td><td>106.333336</td><td>62.0</td><td>406.66666</td></tr><tr><td>List(2024-04-15T00:50:00.000+0000, 2024-04-15T01:00:00.000+0000)</td><td>5</td><td>107.0</td><td>66.666664</td><td>406.5</td></tr></tbody></table></div>"
      ]
     },
     "metadata": {
      "application/vnd.databricks.v1+output": {
       "addedWidgets": {},
       "aggData": [],
       "aggError": "",
       "aggOverflow": false,
       "aggSchema": [],
       "aggSeriesLimitReached": false,
       "aggType": "",
       "arguments": {},
       "columnCustomDisplayInfos": {},
       "data": [
        [
         [
          "2024-04-15T00:50:00.000+0000",
          "2024-04-15T01:00:00.000+0000"
         ],
         10,
         104.25,
         67.5,
         420.0
        ],
        [
         [
          "2024-04-15T01:40:00.000+0000",
          "2024-04-15T01:50:00.000+0000"
         ],
         11,
         104.4,
         65.6,
         428.4
        ],
        [
         [
          "2024-04-15T01:40:00.000+0000",
          "2024-04-15T01:50:00.000+0000"
         ],
         1,
         100.28571,
         68.42857,
         438.7143
        ],
        [
         [
          "2024-04-15T01:40:00.000+0000",
          "2024-04-15T01:50:00.000+0000"
         ],
         5,
         107.666664,
         59.666668,
         378.33334
        ],
        [
         [
          "2024-04-15T01:30:00.000+0000",
          "2024-04-15T01:40:00.000+0000"
         ],
         1,
         109.5,
         65.0,
         379.5
        ],
        [
         [
          "2024-04-15T00:50:00.000+0000",
          "2024-04-15T01:00:00.000+0000"
         ],
         7,
         104.125,
         59.875,
         428.875
        ],
        [
         [
          "2024-04-15T01:40:00.000+0000",
          "2024-04-15T01:50:00.000+0000"
         ],
         10,
         113.5,
         59.75,
         443.0
        ],
        [
         [
          "2024-04-15T00:50:00.000+0000",
          "2024-04-15T01:00:00.000+0000"
         ],
         2,
         97.0,
         53.0,
         467.0
        ],
        [
         [
          "2024-04-15T01:40:00.000+0000",
          "2024-04-15T01:50:00.000+0000"
         ],
         2,
         106.333336,
         62.0,
         406.66666
        ],
        [
         [
          "2024-04-15T00:50:00.000+0000",
          "2024-04-15T01:00:00.000+0000"
         ],
         5,
         107.0,
         66.666664,
         406.5
        ]
       ],
       "datasetInfos": [],
       "dbfsResultPath": null,
       "isJsonSchema": true,
       "metadata": {},
       "overflow": false,
       "plotOptions": {
        "customPlotOptions": {},
        "displayType": "table",
        "pivotAggregation": null,
        "pivotColumns": null,
        "xColumns": null,
        "yColumns": null
       },
       "removedWidgets": [],
       "schema": [
        {
         "metadata": "{\"spark.watermarkDelayMs\":3600000}",
         "name": "window",
         "type": "{\"type\":\"struct\",\"fields\":[{\"name\":\"start\",\"type\":\"timestamp\",\"nullable\":true,\"metadata\":{}},{\"name\":\"end\",\"type\":\"timestamp\",\"nullable\":true,\"metadata\":{}}]}"
        },
        {
         "metadata": "{}",
         "name": "device_id",
         "type": "\"integer\""
        },
        {
         "metadata": "{}",
         "name": "avg_tmp",
         "type": "\"float\""
        },
        {
         "metadata": "{}",
         "name": "avg_hmdt",
         "type": "\"float\""
        },
        {
         "metadata": "{}",
         "name": "avg_prsre",
         "type": "\"float\""
        }
       ],
       "type": "table"
      }
     },
     "output_type": "display_data"
    }
   ],
   "source": [
    "%sql\n",
    "select * from sensorDataAgg limit 10;"
   ]
  },
  {
   "cell_type": "code",
   "execution_count": 0,
   "metadata": {
    "application/vnd.databricks.v1+cell": {
     "cellMetadata": {
      "byteLimit": 2048000,
      "rowLimit": 10000
     },
     "inputWidgets": {},
     "nuid": "995a44cc-8d67-4549-9cb0-6e3b7b4dfd0a",
     "showTitle": false,
     "title": ""
    }
   },
   "outputs": [
    {
     "output_type": "display_data",
     "data": {
      "text/html": [
       "<style scoped>\n",
       "  .ansiout {\n",
       "    display: block;\n",
       "    unicode-bidi: embed;\n",
       "    white-space: pre-wrap;\n",
       "    word-wrap: break-word;\n",
       "    word-break: break-all;\n",
       "    font-family: \"Menlo\", \"Monaco\", \"Consolas\", \"Ubuntu Mono\", \"Source Code Pro\", monospace;\n",
       "    font-size: 13px;\n",
       "    color: #555;\n",
       "    margin-left: 4px;\n",
       "    line-height: 19px;\n",
       "  }\n",
       "</style>\n",
       "<div class=\"ansiout\">Out[23]: DataFrame[]</div>"
      ]
     },
     "metadata": {
      "application/vnd.databricks.v1+output": {
       "addedWidgets": {},
       "arguments": {},
       "data": "<div class=\"ansiout\">Out[23]: DataFrame[]</div>",
       "datasetInfos": [],
       "metadata": {},
       "removedWidgets": [],
       "type": "html"
      }
     },
     "output_type": "display_data"
    }
   ],
   "source": [
    "\n",
    "sensorData_join_Thr = spark.readStream.format(\"delta\").option(\"ignoreChanges\", True).table(\"sensorDataAgg\").join(thresholdValues,'device_id')\n",
    "\n",
    "write_sensorDataTmpThr_to_Delta = sensorData_join_Thr.filter(col(\"avg_tmp\") > col(\"tmp_thr\"))\\\n",
    "                                    .withColumn(\"window\",col(\"window.start\"))\\\n",
    "                                    .select(\"window\",\"device_id\",\"avg_tmp\",\"tmp_thr\")\\\n",
    "                                    .writeStream.format(\"delta\")\\\n",
    "                                    .option(\"checkpointLocation\",CHECKPOINT_PATH+\"sensorDataTmpThr\")\\\n",
    "                                    .start(GOLD_PATH+\"sensorDataTmpThr\")\n",
    "\n",
    "write_sensorDataHmdtThr_to_Delta = sensorData_join_Thr.filter(col(\"avg_hmdt\") > col(\"hmdt_thr\"))\\\n",
    "                                    .withColumn(\"window\",col(\"window.start\"))\\\n",
    "                                    .select(\"window\",\"device_id\",\"avg_hmdt\",\"hmdt_thr\")\\\n",
    "                                    .writeStream.format(\"delta\")\\\n",
    "                                    .option(\"checkpointLocation\",CHECKPOINT_PATH+\"sensorDataHmdtThr\")\\\n",
    "                                    .start(GOLD_PATH+\"sensorDataHmdtThr\")\n",
    "\n",
    "write_sensorDataPrsreThr_to_Delta = sensorData_join_Thr.filter(col(\"avg_prsre\") > col(\"prsre_thr\"))\\\n",
    "                                    .withColumn(\"window\",col(\"window.start\"))\\\n",
    "                                    .select(\"window\",\"device_id\",\"avg_prsre\",\"prsre_thr\")\\\n",
    "                                    .writeStream.format(\"delta\")\\\n",
    "                                    .option(\"checkpointLocation\",CHECKPOINT_PATH+\"sensorDataPrsreThr\")\\\n",
    "                                    .start(GOLD_PATH+\"sensorDataPrsreThr\")\n",
    "\n",
    "spark.sql(f'CREATE TABLE IF NOT EXISTS sensorDataTmpThr USING DELTA LOCATION \"{GOLD_PATH + \"sensorDataTmpThr\"}\"')\n",
    "spark.sql(f'CREATE TABLE IF NOT EXISTS sensorDataHmdtThr USING DELTA LOCATION \"{GOLD_PATH + \"sensorDataHmdtThr\"}\"')\n",
    "spark.sql(f'CREATE TABLE IF NOT EXISTS sensorDataPrsreThr USING DELTA LOCATION \"{GOLD_PATH + \"sensorDataPrsreThr\"}\"')\n",
    "\n",
    "\n",
    "\n"
   ]
  },
  {
   "cell_type": "code",
   "execution_count": 0,
   "metadata": {
    "application/vnd.databricks.v1+cell": {
     "cellMetadata": {
      "byteLimit": 2048000,
      "implicitDf": true,
      "rowLimit": 10000
     },
     "inputWidgets": {},
     "nuid": "38821a67-5790-47a9-aba8-9bc98505073e",
     "showTitle": false,
     "title": ""
    }
   },
   "outputs": [
    {
     "output_type": "display_data",
     "data": {
      "text/html": [
       "<style scoped>\n",
       "  .table-result-container {\n",
       "    max-height: 300px;\n",
       "    overflow: auto;\n",
       "  }\n",
       "  table, th, td {\n",
       "    border: 1px solid black;\n",
       "    border-collapse: collapse;\n",
       "  }\n",
       "  th, td {\n",
       "    padding: 5px;\n",
       "  }\n",
       "  th {\n",
       "    text-align: left;\n",
       "  }\n",
       "</style><div class='table-result-container'><table class='table-result'><thead style='background-color: white'><tr><th>device_id</th><th>window</th><th>avg_tmp</th><th>avg_hmdt</th><th>avg_prsre</th><th>tmp_thr</th><th>hmdt_thr</th><th>prsre_thr</th></tr></thead><tbody><tr><td>6</td><td>List(2024-04-16T22:50:00.000+0000, 2024-04-16T23:00:00.000+0000)</td><td>104.0</td><td>66.0</td><td>439.0</td><td>118</td><td>78</td><td>490</td></tr><tr><td>3</td><td>List(2024-04-16T22:50:00.000+0000, 2024-04-16T23:00:00.000+0000)</td><td>92.0</td><td>77.0</td><td>401.0</td><td>115</td><td>78</td><td>480</td></tr><tr><td>8</td><td>List(2024-04-16T22:50:00.000+0000, 2024-04-16T23:00:00.000+0000)</td><td>105.0</td><td>76.0</td><td>420.0</td><td>116</td><td>76</td><td>460</td></tr><tr><td>7</td><td>List(2024-04-16T22:50:00.000+0000, 2024-04-16T23:00:00.000+0000)</td><td>112.0</td><td>65.0</td><td>480.0</td><td>105</td><td>79</td><td>495</td></tr><tr><td>13</td><td>List(2024-04-16T22:50:00.000+0000, 2024-04-16T23:00:00.000+0000)</td><td>110.0</td><td>73.0</td><td>493.0</td><td>108</td><td>75</td><td>450</td></tr><tr><td>4</td><td>List(2024-04-16T22:50:00.000+0000, 2024-04-16T23:00:00.000+0000)</td><td>102.0</td><td>60.0</td><td>449.0</td><td>102</td><td>73</td><td>490</td></tr><tr><td>1</td><td>List(2024-04-16T22:50:00.000+0000, 2024-04-16T23:00:00.000+0000)</td><td>95.0</td><td>61.0</td><td>485.0</td><td>105</td><td>75</td><td>450</td></tr><tr><td>14</td><td>List(2024-04-16T22:50:00.000+0000, 2024-04-16T23:00:00.000+0000)</td><td>102.0</td><td>72.25</td><td>457.0</td><td>118</td><td>78</td><td>490</td></tr></tbody></table></div>"
      ]
     },
     "metadata": {
      "application/vnd.databricks.v1+output": {
       "addedWidgets": {},
       "aggData": [],
       "aggError": "",
       "aggOverflow": false,
       "aggSchema": [],
       "aggSeriesLimitReached": false,
       "aggType": "",
       "arguments": {},
       "columnCustomDisplayInfos": {},
       "data": [
        [
         6,
         [
          "2024-04-16T22:50:00.000+0000",
          "2024-04-16T23:00:00.000+0000"
         ],
         104.0,
         66.0,
         439.0,
         118,
         78,
         490
        ],
        [
         3,
         [
          "2024-04-16T22:50:00.000+0000",
          "2024-04-16T23:00:00.000+0000"
         ],
         92.0,
         77.0,
         401.0,
         115,
         78,
         480
        ],
        [
         8,
         [
          "2024-04-16T22:50:00.000+0000",
          "2024-04-16T23:00:00.000+0000"
         ],
         105.0,
         76.0,
         420.0,
         116,
         76,
         460
        ],
        [
         7,
         [
          "2024-04-16T22:50:00.000+0000",
          "2024-04-16T23:00:00.000+0000"
         ],
         112.0,
         65.0,
         480.0,
         105,
         79,
         495
        ],
        [
         13,
         [
          "2024-04-16T22:50:00.000+0000",
          "2024-04-16T23:00:00.000+0000"
         ],
         110.0,
         73.0,
         493.0,
         108,
         75,
         450
        ],
        [
         4,
         [
          "2024-04-16T22:50:00.000+0000",
          "2024-04-16T23:00:00.000+0000"
         ],
         102.0,
         60.0,
         449.0,
         102,
         73,
         490
        ],
        [
         1,
         [
          "2024-04-16T22:50:00.000+0000",
          "2024-04-16T23:00:00.000+0000"
         ],
         95.0,
         61.0,
         485.0,
         105,
         75,
         450
        ],
        [
         14,
         [
          "2024-04-16T22:50:00.000+0000",
          "2024-04-16T23:00:00.000+0000"
         ],
         102.0,
         72.25,
         457.0,
         118,
         78,
         490
        ]
       ],
       "datasetInfos": [],
       "dbfsResultPath": null,
       "isJsonSchema": true,
       "metadata": {
        "isDbfsCommandResult": false
       },
       "overflow": false,
       "plotOptions": {
        "customPlotOptions": {},
        "displayType": "table",
        "pivotAggregation": null,
        "pivotColumns": null,
        "xColumns": null,
        "yColumns": null
       },
       "removedWidgets": [],
       "schema": [
        {
         "metadata": "{}",
         "name": "device_id",
         "type": "\"integer\""
        },
        {
         "metadata": "{\"spark.watermarkDelayMs\":3600000}",
         "name": "window",
         "type": "{\"type\":\"struct\",\"fields\":[{\"name\":\"start\",\"type\":\"timestamp\",\"nullable\":true,\"metadata\":{}},{\"name\":\"end\",\"type\":\"timestamp\",\"nullable\":true,\"metadata\":{}}]}"
        },
        {
         "metadata": "{}",
         "name": "avg_tmp",
         "type": "\"float\""
        },
        {
         "metadata": "{}",
         "name": "avg_hmdt",
         "type": "\"float\""
        },
        {
         "metadata": "{}",
         "name": "avg_prsre",
         "type": "\"float\""
        },
        {
         "metadata": "{}",
         "name": "tmp_thr",
         "type": "\"integer\""
        },
        {
         "metadata": "{}",
         "name": "hmdt_thr",
         "type": "\"integer\""
        },
        {
         "metadata": "{}",
         "name": "prsre_thr",
         "type": "\"integer\""
        }
       ],
       "type": "table"
      }
     },
     "output_type": "display_data"
    }
   ],
   "source": [
    "sensorData_join_Thr.filter(sensorData_join_Thr.window.start==\"2024-04-16T22:50:00.000+0000\").display()"
   ]
  }
 ],
 "metadata": {
  "application/vnd.databricks.v1+notebook": {
   "dashboards": [],
   "language": "python",
   "notebookMetadata": {
    "mostRecentlyExecutedCommandWithImplicitDF": {
     "commandId": -1,
     "dataframes": [
      "_sqldf"
     ]
    },
    "pythonIndentUnit": 4
   },
   "notebookName": "Data_transformation",
   "widgets": {}
  }
 },
 "nbformat": 4,
 "nbformat_minor": 0
}
